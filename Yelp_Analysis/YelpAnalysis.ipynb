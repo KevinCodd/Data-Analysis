{
 "cells": [
  {
   "cell_type": "code",
   "execution_count": 1,
   "metadata": {},
   "outputs": [],
   "source": [
    "import os\n",
    "import sys\n",
    "spark_path = os.environ['SPARK_HOME']\n",
    "sys.path.append(spark_path + \"/bin\")\n",
    "sys.path.append(spark_path + \"/python\")\n",
    "sys.path.append(spark_path + \"/python/pyspark/\")\n",
    "sys.path.append(spark_path + \"/python/lib\")\n",
    "sys.path.append(spark_path + \"/python/lib/pyspark.zip\")\n",
    "sys.path.append(spark_path + \"/python/lib/py4j-0.10.9-src.zip\")\n",
    "\n",
    "import findspark\n",
    "findspark.init()\n",
    "import pyspark"
   ]
  },
  {
   "cell_type": "code",
   "execution_count": 2,
   "metadata": {},
   "outputs": [],
   "source": [
    "number_cores = 2\n",
    "memory_gb = 5\n",
    "conf = (pyspark.SparkConf().setMaster('local[{}]'.format(number_cores)).set(\"spark.executor.heartbeatInterval\",\"3600s\").set('spark.driver.memory', '{}g'.format(memory_gb)).set(\"spark.network.timeout\",\"10000s\").set(\"spark.storage.blockManagerSlaveTimeoutMs\",\"12000s\"))\n",
    "sc = pyspark.SparkContext(conf=conf)"
   ]
  },
  {
   "cell_type": "code",
   "execution_count": 28,
   "metadata": {},
   "outputs": [],
   "source": [
    "sc.stop()"
   ]
  },
  {
   "cell_type": "markdown",
   "metadata": {},
   "source": [
    "### Initial look at data"
   ]
  },
  {
   "cell_type": "code",
   "execution_count": 3,
   "metadata": {},
   "outputs": [],
   "source": [
    "raw_data = sc.textFile(\"Documents/WCU/CSC496/yelp_academic_dataset_user.json.gz\").cache()"
   ]
  },
  {
   "cell_type": "code",
   "execution_count": 44,
   "metadata": {},
   "outputs": [
    {
     "name": "stdout",
     "output_type": "stream",
     "text": [
      "CPU times: user 13.2 ms, sys: 25.7 ms, total: 38.9 ms\n",
      "Wall time: 52.7 s\n"
     ]
    },
    {
     "data": {
      "text/plain": [
       "1968703"
      ]
     },
     "execution_count": 44,
     "metadata": {},
     "output_type": "execute_result"
    }
   ],
   "source": [
    "%%time\n",
    "raw_data.count()"
   ]
  },
  {
   "cell_type": "code",
   "execution_count": 45,
   "metadata": {},
   "outputs": [
    {
     "name": "stdout",
     "output_type": "stream",
     "text": [
      "CPU times: user 12.7 ms, sys: 23.7 ms, total: 36.4 ms\n",
      "Wall time: 1min 4s\n"
     ]
    },
    {
     "data": {
      "text/plain": [
       "1968703"
      ]
     },
     "execution_count": 45,
     "metadata": {},
     "output_type": "execute_result"
    }
   ],
   "source": [
    "%%time \n",
    "raw_data.count()"
   ]
  },
  {
   "cell_type": "code",
   "execution_count": 4,
   "metadata": {},
   "outputs": [
    {
     "data": {
      "text/plain": [
       "['{\"user_id\":\"ntlvfPzc8eglqvk92iDIAw\",\"name\":\"Rafael\",\"review_count\":553,\"yelping_since\":\"2007-07-06 03:27:11\",\"useful\":628,\"funny\":225,\"cool\":227,\"elite\":\"\",\"friends\":\"oeMvJh94PiGQnx_6GlndPQ, wm1z1PaJKvHgSDRKfwhfDg, IkRib6Xs91PPW7pon7VVig, A8Aq8f0-XvLBcyMk2GJdJQ, eEZM1kogR7eL4GOBZyPvBA, e1o1LN7ez5ckCpQeAab4iw, _HrJVzFaRFUhPva8cwBjpQ, pZeGZGzX-ROT_D5lam5uNg, 0S6EI51ej5J7dgYz3-O0lA, woDt8raW-AorxQM_tIE2eA, hWUnSE5gKXNe7bDc8uAG9A, c_3LDSO2RHwZ94_Q6j_O7w, -uv1wDiaplY6eXXS0VwQiA, QFjqxXn3acDC7hckFGUKMg, ErOqapICmHPTN8YobZIcfQ, mJLRvqLOKhqEdkgt9iEaCQ, VKX7jlScJSA-ja5hYRw12Q, ijIC9w5PRcj3dWVlanjZeg, CIZGlEw-Bp0rmkP8M6yQ9Q, OC6fT5WZ8EU7tEVJ3bzPBQ, UZSDGTDpycDzrlfUlyw2dQ, deL6e_z9xqZTIODKqnvRXQ, 5mG2ENw2PylIWElqHSMGqg, Uh5Kug2fvDd51RYmsNZkGg, 4dI4uoShugD9z84fYupelQ, EQpFHqGT9Tk6YSwORTtwpg, o4EGL2-ICGmRJzJ3GxB-vw, s8gK7sdVzJcYKcPv2dkZXw, vOYVZgb_GVe-kdtjQwSUHw, wBbjgHsrKr7BsPBrQwJf2w, p59u2EC_qcmCmLeX1jCi5Q, VSAZI1eHDrOPRWMK4Q2DIQ, efMfeI_dkhpeGykaRJqxfQ, x6qYcQ8_i0mMDzSLsFCbZg, K_zSmtNGw1fu-vmxyTVfCQ, 5IM6YPQCK-NABkXmHhlRGQ, U_w8ZMD26vnkeeS1sD7s4Q, AbfS_oXF8H6HJb5jFqhrLw, hbcjX4_D4KIfonNnwrH-cg, UKf66_MPz0zHCP70mF6p1g, hK2gYbxZRTqcqlSiQQcrtQ, 2Q45w_Twx_T9dXqlE16xtQ, BwRn8qcKSeA77HLaOTbfiQ, jouOn4VS_DtFPtMR2w8VDA, ESteyJabbfvqas6CEDs3pQ\",\"fans\":14,\"average_stars\":3.57,\"compliment_hot\":3,\"compliment_more\":2,\"compliment_profile\":1,\"compliment_cute\":0,\"compliment_list\":1,\"compliment_note\":11,\"compliment_plain\":15,\"compliment_cool\":22,\"compliment_funny\":22,\"compliment_writer\":10,\"compliment_photos\":0}']"
      ]
     },
     "execution_count": 4,
     "metadata": {},
     "output_type": "execute_result"
    }
   ],
   "source": [
    "raw_data.take(1)"
   ]
  },
  {
   "cell_type": "markdown",
   "metadata": {},
   "source": [
    "Testing if all entries are standard user data format by seeing if count for certain formatting features matches count of raw data:"
   ]
  },
  {
   "cell_type": "code",
   "execution_count": 47,
   "metadata": {},
   "outputs": [
    {
     "data": {
      "text/plain": [
       "1968703"
      ]
     },
     "execution_count": 47,
     "metadata": {},
     "output_type": "execute_result"
    }
   ],
   "source": [
    "names = raw_data.map(lambda line: line.split(\":\")[3].split(\",\")[0])\\\n",
    ".filter(lambda line: True if line.isnumeric() else False)\n",
    "names.count()"
   ]
  },
  {
   "cell_type": "markdown",
   "metadata": {},
   "source": [
    "### SQL Test:"
   ]
  },
  {
   "cell_type": "code",
   "execution_count": 4,
   "metadata": {},
   "outputs": [],
   "source": [
    "from pyspark.sql import SQLContext\n",
    "sqlContext = SQLContext(sc)"
   ]
  },
  {
   "cell_type": "code",
   "execution_count": 5,
   "metadata": {},
   "outputs": [],
   "source": [
    "df_json = sqlContext.read.json(\"Documents/WCU/CSC496/yelp_academic_dataset_user.json.gz\").cache()"
   ]
  },
  {
   "cell_type": "code",
   "execution_count": 50,
   "metadata": {},
   "outputs": [
    {
     "data": {
      "text/plain": [
       "1968703"
      ]
     },
     "execution_count": 50,
     "metadata": {},
     "output_type": "execute_result"
    }
   ],
   "source": [
    "df_json.count()"
   ]
  },
  {
   "cell_type": "code",
   "execution_count": 7,
   "metadata": {},
   "outputs": [
    {
     "name": "stdout",
     "output_type": "stream",
     "text": [
      "root\n",
      " |-- average_stars: double (nullable = true)\n",
      " |-- compliment_cool: long (nullable = true)\n",
      " |-- compliment_cute: long (nullable = true)\n",
      " |-- compliment_funny: long (nullable = true)\n",
      " |-- compliment_hot: long (nullable = true)\n",
      " |-- compliment_list: long (nullable = true)\n",
      " |-- compliment_more: long (nullable = true)\n",
      " |-- compliment_note: long (nullable = true)\n",
      " |-- compliment_photos: long (nullable = true)\n",
      " |-- compliment_plain: long (nullable = true)\n",
      " |-- compliment_profile: long (nullable = true)\n",
      " |-- compliment_writer: long (nullable = true)\n",
      " |-- cool: long (nullable = true)\n",
      " |-- elite: string (nullable = true)\n",
      " |-- fans: long (nullable = true)\n",
      " |-- friends: string (nullable = true)\n",
      " |-- funny: long (nullable = true)\n",
      " |-- name: string (nullable = true)\n",
      " |-- review_count: long (nullable = true)\n",
      " |-- useful: long (nullable = true)\n",
      " |-- user_id: string (nullable = true)\n",
      " |-- yelping_since: string (nullable = true)\n",
      "\n"
     ]
    }
   ],
   "source": [
    "df_json.printSchema()"
   ]
  },
  {
   "cell_type": "code",
   "execution_count": 8,
   "metadata": {},
   "outputs": [],
   "source": [
    "df_json.registerTempTable(\"tb_json\")"
   ]
  },
  {
   "cell_type": "markdown",
   "metadata": {},
   "source": [
    "### List users with more than 2000 fans:"
   ]
  },
  {
   "cell_type": "code",
   "execution_count": 9,
   "metadata": {},
   "outputs": [
    {
     "name": "stdout",
     "output_type": "stream",
     "text": [
      "13\n",
      "+--------------------+-----+\n",
      "|             user_id| fans|\n",
      "+--------------------+-----+\n",
      "|fgwI3rYHOv1ipfVfC...| 2113|\n",
      "|eKUGKQRE-Ywi5dY55...| 2916|\n",
      "|VHdY6oG2JPVNjihWh...| 2140|\n",
      "|ITa3vh5ERI90G_WP4...| 2280|\n",
      "|Hi10sGSZNxQH3NLyW...| 2718|\n",
      "|nkN_do3fJ9xekchVC...| 2046|\n",
      "|hizGc5W1tBHPghM5Y...| 3315|\n",
      "|m07sy7eLtOjVdZ8oN...| 2034|\n",
      "|j14WgRoU_-2ZE1aw1...| 2634|\n",
      "|UsXqCXRZwSCSw0AT7...| 2263|\n",
      "|JjXuiru1_ONzDkYVr...| 2316|\n",
      "|iLjMdZi0Tm7DQxX1C...| 2516|\n",
      "|37cpUoM8hlkSQfReI...|11568|\n",
      "+--------------------+-----+\n",
      "\n",
      "CPU times: user 9.42 ms, sys: 17 ms, total: 26.4 ms\n",
      "Wall time: 1min 36s\n"
     ]
    }
   ],
   "source": [
    "%%time\n",
    "lots_fan = sqlContext.sql(\"SELECT user_id, fans FROM tb_json WHERE fans >2000\")\n",
    "print(lots_fan.count())\n",
    "lots_fan.show()"
   ]
  },
  {
   "cell_type": "markdown",
   "metadata": {},
   "source": [
    "#### Lots_Fans in RDD:"
   ]
  },
  {
   "cell_type": "code",
   "execution_count": 54,
   "metadata": {},
   "outputs": [
    {
     "data": {
      "text/plain": [
       "[Row(user_id='fgwI3rYHOv1ipfVfCSx7pg', fans=2113),\n",
       " Row(user_id='eKUGKQRE-Ywi5dY55_zChg', fans=2916),\n",
       " Row(user_id='VHdY6oG2JPVNjihWhOooAQ', fans=2140),\n",
       " Row(user_id='ITa3vh5ERI90G_WP4SmGUQ', fans=2280),\n",
       " Row(user_id='Hi10sGSZNxQH3NLyWSZ1oA', fans=2718)]"
      ]
     },
     "execution_count": 54,
     "metadata": {},
     "output_type": "execute_result"
    }
   ],
   "source": [
    "rdd_lots_fan = lots_fan.rdd\n",
    "rdd_lots_fan.take(5)"
   ]
  },
  {
   "cell_type": "code",
   "execution_count": 55,
   "metadata": {},
   "outputs": [
    {
     "data": {
      "text/plain": [
       "['fgwI3rYHOv1ipfVfCSx7pg',\n",
       " 'eKUGKQRE-Ywi5dY55_zChg',\n",
       " 'VHdY6oG2JPVNjihWhOooAQ',\n",
       " 'ITa3vh5ERI90G_WP4SmGUQ',\n",
       " 'Hi10sGSZNxQH3NLyWSZ1oA']"
      ]
     },
     "execution_count": 55,
     "metadata": {},
     "output_type": "execute_result"
    }
   ],
   "source": [
    "rdd_lots_fan.map(lambda r: r['user_id']).take(5)"
   ]
  },
  {
   "cell_type": "code",
   "execution_count": 56,
   "metadata": {},
   "outputs": [
    {
     "data": {
      "text/plain": [
       "[Row(user_id='37cpUoM8hlkSQfReIEBd-Q', fans=11568),\n",
       " Row(user_id='Hi10sGSZNxQH3NLyWSZ1oA', fans=2718),\n",
       " Row(user_id='ITa3vh5ERI90G_WP4SmGUQ', fans=2280),\n",
       " Row(user_id='JjXuiru1_ONzDkYVrHN0aw', fans=2316),\n",
       " Row(user_id='UsXqCXRZwSCSw0AT7y1uBg', fans=2263),\n",
       " Row(user_id='VHdY6oG2JPVNjihWhOooAQ', fans=2140),\n",
       " Row(user_id='eKUGKQRE-Ywi5dY55_zChg', fans=2916),\n",
       " Row(user_id='fgwI3rYHOv1ipfVfCSx7pg', fans=2113),\n",
       " Row(user_id='hizGc5W1tBHPghM5YKCAtg', fans=3315),\n",
       " Row(user_id='iLjMdZi0Tm7DQxX1C1_2dg', fans=2516)]"
      ]
     },
     "execution_count": 56,
     "metadata": {},
     "output_type": "execute_result"
    }
   ],
   "source": [
    "rdd_lots_fan.takeOrdered(10)"
   ]
  },
  {
   "cell_type": "markdown",
   "metadata": {},
   "source": [
    "#### Parse JSON:"
   ]
  },
  {
   "cell_type": "code",
   "execution_count": 5,
   "metadata": {},
   "outputs": [
    {
     "data": {
      "text/plain": [
       "{'user_id': 'ntlvfPzc8eglqvk92iDIAw',\n",
       " 'name': 'Rafael',\n",
       " 'review_count': 553,\n",
       " 'yelping_since': '2007-07-06 03:27:11',\n",
       " 'useful': 628,\n",
       " 'funny': 225,\n",
       " 'cool': 227,\n",
       " 'elite': '',\n",
       " 'friends': 'oeMvJh94PiGQnx_6GlndPQ, wm1z1PaJKvHgSDRKfwhfDg, IkRib6Xs91PPW7pon7VVig, A8Aq8f0-XvLBcyMk2GJdJQ, eEZM1kogR7eL4GOBZyPvBA, e1o1LN7ez5ckCpQeAab4iw, _HrJVzFaRFUhPva8cwBjpQ, pZeGZGzX-ROT_D5lam5uNg, 0S6EI51ej5J7dgYz3-O0lA, woDt8raW-AorxQM_tIE2eA, hWUnSE5gKXNe7bDc8uAG9A, c_3LDSO2RHwZ94_Q6j_O7w, -uv1wDiaplY6eXXS0VwQiA, QFjqxXn3acDC7hckFGUKMg, ErOqapICmHPTN8YobZIcfQ, mJLRvqLOKhqEdkgt9iEaCQ, VKX7jlScJSA-ja5hYRw12Q, ijIC9w5PRcj3dWVlanjZeg, CIZGlEw-Bp0rmkP8M6yQ9Q, OC6fT5WZ8EU7tEVJ3bzPBQ, UZSDGTDpycDzrlfUlyw2dQ, deL6e_z9xqZTIODKqnvRXQ, 5mG2ENw2PylIWElqHSMGqg, Uh5Kug2fvDd51RYmsNZkGg, 4dI4uoShugD9z84fYupelQ, EQpFHqGT9Tk6YSwORTtwpg, o4EGL2-ICGmRJzJ3GxB-vw, s8gK7sdVzJcYKcPv2dkZXw, vOYVZgb_GVe-kdtjQwSUHw, wBbjgHsrKr7BsPBrQwJf2w, p59u2EC_qcmCmLeX1jCi5Q, VSAZI1eHDrOPRWMK4Q2DIQ, efMfeI_dkhpeGykaRJqxfQ, x6qYcQ8_i0mMDzSLsFCbZg, K_zSmtNGw1fu-vmxyTVfCQ, 5IM6YPQCK-NABkXmHhlRGQ, U_w8ZMD26vnkeeS1sD7s4Q, AbfS_oXF8H6HJb5jFqhrLw, hbcjX4_D4KIfonNnwrH-cg, UKf66_MPz0zHCP70mF6p1g, hK2gYbxZRTqcqlSiQQcrtQ, 2Q45w_Twx_T9dXqlE16xtQ, BwRn8qcKSeA77HLaOTbfiQ, jouOn4VS_DtFPtMR2w8VDA, ESteyJabbfvqas6CEDs3pQ',\n",
       " 'fans': 14,\n",
       " 'average_stars': 3.57,\n",
       " 'compliment_hot': 3,\n",
       " 'compliment_more': 2,\n",
       " 'compliment_profile': 1,\n",
       " 'compliment_cute': 0,\n",
       " 'compliment_list': 1,\n",
       " 'compliment_note': 11,\n",
       " 'compliment_plain': 15,\n",
       " 'compliment_cool': 22,\n",
       " 'compliment_funny': 22,\n",
       " 'compliment_writer': 10,\n",
       " 'compliment_photos': 0}"
      ]
     },
     "execution_count": 5,
     "metadata": {},
     "output_type": "execute_result"
    }
   ],
   "source": [
    "import json\n",
    "\n",
    "def parseJSON(t):\n",
    "    res = json.loads(t)\n",
    "    return res\n",
    "\n",
    "test = '{\"user_id\":\"ntlvfPzc8eglqvk92iDIAw\",\"name\":\"Rafael\",\"review_count\":553,\"yelping_since\":\"2007-07-06 03:27:11\",\"useful\":628,\"funny\":225,\"cool\":227,\"elite\":\"\",\"friends\":\"oeMvJh94PiGQnx_6GlndPQ, wm1z1PaJKvHgSDRKfwhfDg, IkRib6Xs91PPW7pon7VVig, A8Aq8f0-XvLBcyMk2GJdJQ, eEZM1kogR7eL4GOBZyPvBA, e1o1LN7ez5ckCpQeAab4iw, _HrJVzFaRFUhPva8cwBjpQ, pZeGZGzX-ROT_D5lam5uNg, 0S6EI51ej5J7dgYz3-O0lA, woDt8raW-AorxQM_tIE2eA, hWUnSE5gKXNe7bDc8uAG9A, c_3LDSO2RHwZ94_Q6j_O7w, -uv1wDiaplY6eXXS0VwQiA, QFjqxXn3acDC7hckFGUKMg, ErOqapICmHPTN8YobZIcfQ, mJLRvqLOKhqEdkgt9iEaCQ, VKX7jlScJSA-ja5hYRw12Q, ijIC9w5PRcj3dWVlanjZeg, CIZGlEw-Bp0rmkP8M6yQ9Q, OC6fT5WZ8EU7tEVJ3bzPBQ, UZSDGTDpycDzrlfUlyw2dQ, deL6e_z9xqZTIODKqnvRXQ, 5mG2ENw2PylIWElqHSMGqg, Uh5Kug2fvDd51RYmsNZkGg, 4dI4uoShugD9z84fYupelQ, EQpFHqGT9Tk6YSwORTtwpg, o4EGL2-ICGmRJzJ3GxB-vw, s8gK7sdVzJcYKcPv2dkZXw, vOYVZgb_GVe-kdtjQwSUHw, wBbjgHsrKr7BsPBrQwJf2w, p59u2EC_qcmCmLeX1jCi5Q, VSAZI1eHDrOPRWMK4Q2DIQ, efMfeI_dkhpeGykaRJqxfQ, x6qYcQ8_i0mMDzSLsFCbZg, K_zSmtNGw1fu-vmxyTVfCQ, 5IM6YPQCK-NABkXmHhlRGQ, U_w8ZMD26vnkeeS1sD7s4Q, AbfS_oXF8H6HJb5jFqhrLw, hbcjX4_D4KIfonNnwrH-cg, UKf66_MPz0zHCP70mF6p1g, hK2gYbxZRTqcqlSiQQcrtQ, 2Q45w_Twx_T9dXqlE16xtQ, BwRn8qcKSeA77HLaOTbfiQ, jouOn4VS_DtFPtMR2w8VDA, ESteyJabbfvqas6CEDs3pQ\",\"fans\":14,\"average_stars\":3.57,\"compliment_hot\":3,\"compliment_more\":2,\"compliment_profile\":1,\"compliment_cute\":0,\"compliment_list\":1,\"compliment_note\":11,\"compliment_plain\":15,\"compliment_cool\":22,\"compliment_funny\":22,\"compliment_writer\":10,\"compliment_photos\":0}'\n",
    "parseJSON(test)"
   ]
  },
  {
   "cell_type": "markdown",
   "metadata": {},
   "source": [
    "## \"Interesting Analysis (Throughout and after which you will find \"interesting user attributes\")\": \n",
    "### Expanding on example from class:  exploring relationship between \"cute\" and \"hot\" compliments and number of fans:"
   ]
  },
  {
   "cell_type": "code",
   "execution_count": 6,
   "metadata": {},
   "outputs": [
    {
     "data": {
      "text/plain": [
       "[DenseVector([14.0, 3.0, 0.0])]"
      ]
     },
     "execution_count": 6,
     "metadata": {},
     "output_type": "execute_result"
    }
   ],
   "source": [
    "import json\n",
    "from pyspark.ml.linalg import Vectors\n",
    "\n",
    "def parseJSON_ch(t):\n",
    "    res = json.loads(t)\n",
    "    return ([Vectors.dense(res['fans'], res['compliment_hot'], res['compliment_cute'])])\n",
    "\n",
    "test = '{\"user_id\":\"ntlvfPzc8eglqvk92iDIAw\",\"name\":\"Rafael\",\"review_count\":553,\"yelping_since\":\"2007-07-06 03:27:11\",\"useful\":628,\"funny\":225,\"cool\":227,\"elite\":\"\",\"friends\":\"oeMvJh94PiGQnx_6GlndPQ, wm1z1PaJKvHgSDRKfwhfDg, IkRib6Xs91PPW7pon7VVig, A8Aq8f0-XvLBcyMk2GJdJQ, eEZM1kogR7eL4GOBZyPvBA, e1o1LN7ez5ckCpQeAab4iw, _HrJVzFaRFUhPva8cwBjpQ, pZeGZGzX-ROT_D5lam5uNg, 0S6EI51ej5J7dgYz3-O0lA, woDt8raW-AorxQM_tIE2eA, hWUnSE5gKXNe7bDc8uAG9A, c_3LDSO2RHwZ94_Q6j_O7w, -uv1wDiaplY6eXXS0VwQiA, QFjqxXn3acDC7hckFGUKMg, ErOqapICmHPTN8YobZIcfQ, mJLRvqLOKhqEdkgt9iEaCQ, VKX7jlScJSA-ja5hYRw12Q, ijIC9w5PRcj3dWVlanjZeg, CIZGlEw-Bp0rmkP8M6yQ9Q, OC6fT5WZ8EU7tEVJ3bzPBQ, UZSDGTDpycDzrlfUlyw2dQ, deL6e_z9xqZTIODKqnvRXQ, 5mG2ENw2PylIWElqHSMGqg, Uh5Kug2fvDd51RYmsNZkGg, 4dI4uoShugD9z84fYupelQ, EQpFHqGT9Tk6YSwORTtwpg, o4EGL2-ICGmRJzJ3GxB-vw, s8gK7sdVzJcYKcPv2dkZXw, vOYVZgb_GVe-kdtjQwSUHw, wBbjgHsrKr7BsPBrQwJf2w, p59u2EC_qcmCmLeX1jCi5Q, VSAZI1eHDrOPRWMK4Q2DIQ, efMfeI_dkhpeGykaRJqxfQ, x6qYcQ8_i0mMDzSLsFCbZg, K_zSmtNGw1fu-vmxyTVfCQ, 5IM6YPQCK-NABkXmHhlRGQ, U_w8ZMD26vnkeeS1sD7s4Q, AbfS_oXF8H6HJb5jFqhrLw, hbcjX4_D4KIfonNnwrH-cg, UKf66_MPz0zHCP70mF6p1g, hK2gYbxZRTqcqlSiQQcrtQ, 2Q45w_Twx_T9dXqlE16xtQ, BwRn8qcKSeA77HLaOTbfiQ, jouOn4VS_DtFPtMR2w8VDA, ESteyJabbfvqas6CEDs3pQ\",\"fans\":14,\"average_stars\":3.57,\"compliment_hot\":3,\"compliment_more\":2,\"compliment_profile\":1,\"compliment_cute\":0,\"compliment_list\":1,\"compliment_note\":11,\"compliment_plain\":15,\"compliment_cool\":22,\"compliment_funny\":22,\"compliment_writer\":10,\"compliment_photos\":0}'\n",
    "parseJSON_ch(test)"
   ]
  },
  {
   "cell_type": "code",
   "execution_count": 8,
   "metadata": {},
   "outputs": [
    {
     "data": {
      "text/plain": [
       "[[DenseVector([14.0, 3.0, 0.0])],\n",
       " [DenseVector([27.0, 36.0, 2.0])],\n",
       " [DenseVector([5.0, 9.0, 1.0])],\n",
       " [DenseVector([6.0, 2.0, 0.0])],\n",
       " [DenseVector([78.0, 8.0, 1.0])]]"
      ]
     },
     "execution_count": 8,
     "metadata": {},
     "output_type": "execute_result"
    }
   ],
   "source": [
    "df_vector1 = raw_data.map(parseJSON_ch)\n",
    "df_vector1.take(5)"
   ]
  },
  {
   "cell_type": "code",
   "execution_count": 7,
   "metadata": {},
   "outputs": [],
   "source": [
    "from pyspark.ml.stat import Correlation\n",
    "\n",
    "spark = pyspark.sql.SparkSession(sc)"
   ]
  },
  {
   "cell_type": "code",
   "execution_count": 9,
   "metadata": {},
   "outputs": [],
   "source": [
    "df_vector1 = spark.createDataFrame(df_vector1, ['features'])"
   ]
  },
  {
   "cell_type": "code",
   "execution_count": 33,
   "metadata": {},
   "outputs": [
    {
     "data": {
      "text/plain": [
       "[Row(features=DenseVector([14.0, 3.0, 0.0])),\n",
       " Row(features=DenseVector([27.0, 36.0, 2.0])),\n",
       " Row(features=DenseVector([5.0, 9.0, 1.0])),\n",
       " Row(features=DenseVector([6.0, 2.0, 0.0])),\n",
       " Row(features=DenseVector([78.0, 8.0, 1.0]))]"
      ]
     },
     "execution_count": 33,
     "metadata": {},
     "output_type": "execute_result"
    }
   ],
   "source": [
    "df_vector1.take(5)"
   ]
  },
  {
   "cell_type": "markdown",
   "metadata": {},
   "source": [
    "### Correlation between number of \"cute\" and \"hot\" compliments and number of fans:"
   ]
  },
  {
   "cell_type": "code",
   "execution_count": 10,
   "metadata": {},
   "outputs": [],
   "source": [
    "pearsonCorr = Correlation.corr(df_vector1, 'features', 'pearson').collect()[0][0]"
   ]
  },
  {
   "cell_type": "markdown",
   "metadata": {},
   "source": [
    "Matrix:\n",
    "   left:right & top:bottom: fans, hot, cute\n",
    "    \n",
    "    "
   ]
  },
  {
   "cell_type": "code",
   "execution_count": 17,
   "metadata": {},
   "outputs": [
    {
     "name": "stdout",
     "output_type": "stream",
     "text": [
      "DenseMatrix([[1.        , 0.45536087, 0.2263288 ],\n",
      "             [0.45536087, 1.        , 0.58995499],\n",
      "             [0.2263288 , 0.58995499, 1.        ]])\n"
     ]
    }
   ],
   "source": [
    "print(str(pearsonCorr).replace('nan', 'NaN'))"
   ]
  },
  {
   "cell_type": "markdown",
   "metadata": {},
   "source": [
    "**Analysis**:  \"Hot\" compliments have a relatively strong correlation with number of fans at 0.45, and \"cute\" compliments have a modest positive correlation with number of fans at 0.22.  \n",
    "\n",
    "In the hypothetical scenario where x \"cute\" and \"hot\" compliments are given to every user for every y followers they amass (i.e. every user is equally attractive, using these compliments as a proxy), number of cute/hot compliments would both correlate strongly with number of followers, but would explain nothing about the influence of cuteness/hotness on a user's number of followers.  Thus I don't think these correlations, when examined together, soundly point to any conclusion that attractive users tend to have more followers.  However, looking at the stronger correlation between \"hot\" compliments and number of fans than \"cute\" compliments, and making the (probably sound) assumption that \"hot\" compliments are a stronger indication of user attractiveness than \"cute\" compliments, the data may suggest that user attractiveness has some influence over number of fans.    \n",
    "\n",
    "\n",
    "To better gauge this, I find the correlation between number of fans and cute/hot compliments *per fan*:\n"
   ]
  },
  {
   "cell_type": "markdown",
   "metadata": {},
   "source": [
    "### Correlation between \"hot\" and \"cute\" compliments *per fan* and total number of fans:"
   ]
  },
  {
   "cell_type": "markdown",
   "metadata": {},
   "source": [
    "#### Exclude people with zero fans b/c ratio can't be calculated"
   ]
  },
  {
   "cell_type": "code",
   "execution_count": 10,
   "metadata": {},
   "outputs": [
    {
     "data": {
      "text/plain": [
       "423544"
      ]
     },
     "execution_count": 10,
     "metadata": {},
     "output_type": "execute_result"
    }
   ],
   "source": [
    "nonzerofans = raw_data.map(parseJSON).filter(lambda r: r['fans']>0)\n",
    "#number of users with fans\n",
    "nonzerofans.count()"
   ]
  },
  {
   "cell_type": "code",
   "execution_count": 12,
   "metadata": {},
   "outputs": [],
   "source": [
    "def comp_fan_ratio(t):\n",
    "    return ([Vectors.dense(t['fans'], t['compliment_hot']/t['fans'], t['compliment_cute']/t['fans'])])"
   ]
  },
  {
   "cell_type": "code",
   "execution_count": 13,
   "metadata": {},
   "outputs": [
    {
     "data": {
      "text/plain": [
       "[[DenseVector([14.0, 0.2143, 0.0])],\n",
       " [DenseVector([27.0, 1.3333, 0.0741])],\n",
       " [DenseVector([5.0, 1.8, 0.2])],\n",
       " [DenseVector([6.0, 0.3333, 0.0])],\n",
       " [DenseVector([78.0, 0.1026, 0.0128])]]"
      ]
     },
     "execution_count": 13,
     "metadata": {},
     "output_type": "execute_result"
    }
   ],
   "source": [
    "df_vector2 = nonzerofans.map(comp_fan_ratio)\n",
    "df_vector2.take(5)"
   ]
  },
  {
   "cell_type": "code",
   "execution_count": 14,
   "metadata": {},
   "outputs": [],
   "source": [
    "df_vector2 = spark.createDataFrame(df_vector2, ['features'])"
   ]
  },
  {
   "cell_type": "code",
   "execution_count": 70,
   "metadata": {},
   "outputs": [],
   "source": [
    "pearsonCorr_ = Correlation.corr(df_vector2, 'features', 'pearson').collect()[0][0]"
   ]
  },
  {
   "cell_type": "markdown",
   "metadata": {},
   "source": [
    "Matrix: left:right & top:bottom: fans, (hot comps)/fans, (cute comps)/fans"
   ]
  },
  {
   "cell_type": "code",
   "execution_count": 71,
   "metadata": {},
   "outputs": [
    {
     "name": "stdout",
     "output_type": "stream",
     "text": [
      "DenseMatrix([[1.        , 0.19678927, 0.08173216],\n",
      "             [0.19678927, 1.        , 0.37055255],\n",
      "             [0.08173216, 0.37055255, 1.        ]])\n"
     ]
    }
   ],
   "source": [
    "print(str(pearsonCorr_).replace('nan', 'NaN'))"
   ]
  },
  {
   "cell_type": "markdown",
   "metadata": {},
   "source": [
    "**Analysis**: There is a 0.19 correlation between number of fans and hot compliments per fan and a 0.08 correlation between number of fans and cute compliments per fan.  \n",
    "\n",
    "Only considering users with >=1 fan, This probably suggests that there is a relatively small but existent relationship between \"hot\" compliment reception rate and number of fans.  The \"cute\" compliment reception rate appears to have a very small but perhaps non-negligible effect (given the sample size) on number of fans.\n",
    "\n",
    "However, this analysis doesn't take the users with no fans (the large majority of users in this dataset) into account.  As we can see from the counts, there are 1968703 users, but only 423544 of them have fans.  Are the users without fans getting \"cute\" and \"hot\" compliments at a remotely comparable volume?  \n",
    "\n",
    "Let's take some summary statistics to get a better idea of how these groups compare:"
   ]
  },
  {
   "cell_type": "code",
   "execution_count": 15,
   "metadata": {},
   "outputs": [
    {
     "data": {
      "text/plain": [
       "[{'user_id': 'ttumcu6hWshk_EJVWrduDg',\n",
       "  'name': 'Stuart',\n",
       "  'review_count': 12,\n",
       "  'yelping_since': '2010-05-12 16:30:08',\n",
       "  'useful': 29,\n",
       "  'funny': 4,\n",
       "  'cool': 6,\n",
       "  'elite': '',\n",
       "  'friends': '1pKOc55fFx09J5t2rPzTxw, HYpE14yYEKSgu3VNVzObHA, bW2AQqcSPascYvKXsF0S-g, sa5zd7bwBQzajQB48Y9SUw, GISGKvSU9j-71TQaopfFog, k0Qt0Lo7uEOBOPQU3RZU8w, KhQlPlX0FEBZSWnt7N_03A, _u3fnAioKgbcMRczm1cjbA, 13oHusx9NQiXOtzGLHkWKA, 5w7lSpikd7rt88KZGqAq3Q, GOWBkpDlkJY4jvHL0xWGlg, gVQRvH2Ee07x8cK7GoQgNQ, 0S6OtXUGAZX__HuXlqIO0g, x-UEmeYnm-guCKVEsBLqjA, WBpPeK_eDwP6dzDXML4eQA, fxxDma1W3aahZzLNP89WAA, 9GpMrHTbb_1lQuVB5UF4qA, Dfhd4xa16wnivWEZzvnZ_Q, mqX4eUbe-FloqluSb1w1DQ, FepUxtZ5xOPts7dGIUmipA, hjEzRcAf__Ggc1DqPGbeeQ, huMZyHKofLRnVqXIrdnE-w, Fr1AHwaEhj1zryGBR49Z5Q, 5i96QHviF0zFGDpiydAEzA, fGILVLvubXC6-91Uy0rydQ, _Ac7EfJcJoIFRJf6a9Tcag, GfJAY8vU4giYXMIy0UXFjg, eWAhBfihO8WhWhNAwaokbA, zV4ax3qXTbYea_RaGRYvtQ, KJX8uKN3_xu_lLa4Ft4ASQ, RG5yLxmEZpaMCtuUXdfpEQ, X2rDsx9adK0JxC0obtiJxg, CBjPeXSf9uaWTMoaL8rgIQ, FrtD1XOePjNdKFH6W8zvug, Ls8rf3FZcJ6RmyImHKTffQ, 27GaPineE0MDuE9vmWZJqA, zPNrEv30Piqoig3YG4en2g, KODINr-h-thP2MGilpnmAg, 0DwuPj48w9XdhieNqW4tag, o61ROQwHjYi5i2fg3yz8TA, 5xCLty_K07Pgsd9WA7icHA, WclUwvw9uGqRA2I1MrZE3A, WQm1tGfkIJ7juGc1VA5z4g, Uculq5MpH2CgisAycXH5mg, v8Jq2U_AYZJKjeVq7MifNw, 2LOJdL3rxMeCHDpyRBF14Q, 8XAR61VqjWvB-g9a0oF3BQ, SmnOvLrEpIBFDg12yrLuwA, sF_lpRgwMgHJrSWyNF7r-g, u5gWQo4Rw6bpT__D6mvtdA, l0R1xDBG2DnzAJaUJC9BRQ, _D0dOvbRvvWmQlA-WIJoAQ, uk4oFeDGDGWcYec6s3RAyw, 2C0EX0T_IpvqvreAJeyZLw',\n",
       "  'fans': 0,\n",
       "  'average_stars': 4.0,\n",
       "  'compliment_hot': 0,\n",
       "  'compliment_more': 0,\n",
       "  'compliment_profile': 0,\n",
       "  'compliment_cute': 0,\n",
       "  'compliment_list': 0,\n",
       "  'compliment_note': 2,\n",
       "  'compliment_plain': 3,\n",
       "  'compliment_cool': 0,\n",
       "  'compliment_funny': 0,\n",
       "  'compliment_writer': 0,\n",
       "  'compliment_photos': 1},\n",
       " {'user_id': 'HwPGLzF_uXB3MF8bc5u5dg',\n",
       "  'name': 'TJ',\n",
       "  'review_count': 6,\n",
       "  'yelping_since': '2009-01-02 19:09:32',\n",
       "  'useful': 16,\n",
       "  'funny': 9,\n",
       "  'cool': 14,\n",
       "  'elite': '',\n",
       "  'friends': 'XEHZoTDWjw3w-gcQyYIe4g, KyeCA8acObsNpgU3fH0W0A, dIIKEfOgo0KqUfGQvGikPg, KGsXnYHvYddGaL_jyl0DMQ, 0VdLSUdpbu08RlhKfqEjjQ, GscmGX5AJm-XbnParY77Iw, FsB4gafO-jHm507i4ezJog, LQYVx_Tk2Oo56m-b3KvJJw',\n",
       "  'fans': 0,\n",
       "  'average_stars': 4.5,\n",
       "  'compliment_hot': 0,\n",
       "  'compliment_more': 1,\n",
       "  'compliment_profile': 0,\n",
       "  'compliment_cute': 1,\n",
       "  'compliment_list': 0,\n",
       "  'compliment_note': 0,\n",
       "  'compliment_plain': 0,\n",
       "  'compliment_cool': 1,\n",
       "  'compliment_funny': 1,\n",
       "  'compliment_writer': 0,\n",
       "  'compliment_photos': 0},\n",
       " {'user_id': 'cWw606W2PmcjTZrwLq8Hmg',\n",
       "  'name': 'Torrence',\n",
       "  'review_count': 11,\n",
       "  'yelping_since': '2011-09-19 17:50:11',\n",
       "  'useful': 20,\n",
       "  'funny': 0,\n",
       "  'cool': 1,\n",
       "  'elite': '',\n",
       "  'friends': 'SOOLqZZl7cEH-mvgkQ7tHg, HXj5V7KLdeH2mMDA0taDgw, oYhLTaV6glYLOhqSaf9HLw, 3d3-FPwgW_aoeEu9g7mEvg, vl_PqmW0hpOcNUJKKRSxhw, sUZgHUORjE5mpccuFdHWSw, 0kx0sDcZe2AFJ-QGtv8TIQ, ffPY_bHX8vLebHu8LBEqfg, RsLliluiIvKYxjvv_wfvZg, WZz8I172pBBPoXgfdyr5fw, Kqm7rMOOtzeZcYOlpinFzQ, -_82Bz84F2uCU0xxgwkRtQ, 5aqjxT_GpZzTkA66zMld9g, 48ym5tQNq2Ej-HPgSPGtJQ, kkCRXLEAJm4qPbtz1lX8mg, C0ixO7YoP6_OQzRIzsh7jA, Ua-QXW0VbOPLHDXk8m_eog, BaNQfgkcG377igJspuSQ5g, Deu_1ysuCSTwioZuMZ0gSg, cK7fFOOXxeNm7Gz0yaGXgQ, K9MyTVXi347EnX3ND-qUEw, yu9kKo5NJjn-ws9rwQ4RSA, U7-TWdJeiE9jLQTKBnT7ww, TgVKMuS9FKgqJvl012IatA, NsVXnHOkoH2vdJs6XF_V1w, FgwHp8Fk56GddTFp-qpfng, 6fFO2RoWeriGi_z3ZGbwlw, OwhothnZp-0YXzWe-E5tYw, PVLrNX2wGmUYPByq_tbUQA, x2Pv_ZxPAVtkJSOaouOTBA, SH1zIdAfyImsqEToT0ZjWg, daACYNxeJ2bxBXBp-XoW2A, GF_2lC4TruIch3X3i4DTvA, z2M33pl5rjhmXFPb4ssFzQ, xOSNuYFQExgD4ArBQBHwOA, cN_Jl0oTLGAaut4Fwd23GQ, XJhpecfrNR_w9uUTJr8Img, c4x3w4r40ujw750wssAdmw, 7CG7SHjGNdh4LYa4x5p_xA, -e9vK63bZQF_NY1ZtpczHg, _Mwkn-S2-6DoWAqe9UBkwQ, Jo3CnxRnF8ryDQylN6WevA, mBfKpgpFS5w3l8xlu81iPQ, GM3-0UFv-o6bsKuyssOEHQ, eQdHXIRvVHlRWvxeP7mmNA, F3OwRANZdN3UzNZnfSyFpQ, Ff1_hNcinEmhHTNhA3t9_w, xVp_zraWRrOpT0mD4gsyMw, Q-3X5ZNVvnDFMIYAnWJNnw, dRfJ5Wmra6FY5VujVzsicg, v6tHMR7Uus75dPjMhN5kGA, hcWXXd0QkjQpqH5lCxm_mg, -podnB4GyQCpNH5VW1Firg, K92BSJryL5nwa4eK6lgcnA, 9ef3SklrCWAvm_IN4HbA3w, cojHP6K7xtejXnPMMy5rSg, SGrA6MAbEHDFWBj3C-oQHg, djBsPtNelR1ZQBwKQhi7GA, 55OP0MqN8a9ZUIHl_JcxoQ, VItjRnLYXYJqYVeqJ1V8aA, YlAl52loBqlAHbdXyfRYQg, WxTOHmQKcoHvJ93XKEWTJg, NtSPBdFu8bYMQQOHDaBCqQ, NKVtOioL6p7y1LTRkG7NZQ, A6cRv6T85g_5ZZa_qsefYw, bAhCDBCPeLw83RAMZpayqQ, yKvhxs4NzccLa9plSTrYbg, uv8S2ZTki1TngLlox4KY1A, efUYkdjv9imf823IVktHaw, sC86cGKbHnnLgcnXKlWE5Q, 1GBxnFSaM9uWqA6Vy0vUaw, xFKz4BFtbpO9TpTfBtwxfQ, N-aRlE-dm_fRHvNmymxp-A, EnleixsJEo89zNJtx9s1EA, MF2INtuXULcMic7kdkQszg, g9glMEZujYJv1cUxxxARPw, emnO9tZvbouIyfD_uZrwgg, y9YdNuEpB557L3uuv_qmzg, Z_4r2UVGkNdivRFHWMz31A, TneKxibFwlFpmtriOLch2A, PUK_o_Rt5w2aZtJPnlHTbw, zGAvrElaD6VX0heJuWvGTQ, CXEVkqAYwV1jA5hp8OzCrA, Cplr2nVvPHI_jJe9jUxLIQ, BRWYZ1JmBDPjn5_FGFPqkg, 7nu1JhHDQa81_TYDzbAU8A, F0zEVr3UdguXkXEz00FseQ, s0DHWBZ4kiZwTlHjWSysZg, xCizlhmeNRRz7ABbZwE4Bg, m-8DupkM3xGyYRp_RAQ2Aw, -0vSG3MLUjku_Pr-1QV3_g, MemXJSnbnJfg439-7BSlcg, RwrN8hszzzx4Z7hO8BufIQ, n94TghlALnnCM0BJ877qEg, oD7CzcWMhMb8rWt9Jgjibg, clShEg5yYhYW655ibFUaEQ, wL-OKzBbb5JfMdN7T3oN5g, Bjo1CNFc8cW5EdPLYDhDFg, lyegdoAmKJPI_TR3F34aEA, O14gYlM_fpx9RQx93G4KxA, E-q_q_aZDM8k-zrgYdRO1g, 7HF3yg-DWO1_rmMEBblr_Q, 3eGb-T71IMLjXsggEgafyQ, Bp-nBojBrait0N8FhQ1k7Q, EjNe1CppNszUvARH2L6ZHg, ohz2ZXqsVG0Ab7LdBOLrdQ, Syr5Pp4Mp7DeR1mAMAsX2Q, AfRD5Wrl49BaFpnLpuPGng, egKR-zf7jmUGW4OaSzDLjw, 0H9lYr5URZIEp8u-BHvc1w, UDS4GynoXyrVD17YY89UHw, nlq8_MzbKTpZXoRRvynwxg, hjTW5m2wHeEVkSbhQAXEug, thfnXLZUiB582ZHMqnKqwQ, -ZfHkqABwRQF_iYpalv93g, 2gaSPBZkxnToiPROfClWWA, -lT5o2BF6ZvSsh8PvpVOgQ, 3YsWVWOB3No4piXqI9nUTA, TvUusBzWCDswQv3w3HjnkA, bfhexQyuTTETMtrvYzQfgA, GEdWlozR0LBO63tLLRdqRg, cP8k3gSxJV0dVS9cYwl6fA, Pv60q1ll_2flL43PSEdBlQ, yxgMMp1Fd_4KM7BcA1GakQ, NkfplsJ5SqVqMZGMGMv_Pg, mSAxxhu1RilxAf0Z9pMwOA, yjFIRPuLMoFCrhTXWlLNSA, LPaMXg5rKptf6X8mWZtF_Q, i2xAy-Pqif8yd-DErunvpA, n9r3-Uj8wqJrI3PEoeIuCg, FNTxXgMfKyS7PWD3jG0H3g, tZB9QzDtRbWWlr9JGzjbAA, gLY6JHLuCONaqdw-ZIgjJw, 78T32PrsM1tPtFXnMAWqgw, qzfFhO3x5GILeLVgqymibw, wfAQtbbEArGzn4oGDUXXFw, XDYjGzIggzviCYSSOoFA-Q, p7yy4fWa77lqNNMF9opQTw, eyOwZrmoxIWXNoWDfnMYWg, uu3KdinFUJccQ5IXeavd2Q, 2moN3P14iznoc5bFk4G4LA, 0nBsjxxNZGkMtWzw2M9UkQ, W5pElsbcZKEsllR0eBDiWw, Lfffjih69L22_CHWU7yF_w, _YNTftpFZzA2DG8gat32Hg, vEETJvfRXo7j9SulVZVzKQ, c10ORiwxonGPYZiVhaed9A, Tan2P2wtzB3eOUNA6zLu9Q, pN__DaabTfws15t0m71vhw, 4dod6vzdGEXBKDjjxUibvQ, 15Sn2pj0Ov1VpZlIFvMOhg, fQ4fczoUMtEZolyuFOHdgg, zNlxUzAmNIy-ltA2FLrYaQ, jbu0iWiJHXs_kRXFF9GVBQ, uiZVhJSiQ93e48F-4vaWtw, AMcdTnJeg9cSPuHi1sV-tg, sF5IbaOZ4Q2zx4oYLxk2Ig, NEHRRmYLenYP9t2VOgUl3A, Z929j4Nh1fkF6uWq_JmuGA, RDJmGmq8TuA23JMzZg1yIg, Q_-FmlWDO7kes2GZYtQoJA, NfD2BLelWPIONPnW9paSWA, 9W4jeluZ5onNlOJS_3y2XA, 8532vgU0ewHJHZ2F5DBYCg, BLAKwShUgxR3dBNHEH8QTw, pgADmK44LPL8req2D4mY4g, 71S2DIxRbErIA-SLFI6xeA, B-YfiDi-brmO5Cg2FCY3HA, OKoM3ARVb0x9K1MQB1s3Xw, jV3ngP88cK3oUVAUdhGplQ, mQu3Dh3XfW4nA_uj0YA4oA, fAj_IdR9nioLh-dBc9s1Ag, SMN3V3_UhWTnaeoMCLBU4w, KQtaDwQOvk3MJ2gmQSpDfw, ZynoOU-nBLJ_gGPXblVVIQ, KdtkGa8r1EyJcgaDfptGbQ, y3-AhgkyQpb0kDikrRPuhw, HQoLi-wECn07h50zAJezGQ, rNWNc0yfj2XLnKAzxXgH5w, KQ7JJ9864LqibiIhlhwaEw, YdDtkItwVuxg_Bkl8KfPIg, 7JDFyTflx8nYoOSrr0h1rA, -pLoALTo7Yx3hBD_6oqkkg, miYQ6Gcgg3pm1C0WmguAlA, VQ5YODqFsM2wRg2MjG_zRg, eUjMsWIdclyBez5NyoCz2Q, 91Zx5BoVrPslldX-xwCkjA, VlBaDiBpagKh6N6yyaGqlQ, EBVgHFSrTCZf5tBNoUPbzA, MfD5sC-HRN8FXwOctLrp1Q, sjSFQvzHfRwEOjQxmTBQ4A, N19fDA1zBD8VcGhN52CRxg, pZyjCPhGUx4H60jBcr7L3Q, 4JDmvqE_HI4kFJ_QVjyRNA, 4Q8DpTKp3pFQMWYD6zmgxA, ywqeEbMI8PD0PGxFpAKUQw, YgNXASbwEOEvcIdKGKrPBg, nJkPAsibOKEEo7o_6pe7Qg, mtz7H-CS7RY6AU4FbkkUBg, 1sWDmM2zUiyQd2opauaBVA, W3R8mzGeOUoSMLdF1xvyRQ, fYpXda_bJLMG9o_OYFnSbg, 1VMchrnoPACpE7RsTkmEOw, x34QaiCjHF5wOT-IwEOaYw, Qi-59Dl_2TcbOT9r9YQWaA, 9_UoXc9DDwlIeyWPuhtWpQ, 0agBvD-e9Y3QOWzRGC7sDw, JdOZbm1etJ_cBhW2_b9tqg, 0mi9xOLJUnF4eKHvErnHlQ, tC-_qxBb5YLVRR8iyakvxw, XVkP6SfYbmPwquRlfV9iQA, hFwS3narcyhf5EAGgyZbFw, jlr2OEg-FQBAVMV_jYqEcw, bAyfRYQ4UxbAOC5IBuDvmA, VaPyHvlJe3v-bhp6YJf8NA, owBnLJCUen8axZXYh8ajhA, AdR0GN0eFQt56xdEi8caCg, PedlrMpsfXaMxmUhSLRwLg, qCpp7mpfGRNCamvjNED0xA, s8VOD6oHN646wmBpnYyvFw, sUEfUmSXroiWbfTMhWb-1g, BOomv8LHemd6C3IpmDplSg, in0KZ4aOeowWOpRsA6L9iw, W1UMnfaGxEDsQPrJKNPpDw, pd0zw5qLbGyODB6WFzx2JQ, M8DMF61QTPNbuZjknfL0rQ, UMF7wlq_Q12zb2ToEyTDNw, BNqyLzPqJizpAyTOCD_3aQ, wUpoazB0alR8CcKZGZQ2sw, 5-Mb7WYwraaBF9cc4MEH1g, l2jMR6aSd5vnfSyDHA_4Ag, oAMm_oiF28F51aC9Ar1qTA, 3FxBEuR0WBvGFIJqAAx80A, Pj3_gSiWsdLNs-dxyEH5pQ, 1oIlaDylG-nr26mjHFjC_w, bWd0uohWhd9IhkG8eOPD-A, J1U_TYl4bQMkNQh1WOSGYg, Ev2VhM_ZU74ilQN8TtAtTg, wnDzYjXJ9VioT77akNl7gw, KERR-doMPDEBdSqcYHjBLw, Zrsvi2MNhs1aAgcC7lCOtg, 71HABAavFK1uTluGjR3Aqg, wU28KQdkQ-bjF1G-NDPGRQ, g8JiRPsphVs1F9_VJi8RUg, koLj0YR-bgFITdSzc3DVLA, jusRYw0pPwuKVD3dfK4i-A, vc2NUeq9S7HgRwOhvAHyXA, x3e4c6pRtBc5OhxJ6XKPDA, PxDPCrm7Z0YMExpFwLOohQ, kRae0klHGOOsjySuAo26pw, LJz2SSpQqXf61hShXYD4cA, rNJsSxEVnQKhCI6cZQiyGg, yYUPB4ZvFXpD6RvEGI40Dg, kxkDuRKTf2NngRLHCE_N8w, rVBxOTCMdb5T-032b7A81w, Swg1Vivf0z2guBQNNfjV3w, Vroj-wc7Et_kL57igiMIkg, XTehJlWtGMhDbu8teNB6gA, ODllL87C1XhMDrHrtTGMPQ, JR7O_KYYUCM5dbbCTJ7Pxg, o4hM-jkDW160dytFx7_DqA, y3IiRnRLRXAhaok7wkOXeg, Ms6WuRx5ct6tiDi66TvrpQ, 3jlN4daeSqhhsKkJx6vOHw, jl-GWq_CrUR1KlrzVjGicw, OQugX6g7B3XoxSRT3wY7vg, AqcZ6nsKODCsuCjWZE8W8g, SvoKQ8DyqxQXGlpnayFaVA, 4t8HyVXWrmlT7HooY5dobw, og0OK5wEWcekdYtZU75pvg, lKwtbEAxHoB-HnamICCkTQ, 7Z9jK53OqmivV-zkViIU4A, f3k71q-TJfBPelqmK53RlQ, UZT_dvQnz_88C2aKro2pfA, Wi-Py9ft6s7FH1Ov9AvI0g',\n",
       "  'fans': 0,\n",
       "  'average_stars': 2.64,\n",
       "  'compliment_hot': 0,\n",
       "  'compliment_more': 0,\n",
       "  'compliment_profile': 0,\n",
       "  'compliment_cute': 0,\n",
       "  'compliment_list': 0,\n",
       "  'compliment_note': 0,\n",
       "  'compliment_plain': 0,\n",
       "  'compliment_cool': 0,\n",
       "  'compliment_funny': 0,\n",
       "  'compliment_writer': 0,\n",
       "  'compliment_photos': 0},\n",
       " {'user_id': 'Fta-vmTJYKGeVyyhm9D6Vw',\n",
       "  'name': 'Emily',\n",
       "  'review_count': 3,\n",
       "  'yelping_since': '2010-03-25 20:12:56',\n",
       "  'useful': 14,\n",
       "  'funny': 0,\n",
       "  'cool': 14,\n",
       "  'elite': '',\n",
       "  'friends': 'NMmu4oC-YRqdi0WY9pV78g, n5wQ7qm2QZY9iB8c25pzxA, ejU4_3dGN5QLEZxfU5UuRg, US4cngzcLZBPSgHVn9gq0A',\n",
       "  'fans': 0,\n",
       "  'average_stars': 5.0,\n",
       "  'compliment_hot': 0,\n",
       "  'compliment_more': 0,\n",
       "  'compliment_profile': 0,\n",
       "  'compliment_cute': 0,\n",
       "  'compliment_list': 0,\n",
       "  'compliment_note': 0,\n",
       "  'compliment_plain': 0,\n",
       "  'compliment_cool': 0,\n",
       "  'compliment_funny': 0,\n",
       "  'compliment_writer': 0,\n",
       "  'compliment_photos': 0},\n",
       " {'user_id': 'B8z2bpAiT6IE5bq0o9FPEQ',\n",
       "  'name': 'Lalaine',\n",
       "  'review_count': 3,\n",
       "  'yelping_since': '2010-04-22 22:10:12',\n",
       "  'useful': 2,\n",
       "  'funny': 0,\n",
       "  'cool': 0,\n",
       "  'elite': '',\n",
       "  'friends': 'PSZ0NJAAdhF0iWMHJav9uw, fKHhbD1bYMpaajqZEgIPyQ, cXVtKcfCB1-dGzWF1xyWHg, 9SpNpaRVQNnHJIvTAkXa-w, _-cB9MvNfMFX-eH29KHbaQ',\n",
       "  'fans': 0,\n",
       "  'average_stars': 4.0,\n",
       "  'compliment_hot': 0,\n",
       "  'compliment_more': 0,\n",
       "  'compliment_profile': 0,\n",
       "  'compliment_cute': 0,\n",
       "  'compliment_list': 0,\n",
       "  'compliment_note': 0,\n",
       "  'compliment_plain': 0,\n",
       "  'compliment_cool': 0,\n",
       "  'compliment_funny': 0,\n",
       "  'compliment_writer': 0,\n",
       "  'compliment_photos': 0}]"
      ]
     },
     "execution_count": 15,
     "metadata": {},
     "output_type": "execute_result"
    }
   ],
   "source": [
    "#Users with zero fans\n",
    "zerofans = raw_data.map(parseJSON).filter(lambda r: r['fans']==0)\n",
    "zerofans.take(5)"
   ]
  },
  {
   "cell_type": "code",
   "execution_count": 16,
   "metadata": {},
   "outputs": [
    {
     "name": "stderr",
     "output_type": "stream",
     "text": [
      "/users/kevincodd/spark-3.0.1-bin-hadoop3.2/python/pyspark/sql/session.py:401: UserWarning: Using RDD of dict to inferSchema is deprecated. Use pyspark.sql.Row instead\n",
      "  warnings.warn(\"Using RDD of dict to inferSchema is deprecated. \"\n"
     ]
    }
   ],
   "source": [
    "zerofansdf = spark.createDataFrame(zerofans, ['features'])"
   ]
  },
  {
   "cell_type": "code",
   "execution_count": 17,
   "metadata": {},
   "outputs": [
    {
     "name": "stderr",
     "output_type": "stream",
     "text": [
      "/users/kevincodd/spark-3.0.1-bin-hadoop3.2/python/pyspark/sql/session.py:401: UserWarning: Using RDD of dict to inferSchema is deprecated. Use pyspark.sql.Row instead\n",
      "  warnings.warn(\"Using RDD of dict to inferSchema is deprecated. \"\n"
     ]
    }
   ],
   "source": [
    "nonzerofansdf = spark.createDataFrame(nonzerofans, ['features'])"
   ]
  },
  {
   "cell_type": "markdown",
   "metadata": {},
   "source": [
    "#### Approximate 50th, 90th, and 99th percentile quantities for number of \"cute\" and \"hot\" compliments for people with 0 fans and >=1 fan"
   ]
  },
  {
   "cell_type": "code",
   "execution_count": 18,
   "metadata": {},
   "outputs": [
    {
     "data": {
      "text/plain": [
       "[[0.0, 0.0, 0.0], [0.0, 0.0, 1.0]]"
      ]
     },
     "execution_count": 18,
     "metadata": {},
     "output_type": "execute_result"
    }
   ],
   "source": [
    "quants = zerofansdf.approxQuantile(['compliment_cute', 'compliment_hot'], \\\n",
    "                                   [0.5, 0.9, 0.99], 0.0001)\n",
    "quants"
   ]
  },
  {
   "cell_type": "markdown",
   "metadata": {},
   "source": [
    "**Outputs**: cute: 50th, 90th, 99th, hot: 50th, 90th, 99th"
   ]
  },
  {
   "cell_type": "code",
   "execution_count": 19,
   "metadata": {},
   "outputs": [
    {
     "data": {
      "text/plain": [
       "[[0.0, 1.0, 9.0], [0.0, 5.0, 125.0]]"
      ]
     },
     "execution_count": 19,
     "metadata": {},
     "output_type": "execute_result"
    }
   ],
   "source": [
    "quantsnz = nonzerofansdf.approxQuantile(['compliment_cute', 'compliment_hot'], \\\n",
    "                                   [0.5, 0.9, 0.99], 0.0001)\n",
    "quantsnz"
   ]
  },
  {
   "cell_type": "markdown",
   "metadata": {},
   "source": [
    "**Analysis**: As we can see from taking these metrics with a relatively high degree of accuracy (3rd argument in approxQuantile - Spark ran out of memory when attempting 100% accuracy), the vast majority (90+%) of users without fans recieve no \"cute\" and \"hot\" compliments.  I believe this gives the possible effects of \"cute\" and \"hot\" compliment reception rates more validity because it rules out the possibilty that fanless users could also be recieving these compliments at any comparable volume, which would weaken the evidence for a positive relationship between cute/hot compliment reception rate (or aptitude) and ability to amass fans.\n",
    "\n",
    "I think further distinctions can be drawn.  Factors accounting for fan counts might be different for users with very few and very many fans.  People with large numbers of fans probably tend to post more regularly and post more photos, which would perhaps be the strongest impetus for giving cute/hot compliments.  Let's test this:"
   ]
  },
  {
   "cell_type": "code",
   "execution_count": 22,
   "metadata": {},
   "outputs": [],
   "source": [
    "df_vector4 = raw_data.map(parseJSON)"
   ]
  },
  {
   "cell_type": "code",
   "execution_count": 23,
   "metadata": {},
   "outputs": [
    {
     "name": "stderr",
     "output_type": "stream",
     "text": [
      "/users/kevincodd/spark-3.0.1-bin-hadoop3.2/python/pyspark/sql/session.py:401: UserWarning: Using RDD of dict to inferSchema is deprecated. Use pyspark.sql.Row instead\n",
      "  warnings.warn(\"Using RDD of dict to inferSchema is deprecated. \"\n"
     ]
    }
   ],
   "source": [
    "medfansdf = spark.createDataFrame(df_vector4, ['features'])"
   ]
  },
  {
   "cell_type": "markdown",
   "metadata": {},
   "source": [
    "#### Approximate 50th, 90th, and 99th percentile quantities for number of fans:"
   ]
  },
  {
   "cell_type": "code",
   "execution_count": 24,
   "metadata": {},
   "outputs": [
    {
     "data": {
      "text/plain": [
       "[[0.0, 2.0, 26.0]]"
      ]
     },
     "execution_count": 24,
     "metadata": {},
     "output_type": "execute_result"
    }
   ],
   "source": [
    "quantsmf = medfansdf.approxQuantile(['fans'], \\\n",
    "                                   [0.5,0.9,0.99], 0.0001)\n",
    "quantsmf"
   ]
  },
  {
   "cell_type": "code",
   "execution_count": 25,
   "metadata": {},
   "outputs": [
    {
     "data": {
      "text/plain": [
       "20029"
      ]
     },
     "execution_count": 25,
     "metadata": {},
     "output_type": "execute_result"
    }
   ],
   "source": [
    "manyfans = raw_data.map(parseJSON).filter(lambda r: r['fans']>25)\n",
    "manyfans.count()"
   ]
  },
  {
   "cell_type": "code",
   "execution_count": 26,
   "metadata": {},
   "outputs": [
    {
     "data": {
      "text/plain": [
       "[[DenseVector([27.0, 1.3333, 0.0741])],\n",
       " [DenseVector([78.0, 0.1026, 0.0128])],\n",
       " [DenseVector([137.0, 3.5255, 0.2555])],\n",
       " [DenseVector([31.0, 1.2581, 0.1613])],\n",
       " [DenseVector([197.0, 1.0761, 0.066])]]"
      ]
     },
     "execution_count": 26,
     "metadata": {},
     "output_type": "execute_result"
    }
   ],
   "source": [
    "dfvector_5 = manyfans.map(comp_fan_ratio)\n",
    "dfvector_5.take(5)"
   ]
  },
  {
   "cell_type": "code",
   "execution_count": 27,
   "metadata": {},
   "outputs": [],
   "source": [
    "dfvector_5 = spark.createDataFrame(dfvector_5, ['features'])"
   ]
  },
  {
   "cell_type": "markdown",
   "metadata": {},
   "source": [
    "#### Correlation between cute/hot compliments per fan and total fans for users with >25 fans (top 1%)"
   ]
  },
  {
   "cell_type": "code",
   "execution_count": 28,
   "metadata": {},
   "outputs": [],
   "source": [
    "_pearsonCorr = Correlation.corr(dfvector_5, 'features', 'pearson').collect()[0][0]"
   ]
  },
  {
   "cell_type": "markdown",
   "metadata": {},
   "source": [
    "Matrix: left:right & top:bottom: fans, (hot comps)/fans, (cute comps)/fans"
   ]
  },
  {
   "cell_type": "code",
   "execution_count": 30,
   "metadata": {},
   "outputs": [
    {
     "name": "stdout",
     "output_type": "stream",
     "text": [
      "DenseMatrix([[1.        , 0.12722572, 0.05123545],\n",
      "             [0.12722572, 1.        , 0.59515282],\n",
      "             [0.05123545, 0.59515282, 1.        ]])\n"
     ]
    }
   ],
   "source": [
    "print(str(_pearsonCorr).replace('nan', 'NaN'))"
   ]
  },
  {
   "cell_type": "markdown",
   "metadata": {},
   "source": [
    "The correlation between hot compliments per fan and total fans is 0.12 and the correlation between cute compliments per fan and total fans is 0.05.  These are weaker correlations than those for users with >=1 fan (0.19, 0.08, respectively).\n",
    "\n",
    "We can also try this for >100 (much more than that and the sample size begins to get dubiously small)"
   ]
  },
  {
   "cell_type": "code",
   "execution_count": 32,
   "metadata": {},
   "outputs": [
    {
     "data": {
      "text/plain": [
       "3487"
      ]
     },
     "execution_count": 32,
     "metadata": {},
     "output_type": "execute_result"
    }
   ],
   "source": [
    "mmanyfans = raw_data.map(parseJSON).filter(lambda r: r['fans']>100)\n",
    "mmanyfans.count()"
   ]
  },
  {
   "cell_type": "markdown",
   "metadata": {},
   "source": [
    "#### Correlation between cute/hot compliments per fan and total fans for users with >100 fans"
   ]
  },
  {
   "cell_type": "code",
   "execution_count": 33,
   "metadata": {},
   "outputs": [
    {
     "name": "stdout",
     "output_type": "stream",
     "text": [
      "DenseMatrix([[1.        , 0.01322553, 0.007071  ],\n",
      "             [0.01322553, 1.        , 0.52511703],\n",
      "             [0.007071  , 0.52511703, 1.        ]])\n"
     ]
    }
   ],
   "source": [
    "dfvector_6 = mmanyfans.map(comp_fan_ratio)\n",
    "dfvector_6 = spark.createDataFrame(dfvector_6, ['features'])\n",
    "__pearsonCorr = Correlation.corr(dfvector_6, 'features', 'pearson').collect()[0][0]\n",
    "print(str(__pearsonCorr).replace('nan', 'NaN'))\n"
   ]
  },
  {
   "cell_type": "markdown",
   "metadata": {},
   "source": [
    "**Analysis** These correlations practically disappear for users with greater than 100 fans (0.01 hot, 0.007 cute), perhaps suggesting that an aptitude for recieving these compliments is essentially a nonfactor in amassing large followings.\n",
    "\n",
    "A possible complicating factor is that people with large numbers of fans will likely tend to know a smaller proportion of their fans.  I'd infer that people are more likely to give hot/cute compliments to people they personally know, and that people may be less comfortable giving one of these compliments on a profile with a large following/lots of visibility.  I don't think these are really testable given the data, but I think it would probably be sound to assume that this effect of scale is at least somewhat uniform across users.  If all users with large followings experience this effect uniformly, then they'd likely retain their aptitudes for recieving these compliments relative to each other, such that if this aptitude was important to amassing followers, it would still appear in a correlation when compared with other users with large followings.  This of course is all rather speculative.  \n",
    "\n",
    "Another factor is that such a large majority of users have relatively small followings (median=5) in terms of compliment reception sample size that the reception rate for most users might not be an accurate \"experiment\" gauging their reception aptitude.  "
   ]
  },
  {
   "cell_type": "markdown",
   "metadata": {},
   "source": [
    "### Re-running some of these analyses with friends instead of fans:"
   ]
  },
  {
   "cell_type": "code",
   "execution_count": 15,
   "metadata": {},
   "outputs": [],
   "source": [
    "def friendCount(t):\n",
    "        if t['friends'] is 'None':\n",
    "            return 0\n",
    "        else:\n",
    "            return len(t['friends'].split())    "
   ]
  },
  {
   "cell_type": "code",
   "execution_count": 23,
   "metadata": {},
   "outputs": [
    {
     "data": {
      "text/plain": [
       "1968703"
      ]
     },
     "execution_count": 23,
     "metadata": {},
     "output_type": "execute_result"
    }
   ],
   "source": [
    "nonzerofriends = raw_data.map(parseJSON).filter(lambda line: friendCount(line)>=1)\n",
    "nonzerofriends.count()"
   ]
  },
  {
   "cell_type": "code",
   "execution_count": 10,
   "metadata": {},
   "outputs": [
    {
     "data": {
      "text/plain": [
       "0"
      ]
     },
     "execution_count": 10,
     "metadata": {},
     "output_type": "execute_result"
    }
   ],
   "source": [
    "zerofriends = raw_data.map(parseJSON).filter(lambda line: friendCount(line)==0)\n",
    "zerofriends.count()"
   ]
  },
  {
   "cell_type": "markdown",
   "metadata": {},
   "source": [
    "1133852 + 834851 = 1968703 = total count"
   ]
  },
  {
   "cell_type": "code",
   "execution_count": 28,
   "metadata": {},
   "outputs": [
    {
     "data": {
      "text/plain": [
       "[{'user_id': '0HpQodiJEQ-bJ36AjeF2Nw',\n",
       "  'name': 'Sarah',\n",
       "  'review_count': 4,\n",
       "  'yelping_since': '2013-11-20 18:18:29',\n",
       "  'useful': 0,\n",
       "  'funny': 0,\n",
       "  'cool': 0,\n",
       "  'elite': '',\n",
       "  'friends': 'None',\n",
       "  'fans': 0,\n",
       "  'average_stars': 5.0,\n",
       "  'compliment_hot': 0,\n",
       "  'compliment_more': 0,\n",
       "  'compliment_profile': 0,\n",
       "  'compliment_cute': 0,\n",
       "  'compliment_list': 0,\n",
       "  'compliment_note': 0,\n",
       "  'compliment_plain': 0,\n",
       "  'compliment_cool': 0,\n",
       "  'compliment_funny': 0,\n",
       "  'compliment_writer': 0,\n",
       "  'compliment_photos': 0},\n",
       " {'user_id': '-UkOzCgwkwrJtFj7bl1kig',\n",
       "  'name': 'D',\n",
       "  'review_count': 18,\n",
       "  'yelping_since': '2017-08-20 17:14:59',\n",
       "  'useful': 11,\n",
       "  'funny': 2,\n",
       "  'cool': 2,\n",
       "  'elite': '',\n",
       "  'friends': 'None',\n",
       "  'fans': 0,\n",
       "  'average_stars': 4.89,\n",
       "  'compliment_hot': 0,\n",
       "  'compliment_more': 0,\n",
       "  'compliment_profile': 0,\n",
       "  'compliment_cute': 0,\n",
       "  'compliment_list': 0,\n",
       "  'compliment_note': 0,\n",
       "  'compliment_plain': 0,\n",
       "  'compliment_cool': 0,\n",
       "  'compliment_funny': 0,\n",
       "  'compliment_writer': 0,\n",
       "  'compliment_photos': 0},\n",
       " {'user_id': 'KCkYsPz7khyuqhVjT5Pwfw',\n",
       "  'name': 'Sue',\n",
       "  'review_count': 9,\n",
       "  'yelping_since': '2013-10-07 15:54:04',\n",
       "  'useful': 5,\n",
       "  'funny': 0,\n",
       "  'cool': 0,\n",
       "  'elite': '',\n",
       "  'friends': 'None',\n",
       "  'fans': 0,\n",
       "  'average_stars': 4.33,\n",
       "  'compliment_hot': 0,\n",
       "  'compliment_more': 0,\n",
       "  'compliment_profile': 0,\n",
       "  'compliment_cute': 0,\n",
       "  'compliment_list': 0,\n",
       "  'compliment_note': 0,\n",
       "  'compliment_plain': 0,\n",
       "  'compliment_cool': 0,\n",
       "  'compliment_funny': 0,\n",
       "  'compliment_writer': 0,\n",
       "  'compliment_photos': 0},\n",
       " {'user_id': 'lUcWh9VteQGGypbvfLASyA',\n",
       "  'name': 'Sooooozanne',\n",
       "  'review_count': 13,\n",
       "  'yelping_since': '2011-12-23 02:59:07',\n",
       "  'useful': 68,\n",
       "  'funny': 8,\n",
       "  'cool': 41,\n",
       "  'elite': '',\n",
       "  'friends': 'None',\n",
       "  'fans': 0,\n",
       "  'average_stars': 4.08,\n",
       "  'compliment_hot': 0,\n",
       "  'compliment_more': 0,\n",
       "  'compliment_profile': 0,\n",
       "  'compliment_cute': 0,\n",
       "  'compliment_list': 0,\n",
       "  'compliment_note': 0,\n",
       "  'compliment_plain': 0,\n",
       "  'compliment_cool': 0,\n",
       "  'compliment_funny': 0,\n",
       "  'compliment_writer': 0,\n",
       "  'compliment_photos': 0},\n",
       " {'user_id': 'jZQwyKtdq-uSbBEqix7HNg',\n",
       "  'name': 'D',\n",
       "  'review_count': 7,\n",
       "  'yelping_since': '2015-10-05 01:26:12',\n",
       "  'useful': 0,\n",
       "  'funny': 0,\n",
       "  'cool': 0,\n",
       "  'elite': '',\n",
       "  'friends': 'None',\n",
       "  'fans': 0,\n",
       "  'average_stars': 4.57,\n",
       "  'compliment_hot': 0,\n",
       "  'compliment_more': 0,\n",
       "  'compliment_profile': 0,\n",
       "  'compliment_cute': 0,\n",
       "  'compliment_list': 0,\n",
       "  'compliment_note': 0,\n",
       "  'compliment_plain': 0,\n",
       "  'compliment_cool': 0,\n",
       "  'compliment_funny': 0,\n",
       "  'compliment_writer': 0,\n",
       "  'compliment_photos': 0}]"
      ]
     },
     "execution_count": 28,
     "metadata": {},
     "output_type": "execute_result"
    }
   ],
   "source": [
    "zerofriends.take(5)"
   ]
  },
  {
   "cell_type": "code",
   "execution_count": 16,
   "metadata": {},
   "outputs": [],
   "source": [
    "def comp_friend_ratio(t):\n",
    "    return ([Vectors.dense(friendCount(t), t['compliment_hot']/friendCount(t), t['compliment_cute']/friendCount(t))])"
   ]
  },
  {
   "cell_type": "markdown",
   "metadata": {},
   "source": [
    "#### Correlation between total friends and cute/hot compliments per friend:"
   ]
  },
  {
   "cell_type": "code",
   "execution_count": 47,
   "metadata": {},
   "outputs": [
    {
     "name": "stdout",
     "output_type": "stream",
     "text": [
      "DenseMatrix([[1.        , 0.01293239, 0.0049211 ],\n",
      "             [0.01293239, 1.        , 0.47299973],\n",
      "             [0.0049211 , 0.47299973, 1.        ]])\n"
     ]
    }
   ],
   "source": [
    "nzfriends = nonzerofriends.map(comp_friend_ratio)\n",
    "nzfriends = spark.createDataFrame(nzfriends, ['features'])\n",
    "__pearsonCorr_ = Correlation.corr(nzfriends, 'features', 'pearson').collect()[0][0]\n",
    "print(str(__pearsonCorr_).replace('nan', 'NaN'))"
   ]
  },
  {
   "cell_type": "markdown",
   "metadata": {},
   "source": [
    "The correlation between \"hot\" compliments per friend and number of friends is 0.009 and for \"cute\" compliments per friend and number of friends it is 0.005.  These are an order of magnitude weaker than for fans (0.19, 0.08)  "
   ]
  },
  {
   "cell_type": "markdown",
   "metadata": {},
   "source": [
    "#### 50th, 90th, 99th percentile for number of hot and cute compliments recieved for users with zero friends and >zero friends"
   ]
  },
  {
   "cell_type": "code",
   "execution_count": 42,
   "metadata": {},
   "outputs": [
    {
     "name": "stderr",
     "output_type": "stream",
     "text": [
      "/users/kevincodd/spark-3.0.1-bin-hadoop3.2/python/pyspark/sql/session.py:401: UserWarning: Using RDD of dict to inferSchema is deprecated. Use pyspark.sql.Row instead\n",
      "  warnings.warn(\"Using RDD of dict to inferSchema is deprecated. \"\n"
     ]
    },
    {
     "data": {
      "text/plain": [
       "[[0.0, 0.0, 0.0], [0.0, 0.0, 0.0]]"
      ]
     },
     "execution_count": 42,
     "metadata": {},
     "output_type": "execute_result"
    }
   ],
   "source": [
    "zf_df = spark.createDataFrame(zerofriends, ['features'])\n",
    "\n",
    "quantszfr = zf_df.approxQuantile(['compliment_hot', 'compliment_cute'], \\\n",
    "                                   [0.5, 0.9, 0.99], 0.0001)\n",
    "quantszfr"
   ]
  },
  {
   "cell_type": "code",
   "execution_count": 43,
   "metadata": {
    "scrolled": true
   },
   "outputs": [
    {
     "name": "stderr",
     "output_type": "stream",
     "text": [
      "/users/kevincodd/spark-3.0.1-bin-hadoop3.2/python/pyspark/sql/session.py:401: UserWarning: Using RDD of dict to inferSchema is deprecated. Use pyspark.sql.Row instead\n",
      "  warnings.warn(\"Using RDD of dict to inferSchema is deprecated. \"\n"
     ]
    },
    {
     "data": {
      "text/plain": [
       "[[0.0, 1.0, 34.0], [0.0, 0.0, 3.0]]"
      ]
     },
     "execution_count": 43,
     "metadata": {},
     "output_type": "execute_result"
    }
   ],
   "source": [
    "nzf_df = spark.createDataFrame(nonzerofriends, ['features'])\n",
    "\n",
    "quantsnzfr = nzf_df.approxQuantile(['compliment_hot', 'compliment_cute'], \\\n",
    "                                   [0.5, 0.9, 0.99], 0.0001)\n",
    "quantsnzfr"
   ]
  },
  {
   "cell_type": "markdown",
   "metadata": {},
   "source": [
    "As with fans, it appears that users without friends essentially do not recieve these compliments."
   ]
  },
  {
   "cell_type": "code",
   "execution_count": 17,
   "metadata": {},
   "outputs": [
    {
     "data": {
      "text/plain": [
       "[45, 213, 35, 173, 895]"
      ]
     },
     "execution_count": 17,
     "metadata": {},
     "output_type": "execute_result"
    }
   ],
   "source": [
    "num_friends = raw_data.map(parseJSON).map(lambda line: friendCount(line))\n",
    "num_friends.take(5)"
   ]
  },
  {
   "cell_type": "code",
   "execution_count": 59,
   "metadata": {},
   "outputs": [
    {
     "name": "stdout",
     "output_type": "stream",
     "text": [
      "root\n",
      " |-- val: long (nullable = true)\n",
      "\n"
     ]
    }
   ],
   "source": [
    "from pyspark.sql import Row\n",
    "\n",
    "row = Row(\"val\")\n",
    "\n",
    "numfriends_df = num_friends.map(row).toDF()\n",
    "\n",
    "numfriends_df.printSchema()"
   ]
  },
  {
   "cell_type": "markdown",
   "metadata": {},
   "source": [
    "#### 50th, 90th, 99th percentile for number of friends"
   ]
  },
  {
   "cell_type": "code",
   "execution_count": 65,
   "metadata": {},
   "outputs": [
    {
     "data": {
      "text/plain": [
       "[[2.0, 149.0, 592.0]]"
      ]
     },
     "execution_count": 65,
     "metadata": {},
     "output_type": "execute_result"
    }
   ],
   "source": [
    "quantsnumfr = numfriends_df.approxQuantile(['val'], \\\n",
    "                                   [0.5, 0.9, 0.99], 0.0001)\n",
    "quantsnumfr"
   ]
  },
  {
   "cell_type": "code",
   "execution_count": 68,
   "metadata": {},
   "outputs": [
    {
     "data": {
      "text/plain": [
       "197361"
      ]
     },
     "execution_count": 68,
     "metadata": {},
     "output_type": "execute_result"
    }
   ],
   "source": [
    "lotsfriends = raw_data.map(parseJSON).filter(lambda line: friendCount(line)>=149)\n",
    "lotsfriends.count()"
   ]
  },
  {
   "cell_type": "markdown",
   "metadata": {},
   "source": [
    "#### Correlation between \"hot\" and \"cute\" compliments per friend and total friends amongst people with 149+ friends (top 10%)"
   ]
  },
  {
   "cell_type": "code",
   "execution_count": 69,
   "metadata": {},
   "outputs": [
    {
     "name": "stdout",
     "output_type": "stream",
     "text": [
      "DenseMatrix([[1.        , 0.10055694, 0.0434173 ],\n",
      "             [0.10055694, 1.        , 0.5860906 ],\n",
      "             [0.0434173 , 0.5860906 , 1.        ]])\n"
     ]
    }
   ],
   "source": [
    "lotsfriends_ = lotsfriends.map(comp_friend_ratio)\n",
    "lotsfriends_ = spark.createDataFrame(lotsfriends_, ['features'])\n",
    "__pearsonCorr_ = Correlation.corr(lotsfriends_, 'features', 'pearson').collect()[0][0]\n",
    "print(str(__pearsonCorr_).replace('nan', 'NaN'))"
   ]
  },
  {
   "cell_type": "markdown",
   "metadata": {},
   "source": [
    "Here I included the top 10% instead of just the top 1% because 150 friends is vastly different in quality from the median of 2, whereas the 90th percentile for fans was only 2.  \n",
    "\n",
    "The correlation between hot compliments per friend and number of friends is 0.1 and the correlation between cute compliments per friend and number of friends is 0.04.  These are substantially stronger than these correlations for the overall user base with >=1 friend (0.009, 0.005) "
   ]
  },
  {
   "cell_type": "code",
   "execution_count": 19,
   "metadata": {},
   "outputs": [
    {
     "data": {
      "text/plain": [
       "19683"
      ]
     },
     "execution_count": 19,
     "metadata": {},
     "output_type": "execute_result"
    }
   ],
   "source": [
    "tonsfriends = raw_data.map(parseJSON).filter(lambda line: friendCount(line)>=592)\n",
    "tonsfriends.count()"
   ]
  },
  {
   "cell_type": "markdown",
   "metadata": {},
   "source": [
    "#### Correlation between \"hot\" and \"cute\" compliments per friend and total friends amongst people with 592+ friends (top 1%)"
   ]
  },
  {
   "cell_type": "code",
   "execution_count": 72,
   "metadata": {},
   "outputs": [
    {
     "name": "stdout",
     "output_type": "stream",
     "text": [
      "DenseMatrix([[1.        , 0.08222323, 0.0237262 ],\n",
      "             [0.08222323, 1.        , 0.58084266],\n",
      "             [0.0237262 , 0.58084266, 1.        ]])\n"
     ]
    }
   ],
   "source": [
    "tonsfriends_ = tonsfriends.map(comp_friend_ratio)\n",
    "tonsfriends_ = spark.createDataFrame(tonsfriends_, ['features'])\n",
    "___pearsonCorr_ = Correlation.corr(tonsfriends_, 'features', 'pearson').collect()[0][0]\n",
    "print(str(___pearsonCorr_).replace('nan', 'NaN'))"
   ]
  },
  {
   "cell_type": "markdown",
   "metadata": {},
   "source": [
    "These correlations (.08 hot, .02 cute) are a bit lower than for the top 10% but still substantially stronger than for the general user base with >=1 friend.  I think these vast increases in correlation may suggest that aptitude for recieving cute/hot compliments (particularly hot) has a small but existent effect on a user's ability to amass friends.\n",
    "\n",
    "This trend from an essentially nonexistent correlation in the overall userbase to a small correlation in those with many friends is the reverse of the trend when measuring this for fans, where there was a somewhat substantial correlation for the general user base that essentially dissapeared amongst the subsets of the populations with large numbers of fans.  \n",
    "\n",
    "Reading some of the Yelp forums, it seems that people tend to follow/fan a person more purely for the content of their reviews whereas people may add friends for other personal and/or networking reasons.  This may serve to explain why aptitude for recieving \"cute\" and \"hot\" compliments has a stronger relationship with number of friends than number of fans, although both relationships are ultimately quite weak.   "
   ]
  },
  {
   "cell_type": "markdown",
   "metadata": {},
   "source": [
    "### Correlation between \"cool\" compliments per friend and friends:"
   ]
  },
  {
   "cell_type": "markdown",
   "metadata": {},
   "source": [
    "Briefly analyzing this one as well:"
   ]
  },
  {
   "cell_type": "code",
   "execution_count": 12,
   "metadata": {},
   "outputs": [],
   "source": [
    "def cool_friend_ratio(t):\n",
    "    return ([Vectors.dense(friendCount(t), t['compliment_cool']/friendCount(t))])\n"
   ]
  },
  {
   "cell_type": "code",
   "execution_count": 24,
   "metadata": {},
   "outputs": [
    {
     "data": {
      "text/plain": [
       "[[DenseVector([45.0, 0.4889])],\n",
       " [DenseVector([213.0, 0.2958])],\n",
       " [DenseVector([35.0, 0.4857])],\n",
       " [DenseVector([173.0, 0.0405])],\n",
       " [DenseVector([895.0, 0.0346])]]"
      ]
     },
     "execution_count": 24,
     "metadata": {},
     "output_type": "execute_result"
    }
   ],
   "source": [
    "cool_friends = nonzerofriends.map(cool_friend_ratio)\n",
    "cool_friends.take(5)"
   ]
  },
  {
   "cell_type": "code",
   "execution_count": 26,
   "metadata": {},
   "outputs": [],
   "source": [
    "cool_friends_= spark.createDataFrame(cool_friends, ['features'])"
   ]
  },
  {
   "cell_type": "code",
   "execution_count": 27,
   "metadata": {},
   "outputs": [
    {
     "name": "stdout",
     "output_type": "stream",
     "text": [
      "DenseMatrix([[1.        , 0.00938486],\n",
      "             [0.00938486, 1.        ]])\n"
     ]
    }
   ],
   "source": [
    "pearsonCorr2 = Correlation.corr(cool_friends_, 'features', 'pearson').collect()[0][0]\n",
    "print(str(pearsonCorr2).replace('nan', 'NaN'))"
   ]
  },
  {
   "cell_type": "markdown",
   "metadata": {},
   "source": [
    "It doesn't look like people tend to follow people because they think they're cool either."
   ]
  },
  {
   "cell_type": "markdown",
   "metadata": {},
   "source": [
    "In retrospect, it may have been interesting to combine friends and fans for the above analyses, although it very likely stands to reason that friend count correlates strongly with fan count, and as we saw, both ultimately have little correlation with \"cuteness\" or \"hotness\" via the proxy of these types of compliments.  "
   ]
  },
  {
   "cell_type": "markdown",
   "metadata": {},
   "source": [
    "## Finding the top 10 most influential users:"
   ]
  },
  {
   "cell_type": "markdown",
   "metadata": {},
   "source": [
    "Exclude those with 0 friends - cuts the matrix size by a factor of ~4."
   ]
  },
  {
   "cell_type": "code",
   "execution_count": 63,
   "metadata": {},
   "outputs": [
    {
     "data": {
      "text/plain": [
       "[('ntlvfPzc8eglqvk92iDIAw',\n",
       "  'oeMvJh94PiGQnx_6GlndPQ, wm1z1PaJKvHgSDRKfwhfDg, IkRib6Xs91PPW7pon7VVig, A8Aq8f0-XvLBcyMk2GJdJQ, eEZM1kogR7eL4GOBZyPvBA, e1o1LN7ez5ckCpQeAab4iw, _HrJVzFaRFUhPva8cwBjpQ, pZeGZGzX-ROT_D5lam5uNg, 0S6EI51ej5J7dgYz3-O0lA, woDt8raW-AorxQM_tIE2eA, hWUnSE5gKXNe7bDc8uAG9A, c_3LDSO2RHwZ94_Q6j_O7w, -uv1wDiaplY6eXXS0VwQiA, QFjqxXn3acDC7hckFGUKMg, ErOqapICmHPTN8YobZIcfQ, mJLRvqLOKhqEdkgt9iEaCQ, VKX7jlScJSA-ja5hYRw12Q, ijIC9w5PRcj3dWVlanjZeg, CIZGlEw-Bp0rmkP8M6yQ9Q, OC6fT5WZ8EU7tEVJ3bzPBQ, UZSDGTDpycDzrlfUlyw2dQ, deL6e_z9xqZTIODKqnvRXQ, 5mG2ENw2PylIWElqHSMGqg, Uh5Kug2fvDd51RYmsNZkGg, 4dI4uoShugD9z84fYupelQ, EQpFHqGT9Tk6YSwORTtwpg, o4EGL2-ICGmRJzJ3GxB-vw, s8gK7sdVzJcYKcPv2dkZXw, vOYVZgb_GVe-kdtjQwSUHw, wBbjgHsrKr7BsPBrQwJf2w, p59u2EC_qcmCmLeX1jCi5Q, VSAZI1eHDrOPRWMK4Q2DIQ, efMfeI_dkhpeGykaRJqxfQ, x6qYcQ8_i0mMDzSLsFCbZg, K_zSmtNGw1fu-vmxyTVfCQ, 5IM6YPQCK-NABkXmHhlRGQ, U_w8ZMD26vnkeeS1sD7s4Q, AbfS_oXF8H6HJb5jFqhrLw, hbcjX4_D4KIfonNnwrH-cg, UKf66_MPz0zHCP70mF6p1g, hK2gYbxZRTqcqlSiQQcrtQ, 2Q45w_Twx_T9dXqlE16xtQ, BwRn8qcKSeA77HLaOTbfiQ, jouOn4VS_DtFPtMR2w8VDA, ESteyJabbfvqas6CEDs3pQ'),\n",
       " ('FOBRPlBHa3WPHFB5qYDlVg',\n",
       "  'ly7EnE8leJmyqyePVYFlug, pRlR63iDytsnnniPb3AOug, kc-rnN-ndnFTdHG4TfIgeQ, GYndf-h6dAwpGP0lDBz2Wg, FPo3SwQuAK53QVZm_eIyBg, 9fF_T3pQu3ay1oA7h_VYNA, G5T3bd6dUs5zkQ2VMZtRUw, tufuEc5f9TWR05_yko46QQ, 4lMab047cJsEt8puhy8dew, bEbLwLpJauEG-HW0w_0IKw, xz9o3T3uJxyeLZ6Cyb8cFQ, LxBh46T0wO9VlsJUK5q2cw, dUALcXVUTC7NYHuE5GKjtw, LM6pxbcfdyUS8M2jWoQk1g, nQG7XkgrsG4MXXXfexJwAA, 8t6qbx5mNimrLrqs01VIvg, A-pcQqvtlsxd-JgBOIdwHw, 2i2NOMPClqwUA64SkzyIvQ, bnf7t21SCFw3HWfV_soG_Q, b_ED_rPl7OLwEpUlr4VI5A, Avlw4sAK8uGpcQY89Gk0Tg, euxheBcyvFLJqNQSbsFsJQ, 1Ksjxp5WuG2Cni24Ipal6w, nH5NCbQ7eacONPMV8VpdEw, AMqRKxavwt1yTBzlMrG8sQ, f71r-LEp9O8yJu76XhPadQ, cjotiAHFSbFuvbxTWmGi1Q, _KfzNJcprrOQlvoAOawS2Q, PjdEARXumUBwx5zj6jTkng, mGTObjvjjIVy6C3FLNH2pw, wwHxfdwZoGLGmvYznFMvgw, 1hup0FxTWkjNAcVf4Xvj6w, GMzlmv2K6jvLnSQcipGKGA, -zfHj6Ar9FeTAcVyK_xpFA, JyMizIjW3qhGahAYq6CFmQ, czJvKmduyIljcLWfX-9NCw, AIhfuFmX62k7a22gXXAB2Q, 8vU81Y40XNCPykYAfaxyjQ, dsNJ3rcIqO8GETxyQwrL9g, PeLGa5vUR8_mcsn-fn42Jg, Cvvu2V_FO3FjxIHpartSMg, lsSiIjAKVl-QRxKjRErBeg, ITfHnc90OfdNYmin4wDQ1g, DuWB9jtjdfGR3ey9b2GUiA, Jc0T3q_8bOjg9pPlJb3MBQ, jQNE4kG65Pyplz8MiVDJXw, t4uPIUnmF7zdAb6cWT3yTA, RLAR2Vnb2klcb2UsfF6FUQ, v0JtfrbTDNPvSp3rXv8IRg, RvoPAtu1iSSwUfhD3tg1Nw, K68lvhWO_Ln39vdmWns2HA, -fQPzH-e-ubDIiLQhybEjQ, X3S5AhlmLhyiTlaiTF7NyA, n9lFMzaSM30dNHFcl93AJw, NQZDDxDG5_Im6SxYSPcGYA, skzHFVplaHoOinPtymI04w, MpOMfaq4ikuhmFqj2tJx1g, u4NQ1BZ2nXIxRY1gxsPYgw, Y1ICO26IsN7i_1OVD0Inyw, pHqOWnVzU_0JeLPm3wHUbQ, eijfUFNF6flY-cY4Ff6BIA, QJI9OSEn6ujRCtrX06vs1w, 9_ME--bvyZStdz6iwGzMCw, CYQNdjHCL9nedkLMfKLHmg, tTppOboFA2OaNelu3l8-pg, 3lU1iYLNW434mDJ-3dpZ0w, wy4NZPGAonzuz9RzSDtDNA, LGQ7Fu_Ev33lWLtpshou-g, ME6G91A0axSfSYK9YBnWQg, MjGdUi8Yje6x5HhbvwnlDg, gBEihTFxWQ5CzOH1tGjAPw, 4Y0ha2qM31Ea8jZE2hMUKQ, ZnQmJclqMNM1rl2vDFnm5w, BoNlCPHJoYmimuGjpQXWuw, soaCrgXmwdR6SkUZ7Qc3Mg, TE9o4cWvNXg5IYcjAwI5hg, dIIKEfOgo0KqUfGQvGikPg, TVf0-xIHIEsmN2dAKGAIiA, _ey5n3llYV2RfdCDCy6jhw, TUpdK4l8GAWIsdcD8JbkVw, jL2o3huthRW2lo73ezLHdw, RaNkWBMywhBqCZOQWSN_SQ, 9AFhmlMesozq-sq2KFE-gw, ij7kqaoPR_Zwtcrxn11kXQ, dSS5gT5Ajmv-NKoxna4e4w, Ez7OB58ciPCfLVqofd6YQg, VLhnqw7pzxObaQZ4Tpzp9w, v1wa0SP2l6yB11orrh0PEg, DMHPVjHKaUStUBMPH2TjNA, n6hHjOuv8NAWubj0U7LFLA, 6rvdsoYos-0udWV7mcNtOg, u1rtE-FomZXg9vuOVqTCjQ, 0qR6SusZ-m4YVzl3V1UfDA, RZkc9rgACbOsX9mpa2TDXg, eFuUcwjyBgX9vG-i_3hLfQ, Cuk2vdOMwTz71NjBuCF0Mg, zk_mInlLMmLLqMk6IvXm9g, GGWjA8v479feCo6OPTLQOg, FOvWgXp5L23vcx3RNl823A, 94ci59pEqujuw_P1HLW5XQ, ouJuVAEPnnEC_zhcrSf5GA, hxDeqPbPwkKEFXOfK7av9A, x5SbZmP74zu-UMc86YN4XA, ZjDs4lRCaTHugz2EW_nQyA, BECNMzLRiFj3y5k7G4rshA, sDGwhNAQIubV36t_fex6VA, OsElvMpJD17xc3A_nwF5NQ, ns7KN6l_O39R3U3IKfz3mQ, YwT2RxiC4H_8JT_Dkmzb5g, W92S95QwdQERvx7lvxmeKg, HtCPdVujYJAZF4FKr-C9Lg, qzbPv64K36TnRA7Ki7EDaQ, k2aTPsAOfrlFN9LLrWrCLg, UmXzwFM2OkZHWJ5cJZlqkg, UG4EKu13JRwzRix6ESINdg, 6gGRtiXRdUS2PbFlu2QmZQ, krPxbT49l0ffv2S53znp-Q, qLfujrTBF9XXGa9MaNNv4Q, Vz2ouW-nkOuX0Fet7nc_cg, 0XaQ6vvgy5pi5XAaz12mOg, uYy52H-UGQvZ8pXriv2yYw, kJkoabUt9Vpt8FE3NkU08w, nAvWIxkcP39OLMRHtJluTg, UVxY0iyPaqY7s4BSFtt-xA, kGGapvfP1SZH2ZOikdSpNA, ciCuqqFRpSoh8ZZ_a9ELqg, 85k4u8kP9yb8uwKNZ_aWig, Od5HdH_uUvsjGMTgOKiieg, PFyclb0Agx6HmlyMyYqjkA, 0ynxX4zKNh-Y4-NLW4eaGQ, eW97I1zicAT7Qv6j_Ad1wg, 2jBo5YXj6eflYJH-Rle0fw, nMeCE5-xsdleyxYuNZ_7rA, E5bgk6POk8u_EWeCgrlDuA, y3HFVx8nbNmomSc-PWOy-g, qoyf4UgwuF37St-2VdkJZQ, 6bsqA3UTH37wyCOFrt17vQ, Thc2zV-K-KLcvJn3fMPdqQ, v0O7miDEH4XX2diEr7ij2w, 64fujm3m9rYNbCypvHxQGQ, LQALTuDeCRLwR9NOxUWS5A, 4bfqW66F5CFu6Yr_S92EOw, sDX-Wm9s1DeT0aiAxbnugg, dE9YaRaUtkDm-xJrW3BSPg, 7WfLyV9sV-MU7f6k7xgiJA, HuBgs7uHyUz7DzcaScZqjg, MoFiqXxCMV9AiqIg1ymKwA, J6hurmbHzrqxFYL-56YPYA, TN2HEqm1p62d-HNC2zxQ7g, vzw1ZryOiTYGzl8N1yILtw, ZVdHmpsUWMQUfyJsYd5p4g, 4n0eMAeCSvWRl6an5Z8OGg, suF-uONlHQcTlqbXyJ9kgQ, mCwl2apJVmNxH8PqT3ZOOw, sFxvRllDeR5ZLjBhfXOEWw, YjuCEt8TPPDCkmY0LmvLtw, Nd0ocN6CmzrwHf8zeABVsg, GerMhlVWTNkcyI77oQ8Ckw, J9c0XM-wV_KQmtZYxvIFFQ, G6M2NiuST-sK5ZAR4VrfmQ, QVK2aHwCL55_uhq6eBk5rg, cTtDPzQSGHzC7rdOFylU1Q, hRIeyrM1zhL5nhk_cr7yyA, muvrSTpKkOlsdme1AMZ78w, ucAN8VJoiA-_ysMCgZev1w, LOcifzqw4pDMpjaDs5R3oA, 6p1NDChnIpGl29Ce3cMKWg, yjUtVmn9QCgu-p0aG0EhgQ, ottOuy7FZtUV2HnBfhVk0w, G-mWHSm6XVp1oe9PN7NUPg, 61meSfN9Morngpe3a-D-Sw, OGDSD2XeOBBdb1pka5tZVg, yLW8OrR8Ns4X1oXJmkKYgg, Aic2V_XB37mbK6tqzSLuKA, TwPlaNvnziaN2wB3lk_9Mw, qtR8zoqViSlbggc7gaRmvA, RX0GPUmx4wJ8zxP1Mq0tPA, nYryL_iwwwqcYQarn8_lbw, H58nmfUs-Nz_wwcYfWN3Dg, vd0X9jRPbc3-Q0DhZlYTzg, sWt4M6Drth0Lyt4vT8Mo_w, RUMzmM64bNGfKw8Oe_Q8nA, 9kgj54sYGd0qc5emszjpHA, CwMnwuXOV4IBDvDYTAK8Fg, tJN26kuHD2FHpdOCLPJUEQ, CWuZMpIht24ApriIklLKMg, B_taR9fTDA1quy6Lqpt6AA, fG9Bq9aU09w79iLvxXivzw, 9fO8HBgLnMei8zZUz1Ysbg, 7OvtYnfscIWBahX6hL2xkQ, RIq_z44y265BWS8DXDzQqQ, eFbmEFi1-dBlEVrxZCNp_Q, ysDmEwP547KGbzW7h_hlrQ, rMKIHfnjkJlbohF2HExnPA, KKYN4LPphTk-ZBz8YxsDbQ, UNGVRzFrjeilD4d9xEUAjQ, B73Hnya4RxPrQg7CNVAZVQ, g6eN8HGLYDNKqO10FZ4BJw, 1FjbFIhkxgPO35Ak0nozJA, S7d9QLjgw0yt1tWKgoyrKQ, 2r1FTE8e7n9IJznypedWJw, c7pPoQPgSUZERW8XVfV0gQ, ZE3XemEXMfTs-g4Bi71HyA, uJTEn40MZuwQSwziAJxOSg, AGo9oQr6aPCIOskjiTdNNA, O_GWZZfQx7qv-n-CN7hsIA, Ccoapq4XJg78LdyhU4lZng, 4tWyQ6sykZf1qzJydWtgqw, kIpGUhKWzHZHljMbAgnWUA, Ryxj0u0AW3mRsRypdYli2A, Q0St62dXpD3Z_UHvSPcutw, du7qMZ2LGnKI8jtwNaXfzA, QWi-9TOuCN1PMDLzDj1k3Q'),\n",
       " ('zZUnPeh2hEp0WydbAZEOOg',\n",
       "  'Uwlk0txjQBPw_JhHsQnyeg, Ybxr1tSCkv3lYA0I1qmnPQ, DNmeLov3wXNxlxjN5feBoQ, x7n69vEsYFh9xnW3D5lPPQ, -AaBjWJYiQxXkCMDlXfPGw, COXnA2hnzFDai3ywx_iM8A, dUFoyswTt5ZQbleF3_4TCg, uj2AWSvsspbrkebc_jqt4w, MWa8PTsb96FQAP4xrrVANg, G2AYDJ-mezLYLciNMcTXjQ, gEO11MjHUlxqM3z5UFO5uw, zHeeVKXN1A86-EMRAgq_Bw, 3Pewj4lcZzlUvhmJGKFpqw, 1HC_-rWi1oaB-N3BjqGKoQ, KavG2RBt77vRLqG1_6RBvQ, 7cmEMOLyD4GS1XbjctJpoQ, ZnxSdo0cVyH4HEdDlwlv-w, RT1w-Z_QCgJACmpOELpPhw, 62V-Kyj1MD0IVGgZYkxy7w, LBEdgyT8eQJqlV0ZWmkAzA, vhnQz6huUOwuu_X7Qjbpcg, x9g-i1DsB-VjSDGVOdRonA, 6sLKnFnV29EXW67d6wABLw, XpRfQFXFPLBxWdMi32_CSw, 2O-ONoy3ddNCfSQ34CFgiA, 93ZaU3GfaXSr-RjabsaQ2Q, _LbK9H21Hm6nx7FzjeGpEg, lkI9-dcDhNloFvI-HM_Jbg, Cvvu2V_FO3FjxIHpartSMg, 2g_7xUuWYKlHGnghJ3Zpjw, jU9aSDYxNIXb7j7oESxe2w, ekGZOsYf7lAOpQlD_j8t5Q, nkN_do3fJ9xekchVC-v68A, KKlGiwN0g8p89eQkMyhvKg, h-sDf97w0r_JDOVUtzLT8Q'),\n",
       " ('QaELAmRcDc5TfJEylaaP8g',\n",
       "  'iog3Nyg1i4jeumiTVG_BSA, M92xWY2Vr9w0xoH8bPplfQ, So46aZ3y7zRl2VmFK35vCQ, vrZmtsiaIZBr42KwAve5qA, SaNDaz5rBQs-5gyhOkO1MA, xTcuKbp7ocDcZDD_bcK9hw, PpzliPkE_fzsI6r15UMZFA, Ygr_c6So7Aba0kDQW01FDQ, RL8CEnHK-FRA7tQd_0q8Sg, xXiVvsK9nnRRCfCMwj85Ag, p21bx7Flt4Svr5TgfMpZ3w, nOdmcHSwcaIMurQphLwD5Q, 8iboMve0kaB1tunZkYENKg, bR0DnaZHT1zZpCWzmLHntA, 36Vr9BASkR2v9NKNoZtiSA, FLjrwZRr6wgZVtIm9dWYEA, YctWPgIfkCyAw4EChKPFqA, UW9DSt9nuTGdKc6oi1R8mg, v9qZhWaRltc0uCzXmGaHmg, aipw_nbOkMRoxJRSpes1cg, 3aAAJqybpkD0pc7WvmY3Rg, EBc59diO4gfwoGR0j0hfWA, kyP4gdfQ-7GZzI5jSWDf4w, UwmtWzBdbi4AAJiuBrXrQA, pZjpnDqiORF1lVqXLnYRyQ, NUTZv6QmHZz6dxnBhLNzEQ, 7Zd4e4JOuqsR29IpojC0kQ, xY-_P4jUJD4zs4agSjWbrg, IyKJLgLAHGXyAc3xgrsCzg, m2R7pydiZ7vezHD-oZt6-g, hizGc5W1tBHPghM5YKCAtg, GbvhM38d3jqb3Iar2MuoJg, E_fl5lyRMMXOZ4jQZNEiTg, 4UfHUgieOvWQo1XGQ5oYFg, ZOPLjrmR1qjc0fk6hFPM5w, mZfae6-3AkHzd_AzSgV6qw, mcG523uA11CIk8OP4ieRGQ, kWZd_XPvezquaZlnR-cGcQ, UOCPrE6sz_dsdACdnkjApA, FEBiHCf5qT69Bo12F0n_og, Vo1zWPMfzT1y0U7wHd4Qbg, wc18MFwqzm75P5JMscAtIg, 9_I0lDod67yMUxFJSyTXgw, ueClFWN0WePrtUSayd2FaA, _3Jmz1ImI4-e1roLYPxDAg, Y0nXlvDrp5u1lIPfobN2Dg, ebYpHPQWSKoxlzCPJFsFjA, 6XiXp88SLli7Ls-rU_rAIA, 04uPXZ-QrZ3boQ2CHPgkNA, tAMMm7RO4xYEyh3YGZyNRg, tpXwIuoClyyAnA63giKT0A, v-pGGrjLlnJPUpblDCAVCQ, pSRS0q6xbWlRYd6HA41h0w, IkEwgKW8Ay3S7AK-3R0PsQ, Thc2zV-K-KLcvJn3fMPdqQ, 5xyUUCEtv0fLEQrmJuZnRA, ZlDSUd9ZnLRxkdpQk6FHHA, 5YaP2AZqZRzYP0taTSCNzQ, dWUpHH4b4cScT2ymMaoEGg, aI8SRtS5igDFHd0ZNo-KMw, CZzdVwvQmewOlwzLyNC1CQ, TFB0TYC5OrdJNjxPB74PCA, 7terxram9WYIdwVCIBkvDQ, mTRMuXEmozVVw0StZDGrPg, CajMs6IdJF6RjGQaBAOILA, tEvOR9v9QANUq8tNpX98aw, 6dVx8ommZz5On09cXFHgyw, blCCwjBjMWbyuopwX9oUDQ, PNa2-EjHe_ApIgZXD6kxBg, JiAyMJrdqZkcul5tRWPByA, tMgH4wDvCXunT8rfC0jvnA, NB1zy90YDtxI5fRUR4vQmg, QMya6jHkwyrwpfgpF1chNA, iAILYmwCQiqpyXQkbMks6w, YRPs1xvjd1aNwHegUbwjQA, CNyitHSWyHFn-lHjJxKaDw, PoKVnj3QpJEQRZDijSAz_Q, xBLGb1lrLwTjWgEYgCeOEQ, X8oFqYnnwbb3fUQBvHzIDg, knBXcAmTwQ6yP9L04dmZjQ, d7iJj0a372sinfbSs_W8BA, QMqSgBqSrlRhz2B0UiORjw, vNNU6htwtCpClw_AZ2gb4w, w2ODFJvfvG6VEA0fpJ7nLw, xksSZOLEs8hyMa2PMs-u8Q, K8rj3ZEPY6CjQWS-uP3K6Q, 4zpUSSpundqCrk8gHONgew, AUP2CmIEdeBqF-47U8ZhIw, Lg7Zfv48MR8IIaoU1tKejg, bGgf84dQurLiTha3ru0QDQ, uIn6NOzyBEeTikigZgxuEw, 720FSwm6M9xRL2eUu3N50Q, kF95hNEblFmCe2B3UJgxjw, ERrOa3Az1ohyL6O-vLqj2A, rLdPfte3FE-HYJ-t6rVdXw, 7LgoIUC3y5GAZAfkG5xtfQ, h5cXTu-93TqCrFnbopkbew, V2JeIFpLdli0khGsfqrCQA, dLrGzLtYgFepEtn_LC-MDg, K27pxNGQWceO7XXBiS4m0w, Iw-UXs0qSKfxfDasEDrDuA, idJ35gltZ90eFFCm2YvtXQ, FQLskXjZ8xUbkWMihFDiyA, xuvLQE19fPrisRrgMRXfQQ, P-AD6uzK8Pg8OqmviAwIMg, Lq9P-y8gWMHYnYnOP7SjSQ, Gj_a4TEQqunhcNxQNal7ug, dkInfCtRcvnqKEEbS1V3_A, v3nHr6tKjYL79gocKwaHCw, ivGkKD0is0F2pBZWAPEaBw, kQTLrAanBX44x2Mfn-I3GQ, V-kZOpiwmqjjWudWApylPA, LGidSe8ghgfdqGsSOXr8tg, GmQPLhAj7NMbhUf766-uiQ, 6LoSM5hgpTdQ07AlSlIe9A, 3g4pfmQWVd6o9mggWw7IiA, nKXMLvWzxW0G58HIEXn3DA, U1CTiAmf7T81PJK4NxngTg, a8UgC5l8juHSqQMIi-o2cA, q3dCZIYhKnCT747C9-Bi4w, yPVa6e52o5Ao5K65D9wsPQ, RgXbXzGEsq5ys0RRm3jfVA, RvFgTBaLmRGClncUPGOS2w, cQIFLm6ws1aH_I-Nt1W54A, b2FQaAkTrmRdbvXpI1x4rg, A_rIi9kLh2aoeBGBNyjtQQ, T4WrL0OkzDtZgx_00v8QxQ, ee--wzykQsIUuC1VAbmmKA, hZm8pEgyJl2L0bn7fykcsg, d2FjqGUNuAiFHcPdd3FuNg, rjxgtBNG-e5FAyD8e57_Rw, 73q_SWtiBzb9u3mLLbksWw, Oi6Z1vBoERUELx7bsvWrAg, d3eP7O8LNLRQOGsCjgmOug, 03qtVp_XohUOnFZGCHTcYQ, CMUXo9oDDAImZwp5kial0w, A-XfojPFGvBkiDIc2IolAA, xYqOJJjSkCL-J0dMBUELZw, 7EBkuytBvApvUhoToVQqnw, BbryXW35KHHIj6KBMcqUAQ, iWHW7iFxQBaonTpC2hTntw, 8mwoQkSMPsaHzX9WQJ05IA, yqnveJlr263GK4vdmLpspw, AW0kk52WgpxovbxjxQ6zSg, 3G5xgbgXuV4GTpko2j17VQ, N2u2LfwhGs4p2LxMn6v5YA, pPqWDTJr-kPAy4TXZebndQ, _5L-ucix72TKWcE6SJ4aBA, YHzZUV_ji6aDBrNEyfbp8g, b2kzQ0OYaGZG4CbpH4Cu_A, -xK4wS_paMlVYn0sD-xu7Q, bb8sDmOeH-foJePyxyKfGQ, t9-7T-ri2741XTn09zt4HA, axdHGMOHNVZULE-Oqw_hGQ, DsiW3YrFsVSOBHzI1UCslw, DNpyA2he-Ql2GPJcwTsECg, t401RQlrFcyb4Z3IJZT1bw, kkDKh7p5IJwJ-8ueKuc6-g, D0YT9WPERx44JGuU96uFnA, XsXNl7-7iG7ziLe7n5JNZg, lMHHHbgt7S1ECx9_RLDYNg, 3RUupRunV6rQGAybGIKANQ, nUUd_oILvvsW0IyY1YMIoQ, fu3cOEyBxxotI7qkiZJjuA, BQofWToAC2ZUrDh6n2x1gQ, mAkgoItGaK_57gdVeP8ICg, Xd7i-elY8qVXX9Bs1gpD8Q, FJ6peuwF0Tha3j_2gHkw4Q, iyQXrxWOINZmfybiVX0k9g, rIikCs8hOhQO7sAXzqAphQ, IEEMCTBnvZRq-Fj7hxq87w, eUy5wXizgMxjZc3JMD2vrA, 0dvTKYj04bCrGg5XRZueOg'),\n",
       " ('xvu8G900tezTzbbfqmTKvA',\n",
       "  '3W3ZMSthojCUirKEqAwGNw, eTIbuu23j9tOgmIa9POyLQ, yFLuIUuiaaIZxHw1H2qT_Q, DiHk5N4pM37l-3Zf9yy-ow, DMygFtzXXy4CZCyjP1TD4w, KxCZKvc_2WXlrHhAQDD9eQ, manoJwmgZmjQ7yjiwNwr2g, LfmM_FwYDIN1VXVcg_HBtQ, RMpC1kFEJw6fZg__aa7gRg, WHaGdY4U18QfIDiXxaYSXw, xWiirESH97dE6U0oT1MSKQ, w_D4h7TEBndcdPICf8eIfw, -o0xWAEO-C2oqlyt9TO8qg, sldgg_7mE9JQ5SUxGlhPXA, xbfFwxIVFLSKAgDZ-JIIuQ, qSEN5HR0wLXHSZRRgLnJ1A, hBicl52tMVsTecdZSVL-lQ, iUhdBdZOPnAs0k34Mc107Q, pfdZizODh654KQ-YkI3PFw, lMJkvCuST8RTXDvLQBYAwQ, _wTLI44Li1un5XWmDNYdSw, tCqYnhAdQhPO3JAAnc09ig, Sbi_YItlH8YwXnQPi137Lg, cDpCG83or3YEgivwrsgzaw, 2UNKXi2x6q79cM_YShyUTw, -zfBMFZ0KySotqh-BAPWXg, 95XXTDRkA4pWSYs-gdVVYQ, BLPFZ4n43BQhecOpyoKheA, 1HDPhw4knpyxj5K4Zt3EHQ, v4G7CXgmzxW6mO6-YOOAtw, BPpRsy-rk4IjJirmmqIz1g, xU3NcJ3H23uN-2RPetoatQ, TATK7JhmINXt3ShXEI2D-Q, gjkeN_T14s0Y1tzQaheDPQ, gKAeAgeThdbLMu-J94JBlA, ma-WF5hkZhz9HZTyTXwRtQ, EFniG2-0xUMG2WX5RrQI_A, 8tHug6uVNHyp4e2HrdhIBA, fn7epUiyscygeRAaZCPH5g, DHniYyCFK9H4uyXWfvcQiw, ixK0mvlsaniRQb85q1oLoA, cF3-D2EmOx0IGEggRSBzEw, wOuqeCjXJ2XxEHjX4RG-0w, SZa_mGwvBJE6ECdZnkAqOA, TLymPiIbmM07H-I6SyCmgg, 1CkK7ZbHD6hf--yi0fL5dw, 9-sg-awD4wBQudDopOufKQ, CdUq9v50tFlgmZP19t8HyQ, Eq1pMFw7esgDsZv7AOYJ_Q, JeWTh9Nqw1FLWnf9VbHyQw, jnQ6HKXkDqebDu-HpohFnA, MKKSHNBIXSl1Agps6Rbqcw, _oK-72eWZrxWKgtkUZpXww, F00bYQx24k0XGWMHN5S3oQ, IL3Oh14W4haIllB6mAtZmQ, hK9lin2Jm2du5yayWDV_uQ, Nbe3UOAL5tWbejE1JFITCA, t2Fu98U_wEKnV8ViY-ZitQ, 0lvbLziPRbz6yxEa2R_KwA, L_2YNKqoRcO-gAajqjj0tg, cr3bIFNBhmq0AuJsvqfIlg, Y6GosB-E8CNVgurIpmFYQw, XW-Gue0vlaYnu9JUaJFEew, UCEp5V7kjsKVIpf71bIbWg, B2507cYdEX7LywdoDUa4Eg, 4RvKw9TvDun7bOGZUDMNHg, hvMfpavwpFW3Qh3cnAZ7bA, vSRbECWHUUZvOdyjzJlAHA, DPiZ_4tSvz6zuFa7ER42aw, 3Tu_E_rnJUMT0nvZt0gLGg, uhkKjqv57lM4PWcP5cFfHA, nr5ClHq-4vyx3VgqN5kdZw, lU0WxV5UjAzmbuNklvrnPQ, EwKwHnD1YBdd2No_cRGyiQ, xc81AJq6csfKQmo2Wx68qA, z-VCunf57z0O_z4lGNcZaw, Sa5HS03LEkxDgsuIpyNXug, jEL3SAOjGFTsRiznhnU9BQ, kJOpmRoY8Vk7eR9RWh6HOg, ih5ab_LY5ZBF96xR3yhPzA, gbx3IYFKB-36HhV5wM3G1w, 4JuheHJaShNKd36ctkMeCw, vJBlQr88EZ4PBo1h-ge5Yg, fmbacdUQTrTOtPwpYA00NA, JrDDyVLXhXSvHqaro8JFbg, OXFpmUiHJrUTPzWbXMt-XA, v1pCoQoHttflQYuy8NCfLQ, 5KCrLbYGN7yYQ_Hfsm3Whw, 1pisMc08p3pykpu1GqhGDw, LOh4vATnBipFcWmPCu0k8A, BUC0NVjJrnotcR5l2rdxnQ, LJoiY_2pPKG8xi4Lkl3ZJQ, A9weu_2okxF3SvSgDT5pEA, j8n8L8Rx73v8HZLaCfWH6A, l2PiSpXeqoQ8RUbP_nrjiA, 71HPiSCscZ7PIvw-9tu2cA, SCdr7qtuBQUhlAGZ1tDyBQ, t0zRAEf5spDf295IFLAaLQ, yFph5MjXMnvu3H3tgLjMJQ, 3Aw5KIMG6xy-oyHgV0-GlQ, oXLz0_Cx2735wXgEgHr6Yg, U3MsNj_Y9QJR3zet2Qie8w, OfRdUkub_3p2QN8RPOSphw, vmcqAzBJLDYNFbW-n1fMAg, Ea0qDDlNJuVHbhLxuJe0ZA, gx3BA_7Xg604rHzMt_kAlA, 2EH5dHIs8nPrmb7AZIvRAw, A-k1MKZ8sLvYQsi7EqYb9w, Jqe7yuFp9M8SPMDOYu0Mzg, Nz6yAfGZ3qbJxzRyrt4wTw, ipmg7k0ohCgDId9sN8rFfw, yYWvkChJtPoRM-U8UcRLfQ, nDwZBm9XpmelGhwjtX9L0g, 1S1t3yw_uLqreagmiEukPA, OQL3UuILSYpLcXWcGNAELQ, u4t0wqjJ-xkZ0iJu48jkXw, ZJtkx_hFEqdCioRsE9Pf0w, 0V9ozGkVEjIoD1bvfT6ESQ, YFJ4aClWcqo9SFRcGY7FDQ, c0cBVKA4lSmf10zrMdgjcQ, jPdh_xqx8NbftgNM2DynfQ, FlqNvqZjcwvgiEKC2Tt0OA, fa0rqQUGmPua_KJmDQdwdw, h_Fgkb9Anxi4DDMZIvijOw, 21ebz1zQTbIaZh4yyo1j5g, NSHCHmd74-8Tqz5LIDT75Q, Z5VJvMRN12js2k2XI7ZjKA, qcQXdNywQdSkwtONRr_5Ug, tM-29M_Nmv6cnnQjula8Tg, d31wiC8swpcod_WEbvT7ew, c41mp1-LPynfReHGJUiyHA, JuuxekdfWW1MG8hZKof3uA, fNBUBT67WaATQIJOw1YfTA, Vh9Et5tPeXTwHPpsrOLx4g, o-1Ri4_LhQQabvfI-VS_9A, 3JmdcESvJDR5Hzwk52lX3g, hUNrOg65JTPhWzTv94-N5Q, XsmOzvfIhpMPdOIc_qejhw, a7t7wyVJcu0r8lz-oUWpfg, LwBsRU0h2KKMvp8ww-n3iA, x2K8YAc3TMOLkTwetvj5IA, 62GjqZbaqjtkZg7FhJOmpA, FMpzbc72kxc1XzKtszTikQ, nW_rPSIj-FdOJRn9ObK4nA, 7mheFq31ocCttS2uo04FtQ, cf9LYsHgN4s2lqdP_y8SkA, QQxNfYNykLHs38bC_NgGwQ, S9eFTnU7SmJn4wNOeohYRw, tO6fPc39fjX-E9WkUa1RQg, i-sGXHantCMU89xGnmvQlw, -I_ZfUrRiKEx05-69rmiTg, ZJpE5qDqlEm7A_JFEDgZRQ, 2vGCJ45xvACOSL3DJ33ibA, lQlhYe-6kVhMOBPAWvYajQ, UkQuKJ_DEqXG52UbPxe4FQ, NhjQOrzAGjDFXRYrZ0-NOw, RnEwTjf5bxhc-YcdezXQOg, JJlisIS4IOVE2TOt8y8a5A, KacEzlmXp8s2tVWkV8LKwQ, OFPgwLm3xm9GpRuj4PFSDA, tkWF8_dpptO04BQurukx-Q, 3o1JaQMfrf4rGt7gj9sghQ, wUZwwaSur6cBVdxaK0cSuA, mOHEiIiExrU8Ep6aDTLoKA, OpOHaljL2FUXcOkdRWLqJA, lyip0vXbZmdJbXlM1Ve39g, 6T8CHNPlckS28U2Sw445_Q, JfQFiwkyMcwIz5B_4U3-yg, bqln0cuhJyQTiqpYuaoZ7A, e9HW3tB34ZNd3HzcswDpTQ, HD21Ye5D42ChK6Dzml7fiw, ysBy15KUcmQnMJ6FVMqztA, c5OnKJaeA3qUC8pTPeZEhA, BkNikjMkN7YtBe0Z8EsIEA, 3smrS2lpcaO04Puip258QQ, a85iST3hLHKQmkRhDk_KcA, KP_lo9475Wxra6PkkxST4w, G-bPUbx61xw70kW33ytTvg, iEONL-v4W46yliYsovCP_g, _C2cJ17vSRvRBiKWJ2ameA, PO52jOgAcr0-lbqzWvA9EA, fqi_FVAWG9bPqGc0j8_Haw, 7vDLXJZKdvKcuktSgF1pUA, fBpg2sPeXcGVn85T6cJQvg, isd7jLA00nt022Da8MqYJQ, FDmR0m4peLNkRh2aXQ3BLQ, ki8exBN1pBjSE7PlRog_Zw, 9DWIu7vW78lfeTT3dZ0bKw, hLXrboOkNwpjbC61fqB9Tg, CEnE_AixMo3tKPGz90qqXg, _3-IgFcAw5HVfJ0n2j4hrw, zSMWLLSsXSdSgHS_56J4Dw, lEoVl2Y4mpvkIfpcRSHNpQ, tYSdUh-rDvbinGhZUssv-g, EK6qXQ_DiPnI2Gl4kTRQeA, JCKBuibfKALrRlJfOAXG6Q, _lDyP391ahvEygYnXX39ww, 2Z5ziIMTaH-rFPVkym6JXw, NNkoRAFEJX4LOaHT-PHohg, b7qDvcH9rC9r8iLDiHMlsw, -3sjuYVkiWZPkQW_x37Ngw, yKFmQ8rE37ZPCc03i9ZQDw, FskmxCtEip8gwjpMotvIfQ, 1Nd1BvPsgCyg5_biSJZrSA, scgj8LDtiSIZz-wchh3fRw, R7RbOGcoj386qUGc-oJtVA, FIqn_W-DbKTXW2OXl5UfrQ, pp4ax-HLbdvGCzTc0L1dlg, dC0brUBqOuG2acjpNYb5Lw, 42P_hSlGg0Lgj6wl9-eDjw, -NZzbQWUZDhoIjl7FGBTZA, fb27beGxhwv3kp5B5CQLpg, T6U7wWwCfVrIqAJ6DE87jA, tbmlt2GB2TsG5whGPgKlIA, 1AHf5XEAITYGvJNPD1FzKQ, ocOFYNa4JG2zdUnXzDKTYQ, 9CsGLOKpNKmYzaUMKrkI_Q, Fcutedb_UpShe3FDXJdZAw, DQLeXLdoj3N83dx9U55sGg, 3ZtI5EB3ce9mAByNl3QJ5g, de1qGBWIeS0fW1XGPxJqNw, l7sPXbqs-tt0xNc4IreexA, 3Wd5sQG9rxBcppJgut9qEw, Y1q1tQV-MRmNmXg59PPVuA, 6GfLyNJC6fq-5SkFacLSEQ, TPlHel4vQUwWuUb1WesiFg, duihVwxxVm8iD1NVPwiWCA, AdnYncaH0p1xX4Qptr2JTg, APG_9lB0XUPfnFtW8c2euA, JSfwSrT-0xg5vcmCXU5E9A, o8taQ1lGwnpHPNW9m8Gl8Q, mhBSh84x1Q3IQ44G_TUx-Q, O1gwXEy8CiVkOcTRhwQh_g, olSaco1RaSXC7FX8-RUDSw, 20gwbEbQ2YiZt-b_lBMFFg, Jwq1WTcGnofIAyyezN1DCA, UcTcInDXv1ir4n2I95eL6A, 1FIiSLfy8-Q-bP_i9vONpA, F09W4BN82-KP2QG5ENCKmw, OeY38rFCblxPjPZOTU5qTw, V96JMZoCyVTBcMLo6tBfJw, nhsvFzvflITLv1KzUYCY_g, A4OsnPxvbqkbWj8LTw6dAA, gx-rLLuML_Qv56fddsIkrg, fxfPnvlHe1KM3PwwiWXoJw, ic2GN2oeACfakY87UsNgIA, Q80j8uPT67NFIaZRz_de9Q, 0wdpaxsCLeC_exmURwqgtQ, -7niRC7XqaeD9k-paumoVg, ZSexQZocb2p2MH0LLQtVhw, WbJOBXGeZeOEzfNmpUCY0Q, Ol0E-A7fd1wiP1761HCtiA, -76T1GLruQ04SyJMFn6hOA, iAjYlvwZQijv-sJQitWDxw, RoMdD2QCJ24FwxOfNPTBMQ, MbC9tk151T2VfCigDvXKwQ, zUcEF4--1BVttP--QCzUug, qShUTjfgcFwHZbqpXwg6tw, Yl-k4fiC2jJyXSkbAd9qbg, wHb1WvbS8EGFfW8WLLyTXA, PZ8RQyf5nuViTh7W0eNicA, rNsgHVf64TkGNdhURs0brQ, 81_GF8Lp8OCQ9ClBxbjcIQ, peC9oY7mzKcHdM4eD9ivFg, maTdma8Zx8HSbStSzcYH7A, IXsxl37WS_mAMqmPR6nO4A, 1X6nQsT319S45ZeXZwbfPg, uqZKTBVL7z5OkOeiL8wvhA, 5mdqni3AgcJ6JZnkbKknAQ, idN0FaGuNgUOcEg1Rv4KeQ, oB1TReHAj1GnF6KL0yHJ5w, 0eMCr01NU2HIT-ZCVmSNqQ, RLwna6EsQCrelJJ_CMdF4w, ECperHcJz1OYdmcr2VQQaA, y-ylpizkh5tSgh7gJlef5A, 69XH8Oav9YnddWlVYUhhAQ, 8cRfVboGSLA_yc94mBwY-w, EKMum74wUMoNaNLPzW2aQQ, u1h3gkRQiiWIn7ZogDk3qA, lqYlCYhglgk4JoYmoQtmGA, yxsB-7F8wCJ8gsdboWcpLw, HrtzkY1_1Vs5MBGmNwDy4g, s_pnBPgEUdtjhIEt-e-zTQ, c315NCoNvWeHEGMXfZWhmQ, q0RMIenA9KFTT0YjtgqeiQ, TtiZMJkZyE8Honw4i98r2Q, eQ2luaCqWrtetl8aK2C-nw, 2TI6aBY7XeQzjW_0Y4CzCQ, SaLuzwzSEBlvng9y5fp-3w, v_JoztTm0cQpDFa5cO_Hcw, cOBfW03LYKiZSSU3f1A8cA, gQxXz8gZcI3PJRHY5XPHBg, tuEj3m__wZbIFUV47C1WMA, oQUVlhpB0tvyzzdbHSCU1A, rNL3gaeqfcSBzcOEmUqEHA, 3RCA560eLLTlBoWZDsNWDQ, b1jSyiVpJNLmLPSS0WbXdA, ZXFTFPEbvgjQu0LcM8NK5Q, L7HDxa902qQhkYbpk41OwA, d7QaDQh6vKJvSKQuQeFcJA, U-EPgANh0rYjspyAubfJJw, NjppReIm8Hof_FSWeTppZw, dVO_MMInwsXyUHv0mdhlrA, mkXoA5xQvo2dx0EHAtWmrg, uDGDBVbgmTYbtxoOtI_CDg, aaRtXRyDz-EWdwm87ZIDEw, h6k_Ux2KLLBrQtCIsxGXzg, StYQdEfYZ8LjGps3dkp-Lg, LFDuz7C2U-Co1W2a2B9dcw, 9tiLHVRQLjX-tMPlxgSrGA, F5Oaneq5FBTF_Wq3qHRrfQ, gvwq_aU7RB7T_Wjtf1YjPQ, zZkUkK9M0v02qHBCCm5zaA, 1dmhJRhGqrQ57q1U0CeD-g, wRLY8U1YPKbEa6G6SIV8Og, ni_s0VyD0XRC94NS-4TIUA, EFxUsGvwea52ewI6ygdRbA, DQkO8xnd6JUp3eehodUMqQ, NqBxzUN6ByA22GlVx94uSQ, gg_PAWQwZDrGtKx_6vJ49A, hkV_CrgjTeJBTAWJWAO46w, EKNksYUT3V3jXYG3nbIk_Q, Gv0OY1DRWePXV5bY0nctyA, gUKYn1gU2kWTsugSC9mIhw, -c4GFlUFGqsR3aWF3-FwXg, deZ1MgQGxSEs-3LbBN7m6w, Wnicsovc3dFzGbZxPV7P9w, FtK5-u4R8n6Bh6HdIPIlgA, FFigwLAAhscYpqemMHnVfg, q_QQ5kBBwlCcbL1s4NVK3g, RKwkYZOg_82sGSnj_7nLtw, 0BkddRbZL0AxS6PYn_f2sA, DJONLS6w3PSccMEmYKSKyA, Jdp96nuCYvrHo4YNFwMdew, FUjz6b4QAs9BS5s92RVpow, 72CdgJNB93O6lyhNPUmmsw, SlTAjMuK8NKNEWcdyQ-i4w, itCQYxlnjfnQPKQBU0K_dw, rliHBeiabUwzy7zdjtSh-A, A-ktB_d4T0MWZVw-YV3I-w, 9SgrCtJ0k7U0rxhcazaiiQ, eynkMymKjJDVdUsfIJtShA, oenYT77jShAyNvfqbZiclg, 6QdnQoWBHaorYoiHvIAQHQ, pr3FIm5CWgl5P_NaNqReLQ, OjjlkJX_7AgeJ5Z0OPKndg, cRbGZMBcOySvHYoYLb6jng, CAO-uQKqaCb834zmegPVuA, rOaoXS2ranIPDMmogoxcHg, DgLOt08hV0dwCKg3nGNGzw, dfMqoJD3kHMrY1KAUVk0MQ, z4Y0t5L2S-8Gbn3edEYyfw, YI5byJNiWTgP34hHxb1-lQ, OMKP75DEKRhU5sD_JFi0gw, OFWsupda8puu52NexVubuA, wTNav0Mw2je0KzC-OUksVA, jdWVDVdh6dDu7hgthzI-gg, vF4kLTg3W9dO4tSdXLWMLw, y4oMRaj5IPvcwJY5HBFQmw, DpjBtmkGpzh8LtX_1vn57A, aLiu2fGbcQMUw9eiNw-AEA, KTQ7l_vw84tEzSwvSOGm9w, ART0de0KPsRNeXGo8ho7ew, Lj4KIbrlZ8UiF9vmND2qYg, LW5X1xzxR317poYRK-qyhw, Bu5HNERCUpz_yqBgXrKqGA, Dycz-tjFSokl4ZO-FHxz8A, tsmqKG8Fu_lsVuRSP9vIMg, VcRiO3RYhzTiIrdL7_8gzQ, b3IUsYRHCcQdoWoCJGM2KQ, 7sxNZQ7IHuS-YKQR-a3FMQ, OY6OhyGyhbfBnQd4CYSuKQ, IbqaS3Q1x612Jiocv8gkcQ, OXpGHJudaZgrZWJBPS35Bg, FOC5dArAp-ZPzMsJLYoZDQ, BdoPpSj_LvxFetqKvpe9cA, Q-6rmcCdzYGHaPbwC_A2Pw, kFSwBhUfkzArjsqQ1rgrcw, sUm1WR-TyDeQBrzqu4GA5Q, dAbFPBuMbJ775Ja3z27QVw, QKlkG20gGZ7ovol0RQ5L9Q, aISCSMvsLXamoguZy89h4A, B5wk5B0hQukgjpBkS6x0pw, muBUiblxLTIq_iXA5KhPRg, k1Cd7lrfZEaQpIdDUGS6Ww, dtr0oicqyWcTZAlRdQxnMg, ipC5pbsw3sGQKkOX37_-cg, tOMKuiaqpqQPpfDZVz66yQ, dQoSRhtUs-X7er34vsxKzw, wJ-c2L2PlHwoXZUH_BUiig, V6OHfljlS0Weu1yTXAXvvw, kmLSylYR-J7MDK16LwR02A, c2xMVQz9XOES8k9mUkcuBA, 2tavUmNms51nE0op4pqUOg, spDS7HPrOUc3wCNRyfSUnA, ggU83b1PBu36_m0QW6dNJw, JoABwII4DUZSm_Ggvb5Iag, 01ehZ6yudnTUlCwW7r_xGg, fnJwneAe1ssUGCmtcV_cAQ, swUxTfJ96XZJ0ufmljJiXQ, h6PpqBWB_5dBA6Z6En2Hag, NhHB2wf1xbM49aYp0WGEeg, s-jFk0SPuxOTgRefoEVnhA, O68-LHas5L-b_KC117Yt3A, OBRh-pTZJMAeiV8kmYRUSw, EBYk847hBf5Gs9jbkMxAdg, EmUHQ1svWyEdksHnm17wag, JuO4YsXmcGQp8d_jZ0S2oA, PjMC73BLj4BfhgAw2TG7Dg, 8u7cbhLCIkO2o1_965YOoQ, U0E6K6QOb1XzAs0IPSkiMQ, iSdVt_xxN-n0goJV4-TIsA, d3rf5HtTsX9E_M7PDexkqA, lkMIEDnfJT76DJZmegvFdw, ARJMnx84TWM-pAudSzuYDA, JWfVJjIwnhk2XoWx3t-_Aw, LGUPaB3a4YSaKLw8pdlCbg, JvFYKQwWTJ3-P80Wmcy6iw, Zyrb4FHJGD0SPvcLKBKDIQ, Z0iHeIwjetHce2z0saUNDg, ciBWLoVpNF37S5NGrMctWw, -A_IilsBqWOffdM9v0wEgw, x11OQ3q4RJV9Ol5toZ0wkQ, pbo1ycfllGw34eREJmROSw, tfRFifsrcbQdZBTyQtir0w, vOwgWTLGsGF_k57tvVi42w, X2o7YitABpUWP5eIaNmtiw, vk97VVHn6HHj2ESw7jE-eQ, xroBj5J89ftnaHsUSJjuGg, VRS39jY2UO9vchUCqcqkXg, Y90ZCzEaPiU-tDrDqGKIbQ, DmXtKTyfX4wLqlYOUGH6sg, pLgglZKkv0nJfSVUTFH2CQ, KRglHV_k7kVmLjRcQsU9SQ, QdDnmWKb-elFcxqtSYPnFA, ZFTcKe3Os8-B3zEqkrz7qQ, nhYsvDpjPzDqn4tjdlqaDA, svKvXGcy2Gbm8tUOocuNWQ, 4w8FyRs_KQQd2xTBqF2ozA, THD2rkIALeWbhb3RsmGveA, VmYpF5C3GL-7wFnvOkhpvg, YVlUxBTWA3-WdNetYTdwjw, K6-zS_78ljPRiZUlxr73Qg, _pBypfnNCSMwOU6atNFA9g, wJs1WVWX3EPCMpdTJVQo2A, Oo2CvmeZm6AAprnxGj4UhA, uA4VxiWlx2JAddre6gvckw, gbMOdEeY-hCBUV0YLeY70A, 66x9PxMde8s7DnQDQJy2Ow, pOdjqpUJOV7N7EC-mE1FCQ, Oi1qbcz2m2SnwUeztGYcnQ, jTEd3ee-lZ5rWhV1CoqAlg, fRUH43O4rYSjXQ46NkYVKA, c1JehE_qeYAlRRcfOmh1QA, ydOR5gUfDBg6LhQcKj0vVQ, v-gWt58dzh6c120EXiIrVg, iCEywLTzIt2Op2NSXa3isA, Vp27qKc7hnN99yJVFYz9Rw, loYvUcSTzhZj3SOzxJuhGA, gx262ad7Ndkp8RloJUoqFg, JkBUhPsN8WkEE7F265qVbA, y-YQSpqFui1dvdhd4cq9mw, fFnndqt3Jm7mMt0eNPdcDQ, DW4qikm-Tt1F1DVJWgs_Fw, ActxnwCtpCGcG4eoftCxWQ, kYZ48tL-nCkOyggg4n-LXQ, FxuDifObogmez8ov_E-EBA, al2yNZO81rTdO1inDYpNgg, zICZDrYzs-FaFMnWyyC_2g, kcThkZ_V0-knmrpvzVf-JA, -K6xdMWTEKJ4d242KQi4Zw, xBZzs9WatWDiA8YiS3JqDA, QJxJRebeiv9ua4Wyf1OsxA, b-dgetVymXX5f6dbfB4QpA, rX68OFe4FjIOwf3Q-IHkTw, Rl2QnRkOMsGxKmO5xt13Yw, ySR9XVfhmaeaHUssJHKt2w, 6jDPuWtdqDkU4KSmrHuL2g, ChqSOqWnh9AT9PZIiVuv6w, gWPZ6Haxd4H639aV_KXE6g, t1xGmdKJkhuZcfvhsAZ0Aw, OXR7GTK96-DVxwSGL_B36g, vPqkPXual5Ag0evu0oBs-w, kH4VMHH6EjbeKOeBU75OUg, uzKEL-HPTdmhZkLiELIYbQ, 9uniMa4DrxzwNdXZfFdm-g, fO2keX0xyH9Ep17wIV0aAQ, 09_Mk4Mdr6cqw0TYP6FHXg, MJYjuNgczvDxh7hpZtqa8g, PXozASIfrPR87_gfDyn8Hg, C6VmC0dhZUqK__ecvomLHg, F3Qc5UQBkOxRaNInIt0M6Q, m6_v2DiZJZb3GCIT5Z0DZA, qYS1JoYZYk2OdcJiRKX-Pg, eypu2XQtxs8Ni5gRQJLb0w, lS62IyC864gXfEQEwoszKw, 41zKF-WDZccKBLG2Q7VYvA, B9oUiFJTFR_6eSMKC-VCWw, 4LWUnNLZzNG6M0I02KKsRw, axqgWX2BbwZVB-w1qyjTRQ, cHvgqyD_BP7tLP_mnhZy9g, SWKiXcheD-im7HMzxRxfxQ, GTS7fBHiTxXFzXWSBP8FCw, K71NW8AvyTxqt9Q9wViWPg, xxBR7nESi9Rt8_v_BLKhAA, pyK1NsV_aSeXY-j1vSzqvQ, 2xefCmSuC_FUM2H4RRs3gQ, KpAIMa59FydKqadTDBp4zg, rS1T130hl2oyoRekp7uWfQ, dw2Kqrfr3LmHhQwutKzgIw, 3TJcP0stfxjWGsLuGQgQdg, 4bu_GvtwrsBjeN-sUUZ1CA, 0beU2rN0ZjzFXQC-YQirtg, 4T80QStBE0oRE7E8NFy-Cg, TxGwYzYaKeT5xvTg4RaGLQ, iP8lkeDm4sgMRaWvnnBXxg, -njSR3hGNDrKEUuqN9T44g, htoM3ZzTac06vV35mCGhwA, S3wqbjgT7IEeU3e7hqhDFA, dZqcuNkFYrqCVlmlVZGx4A, _9ve0UR6uAPWjU2a7p8JcA, hBSA8iAu5plTpCX01K-iNA, EpftuKtBQUaKChxRVkHutw, o01ioyqzlSlX7CrLzBb5XQ, mFa_MI_oxZ-LKvRsFFjvxw, tjXIJJ5nfY2Vs1G49pAquA, sgj0w2140zqTycULVVoW0A, kMq1N-a5YaTvI9dN85DXMQ, LNPyE5X1K5B_flcTCH9StQ, DDvTFlTf2zmMTfVQOxFAcw, ASmdoQWRan5EIW8QOb6rBQ, Lv9M0Qa65DcNgte0XMMKkw, r7dZUACCCQFhYS-EwLiSrQ, E_SR0HC_VSu5DJJt3erfrw, TOWIWSJxqpb81VqRtujswQ, Z58-rEiZ-y2Qhuc2jNF-8A, QmHIoqARLSlj2p5VLF8lwg, _IQinLZcYzkTPnp5FU1IiA, ZmZD6Y56H7YM7zv18T4Awg, sQdU0Cp-uecNVnc49MLwDw, RoR79lWymQoLQHIKLqpXFA, Fbzk7-THPYvFEV_h62ZGfg, MrMOnJ0fdfV_eMT2HM_PfQ, EEwkePA8X4RFnvpTr5Y_kA, G1PObpFoe7cGprJfvGMxjA, hrMsC0osJAYX8yK1PXXgLQ, ICov4vNxnhuuiqbqh77-Lw, zeul4MqRtYWvybbDVD0efw, V9rwIjMzXkxmAV5Belb1DQ, PDEHrNedsj1AhOD90QeRlg, _tkRqmrGQ2oQ3CAxM6_pRA, J3ZMxyyKO0T1V-pVLsj1nQ, ayw8WxOCcsEdwjHb4I4wkg, qqt5vu9WuDtKu5vp2-ifDg, NHgweNqHp3pXkAeSVbzx8w, UYDJCW7CkREjqVSt_HA5Xw, QX24yFpn_aDN18Es9oswDw, 4n1S89sO5tNkWtCtyHh6rQ, TaLwLDuFFQMBvIziCz5RUw, YGHLdzuZ9kzReb5_SGShGQ, YN37N5GMhG2KgRBcQCC-JQ, RKZPqZrxU5vTZX1okEsm-w, PCYst--rkKLlHzHoupbK4Q, 6ZJrzoSXsqIB3pl1sU7V-g, AzM2l3w7my6prQtDohgsXQ, 2BzT-dT5dlB0z_gnsppjyQ, VnQNOTFSAx3XGJNA6FvpLw, zc7wQeHkJS5tliTg78hjJw, -2G6WDPc8dbCl2KGsKJdfA, XMCqpe10SNF4JFQy_kxd6Q, D31nFOviC-OrWgZQ25hYvw, ZpUI9ze0YlA6nMSHwx3ZYQ, 2cB3VodNYT9Yr8FiMCfLmg, MYzVWC0-2kVvHqAIz3Oaag, Bmfo84L4-ExHDQpn-ZNmvQ, QE8nn8aj1R7l7IxG13pfPQ, hKxeLvhaP9WtW1NnPNGSyw, 37cpUoM8hlkSQfReIEBd-Q, yQo_cmJQ7H3CKU4j9TpsNQ, PSiA3JAwQxO3WNVXJD4m5w, cptQglYDaqsoPj8PuOZEtA, drsLhxMw7PXEi2oZE1w0PQ, PpJ6kpbnOngL-upGdJLvSQ, Q85wXP89nZJ8k9kJnwwEag, LH0FkDEJbZmBcvmuoaY5iA, o1sNM3LOFOPrZZ551LVrfQ, xxL-DwwdT5VGvss9mCzOGg, HUWa0lzL3J6KNmqfIQ7QLA, Oq9j8ZH-3plr7pqQdcb_TA, W9KHlhMnjNT34-KyMkubWw, 9uwqqKUozO5BhBWjNMhIWg, d-CfO0lO4qWFt_UrVDfK3g, EEHqDWd2qr8Ts_nUdFVbeQ, H8UFVos_NmuhWcpsGKB8Aw, ARmwEIhLqKEsDspXiJf6SQ, _O_E6_UJPzrqVoC7qEeovQ, lhh3qE7TvnnFJDJAgrRiQA, x1kOEZf5hbkJM8j3XwSt-Q, gBNsLyLwMxUb4WX2Sr7azg, qKzyUec2cFgRKhLY7DHKbQ, tA0p4J4SCQ9y87Duf3wCTg, l_U3dpzEcAQsidVyPUPQTQ, 9xMBkkKghIr54xc0Tg5B-w, Bar3at_6cHUag4u2AzRX5A, VknUU_gF9HDPiODU6sNGLw, 3TbCnDr0KeB7CKb7U5AKUg, LH-3SpRJ7QlV_DvY7vD34Q, cFHpfQ7tr4OOWtzlXgDeRA, 80bhTVC9Ks1KlkmhrowJhQ, fVBNRXfbFvkzWLkOiyNzBQ, 9tav_Og2maRV0ZRZs_fSKQ, 038Tt3fNhn9G7xkjg2Au-Q, 16xIUxD8TbCJSOrBf7lnbw, B8k1tHYXgBd71TP1eBf0MQ, WJrBfOvAE2Y_MgtCmJF5jg, yv_jJFMnt5a-YFO2n2fMDQ, ZPDj0KynzjbdC8KHR7TmPw, XU8KQKnPnTWEB8PIiuuUSg, xywXoLnG7qWIayFu8oZQgQ, OTMf2wGoSDOAWTCF6pPxfQ, IjpxyKxLqVfmj7qmY8YBvA, ZEgloBlsKF2caOweGy6wzg, ETurXpf1YN2RBwzO-yEddA, 2nw3C7U3-eHo1XrP6Kdgiw, PZdz5MVUYAg_zWLL1O5Y_g, I2FQpojjkkJ7pd_IToYkLA, vPCBtUe4MDkUgNbo4HqldA, 1uWt3rL2GJiptcflQa35Jg, i6SPpQsnb1nxy1vVzGAQSA, 7CLxFpFuPq7fwTN1nwoNzg, wthEfIlrXQNO0B8nRBAlUw, y6zl_HjIE-hiVxPH8f0yyA, eK0Rgl1i9XnEQ42yVZTrCA, NxZdu2xZVIof68VRwvi2xw, rUV1FUhji5xMjNBpcq5SXg, mEXaK1DmR8pd9pnUTRDymQ, FQqDP65yqE5du2cQAWhALg, UN4lPQA7Q6F9hc98xtJq9g, 1VojU4JrvaFK8UYMTnzQkQ, jLOq_pbS1zRjJZLzdJRG3g, ZclOuVu6ZedMffpQMPfoCg, hTdKJcrDVtZofWxyLW-XWw, VURC-GOYgv3wtjkNWRZbgQ, i3C7zdTrhpDxs2S10ZFjag, KEICrWDNUGVZCXyEzxqsXg, w0YlnvEogLdPm9q1D3P7YQ, J7yd-9hN9yulUPJ4w-wnLg, AhEUk_zgM0Y0TnNXGd6fBg, 1n0rXkevJ86fiRHKEK0A7g, SXxO9vVjd4_u-khNpPUMYg, RD8dH7_dLO_0FU9D6xYnSg, znzqNyW2pJ0Q9wlqvu4YGw, RA4XqDfosRAERmQvsumdig, g2mnD1pj9ufRjVBicVJq0Q, tP-kyu26EMpIJag6j0Z5qg, VM6Z418-PCY5s81jorF4eQ, wCWp_WaUgelZkDXoREc2iA, WIhUXAn7ZtFg0FdOjvKsZQ, CRl3Eg-LFfxb2YTGjfpKnA, ubbGbHvjqix9-fl1plBE0g, nyV-b6v54CVmO6_r2AUcAA, Xp6gbDHT6tmFIqfY4yD_GA, YGAbjf1gVnA0J7s8kJUnzw, hT6l-5Nl7aMIcCyNq5kM6Q, UUqGHQFu2tQDGv5r3yJWPA, GWlOOcBnW06xBUO6vpfnbA, gVYxXTV_9lvvuu4o1Of-dg, SAk6q67ERgq-5kiK-Qzs2Q, YSb8JRyI75M8FkbYWLH4UA, 6Lz_sKxV_1vgsKNWhyLLPQ, dJRTAvuIUX1kUEIqFEuf3w, 2qaY-YdSfV4mejTo2RgxbA, CVC4uPK13GKoDjG0-G0xvQ, tPyXP1mFurflg0o6lyRtqA, hyE6LFCzzwjtznRfPephTg, e1Z8qy69PXdSgZkPajbHig, 24R3L-_Y3Wo3s0XG2GxZkA, L-D8A9Td8mKZvI1l5_nKvw, trrLVPA3gfDRSM3ZbCIGKg, XE_O3FgZfqeL3YaEmhlK2w, V07oNVXXeLUnLAXl3AgF1w, aVCopHCMLO8BP0zuvbeI3g, Y1c9hq9DDrALFVao87daPw, VzvlG6oXAvY89bURD1Rhqw, JapsODq2leyIn5JTgjOvkQ, 78lZ5I6A1WFyrTQ1aEqe3A, EBj4pEHlDWnYItZTP5aWzg, OmyyzQUdazPvKAS6AMz9Qg, AgzavLRKNcSiQMwk7yEy9Q, YM5OF33p70JUq8tI0qADFQ, Q5AWod_pEw161dzC5Na09w, oPmMbyow9CWs8f6An4kAxA, p6HUDajKxGSZlIdFCKYs5A, D9T_jSn90kSHaT6dBV-c1g, nBLuibi-dUn5l9pMOd90xw, COFV0pscu5ox3AzG9eQBwg, TjCS-ZDDpgp38DNKv6bhJA, qRqa-EJpeOlNH8FaL3uKtA, iguvFjVOeABwl1gcozsHsg, Ka-UzZFhgGT2BIfgU76dyQ, 0Hf85r3hTBO5_h4Ufs0yFA, FTJe5TIhWTUnF7ak8Jt30g, ZD84600Tw1WqeKpVuNiKzg, e05KY1rRbzt-OakI3I86RQ, qlEvuh3V8sS7yGSMW08Qzg, 4uJXindoZlYPawRRJp4LZQ, jhvreOViehq5zA4p2dgSVg, mV4lknblF-zOKSF8nlGqDA, 1jIn4eal-gIRxRz0B8_edA, atyXZVf1jx_l7cUkG2otgw, 3Hi5jy1yQFJkZbQpYHITNg, FGmWx0hFD-h3YuTEql1x2Q, ZOAJ6tt9hRhJNl-ICdgjBA, VWQSWUY77fyaouPRlS_xvw, KhE9TLrENrh-Pd73UDwlVQ, TKkmt6JG-r5soPmlCuLamA, zzMtE76TkkMG_Kgj6-Z_TQ, dW7QmI3bwMs7vxX3luIS2A, 4mDJjL6or5jeKJBxrUxTTw, Kf5PVQUdDvQYf-MXoeWqZA, quqenegbmesnD1nHZc9R6Q, PKF3fTh2wCynSm2i5DyIWQ, RIeUvUKJ5fzGxC01JAECwA, Zx65B4F4WYv9Azpfpkw7IQ, 6SknGLG591hmasAGNMphlg, y2J52oE5CsWJwWlJL3TMRQ, jnKAhw3A9ASM3Nn9wXdA6A, Z4P3KGSlPcYzW6iXV_WBGw, qrem7cB77ZJKMkgEit2G6w, Ol83uVUP_A6i9Nxy-FNpXg, kyGqWXeqhLWnxD4YMsd74A, O5S7S79mG-wcke6Q-GLmpQ, XuPTdx2xrV9lBe73SffyWg, eR6GiArl5dSUPkP-fjp5jg, 2K15Op1yYaa2cqE9w-zk6g, xMzXfqw1nDO53muzD4uOTQ, De2VS5Lm4FtleCffTDGq8A, 2ZtBCnJsrJZ-XivwIWkJgg, xZIS0iyY463Pxv9_v8GBTg, grkxsXfCPvJ5mBMI5ZdEBw, -H-RZ6Wx7VJ27kmx_Aj0Cw, rQ9rPGL7Wcr9t3S3Mm0m5A, TA3upannKxVJ-4gS87x5NQ, OYlCDEZ03lKDDIucQOgC8Q, fPVRQLcd0Z-bVzsenvR-PA, 90vXmlvgknv80grsoz2VBg, ITaxs592iYpJdPwyik6zxA, IqCyPV_Mg3M_CaWQyYMrDQ, _pE9wtP4DhTxlPw_fbwrlQ, DU6E0ry3tY9Hu_QJAcUlkA, kkb9q1tD7E1u6S_POUDMGA, xL_-eFFDUfh7OPdELDyAZw, N61hkQVfKF0GXP3UIVnbWw, zUa3yNmx50srypTM42oaNA, CDlnzDBknZHaL8T3fwVaig, I0p74B-gOmltMPObXz90mA, aZp6I5gjqDXpIYWoZlG0Yw, 2OTLYD6gCofuM4pfWWyB2g, cI7KHT3XcB1LiU8wRBoEpw, JaXogQFVjzGRAeBvzamBHg, FokgHC5GuMddOY-E5Qco9g, zag_RdqQwcOtxKhy_yWiHw, 0FOV-77_5lSOzf-87YD58Q, GJ8Rhp_ypu6mWA9bmeEuAw, C7Vo14RpRTG5Bc84l4q6DQ, rDUgAXiQ7JOBBLWS1BYNQA, 9DfRpSUCek69v98bqkRs6w, s208fvmlOBwsWq_cQAFGmw, mlp8gUPmbGqGhFdYNvoDZw, Jyua2Cuir_t561ldsrlSLw, ens7LiIE4Cs4RjW5Mz65Mw, wm61ALFiZ-7BCbX57evHPw, M_yYgZq-uNsDA73Ns9pZMw, Kh1aTOYnJJQfUs6xKUivrw, veYDLMt_PgP9Vm2T0B1EnA, Cb_qVz1_gVzSKcUa0NyokA, 1N4HNCbMIead4r_22jseHw, lVhcz_c2BQZE-MpltB1a-g, DsHkwKjrwl-RUxTvmFcO_w, amVt0he3X9PTExDY8MwGow, vMh9OFIFFd5WX2M1E8fyvQ, C7eEct-OSQx1TEoAMELzXA, MKDVsEzQK48og5S0MItoyg, pJHg-bdR2SLO_-r8FCLzEQ, Qk6aLX4oElfsJSpVsL7qzw, 8Cjy2hyEc9Xf0ncmRa1OkQ, r3AgFX2baFPV96gRGAplzg, A21q3ZenowJP27kOgnUsGQ, kdnn5aIA7sBbIOpMgop7pg, zm5rHl38Of38yKj_L8KVTQ, tvLU1kOukJM-U9-i8cZ0eg, ehKGWFe_HUoSb-coFZh4AA, li32PKb6HnR4pGXCTq9ZoA, iN0A6QIrEFYoSGHFaknh8Q, LqD6Zwyk9gtPKE65Uww0_Q, eUxgpeELKKSvvnJ3Cz68TA, dBwgFpXb91CKHiSYVyUWMQ, AqR9SsmS6ehOnWV4-gO68Q, EiT_pSuIb08oRn4CfwfMJg, YSRCCxecUP4zmBwPDeK2_A, 55Hphx_uynxCdtT_zyyDDw, BAXqpS21alyoX4-Z5611Hg, W8PCus77Hunrmo21Wh98bg, p9wO2VZnHARdpa1dOFfIUg, 2now5CYoT7cAzmqEvo23kA, 3-qAkgDsq9XL0W7G2-xyGw, 9pa8ipfAvl6Ht-y1XuKq2Q, ruKz_hc3oAqmX7PlIpV3SQ, KzazJnTB2nErHt4uZfhiTA, xjntKbmGuNUARof_EslgyQ, 8uw2U_qFlNWAbLYZ8VoTlw, AoQI0h3gvajBzU37LENNrA, h0TX3pcrn-0gyBWEkBj9rg, uPLU3ap9svvX8WuI3CS9ig, VNskK7HOSboBipchRx1YBQ, 6jYpVib2IG7a5Q2G6AccUw, a3GFpumABE36ik5cPDL8PA, vp1JJ74X9ja48qP1lZlAgA, aXbE5xBGWhXqVRcrgknSXg, dLmRxHX_bond4TbkNdCV0Q, UrxGablw6fV-52vCxOtsLQ, KcHmgYf9NddPRhs6JhNwwA, vnpCQWUF-BTuljYrAY49nw, RfQnYC5bUved-Svl7gJwDA, WPbOwOcrBT8WQ_NXfmimuA, hK2gYbxZRTqcqlSiQQcrtQ, wlWNPP84F70It_l6OP2_mA, 2oNfIz8SOcUIclduAKXlwA, und96IAAKIfaGvzV92DsVg, 3RLY4D7FvBXf-ASj-WELPA, TWO4FhgJJQkz3bUWp-kk8w, 97TqoCDwrQEHonGIlYMhBw, v5hIYom09aZEr_QTVRD50Q, vTSR9YOaG1q5HyDxtuXdzg, MS5gy05k_10R0CDp4HBqRA, FSfQzpkOripe90CLG5_MVw, iZmpVIO_RyyALF1Bj-m9sQ, uaKe3Or1Lbp6ooc8VFbUPQ, cJ8IIP9kSe4GefBXJXEoyw, rNTEsL8GxdtAao8T5UeSvA, pMklRHD4FVOMRfHvk1xrqw, mXuOdJZj4bJK6IOaVWRHZQ, w7RP1MZad3YO7Vjgp3s3Dg, sKHgMg-OLlcfP_BEZDN3aQ, oCYxjlqjpnW5WJAo6HNR0A, OV6JZ1M5ov65F8PWQzhG-Q, 9OWzJquTAFnCkDLKIOx49w, 6Ft1I5n3tKGbu5jGn5XwOg, d4UEft3BhFl8oQo-jlgbhA, 0QNRU_A6aruI-SrZdG0OrQ, RbPdGsW4p7RMc9V1WF5Jxg, 1bSo9vqRaZnl1mwsoZJP5g, cUTAO7xfjpRuOcXefbF2Bw, GDwRp9KXn56PhKv8-g2NsA, Ls2StWJi63YkwCN00A_17w, p_Hvwg7zgyldr9uFNnwikA, lloH0WufxlWFtFiq5M2P7g, fDAFjdMX93n2fUOib6_GWQ, 6kJFLAHV-tNsBEZaRTqEWQ, z6oS_YSXCKbH0ShvblTYaQ, r4RvHiChaTEtJ3s3QNVIqg, Ai19LmNyWslcj9jPp0JcPw, RM_dvs9GymqilwLCm9gj8w, AmMd7xpnaf8axS_roCBFRw, MnYfi2DODiZkLIwJFuwB2g, XD8zIa8e2JjDyEHKefdOLQ, Xt6HpFX-vtjfYBnYSfv1Fg, p-g_9CsSnMoPA-fU42FGSA, 3gRk7YgFIELBsoVzzla22w, ouODopBKF3AqfCkuQEnrDg, 4RzdojCzvJhHxyXGi7S8Mg, 5cBfwjuOT9HV2539Rucz5Q, cun967dZl0Q9nMwg_riaIQ, TYCkjEHPSJSnFb6m6GDluw, CSvgpDZt8i_JvThh7E9Otw, DcQFqJRsqBhvxwHHc6RBCA, 9aPhTC34PILldShZHzPi5g, GOVm1Ba9xx5JNKfMqcDGUA, 0V4Ra6jCmSAgFtCiORr4QA, h7cX02YMLzyobfZ7E-mg-Q, -FZBTkAZEXoP7CYvRV2ZwQ, WiCPJSERjA2bMEKA51DUDg, 61eX_jnhqUIWpJDKGReA7g, hpw7UrWf51aaWKbaGGJ2hA, 8SiTOg3SauqpqejFCS3Geg, NpQpqH6yQhnve2Q5aoqz1Q, ClwWkS1CltuqZBbuDKpjmw, vIuEBI6oTyNxFWkW0fQWEg, M8XMqVEhGPn27e8eDjJsww, TdCeQnHVjA2FgwBnA9lx_g, 4oVaNhsPu5ETYHowmXaOyw, cqW3sX5drpiazwnF4Ajy1w, mC3oCWEg1Im-flyA3xAxbg, Zez2Sf_vLT2mVpi66vuMIw, R5JpISmPeTa6SnPVU2VieA')]"
      ]
     },
     "execution_count": 63,
     "metadata": {},
     "output_type": "execute_result"
    }
   ],
   "source": [
    "usersandfriends = nonzerofriends.map(lambda line: \\\n",
    "        (line['user_id'], line['friends']))\n",
    "usersandfriends.take(5)"
   ]
  },
  {
   "cell_type": "code",
   "execution_count": 64,
   "metadata": {},
   "outputs": [
    {
     "data": {
      "text/plain": [
       "[('ntlvfPzc8eglqvk92iDIAw', 5.079486342023149e-07),\n",
       " ('FOBRPlBHa3WPHFB5qYDlVg', 5.079486342023149e-07),\n",
       " ('zZUnPeh2hEp0WydbAZEOOg', 5.079486342023149e-07),\n",
       " ('QaELAmRcDc5TfJEylaaP8g', 5.079486342023149e-07),\n",
       " ('xvu8G900tezTzbbfqmTKvA', 5.079486342023149e-07),\n",
       " ('z5_82komKV3mI4ASGe2-FQ', 5.079486342023149e-07),\n",
       " ('ttumcu6hWshk_EJVWrduDg', 5.079486342023149e-07),\n",
       " ('f4_MRNHvN-yRn7EA8YWRxg', 5.079486342023149e-07),\n",
       " ('UYACF30806j2mfbB5vdmJA', 5.079486342023149e-07),\n",
       " ('QG13XBbgHWydzThRBGJtyw', 5.079486342023149e-07),\n",
       " ('f6YuZP6iennHFVlnFJOXLQ', 5.079486342023149e-07),\n",
       " ('I_6wY8_RsewziNnKhGZg4g', 5.079486342023149e-07),\n",
       " ('q-v8elVPvKz0KvK69QSj1Q', 5.079486342023149e-07),\n",
       " ('HwPGLzF_uXB3MF8bc5u5dg', 5.079486342023149e-07),\n",
       " ('y4UuVowA9i3zj2hHyRMfHw', 5.079486342023149e-07),\n",
       " ('1WBxJ2r3A2QYfRSEzgcmkQ', 5.079486342023149e-07),\n",
       " ('-TT5e-YQU9xLb1JAGCGkQw', 5.079486342023149e-07),\n",
       " ('6bbHSJ0PrgSxh7e5nigKMw', 5.079486342023149e-07),\n",
       " ('4VmuXuSRhv5UxYUy3tMpiQ', 5.079486342023149e-07),\n",
       " ('pVU2DdtBFppBAX5G5t3rcw', 5.079486342023149e-07),\n",
       " ('q6QdLxYENKbVSo29ED2-JA', 5.079486342023149e-07),\n",
       " ('cWw606W2PmcjTZrwLq8Hmg', 5.079486342023149e-07),\n",
       " ('e9nlgxYgKrhE4VkwOo0LyQ', 5.079486342023149e-07),\n",
       " ('Fta-vmTJYKGeVyyhm9D6Vw', 5.079486342023149e-07),\n",
       " ('PamWn4FZwRiCYMdTw4lhcw', 5.079486342023149e-07),\n",
       " ('qmcTQ4RSOnKqW5eqc1CEfw', 5.079486342023149e-07),\n",
       " ('3o09Ya5VcRVMN3b2szZvkQ', 5.079486342023149e-07),\n",
       " ('2LbG-TMDDk3Dxt18bfOdnQ', 5.079486342023149e-07),\n",
       " ('B8z2bpAiT6IE5bq0o9FPEQ', 5.079486342023149e-07),\n",
       " ('Lwyjwmodkmw4b9axrMXXdg', 5.079486342023149e-07),\n",
       " ('61JaBatv-BJkzYol-ejEAg', 5.079486342023149e-07),\n",
       " ('-28RqJIrddOj9hhMBnzaFA', 5.079486342023149e-07),\n",
       " ('EFM7rmwvSEUbEGMWSNCnhQ', 5.079486342023149e-07),\n",
       " ('npneVvSxByo__wqpbA1lXg', 5.079486342023149e-07),\n",
       " ('Rm269GlzIZe8YINBeZ041g', 5.079486342023149e-07),\n",
       " ('dIIKEfOgo0KqUfGQvGikPg', 5.079486342023149e-07),\n",
       " ('q_QQ5kBBwlCcbL1s4NVK3g', 5.079486342023149e-07),\n",
       " ('-ySXNLiIspI4UC8Qn7xT3w', 5.079486342023149e-07),\n",
       " ('JnPIjvC0cmooNDfsa9BmXg', 5.079486342023149e-07),\n",
       " ('37Hc8hr3cw0iHLoPzLK6Ow', 5.079486342023149e-07),\n",
       " ('OxzkWb1Odnff0HniXQNHtw', 5.079486342023149e-07),\n",
       " ('Vm-zN8E_hAEMbd12Wy2bHQ', 5.079486342023149e-07),\n",
       " ('Xq8WEoTqNVUlI0pmd9cLEw', 5.079486342023149e-07),\n",
       " ('4SyBNegg-YH5iNTE-PpgAA', 5.079486342023149e-07),\n",
       " ('o-GAkbTTcHFY3KqVDCE8sA', 5.079486342023149e-07),\n",
       " ('E_9Ss4n6bVJmAe1Grc8-Bw', 5.079486342023149e-07),\n",
       " ('rhQl_JFkCwrj0Rb8HUrNRQ', 5.079486342023149e-07),\n",
       " ('RJk0mmrSTbJbAZ7WXXu2VA', 5.079486342023149e-07),\n",
       " ('Jtq_pKd7GVbXvFY8YU8kmw', 5.079486342023149e-07),\n",
       " ('mAhty2OHDTtLm00quB5Xjw', 5.079486342023149e-07),\n",
       " ('95_gm871QEoVp9WCofuQug', 5.079486342023149e-07),\n",
       " ('fcNU65OaCj7slBJ60VSQgw', 5.079486342023149e-07),\n",
       " ('n-QwITZYrXlKQRiV30MqNg', 5.079486342023149e-07),\n",
       " ('kxj7TPtJY2zbEjGV0PYfAA', 5.079486342023149e-07),\n",
       " ('4mjnkd8oJVCfBKN3i4rB-g', 5.079486342023149e-07),\n",
       " ('60RKNAZwY5EUooJf624aKw', 5.079486342023149e-07),\n",
       " ('sR3vq6nTP9s_hqBTPDfnmg', 5.079486342023149e-07),\n",
       " ('hHFl9Z7OlAJuI9FDXz1MgA', 5.079486342023149e-07),\n",
       " ('13m1o7XsVfSDESEPmkfXng', 5.079486342023149e-07),\n",
       " ('H0Dq_zK4Ceepkd1KdDK7BQ', 5.079486342023149e-07),\n",
       " ('Gzn_5ZjbrOylXBkxuySY6Q', 5.079486342023149e-07),\n",
       " ('wQKHAT2SvrFstHqS9Pio2g', 5.079486342023149e-07),\n",
       " ('73eIxdBLLo1PqtBJlkuoXg', 5.079486342023149e-07),\n",
       " ('dcjjKj_nJ1KF-AycxWuO8Q', 5.079486342023149e-07),\n",
       " ('ox0DtIS-AzUiVeGFkIvlMQ', 5.079486342023149e-07),\n",
       " ('SDxPo0gWYjp3pwAcdqCNgA', 5.079486342023149e-07),\n",
       " ('Yj90cDY-Z7zBHXKqLzcwIw', 5.079486342023149e-07),\n",
       " ('-6J2VjbeLWAHsyAB8VN7bA', 5.079486342023149e-07),\n",
       " ('b0fp-eS8_MKTg4tcZsCNqQ', 5.079486342023149e-07),\n",
       " ('HLaSqQMDVvlcFPGJL_kGCA', 5.079486342023149e-07),\n",
       " ('l8IP6fObyuueE0s1drIy8A', 5.079486342023149e-07),\n",
       " ('Vqgtngey014F0bqj71q0aw', 5.079486342023149e-07),\n",
       " ('xoZvMJPDW6Q9pDAXI0e_Ww', 5.079486342023149e-07),\n",
       " ('xzyJzjk5J5vweSJv27Jx5Q', 5.079486342023149e-07),\n",
       " ('fgwI3rYHOv1ipfVfCSx7pg', 5.079486342023149e-07),\n",
       " ('nOk5ERmYcHlJ9jff994VBQ', 5.079486342023149e-07),\n",
       " ('_m3SyztWE_ji0wLxsL2Ycg', 5.079486342023149e-07),\n",
       " ('sqJZt_Z144RWGk4bdKTpSw', 5.079486342023149e-07),\n",
       " ('opPpHVIp8SKHMJg3_y5Lew', 5.079486342023149e-07),\n",
       " ('zHseuNq_3b246ZgzcY8BXA', 5.079486342023149e-07),\n",
       " ('L1px4LQVX-zO8qw0grD1Ug', 5.079486342023149e-07),\n",
       " ('tFy8QQLH9z9wspHBB1fRiQ', 5.079486342023149e-07),\n",
       " ('gg4n_rUKo0m2LukWZOOssg', 5.079486342023149e-07),\n",
       " ('O5i-_fk1F3Is1l_3_kHeBw', 5.079486342023149e-07),\n",
       " ('B8c17RLH6AaglKN-jW4RwQ', 5.079486342023149e-07),\n",
       " ('MYACNxe6JzJyr0Ss1jxBbw', 5.079486342023149e-07),\n",
       " ('7qOk1bh79tEvdJ0qMu2KJQ', 5.079486342023149e-07),\n",
       " ('qCrAu3LAbj4zkDYVST2efQ', 5.079486342023149e-07),\n",
       " ('_xkYRPk7ha5YOrm6mm4bLA', 5.079486342023149e-07),\n",
       " ('exeizgUKHDl926YLRS-5Mw', 5.079486342023149e-07),\n",
       " ('ofi1Wkt-vV1fREaQtiBfKg', 5.079486342023149e-07),\n",
       " ('zouq2Ons0EjDtJJ1vGu0OQ', 5.079486342023149e-07),\n",
       " ('cx-kUXWTf90AHoPcv25__Q', 5.079486342023149e-07),\n",
       " ('_b9CQb4fPUo0sM0tdmhq5A', 5.079486342023149e-07),\n",
       " ('zulBnf95Ji1_LAcQKyhi8w', 5.079486342023149e-07),\n",
       " ('S2IHE59Ms_5S1tAgpSCrSg', 5.079486342023149e-07),\n",
       " ('ZdYHJ-hctaaDeH1CpP7-EA', 5.079486342023149e-07),\n",
       " ('BGKBgJCk-qyFpTYq-orgiw', 5.079486342023149e-07),\n",
       " ('ra0_P5KKYwU-imAVu_NW6g', 5.079486342023149e-07),\n",
       " ('OPN-dDUBkH7uH-G8nOnskg', 5.079486342023149e-07)]"
      ]
     },
     "execution_count": 64,
     "metadata": {},
     "output_type": "execute_result"
    }
   ],
   "source": [
    "N = usersandfriends.count()\n",
    "ranks = usersandfriends.map(lambda line: (line[0], 1/N))\n",
    "ranks.take(100)"
   ]
  },
  {
   "cell_type": "code",
   "execution_count": 65,
   "metadata": {},
   "outputs": [
    {
     "data": {
      "text/plain": [
       "[('q-v8elVPvKz0KvK69QSj1Q',\n",
       "  (5.079486342023149e-07,\n",
       "   'rt1KveqwFMnkN6dXKg5Qyg, NfnKx3z7zFottS3yHabw1g, H0jfY5R0W__smHIwYZ0niQ, B7ecAeAIrXg7sgmabS38pg, Y1q1tQV-MRmNmXg59PPVuA, 6QfkjPi0E2DP8n37CgJHnA, 5ND4p0rvTvjWilQG6Z8LiA, TKSoV9RFqhaUhZRg9UZtgg, A_Ftwpx-PXgo8y_WkCyJ9Q, JxbOYBzGdRhI1Ip9-chmkg, 04tkmJ-qZ9waV0t5n4_6sg, 2oiPE2rww3Ofw09aishi2A, JpBtLSlYXdrts7VGPVYflw, 4qzuqkYUrXWlcBImGp5oRQ, ISF8J60dilGeHKcLPlev4w, jVYzrVblDFSuL3GHtt8ZSA, pWVy4iCapVG-3DDb6celgA, aN3bpfDLsMjQloJ_4-P13Q, 2woU927sw2EM9HFFnuZM8g, Wx7cbLDqYEL3_aVZwh82Ww, -lLuGyseNbCXzhfYvOFJJA, y4k-G_W69QRMgbfrVqEBXg, CDsG_HB8ZghDmR91sDYguw, vUbBLitXfn7aeaRCOoKjdg, NC6tvKSt2mL8w8VN7S_EmQ, A3eAIFfkvfudRM9QeEaIJw, cGa4vDjLuXMZSUaWvnmlqA, TAE4Pf9T52wYMUfjis92ew, 1h1DD2hgfgud7V4NCE9mVg, nHoV323Fh7ZHSgXuNbDxkw, 28jl4Zl98ddSHxvue_KBcA, e0wirbsHLo8g-Ls1epPdiA, WyVh94BghK3ojOc9gKYccg, BbNhbZbPAPOIhsth4DdWWA, wI-g2UsyogOv2LtpJ4ek5Q, oORWfRFf8wnyo6gkghViJA, BidqjIJxDsJQ88AAJUSGmg, -ZzhWTKwcD_3TTLkZeRqXA, 6H4GQG0x5IX2v-nWvrT3tg, sKEFXFpooEsMl7wsye9dcQ, gT44uobf1CKKgxg5zLlHyw, VgHN3jAmsHgGbH85XRbntA, wJcCy8b1UJ5C0XSTtlm2Mg, _epX-5txP44x7i8zknEoiQ, XQXs9Wfd1_L7uVDIjBaJdg, P_zJ0bvns-RgGdCC2sNi2Q, 2sR35GQ-jC0CCAYXt2Godw, 5OIKkKF5fPniTSdJv78RWw, CYTJ_RxbtSI7LLKZ95enbg, nDyEOdSPkDboIcyBEYgHkA, CksR_s4mNuULDY0gwbRBaQ, S10Q9h_W-MKyog8IdcCNCQ, aelVPHWFKyfc_OjAzV21lA, E3dfnSs-DAQCw4Qf7J6zGg, RtGqdDBvvBCjcu5dUqwfzA, pK5BlSii9KS5_ovOkIPRpQ, r1hav1pF2_m1GfJVagQ9Xw, jVyR4PSFQDAmXpzDZmnBlg, HlF7XHaTXANjLbhTjDHssA, IxB8uybfnHxuALjnArSCtg, JOY8jc3hYxAx6vHjG0pQMQ, RojeuWOU_dAuHKMbNK4Kow, Bf8yk0xZhgh8ehWFqq9P6g, eSlOI3GhroEtcbaD_nFXJQ, seXTwb8kz5HRIKny2wdugw, blDEPiHngPNj-qYUYrZVww, TKwN4rNuu7SJsuA9WbURag, dTYO6-81GrNZbILGxNKI6A, jdhGeJvOLjRDsWKcIHIRVw, vPXuKul3kI4t4G4QgQ9_HQ, fQq-PBKARvUGfBnmch9Dqg, X4D391TEtq3ZrwkIoLsmFQ, GD-xwehQD3gTOvGmUk4RJg, fP0CUfc3SD5c_Y1lZu1VVw, 7JyF4a2Ulwypb33PFmYmuA, o2wOHahV_ZSWi7X-aA5VOw, QSA05SquUKJZnxasypxvjg, AyYKTOCL5qM8589oBsqbfA, gKeixh1jzbuhn_UL92KG8w, m88QjTDg-dYK6Xox6L-s1A, IdvKBHQQwUT2FpiZdtWX4A, p-Hrq3oTk-IJKf2vFHXpaA, c7FbfIkKsP_b-lQxRxv5YA, 4a47VWO-p7Xwk2Is60RGwQ, n8YKNoz1xJHJDe-_jxfbcQ, PjVUJl7XQfJXgwVQxWeCpQ, gBBaQ6_LGbFRguPcZFMDOQ, QzAmLGM7sD7rHBJg8ALkmg, pxSp4EiPpXA9r-FAtQ9HQw, eW97I1zicAT7Qv6j_Ad1wg, TknUHJrrsbPtJO9TWpgxIg, 3Gyy-Qtw6VsmDozjmu3IFA, 8n-d77mwiPjSbb1TntHsGg, ocVGNHZQKOGmaTEBZ1ITpw, OrV3OWnpYlSVXBf0QG-xhQ, Ed6XAdbOAx9Y_G-SMAGs_w, _nc-w6yOVYdmLsI57wRACw, XqK4uNkfhE2KbMBRghrZOQ, augJQotyLB503iq1gVJ_tg, vgaA8bqGtd2uYj3KuWC9yw, AZsFdmWhUq27BHGjKeNUMw, R0Lcd299zaGgAi_tpqmB2A, H2X5Rijv-W7twO47UVy17w, SYCCiFg7ltXnAXJMg1p-1A, dBSNeTDOoLKqq9yyvIKKNw, Pf7FI0OukC_CEcCz0ZxoUw, ywZyz1-jXkqZzAU-WJT8NA, ZUQzjdRrvVpBrSzVnCncJg, b0ekv3dDprfcXFWOHuNlvA, BeHXYL02odHKh7moZUbFrA, vI4Q1v-7dAgDFKtdtQiYLw, JH7UxS7w2fI6pNxup2y73Q, U39tz4YSeYNOJ_CMxVWZtQ, qF0zZHtqaMbFF3UePDCaHg, hTamvAysSLziudbhmUsH8A, NaYxTWiqXWi8ZwBtU7eO0g, RFIkhJBSfQRnY97vDnHnSQ, yfy3v_n7BWiGs6pTf58i6A, Xwnf20FKuikiHcSpcEbpKQ, DVrTzBruMKob_ktFtFY87g, 5im4B9HQjhKpxNto52yFvA, iY5KM7Wj2l4Kxrxak79ZwA, R2SXizMkOvk0KTRYFpVIDg, VCh1c-0ANnMN4nEj_dzWTg, paNtPIcJtA_7TqwC8q27-g, XE1qcdeK_nUHD6AkG9RYtA, qDei0gdB6KConMGnjGSfJg, hCwePxOlnC7vlkrZQRh05Q, xKlEu0Bz8yZUjDdRwJs89A, T2OjnWfeaZakeQlpqlxSQQ, rL1rSdS08VW1SURkgzD_ig, qvKzIPjqMHM8nANywRgMPg, un1p18Y-WzRnbYmTWIhLsA, ynMgRHXEeskwa6nRdKWzDQ, TOkW-RuqftALEh8E99UazQ, zmp5oQbN9V-gAWThHOLfMg, Omh03lUYA2ak32RdQv87Jg, WdRABBlRA-MCiO8C-0lKog, LD09FlM3nR6FbqYQOn68XQ, AmnSI2kXiyed5OPVVoqrjA, 3KDsQUkFa5_2XCXu9I3JCw, xbfFwxIVFLSKAgDZ-JIIuQ, FSSbzKoCcqnCvJv1QG8X6w, dnNXTy0eh1M4UmZo-_zNxA, qak6DrwR37EBa7OeT3RZeA, v8LsrRdGGniNzXtw5-Z92Q, TV5KY6-zSqyXnDKx2juIeA, ZIyBx1PgMLP79PWc1ibNmQ, p-8oWXtsAtPXSpW6VS8CNg, 6jxF47TF349WLQCK-oNZtw, lRsM3yr_CnF_HV42AuMZLw, Icw_1UFR1oE5UweAnnzqbw, Z09ch-7xv-S0VoXnvp-mkw, e_l0SsOgPXu3wvqvz2D2Kg, mAy1_88KpZ3Xk-Zm4TChCA, B393RKS1yuQdkiynXKa1iQ, YJROSH6sKgYaQEFyoreF6w, 2WpbLyxX36oyQVwrpIuxPg, UsXqCXRZwSCSw0AT7y1uBg, vhdw-eYQ-1ti5JBSGWoBEA, b_HEbQsDMAyv_vbalxuXTQ, 4n0eMAeCSvWRl6an5Z8OGg, JZHUtop1IOfJSdlSR8IF_Q, WG3w_73scm_JUWJ_3Lgn0Q, MsFzmAB-i4xYeawXnGR7rg, LUNa9bXZ7G4lXs9PySc_Sg, _Z8JVZm-ywG38haIKxMmDA, buS2OdS5fQT_UrXy0kswdw, 4RKq0POQ5jpToRkiiUvJLg, PpJlIMHeM7L6rhdvFFYYEg, MSHLx8DN5TyBGnGskmasKA, aFHU-JsptZSXaXKW1VlLfw, Lmao9-TJYor1KxYuX4AwHA, gAte0ZKM_uJwfdQHBrE3Sg, mGvVBHcG0YEi8epcDBJHXQ, 8Y8QGKe-Qz7crRXW_vT65g, 0XaQ6vvgy5pi5XAaz12mOg, 7advvmeJ90VHHozURvTDtg, AA0feDS2Z7UkOR1JKdVEPA, a_amzPmwoXWtL4eKhGa7-g, sgYjUinyeirKQ5aXWKjidQ, Vc-w8-7QIrrN07oveskT3g, 0o8HUzggoNKay9-ZMj3HqQ, 3wB-JjsUjkvdNUDRnChsVg, sJ9uysr78dSAz7VVpMdhIg, -Vrb0dmE3AxJuJ0dyVY4NA, PV0VEhlmhc2BjzMZEbpWlg, w96DMHYXiRtkftMj7Y0Z1w, nT45X7F7-wOLgyMTm5mA1w, -e2RPXS-436wEKMSxxMDag, 2bHSZhM0huV8LRh3YHaOSQ, jUtaYycgNE1XCdUO2RS6ug, TgW-w80-ketnwdUsjsAaNw, J-eH1fKKmDlSZYHWnoMkvQ, DTOErzkuQn7tN5o55B9ZNg, N4TxtzExVKNL68G0Ub93qA, BTu8xCCFc83VcslAf8if2Q, 0pHZKWkHsIhNtQAaOpafEg, CcRfRjqvHkMTWK7aU4bnPw, 2KnoduMAam0OkBERfv6Uvg, loiTFg3_APTGtJ6VsiiIcw, Xs8zIbrA39arHgSzlhaWRQ, rKM7YsPYAGtpOYzd0Wa4aQ, qGX30M2p4n5XnDtV3unTQg, 3F5ldEGLbR3BYJrPJNNfkA, CnNc5qcRH1Z4wI7yki2RPw, x2GpOshwwydimGikLAGF3g, HH8qS3R-rBRpnMhfGNFmpA, LOerghtJQMoq48MDCRjNig, jrMxBHW3SlUGVGYWvPsHWA, 8Rghj35OuBNI49RIgAvRqA, Do0Swutt1Af8PKUxJnyv7g, j5yfS1QjGwNLQ0h4_wDyxg, LiwBM-SE1vpwVjX7fVR92Q, RurNXc3bkmrwsky_aQNivg, Ocz_Adp2JGTakaUq2m04fg, FzAZ4Nd5ZSsJx6M321eqYg, wHe-OqXMvs6yQDUtKuFbuw, kV55np4sGJrQJB0n_cFEMw, Nu2kOyS4ircX7rajM9msgQ, J0zyjICS-Z5n62cT9QyK1w, vc9F-BWLxooluLzV2jAeMA, p9wUjnik7B9SANjDni_Cgw, AQADGj5FEHggCzgTLDPcNw, cxMb4rbPoqvnN0C0xIfiIQ, U7NLhaVfOJrHb9XLsZbJnQ, G3h8pIclwUbuu3itJqF7ug, qcClEpPb6iW1xvNHrDvL4g, F4OmF3ZOMNoJCpd4frLluA, iVm0UjuFeelUAxJtun-k2w, u-3VusvtH5FLlaZQUnAnJw, muFw9usmr2nCfp7Yz8x92g, XPyGdwAkcuDfuo5UAhLdbA, jojeMY2FBXZIYTGp7Y2L6A, TGSUM7qI4-VAsphVBaTufA, c6xaDR8wMXF7FMax3FxUiA, 8R4224hVh0NP6mY73dVAPA, wxITDGm7hmBiK7XPfLRugw, 2HrccHVXvZYPXRUXHYdOew, cufhYFdyrUAt4SWe-m0grQ, Oi1qbcz2m2SnwUeztGYcnQ, BgZwJBhVWKq1Urs4rKBdiA, V7qab4QxayXPu5snK_597Q, FpB44ccQnPntnZQmWTTKDA, gxJtfB1BNg1IZghMHgXQ6Q, FoZ6QIJGbd-2DZ12f34FtQ, t8DXjEXBr9_2Rn5SUPKzdw, FOvWgXp5L23vcx3RNl823A, 6UbNiZZwFyXCrmbq3gzQvQ, yr0L5WlIKrf1v2tc7IgrOg, yG6WtyaSv9dDnPZGKIBF0Q, 8Ae5cP3FzMERCc5pnifcxQ, mmRVIJYTNEhCDStGgirS2Q, UluVffFpjwHkwGpmxIRVNA, HuBgs7uHyUz7DzcaScZqjg, kRLjlNHCrdvDPA2FyHsnxw, LZwRtRSIR7Jv6LdBfqQyfA, p28aLODcqUTz7tlko3e9iw, _Oh_YYX6_HVhSRnCdeQGAw, pLS_vVRy_tuBnqy5UvrM5A, wO8ETDZS_ip9KA68Z6keHg, pMLCWPNK3Vln8L86yD0Gyg, vsRYTy8eT6YY_0NgWdA_dA, YwbzhZXbXjiBnE8aISusFw, pIaxgE57Txg3kMCxYpQX7w, R5hlviLotv1qxiEkQUPlTA, ZwHE01vJN7Zod17adEw8Kw, _h8yLxCCHnTTZ1ss_8t2Cw, 1nzuQk2bo89rg44wOs6iwA, bxjZ3RQmBYlzhNNSfTmZlw, HOwHGGm_E_DZXW0hoCevNA, ahh93S9jJIBiy5M1PVC1VQ, wz7SG4m2rBGHZgwwlxMODA, qolJVR7HE5vbvzQppINCCQ, ZyR2sW8VLD6DOxw1WGGQUg, agbynAfW-VQnrfEHLtwHsg, qCUF1Bw46qebwlvTlqHXww, 3cbEkaaC13_IPo2iKUYcgA, vmf5vayKMwPWAee9xpcHQw, RqqYDlCAUh-cWPpMQigyhg, dE9YaRaUtkDm-xJrW3BSPg, 5MCBLBxr10NLUKZ4AboAMg, nXhEQbAuaNugXpLj9pBBnA, DH1RJp2dUrq2U94-70HELw, K4s1syxZCtryRxi8MqYO9g, MRpJZdCY56ye9IlD_84H6Q, cqjRzEUUGfFVvNodtHNKRw, ZD_X21BNUV1vFfWHcWiDMg, tqPHeppkiAByeLokT_v5Ww, 2GAK4FwI1OYDza2foJhHGQ, ZuXfJebiCZTQAy-3p5YCgw, 4arQkU3temmIVgOKybJ8fQ, pxki_5AWgk2HskcKOcqOKA, ZIsE7LgFjGCdmCJ9VMHX9A, ZgYe5NVwIK78LAU_if3KfA, v6dvYJfgm1MrdYPD2t7IUw, l3PwucYApxLwgnyWSoQizg, RQT9QoVcQd9gnKhayD5cUw, dboAKYo-6jWm0QkoU4Gw_A, m57XZTDJA5FnOH0xMwUFNg, rYFr36_C27pv-J_emqfWVQ, nbEpeDTZtN8D8J8vvCS-OQ, LfCXoF1SW6HfVDugNY7GkQ, CU_Ldu738DKGD8n5Aj6fcg, o3MDwb-e1VjbyR67WoEKPA, fH_dw32ggjRwyUKjVm4-NA, e-I4P_38hHLs3x-PsfzTYQ, CbwJmOCldNyzO1nh9ouNJA, iUCz56fvzZtSznR5qYwYew, EOtfx09T6U1IaarmfmxR1g, HiXU4r3XC6vlJ7jEg7Berw, -0O2d7C1KFutGQmdCtJmYA, X-4oEzDAoVSCStcqZo2l2g, folrEgAZrAsVu8iESKIzkQ, H5TEwR-OD0XxILGNaewohA, 4awtOXNHyZI8Sd5YgMfM8g, k9DAL-PU3ITw64EmDsFOTA, ZuQrv9NkvEn3PoqONl_Epw, _jKKITc9obl1EmEQbUPqUA, XJezAZS3n7W-aWkkQvkYqw, RHQf4Ym7iOfozLAwic9viw, DOj9NanlJP3xntULCy5Uow, l17tR0Zh06LYFSc6FG6gEQ, oXl7nXFg6fECM_lnj_fYgg, lQcqeQ0nYhxHs2QMeFGwXQ, Px7Wv8upFSmB4660i9bOsg, Nu8Y3TLO-e58x8_WZyKf1A, 1g4LT1td9IygaM7APP6j4Q, 1_fV4V9Cq05As-aI7RukDw, pWwPOURdrfGr64wqIJP7Nw, Ve0LUwcrzxL7w0RYgY4Aaw, wnW6smL9AlTqSfnKYwgEiQ, LRvClMU0r_suvfNRdqE0ug, Tm8Moaj6lelnjPNmiB-d_g, CiwUM5slBPKiztlubzqbaQ, CmtuQZUXTRN0R19Nxo0B1Q, PeLGa5vUR8_mcsn-fn42Jg, 3Fu5670zY-oGGqf8N5ixRQ, xkM26UGl94s8OksWy2Dydg, SnMDxQ5tnBmJj4gHVS1yLw, TvPnSqHGeSvy79WR0GbIZw, cO1ZQiLCSWxmq4qJ0WdtwA, S4oF6j_b1mWqV5SvK5XMlw, Zsucq1c-sjuGxs5jZuUEEg, vRDPasWQ0MaWqE3Op19Lhw, YIk6u1Y9k1jXSOYqqNjt4Q, JJnDsuFyszxOS_UyWjTCfQ, Yvuu0gZkpdjrfdfdW0ijFQ, 51J7B4-Fv4YFcyv2Fv-dZw, pdJUrJOpcNXkbjcsxtdiMg, hrAuV7_lm4iDUMWGb2E4UQ, AoBIeUb1Vk1l6tlAifDQfg, 0Wcvn1p1-ezlGA6_sYEuUw, om5ZiponkpRqUNa3pVPiRg, sZOGhfMB7kyx5B9Wvv_eVw, 5jz-BicrPZGCp-Mi-oBRUw, ZCD-1Fif43ALxX2KT6WYrA, vax-HGv-Ig91y1-5Em47Zg, 6omYIh_HF-LkJLB3BLyCLw, zsm4IEB14VSsfDeWh_3y0Q, DLcP7LyBa_KBNzJ_ofLbUw, QOtEturTt15MvbuExM0kqg, fphEFmtmjafb65j7TCt5hA, -motpvSiTbUKG0l5y1ynRg, xgXb2fXQ92IWnc7IGv2eCw, 5tO-8NUJX5k9wF_F7mAivw, c5X1vxV7CbPLLGxYGUjs2w, uHZr3XbjKvRTwdXLXrFuvg, CozGguiwx7JEVk7cAwdvpA, TGslJNYtjNGIHWOjXe_6Ag, jBFks0gnmO0daEX1GyBKSA, ZHb7SVMM_1Z2Svcsx4YlFw, uGgp-rKHgWpBiQA2flvV9w, LSEb6qiuQyYu0PnKn5aPaA, H-Mh7JcGrpN7ykIMrl9tIw, TkjePbCEhJ3ZoYvHraPsnA, 3MJf8lAojG1QRLIl1FikFQ, wQxtHpZw1D2t9C-on7as4A, ha6Da-Mt4zZ7F9_LVwXjtQ, 03FWBi8ackcSksjO1o2GSQ, Mj77Ho3AbTYuuA92d56rVg, uKJJpvnchj5yGoyTo3mtbw, n6bjHqNKucxIppEzIF7hew, G-z6VzOv-6TJmboidvwgow, oCh_fZj76g6UBqkltWHsVQ, Hsfy3_Hn03BsWHgbr2Ebvg, zZ_wSncgj11otB8KkMl3Ow, Ww62u1XXumQMWdrDe-2VJA, D7IWDQrUrlQY9QCjl3rDTQ, pAFCmuqDWyLiKREXn3i66w, IkZ24T92yy38XuRaPqSKxw, rJ0KeIlydo4LbwWTl8rMag, C402DyMoqQ-4g8exhpNmVw, WjNQDpiqj5oHcb_e4UuMpA, l7snvWeSdoGxofRe6JIGjw, T2fKVLiztWZbEYEBuwK0xA, gUhtT4k6n4yjADt7jd-jwA, sc96k99aZlUrhIDMPzYfdA, -IxAxTicu9TXP-_HqctcMA, qX_U1mWpSKknGvQGuhut4w, JiaC0AaInMxdA6Nl8JVSMA, e3X3HhvndvXRnpevNnE__A, Mv2986Y7NVnvTLkT1nLgCw, DseI3nQk01cJZ2PCmB8s6A, RhJY69zHKpJLeME_IrZ8-A, 3r0TyM0LH1X6I1KtVgnYxQ, sJ3fXDIyGLMsKQ08Xlmoog, rfmRIR55ZRjO90oWPDdRwQ, m0DvPkOxUxciLwJ4lZsofQ, P0wENWX4LNg84G-nsqcGFg, t8y1B5tjlOzZPeP37Mv3AA, u7kmxocTMXUv7Zj3JkN61Q, q3RK8zKIgjOIt6wVMCIK-g, DuEHJugNqM_g6O5qLuvvUA, 1i8fovoS4odEkDkFjC-Afw, CrLEQZm_xfoRznGgl7ELrw, KYrwWAcb6yX-DLJZzxdXxg, ha_6oLXYPbT8A-ttu4WfTw, -DFCC64NXgqrxlO8aLU5rg, wpuR1jPNjmdMEK8kXipYmQ, pfzMb4ROIOzfdBj5Q0bF2g, o9QRRcHMf-eKDTyY8PwBcQ, QuqqY0tOUVyV17NilmKQyA, 3aDdScz--xm7AE5jiRE57A, EjeNnnZSQBxAKULRmX3ORA, QSv3GBIZ-z4dsMvCrEujaQ, cYnz3zoBcxA-kd6ETY-FKw, S5IMQL1N5ODD2ji5-uvdJQ, JsT-fW-r__7UnjbGuNbymQ, YSb8JRyI75M8FkbYWLH4UA, u_s9qts1DZU__pG_sBnaqg, BAm09ZyCIygB5iih92pnVw, Tq9tVmi8rZCmfqKJQIEJbw, WNZfkL4DBspueoGSUOMAqA, BIyo1Hf23H6EIujLSYzw2g, AE8nHSRPFlB4nh7CP8PlGQ, 7NV6kcM2Mq5qY1drWD7LIg, 041W8Bns4vlzag02Ih3nSg, CKWi3QPxFLiprTeR7lrdyw, 3csK1iRWPtoNTV80X8I49g, JFmecRLYyXDhgLvDx-m7lA, NZ5CvFZhNK1VivFi5tPt2g, ZsVPGtXVWCewa9UXMLDK8w, mH_vxQd4iLSX-ru29bbLaw, GmYe7X1js7ArVjFWP6-sQA, c2IQFYS1DDB_gVO3c2zO4A, 8QkYr9ftTna9oZTcjHH0tA, Dr1wLpdUSnGj_EO7HAIZxA, cVrM2BvOvPV0Vi_rC8kepQ, vSUEtwePRALUqx25_qGceA, CjZM5qBCf6z2Icmul9PgJA, hD2p1CFI7ZYjzjc2rVSRpA, hkSiQAfl6w3882JJQzRTlQ, rJFtMZ_XWaSevzLc_TSJyQ, E_GAXhVA1_lVC2aFpMQElA, PhlDlXqEPxye-sw-iBi2Fg, LSHe6afWMNyTcCdEXDnOKQ, 32Y8ZSJ11chiJJuraiVB_Q, vrtpXsg4OWwjKmd2P87fUA, Mo7w8cSOXwhcntbOvwol0g, hFuYkfDXDd6cu6FLSDO_Qg, skSrUPhvET6dE-tnmFYaRw, vICjSW6NEMAOvdq1k7uGEA, WQFkxrhocRNW5OPHfp4tbg, p_ISVFcmKtDwsjiVt4kcAg, WbhObUClLx0BmRhtfx0gNg, 15lpaZIh72pwP6lixe6jhQ, fCMJMDsUxZGBc3fI4TRCYg, 1OuMzfhk8gDH1fz8N_wugA, p7CWesCdgT2KIdcHfBuscQ, qVOFK_M5RR8EPG5dbhImzQ, pRUwTOTHtK7o4rREnUhm1g, tgrs5VQ6thhouiEtMU-N_w, ht96YcQVXop2gtVl0YXTuw, A9RKvWz-as6hzSKS_xwVrw, BqiH4Ih9Ouv_u6vMYqrw0w, lDN7CkuacXid3ombLRYNLA, 0dGi59C6bWFAzrhUjm_cKQ, gsJ44AzR3lnWJfnJeRn7vw, hLlbH2QbtVi5S0sNXubilw, zolX3jmCD8ktHOxje9xEzg, F24MkiTWOqRBvdYqmsMDew, V96SVvibg1Nn0xhpyzT3Iw, O_GWZZfQx7qv-n-CN7hsIA, QA4K9_IYGodlhim-dpVB8A, vSo1onC0sufySEWLQZD4gQ, HAciNxeuESR39x_1-mKr1A, lZgGf83NCctO5mkGWXcAlQ, j_sYdmfPAFt_YvlA4YBklA, anTwBga5mwuYRt5uSs9tow, qdCj3RbvjaHoSmkpR4pshw, m-NRBFdOa18ESaiBh8e4BQ, X9edYUh3I4MwVmF-NseJyw, Vct__D5BVLY3WkCCtSI_Fg, 0ot7-ihirRKwYOpg1tZTrw, OyAdiLMLxnhi3qGp-IaL8Q, GeIrStSVyOosriBQd9uAeQ, L_XLvNrxL3OKljbq00OJLw, vjZAld4njZs155muGhvZ-g, FAvqfh6psBPDa49FC0VamA, _3UJ0maBZqNx6B-ryTQTjw, 7mL1UBEkMZSV7c9re4huRA, QHITWBf699xKiAUs0f4ONQ, 2_YcHdQ3MerhbJwpt3wCzA, QwspLdHEfPASfW4eut20hg, VerygxV8YKJe7ZJWn8VyYQ, jxEqAhpWM3zFMoOwOhE77Q, re6fN6eb3NTL7hKK-5CYUQ, cyphrTOWbWSbKJS2XjsBRw, UYCZG4AzQKjXR54HBu2NlA, g0Ti8LCLkR9Bt6wYIafHXg, 0Ix18j7idRc8OD06oCwcXQ, uVxMHi-YrzmsNXKVklCxlw, dQ6dmxmrB10im_UhrKSEOw, refycixpdYC9p1Ax1sSXPg, TIeazEkCQA5os-quxNCXiA, ZO_1Pxb0GGm5VPMrArBGtA, lCdQU9n2pQ3enBGh2zPtjw, mcspOEE4eCzWUsd0X-Tp6g, 6GtDNtEc7g9RcWaBOxfqbQ, 2OfMxEhkL8LW-bV4Vp40iw, is5vAvanYvmF-28i9no2LQ, AG8U8Wv7IjP9Sc5KJhJb-g, CpZEkpyzKS9H8A-TQlR9QQ, FMgE6aHxcTh7d0dkKcR-Dg, RPrT8-YjQ14aRgJqZ8rHuA, wktMii8vZ0P4iHaOCDjZTw, jd-veodUaXfDQ53_7414Og, yoa61s3IdHwi8q5_gLvzaw, OiRnzvW40RQ6tqcgk4jv1Q, dkaBTE4ogdNisqxRmcvzMw, fl1XQYxi3yxIPNvaFT9-fA, znW9RhsyBE_xtrw-T1nJ2w, K88fXQU0uO1yko85k0RruQ, 84EopsfQPrmekSBQcQtasQ, DZu6tSvmy9KFX-eIkiLxmA, r2wysZVjMKfOjyLR-ryQzw, QPRdVqh_qtZVzIOKfqlgQw, aLD0aldJW3dKerPAuyHtkA, AxfLs-3fwGyBM0KJd7ttdA, 1kjQTYOuyO_D31fB4kPZvw, 4-iajgT9l-6TxP80y12Jxg, sqXHWa4C8zarwdxUuDF9PA, piwcc36E-2uXhvLUj_FfPQ, tkLhmLjvj6r13cAZfRWONA, DFjBlpkDKYc253lWimvhOg, 7t_-ZcUlNBPjK40TfM1bBw, s8gK7sdVzJcYKcPv2dkZXw, 8DopZSRlR9pYkPrxcS7zYQ, IWoiXJ78usdxnS43u_L9FQ, hiq7qyqKceiFWOTwUb6VMQ, cGHF_MdiYxPvrcFJSzeiGg, gV8M56h3EmiKz-wClg_P-w, 9WHF_oZfkIIW32xGLo3mvg, G7NYDDsGBw8XB7mplugGIA, JtjnGTZejClempqv1OaLqQ, xHYHgJq83qAkD91SD4WMDA, 1Cr-s2yiWewGyoaRqjJ6KA, BYTHJf7WE6HJKAfhcbLS_Q, t4pnSvRQTtwE_R8ArloMcA, bJQq1ShvhitmZMLVfidfvw, N4CPyGVoPrdPlyexqoxK-Q, QuaEwPOA0FPBn31r35cByQ, k5uG3uFJ7q2MmSeL_vONwg, lcXbqEmj1LFPdi6EON4t3w, EReCOvgJo4_jYaW56qCZJQ, B-SazvzvFqmeonv6Qe6r6w, rWxJKFRojGJ6GgU9WnXWHA, hg71CGHy9bwpgY8cGVVg4w, koZNzFgi9-lNt0bHjb6qJw, t9ZWbYd2XbbXLQdrATGMoA, zHi7Nw7XjKpNvd9TdB6hiA, 85JNDfQ0HwOYvY1LhVGGxg, XAhrMHiS0tjgcZDHYX5yeQ, PWhpJO0Pyr2x1UJW5sSrgg, 2AsLnTtS9J8O05w5MKiGlg, ejcUHf6iHq7qt0OMBAanXg, clPPtv-iwLUYKt9Xy2OLyg, fy_13gu5wDE0s9HX_Dmg4w, dziAn94vfG1pCgYlLBs1kQ, hUYzIBPLAT5ujg_pipp78Q, QnIrewrXxFnssw_gG1gF-Q, ryKgufwebb0es7mGddLH-g, uKK-zzi-m1b4sE9tcvkr-A, UiRx8jyS6H957ItwFsP2nQ, QTj11G4F9CbYQ7tKhnYCSQ, eA2TuRRKWAjAL_zR3Q8kqQ, yTeJx7NcW2lf3e0ym2D7BA, bNda5krdDrNEtUYMxzOOOQ, kbvrKUqzY0uWp1IqmvM06Q, PAx6EkkOO19tvNtjuBzVgw, yGvGbceX5l5djzhd7Kq6PQ, Ezj4B5x1wJp6LxiFJptbfw, Nukulm8uVSjn0zMWk_u4IA, M4Vt5VQESOURWwVqTGWzuQ, L5-b9b5FFdqj7ZJ6dbmpJg, m1IYrFif8u7Tn1VYRDmZvA, BxUKeMb9rq-mmGr7oJf14Q, WSwF2c0nIIqr0gy5KHNWFQ, cTA0xNt7i6bTAR8geI8m_w, kyqvhn4xQiHulrqOibDWhA, ROZgW8Ar0i0i3BWA4ynNgg, k4Sh-1_J_1B82cKOLAF42w, zm-ZYS_eXlwNqNnybLKvQQ, Egek2oD1fGzbiYVAAHja3Q, s55E-iE2AmQjUlmV2OwipQ, dXsIjOIMQbcrmcTpZ2CIMQ, 1TsY_wvCLQvL3mNHUcHo4A, oWrgKtsWMQdvw2S5EwOd3Q, w3iWJP7Ct1NJYCPYF2UViQ, 34Z0PGUc2_LcEYB1CPpHvg, jbGIMoecQm9zG8Ppmx-Y-Q, sIz02nAyQIrDtFavxZtfTQ, Fpi1EewUq0xOk2z0Jt95kQ, VH18dyRNF2zrJly76eMppQ, I3GUt28IyY4IO2XxekcjvQ, wYhofficNtE5kE7anu0VTA, FT-ygbbne9mmzYhEBVet2g, PlnW7asnCxLOTtydxtk1hw, q35pRh6jnBaTOSqUDWi8rg, m1yqi_ubMTy823JtUntBCA, KzagTwPd4xcccW75fgV4lQ, I7XQIPkHfmbCGOG6Rob1mQ, qFhLMK-2MmN3vDVAOM8XBg, a6N8JHlndWAgYmJB0IF0Cg, xh-Cf8lRl2NE757hmIeRdw, Z5_KJ2U86Xe1YyckqhgOdg, 1EchcNeHE0DU7rcCkZJbVA, kSK0aXzk6vTGkLpXWiy7Aw, xlzE7EJE5RxGpL-luI0vDw, 5ECtmLzrurE0RcNpmTwXaA, szUuLvEUeHCUIsOki3RmgQ, FWodOIIW9xWChxAjl7DlTA, M0Y3lcoX3BAj2hD4-yr_Wg, -x1516ZG5GllZiBjDQlRkA, WquwDhemqp8IQTYA9zuRLQ, 2PgWZ6Nu44AXKfGiBOjOIw, IMV5ICFhLEJVGp07egGeiw, 0AH6aXsgCCk3nbG3b7_ELQ, NZDyr0_Kqdx5QmWfa3PxoQ, DXh8yxwZCg5Ckj5kmDvKXw, xlT5MnoMuiglL8_J9vOvZQ, X_14Pe-kpmR_QiU-SRJvgg, l7zNh37n0Pjumdsxc9oDEw, ntspBvDrmT3okL_ayVLKTA, U4Uuqcm4tqPfNqOYx6HBiw, zAbk9LczypGpjdb3YXB3vg, xHng1ETB6UFGX7Vcr9Ef1w, fzV-0gh2m5anmq7onUnUtQ, LILzX_U_z-1RDsY63UNiow, DkErWCJfD6kF1-jGiB4izg, SXWGFZP9EfAEktNO3mtpzQ, jfhVZZl4w237XT57HID4qw, GYMIDghm2k7gSTpyKNid1Q, PiSJ0pS2R5LKvRcby6f9jw, 8l2B2t6bXUzmKt7QpAjpsw, iLsfSX_JeNp7HgSYW2nZbw, vD70BeOF2tjl1VcapsIAEA, X8XtoFBoAiHrw3rZ4v8cRQ, HduHfYjJUFjQUrrQ1Ets-A, CP3vEH-SjQFk1z7igp4-3g, HrtR_gijmNMthywbTtkG-w, jmIZRiDzRj8XgxBeFfrBfA, Ew7W4FpQnLxFYmQ8jOwjaA, TdipT0P_byRoqrYynLPW6w, ONQLlnU1iK_xkuXFaF5a-w, 93ThwvSgzDnpbsLuXQ1RSw, AlnUuE0s4_2kVODzFmBbQQ, y0EMHQC6tNHQTqR4a4015A, C224slk1zOUOMNF3prklCA, cn7cpKMIlGIgjGnhjh9AXw, ZbutyIWkOyyoO_a1MMUSHQ, L7HlyS_M3RE1ZzeGlCF6Iw, wWOCeITIZ-tkAEkYtJZr4Q, vavCigEC9fnUC_7-GSgCOA, qzQWcjQGJk9BtWU01_v_qQ, sXBnCnjJlEuzIx95KqkQuw, ySkZxKSRVs2gcd6JhN5rEg, p9zrlXtnWjgBIARylhDrnA, M5EfUfNBSqGYa1VeLDGB4A, PK3EmRHbtPxxuJuEyHnI5A, R3OgS9WdI3WuWPUBb0R8Qw, SWS0xWtD0MHDa88pNt80PQ, efBSr5FVqtW5dJT1weGKmQ, rQVwrnJodTQ3P9IC8OmvaA, jhxJkFzYX2tI_dy9S5JifA, lKT4U1-Nz0g5kMcKSiSk6w, mgytZAasaiBf-END4aZD9w, MByYNutOWC938H_-MjyjoA, jTW2PHloyNWPdYOeInhr-A, cqf8dqO5_QUxjfo6WiM7yg, YvBMIlwCY9Fgsf9HPVp_9w, GYLIjGosx4F-ZUu7MEl8aw, AMP14kl74ZmETwdNposPNw, pihUzlGRVyohhCpkTkCBKg, I-02Mz45H7siHsjjgVxPgQ, bn8wvYVKdcC8cCQXeA6XtA, qpOr9xRbSMmKzg5bGboZDg, HJQUikI7arFymAclOEx4Mw, BNZ_H94bMt1xqVifEdzF5Q, lKVrn4Jdh2Joc7WzpPBhdA, G08ooJYXO89nBNQ7QWaawA, ZCx0wfnb_JtD0ZcmT-K9fg, Rcxb65dtZZlk-HjBaP5DKw, p3heVCnq3M0H2LMxIuuc5g, UqkrP5O2ToeXRcYbp7okIA, AYQGK2AZkIPkrqgAb72Qkg, MevUlhwc0PIJdo5O3zTlNg, vtT90Q6QitvWAsipzH5P3A, hjo8gNMJgtr35f5m6MwSIw, qUZChsmWvaQJnpX2TE2ZOg, WubOk-_VVaV3DOEoTCD4vQ, 6Hh_ZVi7rdJqB8H33SzhrA, pXP85xU-xsPq5CnyjiwunQ, q2RxQN4ralRMPUX8LzR7CA, IN3FmtxapnqWUwa9APshWQ, PtveTjQI9FDxlLgegiCO9w, iB0FOdMo9hPUhLa5R4E0Vw, yL60onlTh1BmJKVLli_K3g, BdJVYqBB_0L6JYQdFnO4Kg, 9BKXXBFxys5dYLztPbQuog, q12n8SZUfFPRpakb8nFeag, NZOTHK7fVn_4L966mk25EQ, rS_OV4vl9rH61hd7w97Z-w, Wy1rla47qUr83YSQPXvP3w, jTwOPsjTOUGCpu-J9lwtCQ, UV000ImwJ_BDRBLubxUtOg, HPrVtUcrEOD1PN5BCpC-RQ, gJTohB-0fzIyQ792oHjMxw, xz6yTeUSTAsyhDly9DupAw, c4CDRASAWhb4otOPSmZiZw, Ws3FKOGCLigwj08p0483vw, WEjLW55qNXkL6d4kEaY7nQ, vrU29HTtkdh2_9gHgkiEbA, EXKDLuYoZUKUNNNYA7TlGQ, XgGHG7hj5Gi1APWYL5LipQ, tl7BzUtnzAj_r1WYFXLiug, SG5TAnKR2v9YP81fPvIH-Q, TsL6VXZPLzy_S3z_maTuPA, o5g082jeVsk7HVr7p6LvFg, 7ujGjfJlULLESAtcB1kQQg, 52oH4DrRvzzl8wh5UXyU0A, Dxlinyt22A-JgUjW3r7Krg, fu3BYCqU6PIsgC9HHI4pyQ, Tfnf6hjdNkW0ARqSHjndnA, 8nKol8j758vqED0KQdwuvQ, hZh969rawDSh4wmwdqVHeA, H4HPzkK0pCJ3vQqZccPrag, lGciH_Ej_ofLfu5T98PcyQ, CqCUaPsaYmqHdioLxCaeSg, LCD4AMkaFl_Df3j3YeDqmw, ERBRwGsBt0-TZgcuBcJp5Q, VbLkEPawzIPGWF1QiRDNHQ, LZ6IVvfitr_eFGxaFmND-A, NTYYpl3zfxqE5Dli2x8CqA, Lm0k0_OLu0gmaduZ_97upA, 4KDriLdMCPIXlC-yLEIrvQ, I8OS9Vou3FIGqMILP-U29Q, eS8Y5mjSaMPcdp2cljgTTA, VZpzm3HG_YXPHvY97m05qg, axtxQS0NeY8S9SMxlXM7aw, tHtNJVCveRt9IvFKmcC2GQ, WPEQXGtV-eog_3jSqyTg_A, qHbzv9WmGl3ITsxuqL-C4g, _kCPjPG1ISddtymYh4QfFw, vp8rk86fpNziz0ghCtIhVA, VgpMtd936y0LtThprIMWPQ, i5CY2947WlaCr72V5l2Cag, 5Bu5-1eSGJGGVDuP2U3GNA, 0LH1mll4w-uG-u44bRJV0g, jocx3ILrW4lIfn3jWJ45BA, a1WjTnYkyUesHb6gDixYTQ, ClwX_LRyd9Lmf39m5rKyew, dYgI6fbzpufmcbc26GrMiA, rKoNlAX-ARVNLH8FXTxBnA, O3xQttNxtkiYJd8PbB04wg, s-6Gb60xMIdih4gIq5oTiw, f5K81kHTFniTSJAVewcuDg, J80vTHGWfNmOiM4XU5_EKw, xLSTszQHVefHmgVKD0hStg, yxVQtw9aN6bzmoCw4aY4-g, DfCnfqiK2lJMViVcuxjO6Q, k7DgPgVyCssJIKTKuPnWZg, tyPm7EfK4lTxfDnCXB-qLw, wNmPSzW37_zDE5Bd8R2RBA, rN2WEDEJFQgQzj4z3E3a4g, hSNMUzk86SuPBVlVAqVPLA, fIfKT5J7OWnr_sNP7VKkAw, 6s26H2mDn4Rgvbsxw0GQDg, mta4GdbarB7Z9nVfxoTBPg, h6rYx1vmOt-Cm3lTuGVoIQ, N-paQBfMHKwbSGO9wGpwjA, Z8EwtP8-Ilx_ZCpdOPTA3g, LjXvhd-m9vWApjuDflh6Fw, w9gIR34b4s6RXSVPtRwIDg, 1V9VrN4q7GmGEY3hypnBxw, _McrRzAwJKlIAsBIeZX7Sg, MGamtDVpwIkZMrwyuxM0Lw, j3-sZwD7us4cIJQdZiB4qQ, TBOtic8s1ckCx1O0XId_rQ, Hm5PtShXQbFUMdsL9yJVGQ, Cjc5LyYnai8ZNAcLeyeosg, Gsd8iShe0T_hi7sAm6uq5g, BVLxEzRrnSDKMko6qTsvVw, yVcRdAW17smcGqBPjs3TYA, iIEWzikBabu5XXrNFX8RVQ, bdPdwasX2EtJSnniPdJ47g, 8I03UvaTLrAV0FB1EMhmqw, BMCeM0it9jneh9c5WzikUA, R2DCqBUafr0OcqA4hoE92Q, R9peHhzw_whcQuTs8LRFsw, SxLf0-X5tcfstEXF24q59A, OPtv-lFAgcddoUuHCcTHUQ, ZfwBuQTAIctn7m2KF20JtA, 4D4-1CdVJrFCMxEyYmXsVg, TEyl8ytmy2KoiHLAZk4HDw, XnKlE3aNCrT4M408w-jdPQ, uvYzmeegLOMrhXVv3FWAtw, nAQ1DCDPESTbKpZ58xmDQw, pni6Sb0Zil2qb9aADfsK-g, T7y36Mk6bWNV5D5zSGYusQ, NS0ViqKKOfte8rIYAOELcw, 5i-mCjF2o5u7NQb1QUDi0w, mvK1pv-x0Z5rP4Hz9cWBWw, 3eEZVXkcBcwnqXuHffyyWQ, epr2BCJPpSMvNcVvjZzaJQ, zASeBKzUEqh3WAkeT121Vw, R5ODoDS-kkBOv_RdIW_vIg, hFy3pG3uBnWbzYk79nntVQ, CoVs4RwcgEwGSIXo6-yGqQ, ijCBu04swpIO8sGC1ofSDw, 2zs2mt6c5plfyf6PdDrnnw, CRt52QUh3p-f5Z88s-MCWQ, yLW8OrR8Ns4X1oXJmkKYgg, PUx5KWODerm6IzdfemCbag, Nw7hfuYzQUfup1k_gWNfdQ, 5e4gHypPjeelfSOL6Y01vQ, tnrRQcaoczvlzEB42tY-9g, CXY3I1G_nPTQk6KSUXyWrw, dhMSQzqMigb5sx-Z-CPJNQ, yk5b-3XsIlFGhNpIdpIhbw, xarTWd_oJDj82VyVM39rEQ, MoCD_-Eh_j6-dI0V57hG9g, hE9FCBh0BPd2hEhTMNFp3A, LpIhqzoMk0H4WQnG_GbJeg, OMzQAdzm9cJusfLvJi-htg, ucAN8VJoiA-_ysMCgZev1w, qceo43uo8tu4vnL5Ujkowg, HURHW-bsdjbFxi46tDvKDQ, yFOhA0a7toBwUffjC68FrA, 27hyqoJVv66JN_Z8pduSBA, aO98X5th8GtVWTtWUsXB0g, NnD-RegFqU4FyHU4AWcHPA, 188LBFTZF7ZwUiXoYSKUKQ, hn1MDEFxtkunLPjvGtsN0g, PVoBdb4xo1a0w9uPYRrjGg, PCYst--rkKLlHzHoupbK4Q, FTO4z2R54xFhEaxbGPY-KA, ei_pmjzzaRUDihanZEipJg, LLbtaIr9GgDzVX4VxAHqmQ, 4k6KsD9cACAlLnEJA6cU3Q, lGj7s42BJx_Xg7ZgaO_dmA, 0iuWgNb-KbM8zY_xUKqObw, LH8Anwr7OSjF17Di0VoaWQ, XX4YxdSnB5WRP74PydBpNA, LD7HH9IrwOf2jiu1jReHxg, DRvEKbaHoSN7WSuSFnaoQg, 2uaD3oqEwLdPdlfPJNG0gw, gbaUHclx6yoxxP0Gv4uw2g, ovjIQRNC7xmAyTjkYM3Tjw, iki81fv_IvQ8ik9ssuf_uw, XvcQPAX1BkJfj3a4kG0lXQ, zh2zLq0AmjdCf4QM6dLqeA, GB8Ts1bKi20uPufp6b614g, nICbZrPn5WkYZLaZnjqBYg, V7uS5US4oTf-S9u36HJQCQ, eNgNNZu8M9HM3NccBhzyBg, sXJYAIzzChDi46ARRnGNIQ, d8Fzz6Ob0lcBewFb1OUc5A, XYChhPu_Q890eAApdmgZZQ, 6K7j8OiLChFflIrh95Pn4A, nWxvB7rz4_FkG1ATKQuy5Q, 4R_2IRQyfoeHhak0jhUZWw, q2oQ6qzpLnC0Ku1zeSLdgg, _zXiQ-4TOW0w4qw5AkPy_Q, mcSv7ii4MzGpm7lplClVDw, HAoZ23PLEeLcVwkIcvGL5w, wC34hIBq2rHCBijwl5-HYQ, 4pCccUOx_iBWCwtv-ObTBQ, Wmm4aFO-9shvGCGxN14Oog, CCNQuC2JRD-OD8B8leWLzQ, 0rK89TS8xqy1wI4nYI1wfw, 0_KEJhsgpzLVALP0wtGhXQ, rlQ45FAgCkt5253G198ZqA, 5R-7hv9rEMlPlLbRnXwgVQ, 8OIBeLymvPwEJjMoe-xp9g, jIZ9hSbuoqJWghsi4XVuzQ, bYf6vOOUaPcvTeSzrNbVVg, O_esoIeO2OY4Rp0yV5BYOQ, mjK6soCULVd2PFjs1p20lw, npicAO0BM9ngWRIgBcL6Zw, zh-hKSpfxe2hfGVzJy0xpg, 2T831jY4sLwbbDQP3nhoKQ, cYxQM_ZkOAFgivpR6P-Npg, G-mWHSm6XVp1oe9PN7NUPg, 78c_llOEjlJ5lW35bL137w, U6ag_rWZo4SaqFfZZ7ublQ, e-T8-w0en0VZ1EOIqIShxw, VeiCrZPfE9qJiZRfkkpxHw, uG35h72BAMutvXAWdRpqCQ, j0Vt_WtYh0J3_HUxsvE8FQ, oHpAJUmLa2UBlJdWFp70fA, 7zLo9lWuNCHGOr_T4JR4TA, dfR1b_NPegBT5PXqx2TZ1Q, Rm8-fxKLpNwDj34qeSQpAw, Kz_f6n9DpVinBZAnOHPHeA, b04v2r8jaHlKTsPaZJ8exg, NT_SovXuQIHNRAHPb8SlNA, ykMoOwslQwQ1zYzkefKuvg, JMpsaF8Gqy4UvDX3IIHFdA, 2r585qa9BIsMebWmiHk6eg, PEdZr9OzZ5rdxTkG5lgdkw, h6QDP6AUXnFlk9-ERM9Z9g, e-DgfiojWRjbyEjS22mJmA, nB0tpu6uRRZzoPyyQVp_Kw, KOAY-HiJR7VnNc1XTh-Lyw, u1_rQRTWdppoGHNZ6AGxMg, ulnBWgR4ay_NoLlP_W07Nw, RMGpO-wqlXEsQTa4s5zWYA, lAshBHp_LyDnEd5C-I9qdg, q_rup-l0WG7t6LpYlD4Gtg, YhQJlASTFXJQFC1e9ll2EQ, yFY8wveTclT1mRQxWAEewA, 41LC_pGKcncF7XcNw4w-YQ, Kh34OUwUgLGSRguPV_MPdw, MmEYowrsA4j3K4gc9Th53g, bSZf1byIvkBZ9rhqD-EItA, 5_O799C1r9RAL9fW2k8nww, vRjVhl3ONG2GfWY4NXJZbQ, zSZgK7UtuQQLCSEYTeADUg, DPL9OV4vNQF8wvrV89aPSA, ELA9hkyJrbA3TFZeyKm-fQ, 3N-1OsHiKvU9ZQ2dG9MrdA, pz2B7MGcEnH0yO4_J4OpBA, W7o-AY6Hpyb5WkgxwGH_Yw, i3MDO5H4huxEs1jI2Gzs-w, QdfFtp430K_-BP1GTPNnDg, KD2MMvGF8pz_7idF2urNyA, wruKmvmEHaAkXR-gm8dW_g, saDYN_zBEoNheolWPh5RcA, upOjrtlqsRI9e1Ob0iA1lQ, xFJ5Ja8y40CdMa1sfC4-gg, rMzHs5cxI_ExNOVBQuVqZA, NcIVAyjpdXVNomQej-bATA, kaT1Zxq9--9_n7ycxhADYA, Y8UTUzqG-JJGKGC0Fv643w, UfzPJTLY20rsF72lGasYOA, jDSzMndkrWzYD9jOf84pMg, BO0qKvTic8Z6NKyg7bOd4w, lhTHkMVi8c1t_V8B5MKNPg, 2UG4fIKOfBDTjy3jSAXgsw, 4Q06BUOyKYJNWmqouKeqOg, 1lQ7WMjqBifWEj71UplAxA, 6fSKNvcpt2VL6Llx_6sTBg, Ntr2fPtU_IFxpkepmimt2w, 3b3eaCa7QpU41DJMZN-vug, Bmal_-d1E8y1pz0Upwisyw, woAQrIYXALiotKay013WlA, dsMXGdyB29U7U5-elAhmVg, 16d9H0CLAL5x92POAYxXrg, fX23D3UJKmB7hvbDmx_GxA, DWbTrBhfh0kVRAYCreAiyw, hFFs6QvOcVdCLmv60PGVsQ, NCl-SUArODRtGcEnFHJOSQ, xPkrhqkBerFVlTqobsh1GA, Y0CKkx4QxN1_NFsmA5geWA, jkrqCh2jC23opztIbysgVQ, l5SCVvyPMWXDWZ2IsogzoA, yBIF5pxRQQzhR2d8jpccyQ, XAlgPQYihaK-r3ZsKNYVcg, i97jtFfeCfg7PANpp4WYmA, HqAKhMOJP69DU7NZ6ZFgoA, zy2kP-RdV78yKbF7eTJclQ, kZYteRqvLVVWMNcGgyUMBw, t4Y2T5n72rgPN7ozHmq7uA, X5iqs0F26AVSbu1rby0GlQ, TRmKQsFZGZq08lppipS99g, 2NWZz-DSe53qx-DHtkBMuA, Khh_zoydh8gcPT-rQtXFBg, Oa8QbpKSo2SBPreHO9FJHA, SBDikjNS44J6vElDbCSgjw, 8aQwYlL5ibrr9XoMrnsDPw, XbphkKOAUmc_cS_HBhQEUQ, S-B4bsp4hYpqbC0_z0aTRQ, kFwgYDCO95EWgnWLIlgIMQ, 3uMk5jCkvbIveB0BbGDaSw, 8ZltQWq5Q1C-D8VMVEUBwQ, CEPutBCpqe5LLw9dMiLanw, D5uMny1pAVWhNGDvFDPp8g, trUFnQXasV8l2iJSzZKXrg, TISh9VgOJk57S7Izfp6IrQ, kMosK2d9zLt0UjWmTEbV5g, xIL17GxIrVFHuE0cZNKQEA, S0KhozNyuA7mOTNPg91s5g, YRhwHXrg8MCisKdYMCNzWA, fmhO8d--SOFSrmMKoogX_A, 8fplxDoE06YTwMSkLGKNmg, 6iQF02aNgeOk8s8dougtKA, 7xum1MWf77uibDaSoQyFkA, Fkhx-4Gf_tPj-f07tA29WQ, 1NpHqzoBIvwJKS426-J0Wg, gjh7wuybkgCyMKpMNQgaCA, Rmj9Q6WZBabFpTRzYsUIjg, x95zvROjIbCqQiLcO6tFhw, ZOO3Iq-oPzu2WddvWBDCOA, uyEatuFhLs4hN2ECny2P9A, Ao2VYIw9AMKOTiCUwe_T9A, -aVxYJeDcoUuWDzoFN73-A, K_6UBbR3SvUXTQ6J9W7aeQ, pOk4rxPH_dKSG22l64C_NA, nd08jecqusgOxPwl0k1mkA, _Z7D2uGmvFGPlavLo2EGFg, lrx2eV_rzTCAorcgZhkjwg, 7SAm70a3UEGGHGHiwBSEXA, IrhF89eewnB3NcXL2R8GZg, xDDrstHBUe4vws0_Qfu44w, vhDXdBeje8e7xYIIFmbYpw, VxTeOElQlNTIW1FDg7zuQg, I_LZ1lA1Ek1WcehsNLoYmQ, KnT1G7_kSp04KizsZcdUAw, m7ZQEZmVrU35T59lWgIHsQ, 7zuRuBKovY2_q0Eyks9kZQ, RVoeHYQ61x9CJ10hIWqxFw, 80bhTVC9Ks1KlkmhrowJhQ, W1vZvhcM5kAIZ9xIAosFnA, 7DhwmWFGa4Ej9xHUehmFmA, 5Ujdrr6RwPMjoZskZGj2cw, Pjs5dCs9ChJUSVSBArJMrA, Uv2w0adcdzDm_w5_zHZmYg, 8PB0YtPbdedKfMGQZ18IlA, 0_G_LkSvzderJ5zQhVXYMA, 59QzQ3-dmOD1USV2hQpwkw, dnAomr0qnQolK3BevV4Uew, okNTdZixJh10W8v_Njeu6g, rEFFf6R4MmzvaR6OwYyFxw, fOV-c5SiQGxXQ69KA1qbww, oyXIV-9GRBBZrFydPCaR2w, uECwaWsyxxv6mY5OZjds_g, 6ce1NSAUt1Kr7efrLI8XQA, rhPurVl4MCCkvordlD06dw, Gqp_UDRbbfgKHMZm3udm6A, rplzMW65JoaMhETvkAKacQ, _4D8Uz6SzBenufe7_3obrg, kT0W0Hw3XiT1tHYKeq3f4A, fGfrz7mGoqsT_cvEgMc8Vw, s7MEV9vyE2jW_kE_OGOKrA, czdkuQZeit1EtLxse9LSng, N6zEqzLSAxlXclIdeF7Lhw, eIA8r-Tt33i4eyYcwpnXVw, fjckdImR7BuOy7F0GjORzg, GKf-pqSasx_gVv_hjfQaiQ, r3ov7FgibBx41_W74I1KiA, _gA8CbAXdW5qsOR9o4wR6w, ue5cLHxHoJX8V8AwcsOP_A, 8WKFwTWG9Qa-MMj_vPw0Qg, 5VaOUbsODRiqG3pGjYSnHw, GL-V4EMe8tUU2C7pQhVZHw, gHdJ4fMg3EkkNHBI_a-LAA, MbC307BAt8TBr3sY5RAj9w, zxF7vwh32ccSN3CbCMlalw, o_9Lm9wGlt-cjOyNYNJmAA, zYhybsKtX4QBJNOO0azNBA, PSj6DtfUWk05SlideJXgPQ, XmNdpYQUlqzHps4et3nulg, 9eKk90OB9wKDacTDyYvFWg, -rNBjkV3icUJlXeRQ7RABw, YeJ_iBpGfgi374TYPvgYew, iz8cTCWtKs6_yCyqBOwGFA, 1ZItuPNTHuCPZDLUPcHJvg, ZnpFjbNQXgh4EkFMn-2CoA, xAnSGMPkCxNIr-_tC7BeYg, aSwdqe4a3bej56spD4bsng, 3FTdQGS6uQfAqEbfNLbGzQ, 2H_-of5RQx-LSZ7qAUXkFw, d46ugY0_v5qafDF8EaAIQQ, Hfqp3EB9EZ7eBmTudSBuZQ, MOKG02vMLnzChSJKcx_ysw, fwU7stBHazg-KJZmQPyJOw, IJBp8ItnJT52ojQKE427aA, 9koMAkDZBr_Ucn07DAsfVQ, ULGRMtMyzIoMJxmMNW8yEA, zDFL0ZO3EGsIaXAwIg6C9A, A01ORjN093dtHvx0BuWYCw, veuMZqGfG0lSNgLGUKFKbg, -exvXUUTiQeHhtvpzhKq7A, Xp-N19LYi8WGayKF18UYfQ, iDxBVu4ur92rY90CC-8Sxg, g3DfIMyhToar9Nz1QBdS1A, ez24d08Qyqb7mCKEuTaifQ, eFxhnqpk_bXHxSdYZ5XAoQ, O3i4PB1xrWw1VY8iqseHHg, jfo-BpubgzjpbkSnpmBbBg, Ebh05hxkJptsdw85cDfTfQ, -QcAv0XWyzAJScEOCpC35g, ofG_dvVDH5y_fiRkiNcOMg, 5ni2bacPC7scIAHAb9DmlQ, ZZCNQQSTOUV3AFGoMOEQTw, nvKiEf6qmmF-E5zqmrJUFA, -l9Qi3AR42uRd1WTIUbD5Q, SAU1oT73aS-IovaRIWHm-Q, 2zlGZQV5Xy8-ukwMZgbblQ, JcTwRDVsPrGebIG8xBbv3A, AbQGilNni_VCzCVtHmUIyA, Sjs7B8wrtV0iOjGjjGWQsg, X6NxB3s8tfw2AZI5iHW13w, PhUqhfyk3jdaS0Xb619RJQ, RVSbsheLxpVlNVidOiv2hg, p9n2VmL-QJnNY9AHVcz4VQ, T_1nQ2UO7p43KiUN7ndk0A, MbdJ_gl7sAQcdvBkCVs8ZQ, cfNFEZ7xE6ldtY5ARcQVWQ, PkeDOqXbgEOkR-aKUHoQ_A, hLNayQpPYyH6ivYkuLofhA, qBAPE8XKPaiVi2iHVtdzKQ, GX04QgeBrm6IStsEfttGbg, 9cADNwDg7oQkXDDbGUO3BA, WhLq2HG340CR18ALdfaUKQ, uxgU5qcy3Gid6mLTXmv3Zg, 5Js-8knF2b4QINhl6dgtcA, jtPlhO8WIrXqnwlDaLm47A, Cg9Y1f_oXsWPP_4A9VT1Lg, FM-RcaTENaXVBTLqYBw5SQ, JdUAZYwzgmFoUDu1FL4WSw, fBrL7DNj8kmIj5zlD_aoPQ, OFZFVR8QOy61PEO3RHTcaw, ofeLGyYo5yACoVzahgExZg, AhzdOOgvtTBNZUJN5p2BcA, -vI3ValxArljdmvOTn2Gwg, Lz_wwo1EFL45ccvGKJ7baQ, LNPyE5X1K5B_flcTCH9StQ, ssw9pdkfzhj8jMl59lw3xw, RAeQit8R2rGFYKj7-RkiPw, vEzGYPfguL4K2ZMqN3EHjA, E0UEc8L5GMc3cWzs6imRKA, CGtLZd9WxjRQxZR0H8sQLg, 8gqe6Ajy3eHH-Vb_0ityAQ, YX7jkIZ5Z1ppqE8EjGBFig, owbC7FP8SNAlwv6f9S5Stw, YGzg_AOh5uRnYVHFNIuEYA, MmQZbZPAren9r9RJyttfMQ, ghYZ_IcP8fUuCNh3m-rGqA, NR-6b7PB0JgR9pVdDHZ2RQ, QyCFpUmpacEg7mZLaLfhZg, kSYCCuBj89Cdpc7yN_BHAg, UkIYB1hw7xee-nMXTrZtkQ, jwrsLpyl9sawFnRs3B4vIQ, R-WW3NJRI1jPNQqOb4LkBA, E9i80LuCXKMr6HrVfuObdQ, uEh3bohrTgb5ptAL2tWH6Q, ye91LBMS0DhmCSznsOgQLQ, adagBeRTdc_TtoYNyR-J8g, _kTMQVcxA7392yY_0yncrw, vDa2Q5bNNlbZA5SN24cnuQ, PpzliPkE_fzsI6r15UMZFA, XOSpgbzbQve5MNQ6os43kA, yvXEJcXRtffR2GuWULbRjg, dC3WoJjDnSOjF1oVywT7mQ, PJwyYfwsI0CJto1eYxuKtA, HXZox6rnDegmnC_t0dJdmQ, xZIS0iyY463Pxv9_v8GBTg, NjCWwTsHdKb10EjGR2uCYg, wnO99pBbGqwqOoTQM25iCw, DBHCFW3mSmmOEpONHVu1rQ, XMmAJfiKPkXTZGs5QIwycA, REY__nNBapIvF6O3n18iSQ, LoeULN8v7HoUyvelKJqEZg, PCEeX8Tg7rTP274_cg9Tag, 3xlBfGV9vFUmZapiT5NPfg, TcEbWWSZ1yUYuIUBULxV5w, w20oNBJ8yuJq3U8_aDX_hA, TPFmcLZwL3Udk-7eXHWmYA, mFwRTTDW0Yr-rFkTF2cFsw, I0KaRT-193ojpUz-SO9-IA, iDx1NCLBORSjnyXAwq3B2A, ChM7ZL6LOPFmEy-zxrmIkg, uuOEYpaBQewS1yN8tzdU2w, Z-zqou983XYSQh_STwn26w, _fnwcQLS7VyA8T5FyhHtCw, 51Q5V_XrpmcVn8ctfS-kVw, vN9XaRrHUbWK8dIrknccbw, CYwJhO60IRRgck46fGW18A, IO_H2257SoaGuwpY9LwUFw, RLM_ddOd89-62bSYBoPgCw, hlBjT5WITYsbJFs9nRsY3Q, y4FRqoq6dEayI2tlLM3Uqg, M7mni_BNPiIVoYIMotwQiQ, 9mdcqJAAUUsgGwvxRohKhw, 7Ei4dx-mqXQFT4O-Y2ypfQ, jfeeVbOzgDm8ZfYfVvRJiQ, a6oIleQwNh6OVxFBXzcE8w, w12vL1tRjNcsaUhjJ2jqDA, knCXLV6dhr02ECdKXB9AbA, P2epFHigkHzKhggZqb4hOg, VlUnabA1_1P_KMpQdIv88Q, phPuUWJNJgfMBpMJCqvs6A, vfNdZtqPc0l2ecxT7eRhuA, 7JpPvfDAE_14vA1xgFOFjw, QXXksosdR52Zt72RY5UxaA, Mt2F5uWbZ04ObR3_pExl6Q, X4s64eemnxtpk5NMBDiDPA, JQnXiuIRwHjB-sEXbu_W3g, ouJe6FxnYkZyzdJByhLXgQ, ZngF2uBYrqyFjXd6LvuluQ, Gx6A4kqfsPfO35wvIZYVLQ, Db80SCez0BdYaHdC0xmzoQ, roxewAQO_FVC0rCF0EpGUw, MHK9s1Rd8tOqdE8eNNo3Mg, 8bvl07qk2_eNnfHbcZYwFA, B4RNz76csoOubyznUyk1Hw, _2J3r3CBlZ0WTeeP_N_I4w, q_4hROexlyg9iGLhw9HVLw, 0Kz8_kEnQcnztdGrovnWFw, ZmlShUYuLAxqszmzf402Lw, xivNEtw9SPgpDCyMEywLEA, P-SKPOpjGXmeoAEZrDhrUg, n2LM24lHn0f6aeUI_JJYJA, RUIHA_H4c0GNxNerhm4gpw, 4WmI_NsITL5Wk4mgN4xRuQ, 8ceF7v8eeRVmH5RmWoTaTg, 135DbbQnr3BEkQbBzZ9T1A, OxtiTAWyXOKzFjVY3zMoqA, p99BGa4KWXL0rZ8SQqfpkQ, yNRdYkghcvZ7gNx4pAYPiA, OAulef5lIdJha2wgEqSe0A, sTa8yUY_yJl2jGdxb554KQ, 3pN9ztp725OpYK74sp00ig, hbjlUQaMJkQf-pj88__jvg, Jeq6e3dtkxg9mt3vCcIW1A, DZX8gYuOpgoUXAQFuKKgSA, vehNJlWk7F-LyAV7x3gSxA, ZPDj0KynzjbdC8KHR7TmPw, pDyptEUJ5hGyiXi5jhlZmQ, EIKa1xJapcV2wfVz2VbSOw, fQiJXOxIGWQ8FXwK7LmdIg, yD9jBWZj4i11jLHUDBwF5A, zq0wIG8uvPR1zjtnaau39g, nNMFgFUGbnfDS_kTrNc-DQ, psISCUPJIJZx8DeLr-ZYWw, NwVyki35xOcaxhMzHNtHDQ, 9fpECUsOcsOPVy0WXMWgjg, z-fK1Dp4y1ODvKBxUU6czg, VuY4nWfZVLtE6HgCaxtLow, pazeYPyJ2ycDiNDcmamntQ, 47f_WPZdFYwbwmE_4YunaA, p8k-oINtUQKxbQYcJbfmlA, gUM3mHwwogLnGN1e5Y0aEA, 1ibYu0H9uHrxKUGhlhtocA, cVm9wukTh2q41AGejfDWHw, HFZSDmukOwSoKtyBsPGeCw, -XZOz3ViFET3IZFRGFoOpQ, Qw1aPCUilGH8HXcQ05cG9A, fBBof4ISCYyRgaybvnGPnA, 77pXShGJF-2kxqi8IQyZPw, 16dXWqrPH0r1ptPjPB4arQ, JKVjgDqf6CFQtD4BWih7BQ, tK1XsoUodz_hSfVTDQjzGA, deyF2Bevbo4yJcRrFrKKbw, I5q561Q5UTlUqpi-VOoiOw, HRSLCyImknA9VLhtfa7Tag, 2YEsnvfvC4_fpT8YrIK9aw, RAgjPVLpdtUVlybHgquwxA, -sY2CW2w_Og0tRF6zln2jg, hweOoW6mOpvHlbg9cDxCXw, tV8xNTfe5nWqZu3j8rW3vw, ofKkIpXx4pF31ECp8jjdSg, 2dtANFXM9MvwYBwHePbtbQ, J1Uj8qFCBhP_AvEaf2d9vw, o5fO-VHeKSgYK37keSbxkA, 3NnPbhmv_vEfPTBp2pnn9Q, KUZjT6kvZAfB_HS9YrCuXg, 2HXzmRsuudk9k9UMRsILGQ, gkW2qPfcfAWbYyejZ7VqhA, yQwbwOjXiTKhU620LcvoOg, T2Qu0unUAcgkASTssItsdQ, EdrZZEfl6CHkgw-BjDcHsA, Yjc8YxfmJaev-KEn77SGZA, yu69zHkYPlMHsSBBGTxRUg, _ee95opWLnHPT_u38BY9WQ, jpTUf7-eNjo2tSHypXvPqg, UIXGqSKEo3if5g5OVd7-wQ, 9-yYlwngc7PjsAVu_k-Ugg, ON5mVLjRjBlhCH-GBcdLpw, 4yJmm_dsTGX1DfxaPCxxgw, Yad5X4QkuyjYNCJSCGx3bA, O67_GwXOecWY5Qoor6VFdQ, kq086jP3X-qY5TL2szTZXw, Yqs3rMdj9Q4_L7josKO9aw, HSiz-rO_OsdKx7NWXqTihw, v22Vu-9Yzdfxe1Vg7wTEQQ, pQLdSLur5O-tFLuPS1mqGQ, 4hexjmPerlF_1l4E3qqSvQ, vdlzXC0nHa4QVm0Hs2pKVw, 6xcIaj3_QKUOg3Disxaheg, pBOp9DQMMJQKlg4by5GOAw, 5Yz_xQ7IbIccVMpYBnGtzg, ZtXkAIUAvh4s39GtL-4XlQ, 75z9W54jqv3ngahQkcozGQ, xiXLFWGZbNRaxSze4TeYlA, TMstreNkEnxI0i_VvxpYBw, Mh-EFERkbli63djl_SwVzg, cz1TX8kdIST3uGiw4FgH_g, hqhM-gpy7f1qlPXQHsqSfw, S4nU8cuoAcUPIf2XdzXOQg, ZW_tfvS3tJA5AE5IDIKxHg, iW3z4BeKJjLoPAZeXC2E9Q, Yw699SbIZ9xAaCRgv2GpQg, srlAwL7dNVWYiK3qSXmUOg, UjYbaW1ZvnMYwcUTBUovfw, 2-3a1lAZmpFanWCxHkfhcw, tRDF1on0DUixYDqfviAO3A, y3jHyynTjbreqvMM6vofrQ, h3jt7wqehwNhXxc7tcNhKg, CjMOYthBBgV-pcm8vBXi8g, aUhcscNphAJQlZe1R_WRow, fgwI3rYHOv1ipfVfCSx7pg, NgvE2ebtaLPQVLwAsowFWg, kJJmEwgNgNo8uvdAFcCRKA, ZKdJglTyJqn0cGGKFOXu3w, oVyOBiN5v9QcQAkyokCr3A, W_aRFQhEPRFimP9nNN0E7w, m2Ki-neaARi3s6j21O7LzQ, frmGJjAEPaGWhBG9nxzzsg, 3_DkYdorBEo23mneNGahoA, 3jec7-dwqXAyS82l7-auDw, VUD2hINfEzBUbJxqewm12w, vKJ3bd6tJE0VsXlKtOPcZA, Oehc9pHqbIUF4pY1kZM5pA, od0m4pC6C37I5Eco0EHNnQ, 6rTHSXqbz-Fu-1YtBAalgw, Y5t7YHevrmsHYHStNfFHCw, xicKPoVo3K0Pri3x2bMhbg, 2AUNklKFt-GUW5-jQVrE-Q, z1aE5EXdEIY2MyO25NoIPQ, EMKS-j8tXRAt76HJsl4UxQ, XJZY2LuWybBG9sYA3qyPBA, YH7mJNyLbqp_CU5G-i4Sqw, w-nbjIT8FCOgRBoW6GmBpw, 7AzzVhp29y2Ck9dORXLGtg, _Dhp-hUcsoLHLiR1n-8MoA, 8YPnvp6qZgSYeU12SBlu7g, hkFvvGe3hvLUfCH0JdfbDg, l5YEhv4OlMPescMaVvK90Q, ACUVZ4SiN0gni7dzVDm9EQ, 0PficXDJdmXOiQ3enz-D2A, G6mdc6PJhfq4qnEtwyNhHw, nZhcv7BQbemMPjz_mcdlVw, ecsWsuu_5QqTnIA753l4Yg, SFpz2n75v5GCz4YKjD4flQ, I5TD-DdJvIrFwMuFp95r5g, KVJX58ly3LRDlff0ink_FQ, hHTQ9gSp4FlWaKKlsBjoqg, aD263WOD4RShoqgvVhcKqQ, HW-3Pu9XWUEqswUEWHkDHQ, -FZBTkAZEXoP7CYvRV2ZwQ, GOc2ycIDME_TXQ-ImUQW0w, iAPpaZRGTaB4jEhVssaKoQ, EleQKGrUDo_-zvpfOVHYMQ, eVUvBlU9_DNeyDd3K5MtIg, dgxQTFFpMVwcPF6lpQiTBA, F0snisqR579PnL2UsNotgw, m6OZG66JPXVIZRkqm6reDg, J-_GR-XSIolqphozf4K-KA, B8PO3z0Fy-FHlOvD2moCNw, psmNc_O5cwyGyFM4wySJ-w, xfYaqZgbPwQmrYkpUOU9ow, ajCBUlkRk7sdNqwIgvPh3Q, szQDt5eQAEewbI1G2kuwYg, KbJk0d2URzL0V1mwiq5sQg, M7nN9ZqeDOWw_TaWh_RgoA, DC-eUCITuotmQ1Fyl4-Jtg, dv6PiNojlEDhYX9w2Jtl4g, Egx2cIBOUMjfvVfKGYIY_w, 0gjhJz1pS47DfOmvL_9Ixw, 3NWJJzg3va68Mg4GALq4sw, I4I8jRlLqqyxwRb0yBkAHg, eu5ksQDUmeSdzslHWQwTXA, BJumHS_8LU8qobGKRe_S3w, YZbfmhKsWCqoq8P0_iFv9w, LzTCpNPcIeJyoWEcnBoFRw, UPyyAYLeXdU3-t502I6DSA, a76XohkwnNGxd7SC1VMgrw, kS6gd7McklTUkVwAbtMPLg, JYg8meqw-VdbNe-P_Oc0Ag, SRXAWZIjasKBhDkGtDjeug, VWJ8PSz6Sg5_AlBvQyGvpw, gAPKWMLbP9FrayBXTiRxbw, -ki-qIZHP4zZ2D49-b8ZzA, QpaTFRTZpfs4rjsDsIDWrQ, 11amb5uyNqJJ5iQsGRDu3Q, 6FmeOxLVL0DVr7KHBC1kVA, IYWxE89mzwtvuPn9AeJtJw, 6rUxAXG7UJ6vje_lwQleTA, Hqo9SnTFLi00syuWo22JOg, JFe1BzkltAS0HqLhDSvwPw, IJletdUvvNjV5B9OSBsf5w, 4CFOo6AU2OmENg2jWjMHWQ, 7qEvhV8Sy-VECw8kHyTk1w, m5ZWCkP93Gh7qzUVfpjajA, HA_UjpAN9Brh5WdtxHPBPA, 2r0L3KBF6VQd4aKx3fy--A, W0I0kYa9-qAvWJW92CjObg, I8SK3sm0b5f22Z6BW1e3IA, cBFgmOCBdhYa0xoFEAzp_g, 8lN2U-Rfk11FOZ-u-vxntA, 1jh3kDKXuF4jyN3H6fdDkA, EHtPiFT8BqwvldTMdMSiag, yDgBhl1QH-z7UMb6i98SOA, 68ovjAO3Vub-mVhpNN7FXA, qFu6JqjQbQbl63qZ6fOkqw, I_WhuKvtXVrkFuX1g371mg, 3fCb2So6bBV_EK8RUQ6cug, tN0lpNS8j9Rpu4ZEZ-KwKQ, LbeHQ0frxP6sJew2fKZ8fw, dX3hR2AU-3xZqAfdvnQwqw, AStTppA8-jqhDxF2kajwaw, 0Q6vh9xJ_zi6G_IuxfmZxQ, uN7B-Y3-5elyZ1bP53v4cA, p3X4_d_u10uiLbwwzQL2Zw, XlS51TcH7iak22sKTxel_A, v4CYNq3M9pfX3rPc5eeaCw, XBkGQOSDZrNKsv5KGiec1A, HyW_I_Xfah65zeRDHwYKCg, MsSXzoUyWXAVa5obTqTPMQ, wKmF01XhtgFj739gh1JATw, _-oTR-yaPtsgm5OGFFzr_g, B99rJaOMtkH1txcQhUl24w, Nh2xCqJcwAuP8l1Aq_r5Bg, pYSZIYu7oyCN8ibDjSIZKQ, cc0xKvJzyGbq0y8ana2Dcw, 4uJXindoZlYPawRRJp4LZQ, YkFOjXpZcTHRdt6FNQCvWg, t-nB38eHbeFuabXBdJMwvg, 7hlgOp4AYkKlA0xvx37MNw, UU9aCh4ZN2N1nfFXAiJz_g, QfG6xQj6GW23AeCKvcCViw, zG0CVWlJYwK3OywaWzfabw, TbVpbQvL9aA5CTWXXaD-tA, VT5jPDEp4kSf9Bwz0HjsQw, Y822YwOMrcUhgflVdzi6Tw, I3DarPF6aeBxPOx_92eZTA, 9k8pZv3HgWUHaiVFzRI55Q, Q5getrPigiQiXdpFeo6QJg, wbBwxh2QEb85RYm36VYICw, obN3eHaYQOiueB809MasyA, zvROD2htkqhc0nRAzGWYUg, beVmX3FcKP6K1Rs10pIAEw, arYeAqyz7m7LBw0rmQ1Yeg, ZIOCmdFaMIF56FR-nWr_2A, o7IOtMxNqOzHbYWQact6ng, R07Q1lB4bfnkRGEAwaecxw, 0lOSGSPpahLaJJKODrUTzQ, _kl707a3yaNwhzeEFPsPzA, xn4tDUBqmYNMVws4aDE_Ug, js6sOVcaV3PnLue_IEpwcw, DC0Ua_eK50ICmoI1Z3IZmQ, QuP_LXAH2ykJ-AwRwx0Clg, ywwsU25haUBEBk8XzE3Ppw, bBJCqT2aDtT_1f6s2IjFYw, EpFhzcXF9cVRgLodKAUWUQ, TbPxb0cZkcW1Gc_iZU13rg, cw_UXTYvfR30Yweh-jnF-Q, fh9-4q6a49G0tRBsNSPGHw, t8PN1mFxF-FHQc9cNfmWBQ, XsQ53pNe-72cyh0c3CBEWQ, 1wpZne83Bqn_ri7QVcDNDA, p71-l0fbCmBCP1mvxQdaWg, bRzr5YuEIncFzG6_vYSwcw, lT_l05saID4b_FuEiIBbWA, XIfssJFuMVYh5ehOtLyYvA, -TdnnNdi7xAW-xR7lcEXXQ, NTYF6CpBkLLfmm1jMAs41g, Pui1HPGa-LZC0s8e2M6CCw, prq3JOYIgX5n8crcAa6EHA, hwTu2ZpU0J6oGlIFVvXQKA, rsCGzmAGhJ9AtNW-wSohag, -xDW3gYiYaoeVASXywTPgw, 8EAI3tGH55jzRhTol2wcgg, reZkc5zyXLyx-O3bmDmvhg, 23wNTRDtDy0WhXrjTwwqew, cIQv8bJRhOrE0YHSWqqTZg, fnkjdhvRC20zWUjB-fwMvA, vQeJzkI8U6Gk1rS22K0NFg, NHDp--MWQeqhO0tMEjCczg, MGpHiGVoz8RrcsR1SAsBtQ, q-xvGLC4B_yWf2yJtnBdNg, hTUv5oh2do6Z3OppPuuiJA, V-w4_SEMPJpCnpQYU9tD-w, 8YT_sJaRVZrU0tXxSCUVFA, rhwkRZymEBiBTjGgh2_M0A, _kSblQwLU5_rug19G4MHbw, 0OSUuXJpKpW56TEz0a6ZoQ, j9vih1KD2r-NLlaHfZPkRA, J1FmDhSdMz1K9P4j5IzAQQ, dVlQCO4BxWnlxHOB1fGkyQ, QjvI0nUbE4FkGGw9hzoO5Q, 9wdfZc6fBqeEjp9xur9MEg, Xqo1ru1F7srvbUJaCNHkvQ, Fh5X-2Qo2rgsMTIs38Q2lg, Sdai6ywiZCa7q46ghuoVYQ, vOhr4PncEShAa_falHl6vw, H_cdSVdL-SGegdn5JqJVKQ, ygWVTPjHFtqH_Ah3xwG76g, cW9itslAnCq__8bPqE4SSA, UKg_iwakPkK1k0Q-mQRLZg, ENoEj7wa1z-D1PE50ckytg, EndVjTSvMWPEewMtg8u0Qg, eanq3D9b_F7IxvQc_6mnOw, ZWD8UH1T7QXQr0Eq-mcWYg, 3FRDgXJ_vBQ50J1UKMa2cA, -op9zxgn_c8xLskiJZwxlA, 30R8FPQSzQILhLAYpeKx2A, QHX3NxFAlda3I32taYzI8w, pbao2FW7uzAPIU68ea1okA, xVHzezCNka5ThEiyRRZdJw, 5hwrqDhwu6EjjDb753OD4A, tO3dSwVYcVJCVxBAc2DGfQ, g3OtN8WeIjXuu2A0pBBb9Q, gLqKmd298wqx5uUFshDblQ, AkIZlaQe7GUXttx_epYcfg, oa3GEjK95JJ57sYqtAOKgg, OOaQ0FxCSOXrZRowq73Wtg, qXhHMDYumpf-BdyIZI29uA, fRJpK_b0rrjpBgRZjvfvgA, tHdpAd45A-EvAdUcfOQVbA, C4XOS_V3MHFOL07QoZJrWg, a2YGSalRjmXSlTYt8l-EVw, R_ePuVLLmq9W-KQAEq4i-w, GhuMWMeqDTvKHJ-jEDH72w, RYjt1X8Plwayx0cf6aLobA, EyBe-64c1QbmK4GHBNuQlA, y3RLnCRGWcItbp6stojOHw, OWceZuM42Q4cBFZJP2YDfw, 3Z_h24o8gi4-e9MffnmS4A, Rqyopl4UX2Yuksn97yR2PQ, ckG7-tdMfxiukdA4jEnE1Q, WR6033peFiviFPzAV0yhJg, C7Vo14RpRTG5Bc84l4q6DQ, CDvhiRiczAq0M5pktyiyog, svdwrwuL9YHyF3rOgjbB1w, lKAta6C212j8vkL7uLgs4Q, j2Eu9pE22Rp_DRoSp3KgQg, X344QaqTE4ty24C8Ww4wzA, MtY6CCWYBreBo6hrNpQu5w, djxnI8Ux8ZYQJhiOQkrRhA, YttDgOC9AlM4HcAlDsbB2A, YwNLEnHC43zD6wSY2d-_rg, OTOFnHm5-kes8brKFeLJ1Q, 21_G22pBPgtpi9Bue0cTEw, 1mTwtjhs_QLnniVQN3iZiw, 5GFGyQzu03HZgbjBheNDdg, 77lef7kKkoOVupY-7AmieQ, V7LRNklGj_YAOIU5HSDzUQ, N26-dXhOoB3gHhX6meMMNw, XpJVDTgMze3FaEFi0bCMHw, D8JswSWcY-fznIm05Y3WZA, 1T-rePv-lLJDO5gVGFyfFQ, EA1RJyvxQabzt5B976tbWA, yx8vNXUL0D0HS8rUIC7AFA, 0cD3qzBX-jPynTHzg9oc3g, u4BNqWVSdGv0HZZYwSiufQ, mnc2mcLdiWK5l3aWZWLvfA, PJk2VsULok6ZCjxtkP3VhQ, GZSs3gYlfFFAIlRhb1DK5g, mCeBquP_yOxyrE9Yno3jbA, oVurP8wy3lKHDC-1CTo_wg, ydIdyGQyO8eZe0yqgs0DfA, V6mfsOW5-Mn4wkXNwtkxKw, Yn6A7uj9Xxls7FUNF3yE9A, DBMx1_LeqV_bl-G2mIg0pQ, 3_LUsftOY897bf6Y9G4R8Q, r6_B9482C89MQhKvthrtAA, HDcmXum8C62fUYVvexFNAg, Kjs_2iKxQnEbSHVNNMM0mg, zoi5de1rTiQax3KZ-LbP0A, r-PXZstljKgTkwdWvhQMmA, le3Xn9Mheb1hNxWurF7RSw, 9z2f1uRbixe0WunEwGKl6A, PP3JmEh_ixsyRZTOo_ZjIw, Za-gp_TRQ3K1D0kb8Qwm4Q, PqWGRIAjE0WvNVJ17Mq62A, VybwGYQuLBfSxF7AG5pcXg, vy3BO-jg1xDTePVyuPCfUw, MSXg0YpWkTC6oP_WzAASUA, 1VXRv9Nd_PsznzTyWgTfnA, 0dlEZg10gqswCj954EbvgA, zT3Xa5VA-u_wjBh479gqGw, h7l9rdBwafO63BUxqcMZqg, LcGXI4rHSNoXvYRcJ5ScxA, MEl4qEvnV6Vui5TFDvFfHA, 1ff4hQ__r7BMGanYtb4PKw, TwjiWvK0ZP15lzGC049oIQ, hcmewCutQRhW_IYq41CEfg, kvJN7kWB_DmAsoQ2Mi0ZNA, Cp10iqqbOWOmzgW-EmrmaA, 16_XT7JUdJrlg4TAwEXAqg, FX0rUpVOllmSteJOIqQy_Q, o4IpZwrYumiHFrYNngxldw, fO-V4ZTC0RCHcOUQaDGpYQ, baA8uBkt1zvupqb6FyS8mw, tmqDsD7ZqrA_BYI6dFHaDA, 2XBXYuRnnOUdG-pBzmKtkQ, 4SkjUHrVMEjzlB50RToJ5w, G1LAgM0S-matIPEAveZNEA, 7U2cRTa3L6KUOD05L-5gew, CIfw2DKFYNMrbkK-dsYDDA, Kr6OkY7bhUr377Jgsj3Hbg, 7slIYnqlDYrvF-dqDVSt7g, RbMta8rXN3nBaKbloDWeng, WDFDRmKp5Wu2doYSXJDeDQ, euehtz84cPglYCi81oW-IA, wDbNahd4N2bmgmtgXeDbSA, JZicKqXG2uMUKGk-FlczRA, 6pzA8EDhHgW3A5-rBObhBA, Jt-1_3VilSO4krIqk71AWg, WFZIMqctBkMzzBV6IV7Pjg, KCX2mwnMAljsduSyIzXAQg, gf6DLRu-68QQgSbnjLmJGA, ol4WxweKYfn2ncAXHrFh6g, HJEEATrmqbT5LkHfv9XgYw, BXjG6ljYq306T25Fqu71Fw, r-Z6R22YzCQD0qMwKbEA9Q, Mm58TZoduSwBHof3ORPs7g, 3HYMGGvS6mG0aoZohy0tTw, JHoVhFzGUlTN6A_NgZUyZQ, 93vyTaJgzQRQO4Zs9Cg_pw, wL_tb9Q25-JEtWJeW1J09w, ba3TYasak-mGXcXPiPFF8Q, 47Tr0aFI5cMYHUFFXLHasw, iwADKIkWiIYKqiZSQIPsYQ, iurqdzlBw5eQV24in91OSA, tjee6K21pvUvLhstXIKFyQ, bUHVZ3OswVLJtvwDECwGKg, -13RX4Gy_F-zoLIenWAo-w, 6OBCwMG7CwwpFJdLuhy1lQ, WDpvs6U_TCx4799oxXcnag, ql4ogqNGYQR1LgIGtfCxbA, bzapbb28xMO0NE9oRK27gg, XEMIP3q5MbFv6hw3UZnW6A, EhSqaZE_cBxr3skmg-f-5g, b8jHoiUsiALLRacLtVpuxQ, fsKTNHcGi3QNIVguYcRIdQ, chG58EhXagCSvub2-a73RA, b4Davvun4iKbb47bUNK0Ow, 4EvQjgBlu6A6JeJnOH4cPA, vOO12vDBWFe1_Iphs4muvQ, 8R-yPVsE2bHDrY6xORQ5-A, 1_114Jt7SpBhxctVawi_ZA, uEnP8G6jSMaaI0OnWj4rjQ, 1lad9hCBGpHAS2uMSrKCPw, FL2n5HIe8ZluLpeTJwJ3cg, 0gDRi8i9xps3PYQHVihB2Q, GWs9J6lIUqrySTxl6uXO0A, bJDPU2kuukmCjdI7HmRAxA, _wmfPZ-UE7UcqXUKZet5Pg, cdcO-5sO5I7-OXPt2tTh5A, WJ402rZZYPF8ctX7nLYXGQ, TA-wRnDB3Xv7_pSajJIUBg, VMmz7VNoLwCi6IuImICp1g, TcFRVTmyHYZY_KX70xDAkA, xvT2q0W8JPDAn50Yj0scXA, mNVMNYP7o0PCAqz1uWUnYA, q31EUrvDx23rKLzqtjRg9g, CjOQAU5AIpfue5-QeHtMTg, zdV9SNsPQ7E7vC1nWfx_lg, mp97f8V_6rx4Xep0fDBmfg, GD0AnaoQO2ymuLXw0P1PRA, J0cwjDJsYt4Ocbw0IRIwNg, 2VOq1i2KHpVV5GLUAYfqSg, kfAs5S1XGtZZyO0QCuXD_g, 9tpjq2BZQnqagBi-uaOeAg, jXqB4QsveqYs-swmYIQWkQ, qcGI3xJFkY_-qqfw-3Jx3g, 5-LONx6se-XXnoZFlEkstg, x2o1ofZkPms5MYmu02ygwA, PdXE6YNxzO8q4H0jxEf7eQ, NDhDMKqSiBc0L06jKlFnmg, aXbE5xBGWhXqVRcrgknSXg, gEtxCRxiw66qjdtSrDxkxw, rzp8IvRt3pMn35Ub3eS-PA, 8hkfwBcLeUfTq2T0ivN4Kw, qIIWAMJ_LwlJi0fntUpsjg, o1QAhT9-HOVzyso46he00w, ZT6SExiHk-kgoVID1eSmgA, Kr38ub29S1nU6Uk7IoVlOg, mn5-C28maRP3ysg3W7pCSw, _xPAwujLOvvOAq2wYc8uUA, w7RP1MZad3YO7Vjgp3s3Dg, dwmofvTZSTu0BMVMXQBX9g, OnGeBXTYpnOtMJBLUqJDCg, mh5Va2aGZE0uYQMKH0bjMA, p9G-uXu9iKr7lgAHf2SL8Q, ORwD5EVSZeFV9LfFMeeH8g, 9bpmB7lUBw1KSwQ1jgLGYg, bLbSNkLggFnqwNNzzq-Ijw, gWhCe6VmI56HfR2ALF5tcg, 1z15R9baqiCh3aWG8YMtmQ, 3fELjJEddkt6Sj9SiB39cg, d_jFqEuSL5PIH7QPsJrdyA, fy4vOa5DPVKhwyyqW6BiPw, 6IIrIdHfwPk6680r2ZABYQ, ZbTvuR-d0NNHy6N40QSwQw, cnQXH0wqMce-s8P5gnUO3Q, KOHMVDx-A0gEwcS1-QFdCQ, IZwld8_MT3ib9mv4vPCVgQ, W9I2L4sM97nF9yLbpRwy0A, rxMXbZSE6R67Ni0EGTL_iQ, fbqb-z8c6e7d6SiyM2tHPg, S5fC5lDZw7Epl_wyCQwTOQ, v5BWctqKAPNH3IUc1G2gEg, V5egPuG_WM0HaitpnmXFew, 1GH6Hnh6jLfCT951zmcUYw, 5cBfwjuOT9HV2539Rucz5Q, JyCdr4RjcOlCLKRYZk-bog, lUO6ba9f952pc-wlIpnpVA, rkdE06BbheP4gEhb3ooH0w, 0IwjuFljIWqyQobixrWdeA, YbewFhCGlJDYfGuNVxYQhA, 3FoLYfpw1aZbTbQEBrZP0g, 78j2g1GGlXfzdh99PGfjbg, u-b1ekU-sTpUqD-ub7Jppg, 6bwgPSMLB5Ei8gn_4JzfEw, 3gRfkaVcEWri-Ju7OQX7uQ, A7L0vneock0E4pqb6kCGmg, HReh9WcVvF8Rq4mnJzSTQQ, -enikl6EKMAPYJoq7BcEng, tRiD_GAxF6nM-OzHwIiwQg, SPiC1nKXY8mYZp_dAwK8xw, Dw_WE1QkJHgF1pzRM7XjBg, 0QNRU_A6aruI-SrZdG0OrQ, Cb66YzhBEA8letpkLlsedA, SfLEswYFE7T5TejJGNgy7w, 4bemntNU6Bjy1KJAecpl3Q, DCgsCzczEWG4lTNpHVsQhA, jK-KsCNgCF34TRIDmsolXA, VTR-U9JZ4PdLqqJm2gJ5mw, zfk0Rnse6fPKCpMYHdSC3w, hK8pYc3Og0VaFCTM6fJ1xg, yBuCBbFXP4p4lXwPg1mLKg, VflY5laxx9PlFR7v8GNoEA, WrTT4lqqOHcMFYHjgBFSdA, ppdWizYp4Rlvu20PTIdwPA, XtquGHUFmVUu3OXUB8Gtgw, jc-UuoobkuYXjKb_Zp1Qfw, gQFxuoXWvEPIakUGPomqYw, xWbw3HMpmMtOCFUNeEnL5Q, 0pFEhpL8NDbzG540-p3cjA, U3pUjfYNZZjmpjVE1tKboA, JaqqF9MPoAFmqxwbH2lkNQ, U9vzPwV9-g2qwH3LDMk3ew, oryuix8iNfXp7O-mv225pA, r4RvHiChaTEtJ3s3QNVIqg, seiYuTlYan31aBOIJ7z35w, 5hBFXfX9qQJFvJ8Fkf0rtQ, A6UFji7zQJe-q-EiZugXUg, 4rbQmwKZ555BxO19BxpNpw, jgDkUAJXUvTFxfBlipDGGg, Z_7o3tSCpYkvbDcPmrcMQw, fJCJoil-iCHi108Mny2Q8g, AJ7OBUjRaf0FZDq7VFxNTA, F4XhdOu8SQZzf3026UfjIg, Qs_MYKfkw4dASKgG7rWeLg, eAYt9b03B3tpz3USTU91yA, QNhglkR-K46hWME--n8lpw, ImB1QxTAz6FC2zpueQkvxA, c1c7Yy-F8RxngG20DlsYqw, ZIcOl9d1KsgfQE9JrUwd2Q, tAR2_h79Gh_XJHFBHXkZtQ, hNlq0BtXl4s_rN-jvKQBOg, bMK6giajaU2RuwCD7XZMYw, cUTAO7xfjpRuOcXefbF2Bw, XXqspxyaoS9b5SZ1se5TDg, gfR80SvOyWL45S8vPMZxNw, _X1reCPOuH-4YooWCxakbw, u6qneG_ib__7CpuL-QaqWQ, 70ne6bmd8xDPXZ_z1LCFgg, BYRWGPZNp0101zWka-GdaA, BfEm-HcWuDtzrnWUXr8zYA, 6JehEvdoCvZPJ_XIxnzIIw, xhNMsatQmQTMd3oIx05u_A, vG70gnNEnRVL2fMBvhhZ0g, m5BQt9HLSvSfFrcfo_VGiw, 3dr-hF1vQaCcqzkmcHRhng, GIDLh4DZk-j0-IfTemev3A, 2nis_qe_sZimmcDmpaSbrA, G9mGw0uCsVD-R_GyAUsw6Q, jh8p26zQ2EsIqJzufnXbQg, dfL7WuNF3HvDH1DV3EAQFw, h3q7CXdmUX5cisXHk3dkHQ, 9kWgStB4Zl9QRQ7rHTkinw, BlCn4HrbQCyR6vJRTT0Z1w, xirjSwnrFjF87rYT97EG4g, aVAdb10QVBGiNadllJYZ0Q, tdCqnYRCX_UCp7w3OQSSHw, R6Q9ciU4VYLuDZDbikxtqA, VS19G7pF6tAjzbYiAAsdGA, WVwznGbyNaIEeWxkI3RetA, X9GEWxw-1H_pGYgL-LjoYg, itG0qs8E0Zvnnr4OiDGFqQ, 1GsJLHGsAJIpbTyRAULt4A, FZTkBavnUWVQRK3ULOxePQ, P9b_KkQVxpToHJfQZ9hGJw, VFowivTCeNz6KoeHjX2MBQ, FmKGPsASJJAYceZPFs1mfA, 1po_dDPQOKC1QzqpagyC7g, E2s0553qA1KOVpLkLOdVVQ, hI7j6i4z3SG6QVh58RccJA, YvIHNmATZ8qWJbNhxXXI9g, VfHM5XFUavrMVqncH43pCQ, 8bo5LnQBHsUh3BaxKrtiKg, 3icymaPm-C6OOTXBMCGhvw, w57Yn8npGhdDHmHFGKk2jA, vbAkd65YSOJOT9DkW_QjrA, XD27p7rbMYfarSR-AZlR8g, M8XMqVEhGPn27e8eDjJsww, rm92EiaA7h5lLbAK5dJKcw, oaWfFptmll-E_BqGL75EwQ, G6DsO7ViO-XX7_xQF4Y3OA, DKFVR3rof_LXMbqO9N4-_Q, bUkj8njB8u7Ja3cXQsipCA, YX7KNp129kR5O0MkIlM3IA, CFT0gDzxPZAiNywAndSHMw, 3_hxOJYB2PqWpcAmvJXjWg, 4bEa92BgIGFASguRckjXIw, 53rq_bTpQOkvpy7VL1MVcA, 6H4Zj-c7FqM9mCsXvwaEQw, EPYNZQFuSKqLi-on3U9dFg, wf_tfgN1eBhKEPxwQWgucg, EEEwjPiLP5eHtDr9iiw_LA, iE8LYUabwsnCd7fTlF9N5Q, D7cfKzVRO3qXWlwKqEJG6A, xHft2o2T2lff2yd0bEQ1vw, -soqdQNpLjb1SzYlXnzKVw, 4qzUlhCihrVWdQAz3CgpPw, 5NrM6LjqJPRYj1zs6xHneA, gLtjfQKhdWQ5wvw8rvVOxg, NZKgAXB3weu9f_DQbiJY7A, wQtaZZ54z-Bfc3HUV0fpFw, MeDuKsZcnI3IU2g7OlV-hQ, YziRZOh5MrqN5b84dQ9AIQ, eAYyPwGQ-Am-sOvCHI8Hqw, teoOS0OUNyvKu65WN_aJhQ, uuiqVVZpI1C88c-1HUvKOA, kdM4zCje91vBR6ZRfQpKmg, MEYWD3nf64p3INCsJ5KOaA, qYIGDVld5kDGmeqbBZ4fmQ')),\n",
       " ('S2IHE59Ms_5S1tAgpSCrSg',\n",
       "  (5.079486342023149e-07,\n",
       "   'nPYOPK-Q99NaIz62le9a0g, qzYiTk3_lo_BMPq13dCvqQ, NTuvVb-ZwQ_rFn6W9Krm7A, pwCLlxK6WESOBsTFDYr3Jg, jf0sBqBL6uu8_SoLBahBHw, xh212u0QMBCbfvJOHYfEJg, Bp2c7RKeVV15ccivehFt0Q, 6HjTQy4nx5xeJ3_oP6Poug, tSDZw7bWYNdeEu9hptzoFQ, UoILDuB7LB6TkTOMEMwHfw, o5_MZwPJzzO3ly2LJpzCCg, FZbXVSa5IkFbcnx6om9-gg, Xn73tt5hjSMaqNc2PhF3Kw, uffHchh1V6gGstIoHdjAlw, n88vYwhYU29ByF8lbwkyMw, 9_luXsLW8ystzUEuRjjMVg, DWtETLW0gneCtVurWEU2OA, JogRlfh-JFUmT2ySoWuPhg, iXgrQ5cOSZ7a6WtL2CYCOQ, c51kGQvP3wj4jraTvwtUmQ, yxo5-2wG9FDGY94NRlrD0Q, wrgN-YwyB7jJ4AGrfwJcAQ, DQmdTN0Hdt0guXNdPDLXsQ, RA5U97bvLYyApmwujT1XOA, AKL7WxhILHa-06_F9rUKmA, --RlSfc-QmcHFGHyX6aVjA, UXLr1B2BShn5ugSJIopM0A, NDfK35v45PbGI3tBWmkR4w, 7G8w2SnaC-qDVQ7_GqTxMg, IknAnTLagl5XBGlfppLMDA, 23GA-cN1kadStGB831d29g, 9kW3p9xHp6jTEtaY7uKfjg, 3It8v3dNCncdOGyx_ZFztQ, OrqB81Br3xBh7b9vYwqHsQ, qsw21TTxzeJkdm7QlyWzYA, 3QyrqzTuKvCTL5z2vzLdCQ, GMWXbdLPZIBCW0YWfdKyxA, b6aIJ91_h9ICWvozF7toUw, JQvluFUPJmEQtmGOX6HtnQ, 60jHedtjw4DWWQZfLUVt3w, 5FcbSAvEL00Rrl1HKw2vkA, 1AfNUjbjEeNnEd0YAdeijg, NmBMRJZD7PpCRDphA73lgw, Fp-IzKKS1qHA5vWiD0NZXA, UwMkZ8mi8nn2k-qKv9rjyA, xsmOZoslECUR5I27TXmTVQ, DB7l8xxQmBPpAOiFVteiCg, 5HZQ0o28pek9JqU0efimvA, X87AzZ37c6giaSSzIO873g, fL1XI-dp-Y2wxIY0uFL8Rg, nodnwNCU1M617B-GkmXw_g, -ayjH1IeIXQ8UkZSVga0EQ, 78WadybeVjQgjbyQKG0ySQ, hBUZ9D6crnslLAGPQ8iBUQ, O2ksWG8IO-TSZbluB21iYA, cjKj-oI_0Zb8qw5VIL_TLw, 7xU12b_x0wSCRgIBVtJtng, 3fdr6Q3JXgr8oMPIWZ7Gtw, cWs2oNgsOdn-MpodGdbVdQ, VHyt8gP17LR7QVLFZmpzbg, tPAahbaDLv9WIlVzzwHtMw, 9joP4f-ftIL2FMftztdZlA, CNaaizAUc2c4WIb1M3BBPw, gUNaM9hHqFHdeYdYBg54IQ, Pi6hISoBaRGaTynLM8lRXA, fsskgcdaSWO-6MVuTduJ-A, dIn1hhy2FVulYn-rewAxfQ, aYsY4ONiHSsxCi0FLQwx0w, JMtEK96ebf7wsKNym4CpEw, azI58jVJCf_Ljb18tVKYNw, Qdw918R9Qm4fbd0c81DERg, lnEKymvKdpxotJdHmfx1Hw, hEVrSRbcEPeRG4YDLXPPIw, THP3c0R0l5Pz-O-0GxG0dw, ofeLGyYo5yACoVzahgExZg, gGivj4YC9YZz3NCTPYAieg, 6lyH2VYkZu7Vmu1xU-TZJQ, 1oJd0DnRHPxwgoDK-prPfg, 1jIn4eal-gIRxRz0B8_edA, 1AIBVshi-MAQeQVEC5PgeA, bI3qT9BaoyqpID4bGtu74Q, 7AzsXErYvZqevhfMNHLXKQ, _Rf1CNrZsvpKQ6FQu15O3w, IayginS7vkAPFTeGeckvsA, oo3J3ZTF0W_UUmCW5qELHA, Kz0-OClS1tD79SpxkZHFxg, ohvsFVrt-FrKXMAnfY25TA, m3RRK_MEICeX-t0ZdD4bSA, amGpepVJu7jOt7qKXa1G5A, hD8xPqbog54vONNGC3xMrg, kE8zkGdkZyxqRgZw6PQ0nw, jZN2u4UF_i9cPFicdqF9dg, MKaJFZuxLNNimhE0aLBdhQ, bQDJtM5WJAYzuFTFRku_YA, bTTZzC8RvTxTOeGMvJ5icQ, _5IirRPPnEl2NvrTUmMgKw, hHF33kqRnTGoUqbz4vrapA, Zy9NepMXGptZRhGCNcZX2w, 47-nM4VOQRwu86nJ4r3dEw, Vhuf7I2FEX69kTQAXYTJDQ, _W9lMTOvqgl9BIoLFP70cQ, 41AAlBtmKMHQws2f8Vu4vg, DdgJN5p5BHgpqJnM9Lym5Q, g5jsXpa4BEM0UpH0cqPIPA, uYPQGReSzzBP7UCLBpPfSA, Q14qX58aKeulEN6495ya1A, Fwrh-471Q8CpLfye-UE9Zg, jUN1e-I_Ny64JrbEklaZyA, HCITuH8hb9Ze6MobKTDeQQ, GsGkCk8OuR78rglZqiu9Sw, YStDSwKODMMT-JgaVps0yQ, JtAoso0Ze87DWqnmI5qorA, hSdXEk3wnnl1ZDhReuN-xQ, kyGd6F11vxWkDNthbawEwA, spyIsk4TO8pMsK5p4nQiJA, QtGXr3Y74fnWfdWpGJIldw, 0x5AzY52V59D2UkulXdKqw, DpPThIBqFTLXvchym0DXfA, dQwOcl5dWwgLCDTJ9t93-g, g_r39OLw8zoTCP7aqJZwfQ, W2XzXvl3HVDvUd6Rf4U6Jw, g0bfsnneai2Rfhtap9fzhg, EehMMgdYRTlf2uSa2N7lzA, gurX2vdTPD66KyD0TMx--Q, TWZG6cb_huK9CfdU8UkX_Q, 41WX68Vgt2XjA2RELMq5BQ, 3j8AvcUG0rHpFK39KueaFg, S1fyLhRHbNKYIk1nMTVgdg, 6XgrZKcEnA5IrtzHjE2_sA, yOJt-_9M4ZQxaUckhXnTfg, yI_-frTjcPx9VrOwJo8U5Q, 4xWrtuVAqXhNo01i4W0LzQ, 5m4RHg2e_LGhoAVvYfRl8w, 5oxQF-MubRnZ-oCk3Gc6mQ, om6YMc5mwOf7YEJgTRyLlg, E9eavIlC-EZFvWdnuurGnQ, rZCCdzGkzV3obL-Wd1gviw, fUNcStPlzZXCnsQl8wQ7AA, gVzGxqPgRq5bOrCHLLIjfA, vD31NYqWYsPNcxoBq_4bIA, Hm-BjH09d6pDKMiuUjvjdw, hycyn5zOyGVAGKuO2whkPg, NgjpraWitKQ1M4GzPdg_JA, WBwqR98PCPGD2hIrraOkjg, 8rEmIOlQIA5jNaworq6Ygw, QCCNEFel0wuk7m43W90HQw, frDDa8ydoBn9wYpKjM4_AA, 8TUNQdBMfYfRCPdSHRHY3g, J76G1F_jJrVn5qDsVct9-A, 3BSu5Q-8qESBLo1BKI-xng, vK8GeTOaKDANbG7ALZIE_w, oAIcFvWMDkyzfCyHHPOK3A, IbmOt_Nx22Zn2AcP4XT9PQ, HQByXx8iUfgVEJeLuPQK1A, -xDW3gYiYaoeVASXywTPgw, AX6_NL1_GTM2tcN9jn8mQw, IuifdaWURTpEDe0sPo8-kw, EPWtpijn6-21q5KFDYUnvQ, LbeHQ0frxP6sJew2fKZ8fw, LBJgGSw2WXFH2ymSp18U0w, A-gVgLrgLcFUoWAXXsg-EQ, eWHU5vcyoC0PfbPGCh2ZsA, kNx-g6ZUrCULTivJggptzw, l6t_8-9KDRu1gr9lmJjqnQ, EwgqC9ALyiZteOvJFiLQ6Q, 6LV0j5NpdTlhQElZGz3r9w, S5u_5g7NYKOPQEdNrzZmww, kZAColruQ1BZafHlYUSs3Q, oXYeiuA_eVzFMbmS8zXo0Q, F1izAmqWQQpX9Xyp3hd3ew, 44Mf-3wZeQnIQc7rmIZvqQ, OQNycrkbDK5mjgTUQfw2vQ, IbYK3ui1gufRBKk2Jr_DGA, IxLB8YL1awFUUVald0gSEQ, Ezi11IpYrozF8GgtPRnT_Q, Jg6epMHHlu0D3dWcOxl0KQ, ADboNTeOgC_sXMhty01hgg, O-8iLe82sHzESxn5e6P10Q, D9M0tJXzG1j-t6DigYg4Tg, GlPR4sSmLnvGOn2zyrl0_A, 2EuOLC9bmo7ZS2nObDTDmg, NjZtGCo3sd-TtvLtVjcOxg, FL2JPy-ivFXqbVqveR6t6w, zU3aFpa1ETRjLPSgWRbTIw, -NPmnAq0wJ-BTWS2lMuCqw, fSj3chjZTf2AwwDV4zF0Gg, MfE-jc72J9RUUl48vdKRiQ, wrDvzHB1ms_tAeyjglwg7g, zeyS-7UH0t20YsGg84Jxxg, zAQE3zL4IKQgqN3yfxCIag, v4icQ6BRh8iJ3quoayLj5w, He4aOYc0RI6QMFY4sfSdGw, KqJd9KzsOHcn4SdDvVcivw, qYHLpi_CaxB8IiJQH2zvLA, RpwRVKk9tQjVYtqJsRZ1Sg, LN_W5JcgejVbL7w06oPjSg, b5usJFikxZu1xTfFAyYdMA, s6u1WtrGBZ1zfkxTHQlCuQ, x6W6I6zHTIvE6ucN6HV0JQ, Zxqov0Pb7Gl9JLoOR32EVw, hOfAXUJ5aAkRq45tvqNfiA, WHM4pXuB-DtfYBurTinfhw, FfeSXW3XW2Y0zdmEtelPtw, aaIGmu1jLVduRlo4Pt-zMg, O7l2KLbtlhj2Ezi-jRdO-Q, C81JKw-qTESmvtCKbqSmvA, o4W61tM_4hgzTWJq4xxuuw, l8BOf-nvJELsjX9B2jQJJQ, fLiLsm7c6lL4hrEx-Wo5FQ, Tof6xpiz7-kGtv1UMfjp2w, YhcKM_5iY8NVWYu2-Wh2cg, Pj6bpMfVbCUDWzcOh7uXNA, O7W3bUKGZmNVHCUJPDCELA, pGBdhfEzYB3EAilf_D5i7A, zKBq0_1mSeLseGgaHzCKSA, XFgljE5z_Ip-OVcbBvagug, m1TyUvdJu7plU7LEHPDoNQ, hf6rxaEXKRFioBEiPXtXRg, eZN1O1h9pqvdUedZyyeHow, LmHZEt_pxgWcH_UCELimBw, TfZdNs9jB7opqQ4HJCvV4w, fMxxONsjae6AyKd-qxLtWA, Gr-0Mf5dqVjM_4LHk23-9A, qCPDp_hSHD6GDkA9cxJ8Fw, LbsKHENsuctuR3dXaBFjIA, 860pnaCSaZLUf6tmXJByhw, RUQ0QrpsYA9iePpxOvR4pQ, VTviIozmOCUATy2M53qqhg, TRY7AWAeCNO487Wqv8Uglg, SrzCeEJt7b6gdbBN4emoug, 929PfaH3f1FQxg-ySObMBg, HnSXyElF3N1nwtHm4yMO_A, YZg1ayMJl7fCxxI1I8ow-g, VZEVXivBhloJxXLSpx2SMA, G6AKVk-pM6ZpTJq4ybMHIg, ly4knxE_n0kqOWAV4Cr41A, 9X8T0AAOBBhIWESNepYsCQ, id_YET62KaZ3mc5z1IlJGA, -obTXz6vkvC7gRGrEj5RBg, 2xd8QOJEDq7aK8KI3lK78g, btAv-n1oc0piRoeMYDP2Ng, S3ltM9SyKDe5e18tnOG6GQ, Ztz8DlCScPabSZxASFU0Jw, 6H8Xy0rIyBFVTKoqo309kA, 0LPXOpOuayQT7eLGDeVAYQ, sLvUpr8YIIsiV-n7IhBptA, 2YMoQdnfvs5M3MSoLdXwbw, mGfNwC7iSrDHnceElXVhCg, oVqOYDG91e9-86Djl_SwLw, y5xacTUA0D7qE2cn6MbbVw, jt24fTvp3XGLGmzy8gchPA, omToOAIoBTeAFsWrkiFCmQ, LvLVj04Tt1yNPK09BTRopw, pEUznpNG1weX0_7zd30-dQ, 10tfLqCmOch5ziqG_CiZcQ, WtZMJEe61KdVdq7tX7xf0A, F8QqKtusRuPMNyI3_KmLqw, CYCZE0v9UYOOlXobYnmlGQ, iz7xmh4oHe7JazAdwtwUkQ, p4_56aETC3i2mlF5nCFcwg, hACb_TF1NXvAqhSIRPPZBQ, 3MhhE8GL_2SVSiIsOElorA, hXZ12qZ7vmtw-zZz-Bdk3Q, L3Kng6fETQAgAjKyfPRQAw, RVaxTjtcsMJUf6TP_GMU5Q, xEfm6qdR9LYZmeMShF1IsA, CdV-axz-8XPA6_21GJJ1jg, Mg1ExVdW_LuBHmmGcnG6Qg, 6K4888hyPQGcOw0Owr7_QQ, bbJDQIomGn6Qvlz0UZpT0Q, NXs9rVa697QamH-F_DASKw, kiFUfvJJ2R__IFJr-y5Sdw, zsoYTCV6uAriXN_iA7UEAA, D1re3N1YgKxo6xoUFNIOQw, GUjAv24i0lE0o7hhaPgTOg, hKq6MYF9sdvOuYnOx8j4gw, Dg94AISat-6IEMsZVA4M2g, C3vvdijFN0xP_EJ1qbbJ9w, Zfhisy601O6-cTNIN3O_qA, xYk5IkxHfhbbiTelpJcs3A, -DbTWrMnYykku5xmX4AoLg, Rv4kYCO15BC4Q3A2YSb0fg, hlmZW7yBr74H7xY-idfNCw, ZOgoFpaolv9RmIbO7J5jBw, Owk_M3lsglxm1rfAyRPoXg, WnQsCbdxVkduVs5SnxBDHw, x2bkEvz3JUJGLBw0n-QYZg, rg5uUg9ur9k22meHMKXLcQ, 1FHiPhuhZS8imMRZk7O8aQ, LttAdyrGyJ2eLUecCQ_55g, ofEplX5fxo4fm_Zs-FmcpA, sFPbpA_DSNjZFVhJNK7frg, xTu7z4vG_1uwJgdrsrQcKw, o7r9Pra-DJgbptutG0vZOg, IbZfK5bnwXPqXVYRFYbSIQ, PoeU1jwCkAde7q4MLAFR9g, EVIDzq_EsIEKtCUCtIeeRA, wqKgqGBZXHdohKjxjMGLpQ, G20KpeGAxc5kBSB291OxPg, CtcdO7U9jRRXo4fCJJLniQ, aNf25LzT2SWobRGbhCTPBA, vyCTZyMpNKaRVt1daHDhxg, j5ZAa0fzE-kdm0KWTxR9jA, qVgp0xYUUH4sXnAVXqNyxg, S-5P66bdyQu_hRor55d33g, x1gFkOvvX8l-yMcLfSUX4Q, O1GffodmHCTsPwMGJJQIaQ, oVfm_B8AvDd3Rzxy1C58lw, Zk55KsVZdl3MiwlOd7ka7A, 1-Co9dfd0eRkE6b-VJhemQ, qG77H3ZOZ1Z7VHudMWYx3Q, z2DaMLpIFk2avCMFlSFoIw, yT23hy2uCeGkXiu-XN2jJA, 72yETl0lxRFp-XcbC5IqiA, E2BX03Q8WEQcz66BMR3Xxg, FYj1xAJd0dY6eyoloqV2pQ, 1mt9tQlc2v9iuU8U1E-PIA, wwGPcx0fckd4llvCKyHtGA, oFwSaLcZEyaRvIMPiXciBA, leyxhgVPXKIdmIhMUrwutw, rOb-5ANmMNkyXmfuLWMAqg, a3JwjZx-THOYY_k-OHARZQ, yehemnwvlGzeV2SXuw50CQ, Lrjdz0ysWJ1Q8I1aIlI1zQ, orBEs2sUwOt4Vwu_7AS5uQ, XKlk2QAWBiDh3d9Z6kK6qA, tapL_yXLPXxESs6g2BY1Eg, SneT_lEYNC4ktMkikMyu-g, ZvgZ4FC6Ef1L1p6NFDwtww, wd8npohZO_fancTcZo4uCg, aLvsD0OxzU6zOrrMU_CTHw, Ua67YksiyU9Jki0OM9el2w')),\n",
       " ('PIzmdHF7p9GwXhwt3b3JxQ',\n",
       "  (5.079486342023149e-07,\n",
       "   'wPkrThYsvs-pii7Ac1Hk9w, nO4bSABjYmR3MVvVjC0EeQ, uUaes3Q9JEZw8tVftMywMA, GnCEw-gpbu52sHVr8KJDIg, duI74OMrs2lQQLaNn7OAlA, oDuCh9DWj1fZf0ZbkBDh1w, 5K6qhgesxPD21giycpy_nw, CM40r9kZ1Sb9V7RcXWD32w, awcDbvJX9GLVdFBHO0alKg, 4NZfFAV0wdLtqXMCTmyl-Q, HB2BnwjICEd6qr_wCkZf2w, cVecwolyW0Qjp4SNxaot1Q, _Ubuj2THWsANBcyLdhV6XQ, mYfgYg0YJ8F_pU14ZY3ktQ, wpTZdFaOITAco8evnTtBUA, ww0UBHkI-XJ9_1oIdv6Uyw, D6Ua5kwCRf3y6vWXMz7skQ, Tev9DeuL-fG9iJlocy-mQg, sAkS8yFSwyJz35CK3kCmbw, CseCti9GPSbjm59s-wXmlw, hukiiiSHYgWlqY6i1VPqVg, hqEMMAmjtdaAWR7f0TISSQ, w041HK_BpNuIbbhLARLRoQ, b3ZsJe-27OwBBNv41Ho03w, Ie-5xoGN-56OF89dEiB8vw, OKX5KQ3y5-P-g659yBScoA, EPpZ1VhTLRJbWnhsNHjmHw, _8JXo_qEW774bgGNYa0DJg, yCKf8j0W5g2PKqs4PHZZJA, Eig1Z8gyzjqzm7UexUtzBQ, omiUdHYUZzKj0IyCQ6MwDQ, V7mIqMa6VTOdQ277vbKRNg, dMJc2eMAlb8tLhMiLAqhDA, -VtIPsp0TgYyO4bg9vyG9A, bwHeem-slRrQKx-qmZ3PIg, q6ITGwNZ_r8LxwC9bG8Qug, 8tpO0tCSylDl2RZzZAaWEg, m7rbZtL4b8du326Ng43SiA, Rqbp6S2vGoWBda0Jg7y18g, zOioZqgb8IbYU5ipifWogA, BphQk70kelWva26H7icllQ, 51ai_qhSFrmFHefHRlr4Dw, ytMeb2gvGVrVdZs3eBZqEA, ZZptm4b26Zr6fUNovKTU7g, LRm7ZrhAf9GzlmwHOMjUKg, UI83AvC8C5h0E4pYsaep9Q, 9B5idJTmDPs8NDknGvzwag, c3VWB4Wr71GKkmX9K-7v4Q, ncbjrVx6g5etvtjuWECOkw, -wbVnj6P-YgGHKqLbJ-XWg, JfjiBofOmQq-ElukTWKlKQ, RzykZmAdYLx6y9GXI30UsA, MgXw-OaE1MPGTF6nb_RD9w, zPmeplN-dEc6VwtORqWq4Q, GqzoKYXv6F1O85bhywyoSA, bCvQhhws04XviPh6LXmneg, jJB4zANt8cwl_waB467EFQ, VgXJvISaxdtnJpwz9ri9Gg, ilRVPjtbrQ1fgCz8tnXmpA, dBuR6Bv19NEujOt-kClsJQ, 9H2hvHUmEbn8nkfbu82FzQ, K4I3NfZTCINWdpMUbRz8Tw, 661vYo0gi1bHA6fdUbYHxw, s293uqTTwtBD7dYxqJFfiA, yCIjk0C1m6HueTuQgg-Kcw, tugBJxHUBKXiwAJRsADOhA, VLNDwN2Qgswrq5DmCLYycQ, LILzX_U_z-1RDsY63UNiow, NCwPlP-0bS76GHhpISe4NQ, ZEc1ZQ6bvv_yG-tpMhmBiA, p5TGvLPjSnne0Uk8Wd5UtQ, zAw5-qZVYDdalU82Yoo5vg, s6yEho4i6EzgnuUOfZptGw, _4bAXtcwUkU9Fw_fU4ojgg, aAeJAsRKC--Qkg1_LDzPcQ, PdgVCg2Z3Ljq1L7hRCC4OA, ggAopwIXQNWiuOco8UwB7g, XpvNFOzY6lR4U_Vx-SOmgg, uCFe9nImPUIV5yB15FcEKg, KxVf5jFIA_1Yk0nnLMq6mA, eFy1uDdVIWJvxeuzZDhWlA, yS10Rlt0hIscNQnQWnhxnw, tnDpC_O18WlP2I3tCksdVQ, zaasTFLY_SX-2Uj2zlHUmQ, eJMLQSnR_cCqgIW35bFazQ, _wqlPs0v3XaXWzGbpFBZPA, FGBbSud2nFI5YCjb-8UuGA, DsoVDky3qhTBVU_asiQBCA, vKPk0REUMPYzRnrZ0qQ7yA, TkQvTuWDW2BxhZhe4MfCrQ, FrujWMkki2JjYSiQ68eaYA, 98ZhoKNSnvl28runoeY3uw, zDPm6EWLdxHhn0p5H1IRvg, _gzAkvX2Gqz-G3EOSMActQ, _0agr4wqEIml3dR2Jia2EA, MRsfrMPgagSAZMiurW-SLQ, 1m1E0jZqhN3fbD1ajfzBTg, 5gbkhlWANGVzQYi_0m3vOQ, vm1l942aogyZFovKzLipZw, zGsHzKJTvLJfLAkK7-zxuA, ufwz7HLfMwviuGCB24Hm4Q, bMSjttgC63LlUTzq-YK0pw, 7r1LUYO9UTAFEckTsNr48g, FO5DDTWVoa7rY4Lr6EhTjg, ZlA-PKDQArHBtOBVpXkpSw, do1lZ9HQAyfJq302VdsAXg, 8EbPFS2PtSNvW00xbONUuA, 2uo-mURKGmuzAechgYrleQ, XPfi_HHXCqg8N8PsAIW2Pw, ei2lX9-Xplri4xvgyw7XTw, Z8gedM_Ab8tEuiP1cfzNPw, f3YPkEfmMek0T1BYJsuS0A, 79BhE68bgUZYTh2DntoPkQ, KI7gPbRvdngGcgq3-RD7Gw, W7sQ50m0VADz-RD2To4YNQ, UgQcpz5kUrjsgXjbnv5_sw, df51sQMsstbdW08zlUr4fw, RaX-wfAdxxHsEyqtGQXN7g, k_IM1rMgCVVp0QY0hKuBPQ, WzgTJg1cWYsFMCZKLHd8-w, QhBkckAxRPVTtJJtMtEwTA, ScfuyEKEglCJuAPLtmj-oA, UODEgDorz1ZZAixzLuGLaQ, RIhPEWzknnRdgKgyG6FgIw, xbQz4AnEhdmpjOXeZSbmGw, steclxR43uWS_TVVukn-BQ, 0db4JknjV81vA73L_KVWaA, 0zJ3QISfXj0l1XuGmf15IQ, n8vdtpQa7DaDxpeoJGjKbA, 3Hew_nvGd8tATlbjqY3aJw, P7gww7arxVjs_HoyOlUFYg, P9-kdaMTeInwv3JcIyLEug, P9sM4Ag0HPyQy5nj6U9UaA, v3427fF5UB9pqrt_V_X3ug, qcvjAsqFFO3Hhf8Q3N7xvg, OqH85SAF0oLijVY_SeAk8A, PZiKozX3y3D-F99lv-0wpA, F6chCrOLNqdQ-P_OPS0CGg, cvNHL2TIus0dKSZOlGwC8Q, fTScdhZy_Lfx1C82dGRqpQ, uVeCbQo0Mrs1aHqyoCb8Kw, dcMrJGgSHjdfFjz-Be4Jgw, TFttLDHva2ANHtaLWH5QTg, GnJxk8qj9wqumRqM3yITaw, a0K9dKul2vMTmAKCnFwfhw, rKevbSDoBBotYWxUxDKUSg, gm0V0GmBBlUlTqoZHsjWqw, ZTf_bgU6gW5-XsJu4ZisMw, 8vuSC3B0JPJLimCaG-14Qg, aZTQPG41TdXMe5UiN1kEZA, TP-matExfsOxoroCRMNl3w, xpmXRqpQK1ekPDuIRK29vg, Tk_FWXueutKii3f9yJFsdw, 3C03gjGYcP7oeGl3VNiXTQ, rbU9FMGGFQ3sHnZkzatrGw, wLnP3bsCRL2hIvEV51YN8Q, oxck0IjPS6Y5hfDs2B3kPA, pgviqtpv46qLNCg4Px6l_w, nWhD7IUVUtAs_60LOvrOUg, B8si8-1fn9IjRlUqt-qPtQ, COE_5B8t15Crz8U3BP67og, RFs2HN8ny8_lmgXUrur7pA, EM8Q9QkTEDQbq9g4bPeBlA, XkHLJubUiajTA1L58bvp2w, bj1f2-_N-9T-9jHmlHMWFw, M6EVhTvZiWxnrVQWe3zqpw, k9Q2fyIr86AQKOvTUd22HQ, 437yu8bLf5Rq7Q2SJanaiQ, rI9za1dbvgHsglTkm0wHMg, we6TqPaWSUR6YRYq7TXG5w, kZNb-hgiZ0TQluRjLEPzVw, 9pSpTmkTBQrJVmUiMZb8hw, C7UVRol8gDNN7f81cKgm7w, mrMMs5B-PsIYZ7xQWad-mQ, iiichdof8jCquNtlymoO3Q, xFqulIWP2lDpiMwJNjAM-Q, auUNMXkncV3TFuXOBNsMIg, L8B3M4glZTpM6FJTeUSLUA, -f4QDUw9xeZ_Rdw-qK2ClA, 1wdjPjeJiLkPWrvtXA4EVg, yZ8KhrYEq97bkGoG10-Syg, gZ7tpE34E9qhXiULVBns0w, xLJGfYJrpJN7vgWYUUp94Q, EB-g9ADdzIfBR3yW1tHErw, xD80kJRRtwHMqt5SaaV-xw, _aJRx5j-75D105-yjn050g, E-PCaMwALNL0gfgYR3V5Tg, CdnXLW_r5NlVdhfvv5kdpQ, 0SyljIUCfNGVWD9Qh_ZChA, ULwIFp_dzaxx_K_8a5ORlw, SDx6Hgga1-CeB172_UbgZA, sR1czg3W4_B4ZzFudB8J3A, qt4TOXRHNV8q8E8ToBftww, IgTkH1md1VK5aTs-2blxig, irQc4pzAykf9SrtuUzMEwQ, FW3ABzc-8l8Am-3qfdzsbA, Dhk70zj1ugvNTV2jxihASg, 57PeOZ-h8iwxx2W2qr234A, jVKmq_FDQ5x6BXEuC6vajQ, fvjcEnKBLVaMU0zzoY2dMw, FiwkgXnTLXH9kqJnmBYUlw, q4_y19U6DWbYc-eXjW2d-A, LQ3K6Mk-2Wc2WqShd1asFQ, Nz0-IPsN4lKsokfMDaScQQ, la8agHqCk1halDA8DAX7Ng, piw5jlY2IPZLFJF5yFmCSw, xQwp_9V1O71m-ynSgig0nA, 7HqYIlwM7CdFTlUyR2-Wag, l9oEe7PCW1IeqSHpaRARkg, w2LMw6sOkBkNlMBMQ-7Kew, hsXci2VbYokemHaBr9oeEg, nLiuaRN4JyIWJoubYC5W-g, -BUKaLqyvclnMswu2C9vng, otJz4Zi6Re6Tj-ueKZN5Qw, d6m6jv-TxJgBYUfgba63GA, p4QXmi9pOnZTh91LxbH56Q, d2ZG6qkpYRKyCGV_9O4N4A, jfD_nOl3aFk8qmNPdcL19Q, TRvxqHTyhOy9Y_5zGwc6Gw, teIu56lnGpctNxULkvCmoA, sXI_4V1Ss_nNOHrpCKjNJA, -vyEvlNWLJf3YdSE4AcoMQ, 8QMunHBVLv5tEiVe_qCX7Q, lwcYMAEdPDdmHabUSTH7NQ, yUJ6mCfZvtZXpNnOCmhHeQ, qMizNcNWnepvupHkrMLE-A, q_J0y_JU_EUm48aQ3Zhe_g, -cbLzj5RFvvUz9_qZdmB0w, Uw3nH_0THjAzL1I8_T11aw, zmtI2PdHBI4jCu0iSs7mBA, DJXAPgAkIGTNl779PLXGfg, s6s529BCGiLB_oqiZRMhoA, aMexfuRSSEqKTet6rJwhdA, 93uM5kbCgTzTTt-dD59QMQ, XvP8dOqsi_WEUgpNKacaQg, pyJstz8GA7aYNIWvsNh-rQ, VRDpoKUmIPUqKVENmqWoiA, hSt7EzbIRI3T_yAskvbEcQ, 59eSK5iYF__va-Y7bNXiQg, gOhwetQItbDzizxJfUMmFA, 5AIu9eCUJjwkZkNUGpqVrA, iQn-WqTkaTZ4r4vAXRFidA, I_jqi8s4MySkNAnXWEU1ug, NiPgM7ec5-GL8DI3p0pSjw, WcOzR8ZgitSZcqPIe1TZeQ, Yr5vjxfoD6VTuv50npiHnw, 7PYQlunMoD1gkzDseJjmbw, afXVkMnBu8E7eASZcaAqtQ, drzW920Yf74ydnfVVVThkw, QzutzTpIbHvso3mStxyLHA, JqftjJGfJc0sIamv2xZCtw, FSuylKL150aqIUL67wpb1A, SvuypGpYDS00oAsElc4m8g, CLmnWgYqPLqDaUZwkz2VQA, hrWnftKtSg5kOlMkMUW0cQ, vpmgbA0FZgOfIMhX83eVLQ, E6cw3Hd-xB05ghEr3_0zRw, 2RF9tGu4SagNMmIREqlNFQ, Uc9S1fRYWTb2O5dWvG4I4A, IJ4Dmwx8yNBT0gdRhU8XLw, gySPQ0iB9IA5B3GZ9ViTcg, 13hZuW08EtmDzyqGcxIssg, 5IojB6wkIit9f1CgCt_p-Q, 036si1YkXIQuwTVOSrw7_g, 7E_ngIeqTd7zZ14OA1wR-g, 6uaGXJFfxPb8LHHLiGC9ZQ, s6H8ilFxbEtYoH2OkgwaFg, 0652p46tBuMnynFe10fNsA, JzP1aAeC9bfuqZGjNs1hXw, eYw1KKiM6LCkKWHJOf-_uQ, CgBPU-FfCJEwYJ9xsRvppw, fxdU4d4DorHujOpglKMd3g, 2ED-4_t7vfbD25lmBixDQg, dQjk7J3DyA6TQuxcIyPW_A, ggYnLiLAOZADWcstZH5KLg, v355cumwNfJt4rtVp2gdnQ, 6L5BjsCO416FuElxK9UpOg, PnTBFZwm_2DEWXrvy23Upg, h10CaIxr0Qe6KBwBnl226Q, plWRPXddsg41fFe2QoRqvA, UGE5RQkwQBqLofZMX5rTmA, l6-brucygKR7TRZksxCY8w, -QEoevoVXqukcVUDK3Pepw, 1uW0TmyG_Top6BkYRXy9Cw, JXRG5ShJuGJrbhFvv1a2-w, YD8oYvVu9uIqiGO7FxSetA, Yog1g9vfZihHfsKicoC3FQ, itbZnNQKWYLekQpcjRu5mQ, HFv6b9RRVcv4Y7tSS5MqDw, lp1Qtj51V89pwEbLmSfgAw, 2-exg8nkzw36QA-6lLiN9Q, _poMh5wJCs9RPRSQaaUnfQ, CwRxSXcBC6LEDy8_-7k1wQ, OsFnM3mr5KfElBvDFNCdMA, JfyOPT7e1mCWM_bTsiFXTQ, 4r2Uq3hczCtUskXrHHNJxw, bxnPYpScrpRKAkP7KVgawg, xBcbBluwlpC2ngarMjMarw, yY2TcXsSqG4Jotxn-fkhaw, 4E0sK671C98JW8nakFbUnQ, Njc3lo4M-T8w2bDFQB3c2Q, M-pAfBpBciW8yrL6D6lhkg, h2fYk8hQYmXCn0JtjrD5iQ, kWQLN1TkpSASoUHTUN7A8g, _BGMt9_O9s1mXAej0u2img, 4ALPPE2cPB2GvJ7qAYEZpA, -KgqXPf3zc9_vX32xu5VZA, tWceamN-W1JnbX5Y2qhULA, Pq4GV657a02n_Ej4HQI9hw, UF90iZCZT3FAOfYgHql8hQ, FPYhvv-fQukuWam1PCJToQ, ot7mPwndfTXK8UD-we44vQ, BIanXzAB6DlL8TtGcxTErw, nXcnpukkzg0D15TrWq4w_A, O-y7cjxyhBaK8WQD2JHlOg, hrGqgkmZh1oSrcEcBGz_Ow, 9_OlQoGZ-V7s7_HgS2acxw, pMKcbLPjNEO0oSa2Uvd5EQ, 03tU93DGIpbRtUqPXMeiPA, l_p75MdWqG-aR-x0SvxoeA, Y-1ZruoBOqsuVDhh07lAbA, eZpcLRr6s2crkllzWJUghg, 1G-WCtjahpIxJnUFda5UVQ, 0fzy4PxjUOzDnH8dh29UIA, IWQEz1ZeGOe00VLoe5HUqg, Q_TlKJMa1m8r_QST1TFzoQ, WeDYwE7WRSmxXSzxsCSVog, 0ttQ-CCqlVPVwsI6B8wsiQ, oHMrwgraCkbBGm4pP5gJGg, j32Q2SvRLABh32p7YVKxbA, s832o5XaYTAXZsvyX7Ax9Q, ClGJktSoU_IPCN8wuq3_cw, eeEBT1kw1C58xzuY88uMAg, bpCl0LC9-4630-lPsy6hDA, q5PbBsb16RgvmUyWLwvCZQ, f5UIGN5xhcJVCf5OdNSx3w, GsjqMRSylJUO27_hM11JcA, EpHFfxd5-DPHv2dxDZKwJQ, 4FnnVl9zokJP02V3CavQ1A, 26RqCiIt2aRI8XM1l38JqA, bvDdKAIkpsmD72QsJAOWlw, IIoE5JqOlierQ1G9BoLyrA, Kn1B9cMY9qZJk2d7hGsDiw, KJajCd4X8Ce0zjDI1aMkRw, 05QkRbcCuyLIIIIcOHgC4w, 3gPOxwcjBudItvqmV5E84g, F9yr46DqjHiifaE_u_DfAA, v1dv6kOxsiR51Q4cUPOzEQ, iIZeb6IazHzoVbK_ABwUhw, eVfeVc-GUL_ppd6lzDgLPA, mTswLFLor7FKNbscqqNiJQ, ZWwE17U0sf3k6V2XkakR7Q, Q-CWVGfqjUE3ZwLmZSaOaQ, zWyvJ-J2tvoAZcN_RXXUVQ, Cb-cxGiYzMsuMLUU69ATEQ, XWG7_cmx6Ul0sCS9aiZYhw, 4UjbHo2PgsA0YSzZTtavBA, CkImDt6_0apgrFHJ8mCoog, rJo_Gn3U5XA0YA7SNk_nDA, y_Kexh1gvu3DqOLeR4BGIA, a50PoBBFHiwkOEuaSEMsZg, pZrgVtvwCLFw-bS4eMLZuQ, r_4FmhSjybiUn8GAern77A, jj8Uptg8qUSq4PLVfKVAeA, CKJW_WeNqmejxwAGoKENvg, qs2cJ77Ef9DsJIz2jTfCuw, JWQxrbCHKMXTKA6TDMhimw, CBml28aeXf3CbQK32cz4kA, B2CP7nL-mgGCe_L_9XCmUQ, SD-jJi9SgVCkSCdFlL_4AQ, afaR5mTIjG4ld2e0fTt5nA, nd06Lx0KPvelSmbyWnI4Mw, jM1_c-hMJoG6iSuQh2YxWQ, 0yJpsB2jhzZWClGfxb0UPQ, arYtNRuknl2UzoMHs6mQ1w, T5YgakcN8zHwBrBorL3Yvg, H_TYm6v-bxrXPvTJQX6dUg, -WkY9RQ8yqda8uz7VGEDJQ, f1rnIm5xvW2IlfYidQWBNQ, lu1VsyN4P7FOMHH1Ur69DQ, PDmFLa9dceSqmOg1FOJ08g, ImhqlpNoWAZ_TiJSLOnboQ, q3wk5YRE8Peyl3H58USupg, 8GXjYGwe0qdV-R7bPglCgw, BKLxOSOZ77JpH33Ac2EcQw, pEu8FMq2ym4YjVu3OFRF2w')),\n",
       " ('5UinnGwmJ7giHt7x31sD1A',\n",
       "  (5.079486342023149e-07,\n",
       "   'RCPm13ZUERL0wwaYnZyv-A, jI5fVhicfM3lTU_PGSbjxQ, tb-_9H9lbzhoIpni5ujJCQ, inLHpJSXM68anPdUvw-ujw, jCvjsAD0IXMxCy0YH3p4mg, UgOhVGUOMfCPFt7AF5MWog, 0zRLjgw0PQUwqiUCOIgShQ, ZtiC7JXw-fI4N4tplVfFHA, Uhkqe8kuwEq6cS3cBfaCgg, inKqoFRSTPn_4LtVRAzTVw, pUzj1bmtYi6GO4DZyt7yBw, 6jeLJpk0TG6nut4BeNHpPw, D-EKxJMdoUq2Q4yoiRz3nQ, OmqPF3WRH8gtWrMT7851eA, tUI5CMfTRHZOxGLdUnhBkg, iq61m3p3kmL20tGBpg2qEA, 9ds0nXjRXkhwFPj0YEAMpA, dIIKEfOgo0KqUfGQvGikPg, asrM__Phunmo9MZvoIhb9g, MiALWsQL88BzrACF8v10_A, 5Z-3tcM07Pyc4mOF2Rjt6Q, vMcIh_ze5V9NphSJ6LPMOg, OrryjPDd1Rz7vYhoEuIS9A, CsuOIcXUo3s90N2orDlUuA, 9hA3g29uq4wQ-1zmY_NFhQ, WUz8s1EL14E3rexUuoeHAA, ucdQMzUQcgPf5XSWVKQ2JQ, F684QuqLBSPV7V6cLjSr0g, mfHxb6gpXEH6Jj-LTFHkPA, sBYVrXGv643iR5hbtntvEA, Pkj1vgilksZbVqWmqAl7zA, 4pao5zL-jajjIDIL_yMmDQ, bTPRUjYllqXXgL_jLr1bWQ, yrJyRPmkVSDOL4yEnGTg4A, s00Byr_DXnK7X8WDtjCXTQ, LNhLLNN4RzwbuUwFegodXQ, zLQHxUxfCI-dKpwDi8iAKg, Vf9_uwCYjXIRnhGHr9FXvA, eZC0wa1DdxYXprV_BUehLg, d-2EilP5DGhUoK7mWdQ9Bw, _0piWUCMVTtqiZzE4OosNQ, l0eblZY1-Q-ysJIohVzKrw, Jl6NjfYElTTh-eXuT5L0Zg, K2FCISfNJpvsr4giZx_P8A, zGhchz6higXuu0z79zoNag, 3flahBHfiOABzD86huLHwA, jLE9UrYd7D4cjfCqaKp9wQ, bbyo1WNobjLif6jZGucMrA, PAeEkjrXTub0ENa4rZiWvA, TJfVqpiNGOa_bnizeKKvHg, hddbff7JsR4Wb273XmE4NQ, yh8_9Ix1wp9dekvyOZbilQ, U__eKrBds6_VinB51zp8iQ, ytgSV37G5J-c_-fI_4TovA, 1rL220MSF662RE-hzYG7uw, sFzu51Q7FgpOUUp9gV9N4w, fbbUsywa1pF_8BAqkgu7lQ, T9Tt1kmvyfJgZPskBVI14Q, i7WgCOgNUnzovx-yu0O9tg, 613LLLqVdVeSQD5Og6FDpA, sBJkIwIUEZ9T9ClmAAQBgw, hAy_e_49c9LcOelpJ7Hwhg, SrMNJW4OKuV9XEXYETkrMg, -LFiSp6BUfV1LfygUZWs0w, IdV7Y5syspxx3GLK6L1KHg, ZQ3donFKlhqnavF5RbSBow, MGxgBIvmg85rFtSbekv91w, 450DYRdkbyQ1CE-ZWuzW2w, Pv7spsbK6pno7aSO8Fbt_Q, vrvuA5Zd4ExOUC_bZ-Nekg, djxnI8Ux8ZYQJhiOQkrRhA, GSh2UU_k6NTGOIXDqHSW_Q, 6u1uNyEFPfUiDk5eNE0mbA, Z03TyKuTRkxLEIcRVNa_GQ, 8vBYEBc-L1yzDggLz0sqqQ, nkN_do3fJ9xekchVC-v68A, 1vXJWH7L0IMEz5-8aU3SOA, bLJ1fcQGrB6vmj9sytULjQ, DvdVXZuixUz7651_hrGmEg, rEJdkUCZHUroskkZ8cZQFQ, ATbJgivNzNxqSYGH4VCjbg, L0NvJ1t7d3Xk_fqYB8EExA, Ly-Vig99PPa2ySCDccRfxg, MdQJIzkitpvP3_nyeumJvA, otTY4gzis59bnKdvfK-SLg, ACUVZ4SiN0gni7dzVDm9EQ, 6HUXGkyAr1pk_g-4KCvDJQ, 5UE3ipXBSDE2PPiGKCtY5Q, 9jYH8RJP21LS4n4o9N40ZA, xR7w63dG15MRpcPOGpGz2g, fOilUcSjP47xG7clai80EA, RBZ_kMjowV0t6_nv2UKaDQ, 4gPnK4Q74fqPQ7p2eIt2wg, gIN2gf_HFtNxJ2E1vDf0dA, FAG561CiXv9g2scX3Ygspw, MlqF5LyWCVWLI3xhBeX8BQ, BiV6xMIQ4dQOrbbobdP-Tg, t5k635ad-wAAFUHclNlCXA, -G0qg_Zlz0-t65awi88rvA, wph8s-0O5wUg8Rxf36bLwQ, 4W5iF7m09QdQD1rJDYFqhQ, fVHWgZCvcM-lWC33pdQ0KQ, EAnbdfk-qEkQy3tRC1if8w, NJVhOFzJ6HliS76sRtVfLA, sw2cYeLiDAxotiQnobjBIA, 4XZx1k8VohLb_hBkMqqS0A, aSgeW9k_BwutIwPkmXoSLg, rGbHR0XyzLIGFHU9YTsbJQ, jX5Km2iXBroR9fSLG9uWGg, bItW6eAc4Zaiu-Ns_b8cEQ, jcvjkWrJ1_dOA64RcsTvfg, dN1AuY5I9Qic_6gsjsXiKg, rZhbi5J8KGdqROv3Mda6og, 3-Dmbox2czG_4w_npkak3g, KZ-M0wLDa9O706CB4FEWww, sfajLt1TDRN68OOHnmlU9A, CZyt66S5s5rdGM1jiwjzBw, G2pYkiPMLZHQTKhG0eUyew, Wi0VgIrbb8vqU6weyVw6tg, E3vx1SHmSs0GUCao9gOsWg, sggKWEhiKSL9Y6RjHs8Knw, QXXksosdR52Zt72RY5UxaA, PhrdyEcW_J8GSOSzWou0Xw, Y23SBn4koyCKSwTwp5AMug, d8d397fmX5es920SfNm4EQ, qYPuXadpcKsFzAsan3zOgA, t_wV4brY40TKUzqquTaX5Q, 4mVc4IIs_ybvOf1oqVQexg, LXjUXPLkrFawCFLAr-tEAw, gFW1ltcIUy5BVkxvwqJfZA, YQPDBJKKFFseQybsvo2rog, v-NKAglaa6rs1EsgpwE4dQ, QRmorC--G_kYBzGjmZAGMQ, ltjyJsQQu_AjiqS6ksxw0A, bVBOHlPfvpEavgAeTthMww, xVbqq0nCZ2VfDVA1z-W53A, m21lL6pog9sKNNjq_6rznA, 04J_q_VhSBItxNiEAN-gkA, An5TowxCpYenv8cHoxQYlA, n32PmkD1tw0rzMB2CB5A7w, ZxOGezy7ZRb0YwZRJIpNrQ, 7fntBUnDcPTRQzkY84yoYw, fUAiVmgF6sOkPwO4iStKBg, n2_Q22MKErMBz7j05YmFjQ, qOxkl8-zPLZc6j1YK9t0Cg, Nd0ESu1XB0AckG5ORCa1kw, -8xjFfgfhR_QLOAweQ4_wA, Gr_2KuvTPmnz5VLfFptxSw, UWE1IIa3ba0PmnHGTFYDlA, FqKAK5nLd3YP4gYdzgSCHA, MpDu0DND87-u65iuITzu4w, 3DXTHfR_hP8i5NqcKXpezQ, -zzVab7IOIvzL_-GSolfJA, 3kecS8N_AXyI5UYC7vNO5w, A_01VGfmVl24VnD_GpqO-Q, tQ5bINGIUMX96sqA157DpA, mgC4YAS9AsZbGKd3FEd1lA, pvpNkxONhWvZq0bxopElsw, wIfXB5eR0c0DDE9YiC4Iwg, 5eQKzNfDcCxN8NBwrRfqSw, QZ3FD2WyBf5asELsQCXH0w, u_QsYSfI28v4JPsV01o-RA, dzdIaEpr9glsvmHgIWUecA, MB9lJd3zk_9rBKWTd-3jug, A6qfEd2o48oqyY1lELNpHg, qVTok498UBrDeCwaP0I1kw, yTHGNXt6qbf6Du-aO5Vfqw, w5UaYuxHGtgnL1JNqIjI8w, Cqdi0OBlaEudx_D5PffjVw, gcWmozjP1ErOXpiOlFKzhQ, UY4aXdk2E11BA6ey_L1jaw, 6EUxL1ZQActuESs0mhckmg, OgYi5x02MBukfxPNFe1ePg, s-LVDTkfRU_EY0XwWUVTnQ, nSXnra6v4Eg2rcba4C5mMw, 7LNs9Sda__TsT_0-uQi08w, 9f3C4O9e9ivJ39_bsR_tPA, UQv87mVFL7y4ffedCul2pQ, 0MholbJWD8LHKpU7Fa6wGw, rYzKuFT1WuSFQeYmNLFmEw, 1sd3TCqO5lGQiAPE2APGlA, vZ0fUcgLahjX-R7r-2_CeQ, rLgRU3lXfv9dGAEv0ISlKQ, MmbiFj5MKzba-s8EN82Pww, OcuVUkMufVfnb9yqY8aSsw, fG3xkM6xq865tkiBl-ELAA, g22bfs6ADX1_RWpan2eQbg, ZfIvXIR1WNil_rGa7E4cow, u-sJKPdvB5sQvho__IaDxQ, BA_bcfFZe1OQ_w-rgyGMrw, bJ2Z2TXZWvZn6GGJQMz7Iw, Ww42s34a6Q3psfeDYYew-Q, 1M3hRMWFlpnZ1Te_XbESMg, vRCnX8ME0Pru5F3Z6RGNAQ, OsZdGJb3BihvZw27DMSH9w, QLfV_4iT6A2CMRhi7xa9gA, mJF0ntKW_R9ZzGrgbYw4lw, 6YtAKv1dJ97nV9SIJ3hMzg, jm3R_XTMFMu5_nf2XY3Zyg, yRApXK_91LJanzzbYrDXGQ, YQVVd9aoedtkNIHGun618g, gfpCV44GtsmDhILcXf_hRg, uQzUoEIP3g9sXZdyqKA1RA, HESjT-bgynYenlsqEDwkgg, Er4lQw1n-aa7RIdHqlygLw, oTwPl8YFHWvDhKajv673WQ, zhYJ62Ri_IL-PMAmpW4Qrg, 6SD_7Ujc5hzDcJEDqJihOA, EtZBBD1Nybd3a6qxmXGYAw, GHUclVKRLVxBrsScNV7YHQ, FK6s0ztWR1rJnFQmlNdpfw, 8gCEPqYoN_3WCaeyelJnjg, -Y2TX1-z7AwwcOq1r1GEUg, lWxLI9Dn8MohTPv3gngCVw, 2hfzVy43Z_dd4JKwDsB1HA, ZioSTkOWj_jNw65v4aVQLA, puTePU_7bqtOJJvok_Oo5Q, FqPGSSsY_ezndGujayilOw, nU6JbKzQHVHb7JCqDYzVug, 4bmyp0ftmQz2AEtCIAlbjA, uyuaXqVwwTDcZqRCGzd_Rw, wufdBOVO6o3X3OXisuzjSg, cAVCNElfdMKi9QseGd4YEw, 4ucrInAbK53irUUW9fsP3A, og6VftDQneUM47jh3jr3hA, dEXHBiN0imBvv6HRxZPhfA, pV8kH1tD2ENhepCBD5ilIA, 3FzfC2ai-q2eDi6FUVpH_g, 6-GEe0IlsWIayxh8kS2UxA, hLZLGiFgUzAz0OkCEiTyzw, RunyBhSUOVX0J34DhPzHhg, jLfXdSxAo7lRB1Sn2WzCuA, ObsqwH8ZDT184UnbvTNzZg, 6hLKiVDspCKXyKMmQit-og, 1Vzm3uFyNoIODotJ_qfGGQ, 56QaunkWbwY46sU-LYKJuQ, 1ah8nwbNLO_HfKmpJ4pt8Q, 5Pqu7yZArRyyoOXgIbf92g, drz6rfW-qM29l-HJwKjy-Q, RhaYUekWKavTs2OONiHkmA, X2LT9-6WORyUUOEEdV7Sww, mr49oD1neiy6vWQl4d3JiQ, QTlIdS8cNqP4UkhNnPZxrA, NvTpGNmkyOL0Nnk7UQm-Ug, 4NnCeY5aGvN5kQiIvSUuxw, vzhdUdcpeywUn2jYJhR7lg, rsX3TQZOpWjITNNy_bCvkg, N7R8IJmGLWRxtmkhoJrgVw, d5TzAl3hMGfIkNiBkRY9tA, Qyg-AGaejdB66ChrHFA4kQ, Lv2kmNgTGiQqeKnhDciDxA, IPjfteBQKPuZCZsZwmWk9A, lrbsCSkJjO1wGonrH3Fe3Q, 2TwBMtok-bhLvFTaP2insQ, XHTsFkAfJ1Zl3rlRKre2Gw, R1S3VU3Uu-miWLDOHWsL3g, iZtmRbUBBQyHx3-yLMZWzw, z_JAs6iPaiQP1hh3TAx1Lw, Cf8Q3xuXTcHt8f5ca501IQ, DYn_sUtB436GyIhjnyUdJA, EWzbCB0rKnfgg2mNHzTczg, RZQHjrmepZm2fNri8gElTQ, 1bQsSyuqDddTB9Gf3S4ZEQ, 7r91PuVogrj0XeYe2NMAMg, UR3pMsjnvvdq24zkJGd7qQ, 73Imgh9F5VJ7iF0C6BG-3A, 8BqMFIB5ARE_huliils5-Q, D3hb33XpewRLaHNFgSmPYw, HXVNW844vXJ4v1wT70NvXQ, 81LkMqjt9ZUk4NoHLk7z7Q, 4ipQ_aPcgIYNnp2fifZSvQ, 8zXHSnR36UyPFOG_ilLlfQ, i35EqcMlngjjRq4ZinXfeA, W8o01l33LZXBB7_02HuBaw, xBOiRK6DLCF7dZqEcFYjEw, 0klPIMQi3vg7E7xnAS_gMA, QkbSqgd-aR4-bHjdCBY_tg, j7tcTrIcxT73kO3aMd-cuA, vdd9OjhhWZaF5eseTYjMng, y5Kz_LXPFP4lp5SlELuAvg, tNSX4Ouhb44CulCsQOxzYw')),\n",
       " ('FwoBJ60NabqMaF8Kika_Tg',\n",
       "  (5.079486342023149e-07,\n",
       "   'cui1uuG1oM9QUaj-PTO3SA, n9GaZ_kxv03a86UrRtm1LA, uY_qBHiORusuMLxIPBqRrQ, djxnI8Ux8ZYQJhiOQkrRhA, s6QghJT6IHNxV5MX8a66tw, EDAg3FUbil6oIIY0HJctBA, GOVXAcJ2_3zVLv2WJoKF4A'))]"
      ]
     },
     "execution_count": 65,
     "metadata": {},
     "output_type": "execute_result"
    }
   ],
   "source": [
    "votes = ranks.join(usersandfriends)\n",
    "votes.take(5)"
   ]
  },
  {
   "cell_type": "code",
   "execution_count": 13,
   "metadata": {},
   "outputs": [
    {
     "data": {
      "text/plain": [
       "[('y', 0.16666666666666666), ('a', 0.16666666666666666)]"
      ]
     },
     "execution_count": 13,
     "metadata": {},
     "output_type": "execute_result"
    }
   ],
   "source": [
    "def calculateVotes(t):\n",
    "    res = []\n",
    "    for item in t[1][1]:\n",
    "        count = len(t[1][1])\n",
    "        res.append((item, t[1][0] / count))\n",
    "    return res\n",
    "calculateVotes(('y', (0.3333333333333333, ['y', 'a'])))"
   ]
  },
  {
   "cell_type": "code",
   "execution_count": null,
   "metadata": {},
   "outputs": [],
   "source": [
    "votes = ranks.join(users) \\\n",
    "    .flatMap(calculateVotes)\n",
    "votes.collect()"
   ]
  },
  {
   "cell_type": "code",
   "execution_count": null,
   "metadata": {},
   "outputs": [],
   "source": [
    "ranks = votes.reduceByKey(lambda x, y: x+y)\n",
    "ranks.collect()"
   ]
  },
  {
   "cell_type": "markdown",
   "metadata": {},
   "source": [
    "From textbook: \"In practice, for the Web itself, 50–75 iterations are\n",
    "sufficient to converge to within the error limits of double-precision arithmetic.\""
   ]
  },
  {
   "cell_type": "code",
   "execution_count": 15,
   "metadata": {},
   "outputs": [
    {
     "name": "stdout",
     "output_type": "stream",
     "text": [
      "[('r', 0.007952090854380261), ('i', 0.00800818885633463), ('l', 0.008017051582176533), ('S', 0.008011782052404446), ('K', 0.008000823227890065), ('W', 0.008042094561150435), ('s', 0.00798333516854943), ('j', 0.007995073087960703), ('N', 0.11401577145746969), ('8', 0.00801956193495561), ('R', 0.007978802218570153), ('p', 0.008015432914378768), ('c', 0.008023159794259282), ('4', 0.007993417931155558), ('y', 0.008005868784597272), ('9', 0.007987747341631043), ('0', 0.007992931798829359), ('O', 0.007982403969400599), ('h', 0.008027740265091995), ('g', 0.014075688248381507), ('L', 0.007981587547396654), ('1', 0.007999826306525671), ('_', 0.007966162873627346), ('J', 0.007991495578296936), ('C', 0.00798497187426169), ('b', 0.007975426995543312), ('d', 0.008001411184246963), ('G', 0.008012727008186546), ('n', 0.11403039429577098), ('z', 0.007983776913974436), ('6', 0.00801478344546874), ('7', 0.008044761507008554), ('V', 0.007994056693895453), ('q', 0.00801116043701286), ('w', 0.01410819591392844), ('Y', 0.007988730739773766), ('T', 0.00797232211985821), ('I', 0.008020472393023129), ('D', 0.00799766312676269), ('t', 0.00797548186162568), (' ', 0.019833157615685958), ('e', 0.11400837555241652), ('2', 0.007950219409185368), (',', 0.019833157615685958), ('k', 0.008004295575220628), ('Q', 0.014105429590270455), ('u', 0.00801859816480489), ('m', 0.00795555987438484), ('x', 0.008028770600581867), ('-', 0.008011936685391241), ('F', 0.007997979120221474), ('H', 0.007985853782040343), ('o', 0.11398959298406892), ('5', 0.008023715291759378), ('f', 0.007991499507813232), ('M', 0.00800111880950502), ('v', 0.008007313443735842), ('P', 0.007993282052175994), ('X', 0.007995571566539558), ('E', 0.008017044956175414), ('3', 0.00798854971622184), ('A', 0.014079855699401494), ('B', 0.008010281590913885), ('U', 0.00800395641009396), ('a', 0.00797941489263562), ('Z', 0.008001094626491522)]\n",
      "CPU times: user 114 ms, sys: 81.7 ms, total: 196 ms\n",
      "Wall time: 29min\n"
     ]
    }
   ],
   "source": [
    "%%time\n",
    "for i in range(1):\n",
    "    votes = ranks.join(usersandfriends) \\\n",
    "        .flatMap(calculateVotes)\n",
    "    ranks = votes.reduceByKey(lambda x, y: x+y)\n",
    "print(ranks.take(100))"
   ]
  },
  {
   "cell_type": "code",
   "execution_count": null,
   "metadata": {},
   "outputs": [],
   "source": [
    "%%time\n",
    "for i in range(6):\n",
    "    votes = ranks.join(usersandfriends) \\\n",
    "        .flatMap(calculateVotes)\n",
    "    ranks = votes.reduceByKey(lambda x, y: x+y)\n",
    "print(ranks.take(100))"
   ]
  },
  {
   "cell_type": "markdown",
   "metadata": {},
   "source": [
    "I tried to do page rank but jupyter notebook crashed even with corrections for time out and only users with friends.  Also I acknowledge that the keys in the output need to be fixed here, but I think this would be unrelated to the performace issues."
   ]
  },
  {
   "cell_type": "markdown",
   "metadata": {},
   "source": [
    "I think page rank would have been a very strong measure of influence because (very informally) it finds the users with the most friends who themselves have the most friends.  People with the most friends influence the most opinions, and those they influence who also have lots of friends spread that influence.  Further, many measures of influence that can be gleaned from this dataset are likely highly correlated with number of friends (and influential friends) e.g. years of elite status, number of reviews, etc.  Let's examine these:  "
   ]
  },
  {
   "cell_type": "code",
   "execution_count": 15,
   "metadata": {},
   "outputs": [],
   "source": [
    "def friendsandreviews(t):\n",
    "    return ([Vectors.dense(friendCount(t), t['review_count'])])\n",
    "\n"
   ]
  },
  {
   "cell_type": "code",
   "execution_count": 16,
   "metadata": {},
   "outputs": [],
   "source": [
    "df_vector7 = raw_data.map(parseJSON).map(friendsandreviews)"
   ]
  },
  {
   "cell_type": "code",
   "execution_count": 19,
   "metadata": {},
   "outputs": [],
   "source": [
    "df_vector7 = spark.createDataFrame(df_vector7, ['features'])"
   ]
  },
  {
   "cell_type": "markdown",
   "metadata": {},
   "source": [
    "**Correlation between number of friends and number of reviews**:"
   ]
  },
  {
   "cell_type": "code",
   "execution_count": 20,
   "metadata": {},
   "outputs": [
    {
     "name": "stdout",
     "output_type": "stream",
     "text": [
      "DenseMatrix([[1.        , 0.38977946],\n",
      "             [0.38977946, 1.        ]])\n"
     ]
    }
   ],
   "source": [
    "__pearsonCorr__ = Correlation.corr(df_vector7, 'features', 'pearson').collect()[0][0]\n",
    "print(str(__pearsonCorr__).replace('nan', 'NaN'))"
   ]
  },
  {
   "cell_type": "code",
   "execution_count": 57,
   "metadata": {},
   "outputs": [],
   "source": [
    "df_vector9 = raw_data.map(parseJSON).map(lambda line: line['review_count'])"
   ]
  },
  {
   "cell_type": "code",
   "execution_count": 60,
   "metadata": {},
   "outputs": [],
   "source": [
    "df_reviews = df_vector9.map(row).toDF()"
   ]
  },
  {
   "cell_type": "markdown",
   "metadata": {},
   "source": [
    "### 50th, 90th, and 99th percentile for review count:"
   ]
  },
  {
   "cell_type": "code",
   "execution_count": 61,
   "metadata": {},
   "outputs": [
    {
     "data": {
      "text/plain": [
       "[[5.0, 45.0, 298.0]]"
      ]
     },
     "execution_count": 61,
     "metadata": {},
     "output_type": "execute_result"
    }
   ],
   "source": [
    "\n",
    "quantsreviews = df_reviews.approxQuantile(['val'], \\\n",
    "                                   [0.5, 0.9, 0.99], 0.0001)\n",
    "quantsreviews"
   ]
  },
  {
   "cell_type": "code",
   "execution_count": 27,
   "metadata": {},
   "outputs": [],
   "source": [
    "def hasbeenElite(t):\n",
    "    for i in t['elite']:\n",
    "        if i.isnumeric():\n",
    "            return True\n",
    "    return False"
   ]
  },
  {
   "cell_type": "code",
   "execution_count": 28,
   "metadata": {},
   "outputs": [
    {
     "data": {
      "text/plain": [
       "[{'user_id': 'FOBRPlBHa3WPHFB5qYDlVg',\n",
       "  'name': 'Michelle',\n",
       "  'review_count': 564,\n",
       "  'yelping_since': '2008-04-28 01:29:25',\n",
       "  'useful': 790,\n",
       "  'funny': 316,\n",
       "  'cool': 400,\n",
       "  'elite': '2008,2009,2010,2011,2012,2013',\n",
       "  'friends': 'ly7EnE8leJmyqyePVYFlug, pRlR63iDytsnnniPb3AOug, kc-rnN-ndnFTdHG4TfIgeQ, GYndf-h6dAwpGP0lDBz2Wg, FPo3SwQuAK53QVZm_eIyBg, 9fF_T3pQu3ay1oA7h_VYNA, G5T3bd6dUs5zkQ2VMZtRUw, tufuEc5f9TWR05_yko46QQ, 4lMab047cJsEt8puhy8dew, bEbLwLpJauEG-HW0w_0IKw, xz9o3T3uJxyeLZ6Cyb8cFQ, LxBh46T0wO9VlsJUK5q2cw, dUALcXVUTC7NYHuE5GKjtw, LM6pxbcfdyUS8M2jWoQk1g, nQG7XkgrsG4MXXXfexJwAA, 8t6qbx5mNimrLrqs01VIvg, A-pcQqvtlsxd-JgBOIdwHw, 2i2NOMPClqwUA64SkzyIvQ, bnf7t21SCFw3HWfV_soG_Q, b_ED_rPl7OLwEpUlr4VI5A, Avlw4sAK8uGpcQY89Gk0Tg, euxheBcyvFLJqNQSbsFsJQ, 1Ksjxp5WuG2Cni24Ipal6w, nH5NCbQ7eacONPMV8VpdEw, AMqRKxavwt1yTBzlMrG8sQ, f71r-LEp9O8yJu76XhPadQ, cjotiAHFSbFuvbxTWmGi1Q, _KfzNJcprrOQlvoAOawS2Q, PjdEARXumUBwx5zj6jTkng, mGTObjvjjIVy6C3FLNH2pw, wwHxfdwZoGLGmvYznFMvgw, 1hup0FxTWkjNAcVf4Xvj6w, GMzlmv2K6jvLnSQcipGKGA, -zfHj6Ar9FeTAcVyK_xpFA, JyMizIjW3qhGahAYq6CFmQ, czJvKmduyIljcLWfX-9NCw, AIhfuFmX62k7a22gXXAB2Q, 8vU81Y40XNCPykYAfaxyjQ, dsNJ3rcIqO8GETxyQwrL9g, PeLGa5vUR8_mcsn-fn42Jg, Cvvu2V_FO3FjxIHpartSMg, lsSiIjAKVl-QRxKjRErBeg, ITfHnc90OfdNYmin4wDQ1g, DuWB9jtjdfGR3ey9b2GUiA, Jc0T3q_8bOjg9pPlJb3MBQ, jQNE4kG65Pyplz8MiVDJXw, t4uPIUnmF7zdAb6cWT3yTA, RLAR2Vnb2klcb2UsfF6FUQ, v0JtfrbTDNPvSp3rXv8IRg, RvoPAtu1iSSwUfhD3tg1Nw, K68lvhWO_Ln39vdmWns2HA, -fQPzH-e-ubDIiLQhybEjQ, X3S5AhlmLhyiTlaiTF7NyA, n9lFMzaSM30dNHFcl93AJw, NQZDDxDG5_Im6SxYSPcGYA, skzHFVplaHoOinPtymI04w, MpOMfaq4ikuhmFqj2tJx1g, u4NQ1BZ2nXIxRY1gxsPYgw, Y1ICO26IsN7i_1OVD0Inyw, pHqOWnVzU_0JeLPm3wHUbQ, eijfUFNF6flY-cY4Ff6BIA, QJI9OSEn6ujRCtrX06vs1w, 9_ME--bvyZStdz6iwGzMCw, CYQNdjHCL9nedkLMfKLHmg, tTppOboFA2OaNelu3l8-pg, 3lU1iYLNW434mDJ-3dpZ0w, wy4NZPGAonzuz9RzSDtDNA, LGQ7Fu_Ev33lWLtpshou-g, ME6G91A0axSfSYK9YBnWQg, MjGdUi8Yje6x5HhbvwnlDg, gBEihTFxWQ5CzOH1tGjAPw, 4Y0ha2qM31Ea8jZE2hMUKQ, ZnQmJclqMNM1rl2vDFnm5w, BoNlCPHJoYmimuGjpQXWuw, soaCrgXmwdR6SkUZ7Qc3Mg, TE9o4cWvNXg5IYcjAwI5hg, dIIKEfOgo0KqUfGQvGikPg, TVf0-xIHIEsmN2dAKGAIiA, _ey5n3llYV2RfdCDCy6jhw, TUpdK4l8GAWIsdcD8JbkVw, jL2o3huthRW2lo73ezLHdw, RaNkWBMywhBqCZOQWSN_SQ, 9AFhmlMesozq-sq2KFE-gw, ij7kqaoPR_Zwtcrxn11kXQ, dSS5gT5Ajmv-NKoxna4e4w, Ez7OB58ciPCfLVqofd6YQg, VLhnqw7pzxObaQZ4Tpzp9w, v1wa0SP2l6yB11orrh0PEg, DMHPVjHKaUStUBMPH2TjNA, n6hHjOuv8NAWubj0U7LFLA, 6rvdsoYos-0udWV7mcNtOg, u1rtE-FomZXg9vuOVqTCjQ, 0qR6SusZ-m4YVzl3V1UfDA, RZkc9rgACbOsX9mpa2TDXg, eFuUcwjyBgX9vG-i_3hLfQ, Cuk2vdOMwTz71NjBuCF0Mg, zk_mInlLMmLLqMk6IvXm9g, GGWjA8v479feCo6OPTLQOg, FOvWgXp5L23vcx3RNl823A, 94ci59pEqujuw_P1HLW5XQ, ouJuVAEPnnEC_zhcrSf5GA, hxDeqPbPwkKEFXOfK7av9A, x5SbZmP74zu-UMc86YN4XA, ZjDs4lRCaTHugz2EW_nQyA, BECNMzLRiFj3y5k7G4rshA, sDGwhNAQIubV36t_fex6VA, OsElvMpJD17xc3A_nwF5NQ, ns7KN6l_O39R3U3IKfz3mQ, YwT2RxiC4H_8JT_Dkmzb5g, W92S95QwdQERvx7lvxmeKg, HtCPdVujYJAZF4FKr-C9Lg, qzbPv64K36TnRA7Ki7EDaQ, k2aTPsAOfrlFN9LLrWrCLg, UmXzwFM2OkZHWJ5cJZlqkg, UG4EKu13JRwzRix6ESINdg, 6gGRtiXRdUS2PbFlu2QmZQ, krPxbT49l0ffv2S53znp-Q, qLfujrTBF9XXGa9MaNNv4Q, Vz2ouW-nkOuX0Fet7nc_cg, 0XaQ6vvgy5pi5XAaz12mOg, uYy52H-UGQvZ8pXriv2yYw, kJkoabUt9Vpt8FE3NkU08w, nAvWIxkcP39OLMRHtJluTg, UVxY0iyPaqY7s4BSFtt-xA, kGGapvfP1SZH2ZOikdSpNA, ciCuqqFRpSoh8ZZ_a9ELqg, 85k4u8kP9yb8uwKNZ_aWig, Od5HdH_uUvsjGMTgOKiieg, PFyclb0Agx6HmlyMyYqjkA, 0ynxX4zKNh-Y4-NLW4eaGQ, eW97I1zicAT7Qv6j_Ad1wg, 2jBo5YXj6eflYJH-Rle0fw, nMeCE5-xsdleyxYuNZ_7rA, E5bgk6POk8u_EWeCgrlDuA, y3HFVx8nbNmomSc-PWOy-g, qoyf4UgwuF37St-2VdkJZQ, 6bsqA3UTH37wyCOFrt17vQ, Thc2zV-K-KLcvJn3fMPdqQ, v0O7miDEH4XX2diEr7ij2w, 64fujm3m9rYNbCypvHxQGQ, LQALTuDeCRLwR9NOxUWS5A, 4bfqW66F5CFu6Yr_S92EOw, sDX-Wm9s1DeT0aiAxbnugg, dE9YaRaUtkDm-xJrW3BSPg, 7WfLyV9sV-MU7f6k7xgiJA, HuBgs7uHyUz7DzcaScZqjg, MoFiqXxCMV9AiqIg1ymKwA, J6hurmbHzrqxFYL-56YPYA, TN2HEqm1p62d-HNC2zxQ7g, vzw1ZryOiTYGzl8N1yILtw, ZVdHmpsUWMQUfyJsYd5p4g, 4n0eMAeCSvWRl6an5Z8OGg, suF-uONlHQcTlqbXyJ9kgQ, mCwl2apJVmNxH8PqT3ZOOw, sFxvRllDeR5ZLjBhfXOEWw, YjuCEt8TPPDCkmY0LmvLtw, Nd0ocN6CmzrwHf8zeABVsg, GerMhlVWTNkcyI77oQ8Ckw, J9c0XM-wV_KQmtZYxvIFFQ, G6M2NiuST-sK5ZAR4VrfmQ, QVK2aHwCL55_uhq6eBk5rg, cTtDPzQSGHzC7rdOFylU1Q, hRIeyrM1zhL5nhk_cr7yyA, muvrSTpKkOlsdme1AMZ78w, ucAN8VJoiA-_ysMCgZev1w, LOcifzqw4pDMpjaDs5R3oA, 6p1NDChnIpGl29Ce3cMKWg, yjUtVmn9QCgu-p0aG0EhgQ, ottOuy7FZtUV2HnBfhVk0w, G-mWHSm6XVp1oe9PN7NUPg, 61meSfN9Morngpe3a-D-Sw, OGDSD2XeOBBdb1pka5tZVg, yLW8OrR8Ns4X1oXJmkKYgg, Aic2V_XB37mbK6tqzSLuKA, TwPlaNvnziaN2wB3lk_9Mw, qtR8zoqViSlbggc7gaRmvA, RX0GPUmx4wJ8zxP1Mq0tPA, nYryL_iwwwqcYQarn8_lbw, H58nmfUs-Nz_wwcYfWN3Dg, vd0X9jRPbc3-Q0DhZlYTzg, sWt4M6Drth0Lyt4vT8Mo_w, RUMzmM64bNGfKw8Oe_Q8nA, 9kgj54sYGd0qc5emszjpHA, CwMnwuXOV4IBDvDYTAK8Fg, tJN26kuHD2FHpdOCLPJUEQ, CWuZMpIht24ApriIklLKMg, B_taR9fTDA1quy6Lqpt6AA, fG9Bq9aU09w79iLvxXivzw, 9fO8HBgLnMei8zZUz1Ysbg, 7OvtYnfscIWBahX6hL2xkQ, RIq_z44y265BWS8DXDzQqQ, eFbmEFi1-dBlEVrxZCNp_Q, ysDmEwP547KGbzW7h_hlrQ, rMKIHfnjkJlbohF2HExnPA, KKYN4LPphTk-ZBz8YxsDbQ, UNGVRzFrjeilD4d9xEUAjQ, B73Hnya4RxPrQg7CNVAZVQ, g6eN8HGLYDNKqO10FZ4BJw, 1FjbFIhkxgPO35Ak0nozJA, S7d9QLjgw0yt1tWKgoyrKQ, 2r1FTE8e7n9IJznypedWJw, c7pPoQPgSUZERW8XVfV0gQ, ZE3XemEXMfTs-g4Bi71HyA, uJTEn40MZuwQSwziAJxOSg, AGo9oQr6aPCIOskjiTdNNA, O_GWZZfQx7qv-n-CN7hsIA, Ccoapq4XJg78LdyhU4lZng, 4tWyQ6sykZf1qzJydWtgqw, kIpGUhKWzHZHljMbAgnWUA, Ryxj0u0AW3mRsRypdYli2A, Q0St62dXpD3Z_UHvSPcutw, du7qMZ2LGnKI8jtwNaXfzA, QWi-9TOuCN1PMDLzDj1k3Q',\n",
       "  'fans': 27,\n",
       "  'average_stars': 3.84,\n",
       "  'compliment_hot': 36,\n",
       "  'compliment_more': 4,\n",
       "  'compliment_profile': 5,\n",
       "  'compliment_cute': 2,\n",
       "  'compliment_list': 1,\n",
       "  'compliment_note': 33,\n",
       "  'compliment_plain': 37,\n",
       "  'compliment_cool': 63,\n",
       "  'compliment_funny': 63,\n",
       "  'compliment_writer': 21,\n",
       "  'compliment_photos': 5},\n",
       " {'user_id': 'zZUnPeh2hEp0WydbAZEOOg',\n",
       "  'name': 'Martin',\n",
       "  'review_count': 60,\n",
       "  'yelping_since': '2008-08-28 23:40:05',\n",
       "  'useful': 151,\n",
       "  'funny': 125,\n",
       "  'cool': 103,\n",
       "  'elite': '2010',\n",
       "  'friends': 'Uwlk0txjQBPw_JhHsQnyeg, Ybxr1tSCkv3lYA0I1qmnPQ, DNmeLov3wXNxlxjN5feBoQ, x7n69vEsYFh9xnW3D5lPPQ, -AaBjWJYiQxXkCMDlXfPGw, COXnA2hnzFDai3ywx_iM8A, dUFoyswTt5ZQbleF3_4TCg, uj2AWSvsspbrkebc_jqt4w, MWa8PTsb96FQAP4xrrVANg, G2AYDJ-mezLYLciNMcTXjQ, gEO11MjHUlxqM3z5UFO5uw, zHeeVKXN1A86-EMRAgq_Bw, 3Pewj4lcZzlUvhmJGKFpqw, 1HC_-rWi1oaB-N3BjqGKoQ, KavG2RBt77vRLqG1_6RBvQ, 7cmEMOLyD4GS1XbjctJpoQ, ZnxSdo0cVyH4HEdDlwlv-w, RT1w-Z_QCgJACmpOELpPhw, 62V-Kyj1MD0IVGgZYkxy7w, LBEdgyT8eQJqlV0ZWmkAzA, vhnQz6huUOwuu_X7Qjbpcg, x9g-i1DsB-VjSDGVOdRonA, 6sLKnFnV29EXW67d6wABLw, XpRfQFXFPLBxWdMi32_CSw, 2O-ONoy3ddNCfSQ34CFgiA, 93ZaU3GfaXSr-RjabsaQ2Q, _LbK9H21Hm6nx7FzjeGpEg, lkI9-dcDhNloFvI-HM_Jbg, Cvvu2V_FO3FjxIHpartSMg, 2g_7xUuWYKlHGnghJ3Zpjw, jU9aSDYxNIXb7j7oESxe2w, ekGZOsYf7lAOpQlD_j8t5Q, nkN_do3fJ9xekchVC-v68A, KKlGiwN0g8p89eQkMyhvKg, h-sDf97w0r_JDOVUtzLT8Q',\n",
       "  'fans': 5,\n",
       "  'average_stars': 3.44,\n",
       "  'compliment_hot': 9,\n",
       "  'compliment_more': 6,\n",
       "  'compliment_profile': 0,\n",
       "  'compliment_cute': 1,\n",
       "  'compliment_list': 0,\n",
       "  'compliment_note': 3,\n",
       "  'compliment_plain': 7,\n",
       "  'compliment_cool': 17,\n",
       "  'compliment_funny': 17,\n",
       "  'compliment_writer': 4,\n",
       "  'compliment_photos': 1},\n",
       " {'user_id': 'QaELAmRcDc5TfJEylaaP8g',\n",
       "  'name': 'John',\n",
       "  'review_count': 206,\n",
       "  'yelping_since': '2008-09-20 00:08:14',\n",
       "  'useful': 233,\n",
       "  'funny': 160,\n",
       "  'cool': 84,\n",
       "  'elite': '2009',\n",
       "  'friends': 'iog3Nyg1i4jeumiTVG_BSA, M92xWY2Vr9w0xoH8bPplfQ, So46aZ3y7zRl2VmFK35vCQ, vrZmtsiaIZBr42KwAve5qA, SaNDaz5rBQs-5gyhOkO1MA, xTcuKbp7ocDcZDD_bcK9hw, PpzliPkE_fzsI6r15UMZFA, Ygr_c6So7Aba0kDQW01FDQ, RL8CEnHK-FRA7tQd_0q8Sg, xXiVvsK9nnRRCfCMwj85Ag, p21bx7Flt4Svr5TgfMpZ3w, nOdmcHSwcaIMurQphLwD5Q, 8iboMve0kaB1tunZkYENKg, bR0DnaZHT1zZpCWzmLHntA, 36Vr9BASkR2v9NKNoZtiSA, FLjrwZRr6wgZVtIm9dWYEA, YctWPgIfkCyAw4EChKPFqA, UW9DSt9nuTGdKc6oi1R8mg, v9qZhWaRltc0uCzXmGaHmg, aipw_nbOkMRoxJRSpes1cg, 3aAAJqybpkD0pc7WvmY3Rg, EBc59diO4gfwoGR0j0hfWA, kyP4gdfQ-7GZzI5jSWDf4w, UwmtWzBdbi4AAJiuBrXrQA, pZjpnDqiORF1lVqXLnYRyQ, NUTZv6QmHZz6dxnBhLNzEQ, 7Zd4e4JOuqsR29IpojC0kQ, xY-_P4jUJD4zs4agSjWbrg, IyKJLgLAHGXyAc3xgrsCzg, m2R7pydiZ7vezHD-oZt6-g, hizGc5W1tBHPghM5YKCAtg, GbvhM38d3jqb3Iar2MuoJg, E_fl5lyRMMXOZ4jQZNEiTg, 4UfHUgieOvWQo1XGQ5oYFg, ZOPLjrmR1qjc0fk6hFPM5w, mZfae6-3AkHzd_AzSgV6qw, mcG523uA11CIk8OP4ieRGQ, kWZd_XPvezquaZlnR-cGcQ, UOCPrE6sz_dsdACdnkjApA, FEBiHCf5qT69Bo12F0n_og, Vo1zWPMfzT1y0U7wHd4Qbg, wc18MFwqzm75P5JMscAtIg, 9_I0lDod67yMUxFJSyTXgw, ueClFWN0WePrtUSayd2FaA, _3Jmz1ImI4-e1roLYPxDAg, Y0nXlvDrp5u1lIPfobN2Dg, ebYpHPQWSKoxlzCPJFsFjA, 6XiXp88SLli7Ls-rU_rAIA, 04uPXZ-QrZ3boQ2CHPgkNA, tAMMm7RO4xYEyh3YGZyNRg, tpXwIuoClyyAnA63giKT0A, v-pGGrjLlnJPUpblDCAVCQ, pSRS0q6xbWlRYd6HA41h0w, IkEwgKW8Ay3S7AK-3R0PsQ, Thc2zV-K-KLcvJn3fMPdqQ, 5xyUUCEtv0fLEQrmJuZnRA, ZlDSUd9ZnLRxkdpQk6FHHA, 5YaP2AZqZRzYP0taTSCNzQ, dWUpHH4b4cScT2ymMaoEGg, aI8SRtS5igDFHd0ZNo-KMw, CZzdVwvQmewOlwzLyNC1CQ, TFB0TYC5OrdJNjxPB74PCA, 7terxram9WYIdwVCIBkvDQ, mTRMuXEmozVVw0StZDGrPg, CajMs6IdJF6RjGQaBAOILA, tEvOR9v9QANUq8tNpX98aw, 6dVx8ommZz5On09cXFHgyw, blCCwjBjMWbyuopwX9oUDQ, PNa2-EjHe_ApIgZXD6kxBg, JiAyMJrdqZkcul5tRWPByA, tMgH4wDvCXunT8rfC0jvnA, NB1zy90YDtxI5fRUR4vQmg, QMya6jHkwyrwpfgpF1chNA, iAILYmwCQiqpyXQkbMks6w, YRPs1xvjd1aNwHegUbwjQA, CNyitHSWyHFn-lHjJxKaDw, PoKVnj3QpJEQRZDijSAz_Q, xBLGb1lrLwTjWgEYgCeOEQ, X8oFqYnnwbb3fUQBvHzIDg, knBXcAmTwQ6yP9L04dmZjQ, d7iJj0a372sinfbSs_W8BA, QMqSgBqSrlRhz2B0UiORjw, vNNU6htwtCpClw_AZ2gb4w, w2ODFJvfvG6VEA0fpJ7nLw, xksSZOLEs8hyMa2PMs-u8Q, K8rj3ZEPY6CjQWS-uP3K6Q, 4zpUSSpundqCrk8gHONgew, AUP2CmIEdeBqF-47U8ZhIw, Lg7Zfv48MR8IIaoU1tKejg, bGgf84dQurLiTha3ru0QDQ, uIn6NOzyBEeTikigZgxuEw, 720FSwm6M9xRL2eUu3N50Q, kF95hNEblFmCe2B3UJgxjw, ERrOa3Az1ohyL6O-vLqj2A, rLdPfte3FE-HYJ-t6rVdXw, 7LgoIUC3y5GAZAfkG5xtfQ, h5cXTu-93TqCrFnbopkbew, V2JeIFpLdli0khGsfqrCQA, dLrGzLtYgFepEtn_LC-MDg, K27pxNGQWceO7XXBiS4m0w, Iw-UXs0qSKfxfDasEDrDuA, idJ35gltZ90eFFCm2YvtXQ, FQLskXjZ8xUbkWMihFDiyA, xuvLQE19fPrisRrgMRXfQQ, P-AD6uzK8Pg8OqmviAwIMg, Lq9P-y8gWMHYnYnOP7SjSQ, Gj_a4TEQqunhcNxQNal7ug, dkInfCtRcvnqKEEbS1V3_A, v3nHr6tKjYL79gocKwaHCw, ivGkKD0is0F2pBZWAPEaBw, kQTLrAanBX44x2Mfn-I3GQ, V-kZOpiwmqjjWudWApylPA, LGidSe8ghgfdqGsSOXr8tg, GmQPLhAj7NMbhUf766-uiQ, 6LoSM5hgpTdQ07AlSlIe9A, 3g4pfmQWVd6o9mggWw7IiA, nKXMLvWzxW0G58HIEXn3DA, U1CTiAmf7T81PJK4NxngTg, a8UgC5l8juHSqQMIi-o2cA, q3dCZIYhKnCT747C9-Bi4w, yPVa6e52o5Ao5K65D9wsPQ, RgXbXzGEsq5ys0RRm3jfVA, RvFgTBaLmRGClncUPGOS2w, cQIFLm6ws1aH_I-Nt1W54A, b2FQaAkTrmRdbvXpI1x4rg, A_rIi9kLh2aoeBGBNyjtQQ, T4WrL0OkzDtZgx_00v8QxQ, ee--wzykQsIUuC1VAbmmKA, hZm8pEgyJl2L0bn7fykcsg, d2FjqGUNuAiFHcPdd3FuNg, rjxgtBNG-e5FAyD8e57_Rw, 73q_SWtiBzb9u3mLLbksWw, Oi6Z1vBoERUELx7bsvWrAg, d3eP7O8LNLRQOGsCjgmOug, 03qtVp_XohUOnFZGCHTcYQ, CMUXo9oDDAImZwp5kial0w, A-XfojPFGvBkiDIc2IolAA, xYqOJJjSkCL-J0dMBUELZw, 7EBkuytBvApvUhoToVQqnw, BbryXW35KHHIj6KBMcqUAQ, iWHW7iFxQBaonTpC2hTntw, 8mwoQkSMPsaHzX9WQJ05IA, yqnveJlr263GK4vdmLpspw, AW0kk52WgpxovbxjxQ6zSg, 3G5xgbgXuV4GTpko2j17VQ, N2u2LfwhGs4p2LxMn6v5YA, pPqWDTJr-kPAy4TXZebndQ, _5L-ucix72TKWcE6SJ4aBA, YHzZUV_ji6aDBrNEyfbp8g, b2kzQ0OYaGZG4CbpH4Cu_A, -xK4wS_paMlVYn0sD-xu7Q, bb8sDmOeH-foJePyxyKfGQ, t9-7T-ri2741XTn09zt4HA, axdHGMOHNVZULE-Oqw_hGQ, DsiW3YrFsVSOBHzI1UCslw, DNpyA2he-Ql2GPJcwTsECg, t401RQlrFcyb4Z3IJZT1bw, kkDKh7p5IJwJ-8ueKuc6-g, D0YT9WPERx44JGuU96uFnA, XsXNl7-7iG7ziLe7n5JNZg, lMHHHbgt7S1ECx9_RLDYNg, 3RUupRunV6rQGAybGIKANQ, nUUd_oILvvsW0IyY1YMIoQ, fu3cOEyBxxotI7qkiZJjuA, BQofWToAC2ZUrDh6n2x1gQ, mAkgoItGaK_57gdVeP8ICg, Xd7i-elY8qVXX9Bs1gpD8Q, FJ6peuwF0Tha3j_2gHkw4Q, iyQXrxWOINZmfybiVX0k9g, rIikCs8hOhQO7sAXzqAphQ, IEEMCTBnvZRq-Fj7hxq87w, eUy5wXizgMxjZc3JMD2vrA, 0dvTKYj04bCrGg5XRZueOg',\n",
       "  'fans': 6,\n",
       "  'average_stars': 3.08,\n",
       "  'compliment_hot': 2,\n",
       "  'compliment_more': 1,\n",
       "  'compliment_profile': 0,\n",
       "  'compliment_cute': 0,\n",
       "  'compliment_list': 0,\n",
       "  'compliment_note': 7,\n",
       "  'compliment_plain': 14,\n",
       "  'compliment_cool': 7,\n",
       "  'compliment_funny': 7,\n",
       "  'compliment_writer': 2,\n",
       "  'compliment_photos': 0},\n",
       " {'user_id': 'xvu8G900tezTzbbfqmTKvA',\n",
       "  'name': 'Anne',\n",
       "  'review_count': 485,\n",
       "  'yelping_since': '2008-08-09 00:30:27',\n",
       "  'useful': 1265,\n",
       "  'funny': 400,\n",
       "  'cool': 512,\n",
       "  'elite': '2009,2010,2011,2012,2014,2015,2016,2017,2018',\n",
       "  'friends': '3W3ZMSthojCUirKEqAwGNw, eTIbuu23j9tOgmIa9POyLQ, yFLuIUuiaaIZxHw1H2qT_Q, DiHk5N4pM37l-3Zf9yy-ow, DMygFtzXXy4CZCyjP1TD4w, KxCZKvc_2WXlrHhAQDD9eQ, manoJwmgZmjQ7yjiwNwr2g, LfmM_FwYDIN1VXVcg_HBtQ, RMpC1kFEJw6fZg__aa7gRg, WHaGdY4U18QfIDiXxaYSXw, xWiirESH97dE6U0oT1MSKQ, w_D4h7TEBndcdPICf8eIfw, -o0xWAEO-C2oqlyt9TO8qg, sldgg_7mE9JQ5SUxGlhPXA, xbfFwxIVFLSKAgDZ-JIIuQ, qSEN5HR0wLXHSZRRgLnJ1A, hBicl52tMVsTecdZSVL-lQ, iUhdBdZOPnAs0k34Mc107Q, pfdZizODh654KQ-YkI3PFw, lMJkvCuST8RTXDvLQBYAwQ, _wTLI44Li1un5XWmDNYdSw, tCqYnhAdQhPO3JAAnc09ig, Sbi_YItlH8YwXnQPi137Lg, cDpCG83or3YEgivwrsgzaw, 2UNKXi2x6q79cM_YShyUTw, -zfBMFZ0KySotqh-BAPWXg, 95XXTDRkA4pWSYs-gdVVYQ, BLPFZ4n43BQhecOpyoKheA, 1HDPhw4knpyxj5K4Zt3EHQ, v4G7CXgmzxW6mO6-YOOAtw, BPpRsy-rk4IjJirmmqIz1g, xU3NcJ3H23uN-2RPetoatQ, TATK7JhmINXt3ShXEI2D-Q, gjkeN_T14s0Y1tzQaheDPQ, gKAeAgeThdbLMu-J94JBlA, ma-WF5hkZhz9HZTyTXwRtQ, EFniG2-0xUMG2WX5RrQI_A, 8tHug6uVNHyp4e2HrdhIBA, fn7epUiyscygeRAaZCPH5g, DHniYyCFK9H4uyXWfvcQiw, ixK0mvlsaniRQb85q1oLoA, cF3-D2EmOx0IGEggRSBzEw, wOuqeCjXJ2XxEHjX4RG-0w, SZa_mGwvBJE6ECdZnkAqOA, TLymPiIbmM07H-I6SyCmgg, 1CkK7ZbHD6hf--yi0fL5dw, 9-sg-awD4wBQudDopOufKQ, CdUq9v50tFlgmZP19t8HyQ, Eq1pMFw7esgDsZv7AOYJ_Q, JeWTh9Nqw1FLWnf9VbHyQw, jnQ6HKXkDqebDu-HpohFnA, MKKSHNBIXSl1Agps6Rbqcw, _oK-72eWZrxWKgtkUZpXww, F00bYQx24k0XGWMHN5S3oQ, IL3Oh14W4haIllB6mAtZmQ, hK9lin2Jm2du5yayWDV_uQ, Nbe3UOAL5tWbejE1JFITCA, t2Fu98U_wEKnV8ViY-ZitQ, 0lvbLziPRbz6yxEa2R_KwA, L_2YNKqoRcO-gAajqjj0tg, cr3bIFNBhmq0AuJsvqfIlg, Y6GosB-E8CNVgurIpmFYQw, XW-Gue0vlaYnu9JUaJFEew, UCEp5V7kjsKVIpf71bIbWg, B2507cYdEX7LywdoDUa4Eg, 4RvKw9TvDun7bOGZUDMNHg, hvMfpavwpFW3Qh3cnAZ7bA, vSRbECWHUUZvOdyjzJlAHA, DPiZ_4tSvz6zuFa7ER42aw, 3Tu_E_rnJUMT0nvZt0gLGg, uhkKjqv57lM4PWcP5cFfHA, nr5ClHq-4vyx3VgqN5kdZw, lU0WxV5UjAzmbuNklvrnPQ, EwKwHnD1YBdd2No_cRGyiQ, xc81AJq6csfKQmo2Wx68qA, z-VCunf57z0O_z4lGNcZaw, Sa5HS03LEkxDgsuIpyNXug, jEL3SAOjGFTsRiznhnU9BQ, kJOpmRoY8Vk7eR9RWh6HOg, ih5ab_LY5ZBF96xR3yhPzA, gbx3IYFKB-36HhV5wM3G1w, 4JuheHJaShNKd36ctkMeCw, vJBlQr88EZ4PBo1h-ge5Yg, fmbacdUQTrTOtPwpYA00NA, JrDDyVLXhXSvHqaro8JFbg, OXFpmUiHJrUTPzWbXMt-XA, v1pCoQoHttflQYuy8NCfLQ, 5KCrLbYGN7yYQ_Hfsm3Whw, 1pisMc08p3pykpu1GqhGDw, LOh4vATnBipFcWmPCu0k8A, BUC0NVjJrnotcR5l2rdxnQ, LJoiY_2pPKG8xi4Lkl3ZJQ, A9weu_2okxF3SvSgDT5pEA, j8n8L8Rx73v8HZLaCfWH6A, l2PiSpXeqoQ8RUbP_nrjiA, 71HPiSCscZ7PIvw-9tu2cA, SCdr7qtuBQUhlAGZ1tDyBQ, t0zRAEf5spDf295IFLAaLQ, yFph5MjXMnvu3H3tgLjMJQ, 3Aw5KIMG6xy-oyHgV0-GlQ, oXLz0_Cx2735wXgEgHr6Yg, U3MsNj_Y9QJR3zet2Qie8w, OfRdUkub_3p2QN8RPOSphw, vmcqAzBJLDYNFbW-n1fMAg, Ea0qDDlNJuVHbhLxuJe0ZA, gx3BA_7Xg604rHzMt_kAlA, 2EH5dHIs8nPrmb7AZIvRAw, A-k1MKZ8sLvYQsi7EqYb9w, Jqe7yuFp9M8SPMDOYu0Mzg, Nz6yAfGZ3qbJxzRyrt4wTw, ipmg7k0ohCgDId9sN8rFfw, yYWvkChJtPoRM-U8UcRLfQ, nDwZBm9XpmelGhwjtX9L0g, 1S1t3yw_uLqreagmiEukPA, OQL3UuILSYpLcXWcGNAELQ, u4t0wqjJ-xkZ0iJu48jkXw, ZJtkx_hFEqdCioRsE9Pf0w, 0V9ozGkVEjIoD1bvfT6ESQ, YFJ4aClWcqo9SFRcGY7FDQ, c0cBVKA4lSmf10zrMdgjcQ, jPdh_xqx8NbftgNM2DynfQ, FlqNvqZjcwvgiEKC2Tt0OA, fa0rqQUGmPua_KJmDQdwdw, h_Fgkb9Anxi4DDMZIvijOw, 21ebz1zQTbIaZh4yyo1j5g, NSHCHmd74-8Tqz5LIDT75Q, Z5VJvMRN12js2k2XI7ZjKA, qcQXdNywQdSkwtONRr_5Ug, tM-29M_Nmv6cnnQjula8Tg, d31wiC8swpcod_WEbvT7ew, c41mp1-LPynfReHGJUiyHA, JuuxekdfWW1MG8hZKof3uA, fNBUBT67WaATQIJOw1YfTA, Vh9Et5tPeXTwHPpsrOLx4g, o-1Ri4_LhQQabvfI-VS_9A, 3JmdcESvJDR5Hzwk52lX3g, hUNrOg65JTPhWzTv94-N5Q, XsmOzvfIhpMPdOIc_qejhw, a7t7wyVJcu0r8lz-oUWpfg, LwBsRU0h2KKMvp8ww-n3iA, x2K8YAc3TMOLkTwetvj5IA, 62GjqZbaqjtkZg7FhJOmpA, FMpzbc72kxc1XzKtszTikQ, nW_rPSIj-FdOJRn9ObK4nA, 7mheFq31ocCttS2uo04FtQ, cf9LYsHgN4s2lqdP_y8SkA, QQxNfYNykLHs38bC_NgGwQ, S9eFTnU7SmJn4wNOeohYRw, tO6fPc39fjX-E9WkUa1RQg, i-sGXHantCMU89xGnmvQlw, -I_ZfUrRiKEx05-69rmiTg, ZJpE5qDqlEm7A_JFEDgZRQ, 2vGCJ45xvACOSL3DJ33ibA, lQlhYe-6kVhMOBPAWvYajQ, UkQuKJ_DEqXG52UbPxe4FQ, NhjQOrzAGjDFXRYrZ0-NOw, RnEwTjf5bxhc-YcdezXQOg, JJlisIS4IOVE2TOt8y8a5A, KacEzlmXp8s2tVWkV8LKwQ, OFPgwLm3xm9GpRuj4PFSDA, tkWF8_dpptO04BQurukx-Q, 3o1JaQMfrf4rGt7gj9sghQ, wUZwwaSur6cBVdxaK0cSuA, mOHEiIiExrU8Ep6aDTLoKA, OpOHaljL2FUXcOkdRWLqJA, lyip0vXbZmdJbXlM1Ve39g, 6T8CHNPlckS28U2Sw445_Q, JfQFiwkyMcwIz5B_4U3-yg, bqln0cuhJyQTiqpYuaoZ7A, e9HW3tB34ZNd3HzcswDpTQ, HD21Ye5D42ChK6Dzml7fiw, ysBy15KUcmQnMJ6FVMqztA, c5OnKJaeA3qUC8pTPeZEhA, BkNikjMkN7YtBe0Z8EsIEA, 3smrS2lpcaO04Puip258QQ, a85iST3hLHKQmkRhDk_KcA, KP_lo9475Wxra6PkkxST4w, G-bPUbx61xw70kW33ytTvg, iEONL-v4W46yliYsovCP_g, _C2cJ17vSRvRBiKWJ2ameA, PO52jOgAcr0-lbqzWvA9EA, fqi_FVAWG9bPqGc0j8_Haw, 7vDLXJZKdvKcuktSgF1pUA, fBpg2sPeXcGVn85T6cJQvg, isd7jLA00nt022Da8MqYJQ, FDmR0m4peLNkRh2aXQ3BLQ, ki8exBN1pBjSE7PlRog_Zw, 9DWIu7vW78lfeTT3dZ0bKw, hLXrboOkNwpjbC61fqB9Tg, CEnE_AixMo3tKPGz90qqXg, _3-IgFcAw5HVfJ0n2j4hrw, zSMWLLSsXSdSgHS_56J4Dw, lEoVl2Y4mpvkIfpcRSHNpQ, tYSdUh-rDvbinGhZUssv-g, EK6qXQ_DiPnI2Gl4kTRQeA, JCKBuibfKALrRlJfOAXG6Q, _lDyP391ahvEygYnXX39ww, 2Z5ziIMTaH-rFPVkym6JXw, NNkoRAFEJX4LOaHT-PHohg, b7qDvcH9rC9r8iLDiHMlsw, -3sjuYVkiWZPkQW_x37Ngw, yKFmQ8rE37ZPCc03i9ZQDw, FskmxCtEip8gwjpMotvIfQ, 1Nd1BvPsgCyg5_biSJZrSA, scgj8LDtiSIZz-wchh3fRw, R7RbOGcoj386qUGc-oJtVA, FIqn_W-DbKTXW2OXl5UfrQ, pp4ax-HLbdvGCzTc0L1dlg, dC0brUBqOuG2acjpNYb5Lw, 42P_hSlGg0Lgj6wl9-eDjw, -NZzbQWUZDhoIjl7FGBTZA, fb27beGxhwv3kp5B5CQLpg, T6U7wWwCfVrIqAJ6DE87jA, tbmlt2GB2TsG5whGPgKlIA, 1AHf5XEAITYGvJNPD1FzKQ, ocOFYNa4JG2zdUnXzDKTYQ, 9CsGLOKpNKmYzaUMKrkI_Q, Fcutedb_UpShe3FDXJdZAw, DQLeXLdoj3N83dx9U55sGg, 3ZtI5EB3ce9mAByNl3QJ5g, de1qGBWIeS0fW1XGPxJqNw, l7sPXbqs-tt0xNc4IreexA, 3Wd5sQG9rxBcppJgut9qEw, Y1q1tQV-MRmNmXg59PPVuA, 6GfLyNJC6fq-5SkFacLSEQ, TPlHel4vQUwWuUb1WesiFg, duihVwxxVm8iD1NVPwiWCA, AdnYncaH0p1xX4Qptr2JTg, APG_9lB0XUPfnFtW8c2euA, JSfwSrT-0xg5vcmCXU5E9A, o8taQ1lGwnpHPNW9m8Gl8Q, mhBSh84x1Q3IQ44G_TUx-Q, O1gwXEy8CiVkOcTRhwQh_g, olSaco1RaSXC7FX8-RUDSw, 20gwbEbQ2YiZt-b_lBMFFg, Jwq1WTcGnofIAyyezN1DCA, UcTcInDXv1ir4n2I95eL6A, 1FIiSLfy8-Q-bP_i9vONpA, F09W4BN82-KP2QG5ENCKmw, OeY38rFCblxPjPZOTU5qTw, V96JMZoCyVTBcMLo6tBfJw, nhsvFzvflITLv1KzUYCY_g, A4OsnPxvbqkbWj8LTw6dAA, gx-rLLuML_Qv56fddsIkrg, fxfPnvlHe1KM3PwwiWXoJw, ic2GN2oeACfakY87UsNgIA, Q80j8uPT67NFIaZRz_de9Q, 0wdpaxsCLeC_exmURwqgtQ, -7niRC7XqaeD9k-paumoVg, ZSexQZocb2p2MH0LLQtVhw, WbJOBXGeZeOEzfNmpUCY0Q, Ol0E-A7fd1wiP1761HCtiA, -76T1GLruQ04SyJMFn6hOA, iAjYlvwZQijv-sJQitWDxw, RoMdD2QCJ24FwxOfNPTBMQ, MbC9tk151T2VfCigDvXKwQ, zUcEF4--1BVttP--QCzUug, qShUTjfgcFwHZbqpXwg6tw, Yl-k4fiC2jJyXSkbAd9qbg, wHb1WvbS8EGFfW8WLLyTXA, PZ8RQyf5nuViTh7W0eNicA, rNsgHVf64TkGNdhURs0brQ, 81_GF8Lp8OCQ9ClBxbjcIQ, peC9oY7mzKcHdM4eD9ivFg, maTdma8Zx8HSbStSzcYH7A, IXsxl37WS_mAMqmPR6nO4A, 1X6nQsT319S45ZeXZwbfPg, uqZKTBVL7z5OkOeiL8wvhA, 5mdqni3AgcJ6JZnkbKknAQ, idN0FaGuNgUOcEg1Rv4KeQ, oB1TReHAj1GnF6KL0yHJ5w, 0eMCr01NU2HIT-ZCVmSNqQ, RLwna6EsQCrelJJ_CMdF4w, ECperHcJz1OYdmcr2VQQaA, y-ylpizkh5tSgh7gJlef5A, 69XH8Oav9YnddWlVYUhhAQ, 8cRfVboGSLA_yc94mBwY-w, EKMum74wUMoNaNLPzW2aQQ, u1h3gkRQiiWIn7ZogDk3qA, lqYlCYhglgk4JoYmoQtmGA, yxsB-7F8wCJ8gsdboWcpLw, HrtzkY1_1Vs5MBGmNwDy4g, s_pnBPgEUdtjhIEt-e-zTQ, c315NCoNvWeHEGMXfZWhmQ, q0RMIenA9KFTT0YjtgqeiQ, TtiZMJkZyE8Honw4i98r2Q, eQ2luaCqWrtetl8aK2C-nw, 2TI6aBY7XeQzjW_0Y4CzCQ, SaLuzwzSEBlvng9y5fp-3w, v_JoztTm0cQpDFa5cO_Hcw, cOBfW03LYKiZSSU3f1A8cA, gQxXz8gZcI3PJRHY5XPHBg, tuEj3m__wZbIFUV47C1WMA, oQUVlhpB0tvyzzdbHSCU1A, rNL3gaeqfcSBzcOEmUqEHA, 3RCA560eLLTlBoWZDsNWDQ, b1jSyiVpJNLmLPSS0WbXdA, ZXFTFPEbvgjQu0LcM8NK5Q, L7HDxa902qQhkYbpk41OwA, d7QaDQh6vKJvSKQuQeFcJA, U-EPgANh0rYjspyAubfJJw, NjppReIm8Hof_FSWeTppZw, dVO_MMInwsXyUHv0mdhlrA, mkXoA5xQvo2dx0EHAtWmrg, uDGDBVbgmTYbtxoOtI_CDg, aaRtXRyDz-EWdwm87ZIDEw, h6k_Ux2KLLBrQtCIsxGXzg, StYQdEfYZ8LjGps3dkp-Lg, LFDuz7C2U-Co1W2a2B9dcw, 9tiLHVRQLjX-tMPlxgSrGA, F5Oaneq5FBTF_Wq3qHRrfQ, gvwq_aU7RB7T_Wjtf1YjPQ, zZkUkK9M0v02qHBCCm5zaA, 1dmhJRhGqrQ57q1U0CeD-g, wRLY8U1YPKbEa6G6SIV8Og, ni_s0VyD0XRC94NS-4TIUA, EFxUsGvwea52ewI6ygdRbA, DQkO8xnd6JUp3eehodUMqQ, NqBxzUN6ByA22GlVx94uSQ, gg_PAWQwZDrGtKx_6vJ49A, hkV_CrgjTeJBTAWJWAO46w, EKNksYUT3V3jXYG3nbIk_Q, Gv0OY1DRWePXV5bY0nctyA, gUKYn1gU2kWTsugSC9mIhw, -c4GFlUFGqsR3aWF3-FwXg, deZ1MgQGxSEs-3LbBN7m6w, Wnicsovc3dFzGbZxPV7P9w, FtK5-u4R8n6Bh6HdIPIlgA, FFigwLAAhscYpqemMHnVfg, q_QQ5kBBwlCcbL1s4NVK3g, RKwkYZOg_82sGSnj_7nLtw, 0BkddRbZL0AxS6PYn_f2sA, DJONLS6w3PSccMEmYKSKyA, Jdp96nuCYvrHo4YNFwMdew, FUjz6b4QAs9BS5s92RVpow, 72CdgJNB93O6lyhNPUmmsw, SlTAjMuK8NKNEWcdyQ-i4w, itCQYxlnjfnQPKQBU0K_dw, rliHBeiabUwzy7zdjtSh-A, A-ktB_d4T0MWZVw-YV3I-w, 9SgrCtJ0k7U0rxhcazaiiQ, eynkMymKjJDVdUsfIJtShA, oenYT77jShAyNvfqbZiclg, 6QdnQoWBHaorYoiHvIAQHQ, pr3FIm5CWgl5P_NaNqReLQ, OjjlkJX_7AgeJ5Z0OPKndg, cRbGZMBcOySvHYoYLb6jng, CAO-uQKqaCb834zmegPVuA, rOaoXS2ranIPDMmogoxcHg, DgLOt08hV0dwCKg3nGNGzw, dfMqoJD3kHMrY1KAUVk0MQ, z4Y0t5L2S-8Gbn3edEYyfw, YI5byJNiWTgP34hHxb1-lQ, OMKP75DEKRhU5sD_JFi0gw, OFWsupda8puu52NexVubuA, wTNav0Mw2je0KzC-OUksVA, jdWVDVdh6dDu7hgthzI-gg, vF4kLTg3W9dO4tSdXLWMLw, y4oMRaj5IPvcwJY5HBFQmw, DpjBtmkGpzh8LtX_1vn57A, aLiu2fGbcQMUw9eiNw-AEA, KTQ7l_vw84tEzSwvSOGm9w, ART0de0KPsRNeXGo8ho7ew, Lj4KIbrlZ8UiF9vmND2qYg, LW5X1xzxR317poYRK-qyhw, Bu5HNERCUpz_yqBgXrKqGA, Dycz-tjFSokl4ZO-FHxz8A, tsmqKG8Fu_lsVuRSP9vIMg, VcRiO3RYhzTiIrdL7_8gzQ, b3IUsYRHCcQdoWoCJGM2KQ, 7sxNZQ7IHuS-YKQR-a3FMQ, OY6OhyGyhbfBnQd4CYSuKQ, IbqaS3Q1x612Jiocv8gkcQ, OXpGHJudaZgrZWJBPS35Bg, FOC5dArAp-ZPzMsJLYoZDQ, BdoPpSj_LvxFetqKvpe9cA, Q-6rmcCdzYGHaPbwC_A2Pw, kFSwBhUfkzArjsqQ1rgrcw, sUm1WR-TyDeQBrzqu4GA5Q, dAbFPBuMbJ775Ja3z27QVw, QKlkG20gGZ7ovol0RQ5L9Q, aISCSMvsLXamoguZy89h4A, B5wk5B0hQukgjpBkS6x0pw, muBUiblxLTIq_iXA5KhPRg, k1Cd7lrfZEaQpIdDUGS6Ww, dtr0oicqyWcTZAlRdQxnMg, ipC5pbsw3sGQKkOX37_-cg, tOMKuiaqpqQPpfDZVz66yQ, dQoSRhtUs-X7er34vsxKzw, wJ-c2L2PlHwoXZUH_BUiig, V6OHfljlS0Weu1yTXAXvvw, kmLSylYR-J7MDK16LwR02A, c2xMVQz9XOES8k9mUkcuBA, 2tavUmNms51nE0op4pqUOg, spDS7HPrOUc3wCNRyfSUnA, ggU83b1PBu36_m0QW6dNJw, JoABwII4DUZSm_Ggvb5Iag, 01ehZ6yudnTUlCwW7r_xGg, fnJwneAe1ssUGCmtcV_cAQ, swUxTfJ96XZJ0ufmljJiXQ, h6PpqBWB_5dBA6Z6En2Hag, NhHB2wf1xbM49aYp0WGEeg, s-jFk0SPuxOTgRefoEVnhA, O68-LHas5L-b_KC117Yt3A, OBRh-pTZJMAeiV8kmYRUSw, EBYk847hBf5Gs9jbkMxAdg, EmUHQ1svWyEdksHnm17wag, JuO4YsXmcGQp8d_jZ0S2oA, PjMC73BLj4BfhgAw2TG7Dg, 8u7cbhLCIkO2o1_965YOoQ, U0E6K6QOb1XzAs0IPSkiMQ, iSdVt_xxN-n0goJV4-TIsA, d3rf5HtTsX9E_M7PDexkqA, lkMIEDnfJT76DJZmegvFdw, ARJMnx84TWM-pAudSzuYDA, JWfVJjIwnhk2XoWx3t-_Aw, LGUPaB3a4YSaKLw8pdlCbg, JvFYKQwWTJ3-P80Wmcy6iw, Zyrb4FHJGD0SPvcLKBKDIQ, Z0iHeIwjetHce2z0saUNDg, ciBWLoVpNF37S5NGrMctWw, -A_IilsBqWOffdM9v0wEgw, x11OQ3q4RJV9Ol5toZ0wkQ, pbo1ycfllGw34eREJmROSw, tfRFifsrcbQdZBTyQtir0w, vOwgWTLGsGF_k57tvVi42w, X2o7YitABpUWP5eIaNmtiw, vk97VVHn6HHj2ESw7jE-eQ, xroBj5J89ftnaHsUSJjuGg, VRS39jY2UO9vchUCqcqkXg, Y90ZCzEaPiU-tDrDqGKIbQ, DmXtKTyfX4wLqlYOUGH6sg, pLgglZKkv0nJfSVUTFH2CQ, KRglHV_k7kVmLjRcQsU9SQ, QdDnmWKb-elFcxqtSYPnFA, ZFTcKe3Os8-B3zEqkrz7qQ, nhYsvDpjPzDqn4tjdlqaDA, svKvXGcy2Gbm8tUOocuNWQ, 4w8FyRs_KQQd2xTBqF2ozA, THD2rkIALeWbhb3RsmGveA, VmYpF5C3GL-7wFnvOkhpvg, YVlUxBTWA3-WdNetYTdwjw, K6-zS_78ljPRiZUlxr73Qg, _pBypfnNCSMwOU6atNFA9g, wJs1WVWX3EPCMpdTJVQo2A, Oo2CvmeZm6AAprnxGj4UhA, uA4VxiWlx2JAddre6gvckw, gbMOdEeY-hCBUV0YLeY70A, 66x9PxMde8s7DnQDQJy2Ow, pOdjqpUJOV7N7EC-mE1FCQ, Oi1qbcz2m2SnwUeztGYcnQ, jTEd3ee-lZ5rWhV1CoqAlg, fRUH43O4rYSjXQ46NkYVKA, c1JehE_qeYAlRRcfOmh1QA, ydOR5gUfDBg6LhQcKj0vVQ, v-gWt58dzh6c120EXiIrVg, iCEywLTzIt2Op2NSXa3isA, Vp27qKc7hnN99yJVFYz9Rw, loYvUcSTzhZj3SOzxJuhGA, gx262ad7Ndkp8RloJUoqFg, JkBUhPsN8WkEE7F265qVbA, y-YQSpqFui1dvdhd4cq9mw, fFnndqt3Jm7mMt0eNPdcDQ, DW4qikm-Tt1F1DVJWgs_Fw, ActxnwCtpCGcG4eoftCxWQ, kYZ48tL-nCkOyggg4n-LXQ, FxuDifObogmez8ov_E-EBA, al2yNZO81rTdO1inDYpNgg, zICZDrYzs-FaFMnWyyC_2g, kcThkZ_V0-knmrpvzVf-JA, -K6xdMWTEKJ4d242KQi4Zw, xBZzs9WatWDiA8YiS3JqDA, QJxJRebeiv9ua4Wyf1OsxA, b-dgetVymXX5f6dbfB4QpA, rX68OFe4FjIOwf3Q-IHkTw, Rl2QnRkOMsGxKmO5xt13Yw, ySR9XVfhmaeaHUssJHKt2w, 6jDPuWtdqDkU4KSmrHuL2g, ChqSOqWnh9AT9PZIiVuv6w, gWPZ6Haxd4H639aV_KXE6g, t1xGmdKJkhuZcfvhsAZ0Aw, OXR7GTK96-DVxwSGL_B36g, vPqkPXual5Ag0evu0oBs-w, kH4VMHH6EjbeKOeBU75OUg, uzKEL-HPTdmhZkLiELIYbQ, 9uniMa4DrxzwNdXZfFdm-g, fO2keX0xyH9Ep17wIV0aAQ, 09_Mk4Mdr6cqw0TYP6FHXg, MJYjuNgczvDxh7hpZtqa8g, PXozASIfrPR87_gfDyn8Hg, C6VmC0dhZUqK__ecvomLHg, F3Qc5UQBkOxRaNInIt0M6Q, m6_v2DiZJZb3GCIT5Z0DZA, qYS1JoYZYk2OdcJiRKX-Pg, eypu2XQtxs8Ni5gRQJLb0w, lS62IyC864gXfEQEwoszKw, 41zKF-WDZccKBLG2Q7VYvA, B9oUiFJTFR_6eSMKC-VCWw, 4LWUnNLZzNG6M0I02KKsRw, axqgWX2BbwZVB-w1qyjTRQ, cHvgqyD_BP7tLP_mnhZy9g, SWKiXcheD-im7HMzxRxfxQ, GTS7fBHiTxXFzXWSBP8FCw, K71NW8AvyTxqt9Q9wViWPg, xxBR7nESi9Rt8_v_BLKhAA, pyK1NsV_aSeXY-j1vSzqvQ, 2xefCmSuC_FUM2H4RRs3gQ, KpAIMa59FydKqadTDBp4zg, rS1T130hl2oyoRekp7uWfQ, dw2Kqrfr3LmHhQwutKzgIw, 3TJcP0stfxjWGsLuGQgQdg, 4bu_GvtwrsBjeN-sUUZ1CA, 0beU2rN0ZjzFXQC-YQirtg, 4T80QStBE0oRE7E8NFy-Cg, TxGwYzYaKeT5xvTg4RaGLQ, iP8lkeDm4sgMRaWvnnBXxg, -njSR3hGNDrKEUuqN9T44g, htoM3ZzTac06vV35mCGhwA, S3wqbjgT7IEeU3e7hqhDFA, dZqcuNkFYrqCVlmlVZGx4A, _9ve0UR6uAPWjU2a7p8JcA, hBSA8iAu5plTpCX01K-iNA, EpftuKtBQUaKChxRVkHutw, o01ioyqzlSlX7CrLzBb5XQ, mFa_MI_oxZ-LKvRsFFjvxw, tjXIJJ5nfY2Vs1G49pAquA, sgj0w2140zqTycULVVoW0A, kMq1N-a5YaTvI9dN85DXMQ, LNPyE5X1K5B_flcTCH9StQ, DDvTFlTf2zmMTfVQOxFAcw, ASmdoQWRan5EIW8QOb6rBQ, Lv9M0Qa65DcNgte0XMMKkw, r7dZUACCCQFhYS-EwLiSrQ, E_SR0HC_VSu5DJJt3erfrw, TOWIWSJxqpb81VqRtujswQ, Z58-rEiZ-y2Qhuc2jNF-8A, QmHIoqARLSlj2p5VLF8lwg, _IQinLZcYzkTPnp5FU1IiA, ZmZD6Y56H7YM7zv18T4Awg, sQdU0Cp-uecNVnc49MLwDw, RoR79lWymQoLQHIKLqpXFA, Fbzk7-THPYvFEV_h62ZGfg, MrMOnJ0fdfV_eMT2HM_PfQ, EEwkePA8X4RFnvpTr5Y_kA, G1PObpFoe7cGprJfvGMxjA, hrMsC0osJAYX8yK1PXXgLQ, ICov4vNxnhuuiqbqh77-Lw, zeul4MqRtYWvybbDVD0efw, V9rwIjMzXkxmAV5Belb1DQ, PDEHrNedsj1AhOD90QeRlg, _tkRqmrGQ2oQ3CAxM6_pRA, J3ZMxyyKO0T1V-pVLsj1nQ, ayw8WxOCcsEdwjHb4I4wkg, qqt5vu9WuDtKu5vp2-ifDg, NHgweNqHp3pXkAeSVbzx8w, UYDJCW7CkREjqVSt_HA5Xw, QX24yFpn_aDN18Es9oswDw, 4n1S89sO5tNkWtCtyHh6rQ, TaLwLDuFFQMBvIziCz5RUw, YGHLdzuZ9kzReb5_SGShGQ, YN37N5GMhG2KgRBcQCC-JQ, RKZPqZrxU5vTZX1okEsm-w, PCYst--rkKLlHzHoupbK4Q, 6ZJrzoSXsqIB3pl1sU7V-g, AzM2l3w7my6prQtDohgsXQ, 2BzT-dT5dlB0z_gnsppjyQ, VnQNOTFSAx3XGJNA6FvpLw, zc7wQeHkJS5tliTg78hjJw, -2G6WDPc8dbCl2KGsKJdfA, XMCqpe10SNF4JFQy_kxd6Q, D31nFOviC-OrWgZQ25hYvw, ZpUI9ze0YlA6nMSHwx3ZYQ, 2cB3VodNYT9Yr8FiMCfLmg, MYzVWC0-2kVvHqAIz3Oaag, Bmfo84L4-ExHDQpn-ZNmvQ, QE8nn8aj1R7l7IxG13pfPQ, hKxeLvhaP9WtW1NnPNGSyw, 37cpUoM8hlkSQfReIEBd-Q, yQo_cmJQ7H3CKU4j9TpsNQ, PSiA3JAwQxO3WNVXJD4m5w, cptQglYDaqsoPj8PuOZEtA, drsLhxMw7PXEi2oZE1w0PQ, PpJ6kpbnOngL-upGdJLvSQ, Q85wXP89nZJ8k9kJnwwEag, LH0FkDEJbZmBcvmuoaY5iA, o1sNM3LOFOPrZZ551LVrfQ, xxL-DwwdT5VGvss9mCzOGg, HUWa0lzL3J6KNmqfIQ7QLA, Oq9j8ZH-3plr7pqQdcb_TA, W9KHlhMnjNT34-KyMkubWw, 9uwqqKUozO5BhBWjNMhIWg, d-CfO0lO4qWFt_UrVDfK3g, EEHqDWd2qr8Ts_nUdFVbeQ, H8UFVos_NmuhWcpsGKB8Aw, ARmwEIhLqKEsDspXiJf6SQ, _O_E6_UJPzrqVoC7qEeovQ, lhh3qE7TvnnFJDJAgrRiQA, x1kOEZf5hbkJM8j3XwSt-Q, gBNsLyLwMxUb4WX2Sr7azg, qKzyUec2cFgRKhLY7DHKbQ, tA0p4J4SCQ9y87Duf3wCTg, l_U3dpzEcAQsidVyPUPQTQ, 9xMBkkKghIr54xc0Tg5B-w, Bar3at_6cHUag4u2AzRX5A, VknUU_gF9HDPiODU6sNGLw, 3TbCnDr0KeB7CKb7U5AKUg, LH-3SpRJ7QlV_DvY7vD34Q, cFHpfQ7tr4OOWtzlXgDeRA, 80bhTVC9Ks1KlkmhrowJhQ, fVBNRXfbFvkzWLkOiyNzBQ, 9tav_Og2maRV0ZRZs_fSKQ, 038Tt3fNhn9G7xkjg2Au-Q, 16xIUxD8TbCJSOrBf7lnbw, B8k1tHYXgBd71TP1eBf0MQ, WJrBfOvAE2Y_MgtCmJF5jg, yv_jJFMnt5a-YFO2n2fMDQ, ZPDj0KynzjbdC8KHR7TmPw, XU8KQKnPnTWEB8PIiuuUSg, xywXoLnG7qWIayFu8oZQgQ, OTMf2wGoSDOAWTCF6pPxfQ, IjpxyKxLqVfmj7qmY8YBvA, ZEgloBlsKF2caOweGy6wzg, ETurXpf1YN2RBwzO-yEddA, 2nw3C7U3-eHo1XrP6Kdgiw, PZdz5MVUYAg_zWLL1O5Y_g, I2FQpojjkkJ7pd_IToYkLA, vPCBtUe4MDkUgNbo4HqldA, 1uWt3rL2GJiptcflQa35Jg, i6SPpQsnb1nxy1vVzGAQSA, 7CLxFpFuPq7fwTN1nwoNzg, wthEfIlrXQNO0B8nRBAlUw, y6zl_HjIE-hiVxPH8f0yyA, eK0Rgl1i9XnEQ42yVZTrCA, NxZdu2xZVIof68VRwvi2xw, rUV1FUhji5xMjNBpcq5SXg, mEXaK1DmR8pd9pnUTRDymQ, FQqDP65yqE5du2cQAWhALg, UN4lPQA7Q6F9hc98xtJq9g, 1VojU4JrvaFK8UYMTnzQkQ, jLOq_pbS1zRjJZLzdJRG3g, ZclOuVu6ZedMffpQMPfoCg, hTdKJcrDVtZofWxyLW-XWw, VURC-GOYgv3wtjkNWRZbgQ, i3C7zdTrhpDxs2S10ZFjag, KEICrWDNUGVZCXyEzxqsXg, w0YlnvEogLdPm9q1D3P7YQ, J7yd-9hN9yulUPJ4w-wnLg, AhEUk_zgM0Y0TnNXGd6fBg, 1n0rXkevJ86fiRHKEK0A7g, SXxO9vVjd4_u-khNpPUMYg, RD8dH7_dLO_0FU9D6xYnSg, znzqNyW2pJ0Q9wlqvu4YGw, RA4XqDfosRAERmQvsumdig, g2mnD1pj9ufRjVBicVJq0Q, tP-kyu26EMpIJag6j0Z5qg, VM6Z418-PCY5s81jorF4eQ, wCWp_WaUgelZkDXoREc2iA, WIhUXAn7ZtFg0FdOjvKsZQ, CRl3Eg-LFfxb2YTGjfpKnA, ubbGbHvjqix9-fl1plBE0g, nyV-b6v54CVmO6_r2AUcAA, Xp6gbDHT6tmFIqfY4yD_GA, YGAbjf1gVnA0J7s8kJUnzw, hT6l-5Nl7aMIcCyNq5kM6Q, UUqGHQFu2tQDGv5r3yJWPA, GWlOOcBnW06xBUO6vpfnbA, gVYxXTV_9lvvuu4o1Of-dg, SAk6q67ERgq-5kiK-Qzs2Q, YSb8JRyI75M8FkbYWLH4UA, 6Lz_sKxV_1vgsKNWhyLLPQ, dJRTAvuIUX1kUEIqFEuf3w, 2qaY-YdSfV4mejTo2RgxbA, CVC4uPK13GKoDjG0-G0xvQ, tPyXP1mFurflg0o6lyRtqA, hyE6LFCzzwjtznRfPephTg, e1Z8qy69PXdSgZkPajbHig, 24R3L-_Y3Wo3s0XG2GxZkA, L-D8A9Td8mKZvI1l5_nKvw, trrLVPA3gfDRSM3ZbCIGKg, XE_O3FgZfqeL3YaEmhlK2w, V07oNVXXeLUnLAXl3AgF1w, aVCopHCMLO8BP0zuvbeI3g, Y1c9hq9DDrALFVao87daPw, VzvlG6oXAvY89bURD1Rhqw, JapsODq2leyIn5JTgjOvkQ, 78lZ5I6A1WFyrTQ1aEqe3A, EBj4pEHlDWnYItZTP5aWzg, OmyyzQUdazPvKAS6AMz9Qg, AgzavLRKNcSiQMwk7yEy9Q, YM5OF33p70JUq8tI0qADFQ, Q5AWod_pEw161dzC5Na09w, oPmMbyow9CWs8f6An4kAxA, p6HUDajKxGSZlIdFCKYs5A, D9T_jSn90kSHaT6dBV-c1g, nBLuibi-dUn5l9pMOd90xw, COFV0pscu5ox3AzG9eQBwg, TjCS-ZDDpgp38DNKv6bhJA, qRqa-EJpeOlNH8FaL3uKtA, iguvFjVOeABwl1gcozsHsg, Ka-UzZFhgGT2BIfgU76dyQ, 0Hf85r3hTBO5_h4Ufs0yFA, FTJe5TIhWTUnF7ak8Jt30g, ZD84600Tw1WqeKpVuNiKzg, e05KY1rRbzt-OakI3I86RQ, qlEvuh3V8sS7yGSMW08Qzg, 4uJXindoZlYPawRRJp4LZQ, jhvreOViehq5zA4p2dgSVg, mV4lknblF-zOKSF8nlGqDA, 1jIn4eal-gIRxRz0B8_edA, atyXZVf1jx_l7cUkG2otgw, 3Hi5jy1yQFJkZbQpYHITNg, FGmWx0hFD-h3YuTEql1x2Q, ZOAJ6tt9hRhJNl-ICdgjBA, VWQSWUY77fyaouPRlS_xvw, KhE9TLrENrh-Pd73UDwlVQ, TKkmt6JG-r5soPmlCuLamA, zzMtE76TkkMG_Kgj6-Z_TQ, dW7QmI3bwMs7vxX3luIS2A, 4mDJjL6or5jeKJBxrUxTTw, Kf5PVQUdDvQYf-MXoeWqZA, quqenegbmesnD1nHZc9R6Q, PKF3fTh2wCynSm2i5DyIWQ, RIeUvUKJ5fzGxC01JAECwA, Zx65B4F4WYv9Azpfpkw7IQ, 6SknGLG591hmasAGNMphlg, y2J52oE5CsWJwWlJL3TMRQ, jnKAhw3A9ASM3Nn9wXdA6A, Z4P3KGSlPcYzW6iXV_WBGw, qrem7cB77ZJKMkgEit2G6w, Ol83uVUP_A6i9Nxy-FNpXg, kyGqWXeqhLWnxD4YMsd74A, O5S7S79mG-wcke6Q-GLmpQ, XuPTdx2xrV9lBe73SffyWg, eR6GiArl5dSUPkP-fjp5jg, 2K15Op1yYaa2cqE9w-zk6g, xMzXfqw1nDO53muzD4uOTQ, De2VS5Lm4FtleCffTDGq8A, 2ZtBCnJsrJZ-XivwIWkJgg, xZIS0iyY463Pxv9_v8GBTg, grkxsXfCPvJ5mBMI5ZdEBw, -H-RZ6Wx7VJ27kmx_Aj0Cw, rQ9rPGL7Wcr9t3S3Mm0m5A, TA3upannKxVJ-4gS87x5NQ, OYlCDEZ03lKDDIucQOgC8Q, fPVRQLcd0Z-bVzsenvR-PA, 90vXmlvgknv80grsoz2VBg, ITaxs592iYpJdPwyik6zxA, IqCyPV_Mg3M_CaWQyYMrDQ, _pE9wtP4DhTxlPw_fbwrlQ, DU6E0ry3tY9Hu_QJAcUlkA, kkb9q1tD7E1u6S_POUDMGA, xL_-eFFDUfh7OPdELDyAZw, N61hkQVfKF0GXP3UIVnbWw, zUa3yNmx50srypTM42oaNA, CDlnzDBknZHaL8T3fwVaig, I0p74B-gOmltMPObXz90mA, aZp6I5gjqDXpIYWoZlG0Yw, 2OTLYD6gCofuM4pfWWyB2g, cI7KHT3XcB1LiU8wRBoEpw, JaXogQFVjzGRAeBvzamBHg, FokgHC5GuMddOY-E5Qco9g, zag_RdqQwcOtxKhy_yWiHw, 0FOV-77_5lSOzf-87YD58Q, GJ8Rhp_ypu6mWA9bmeEuAw, C7Vo14RpRTG5Bc84l4q6DQ, rDUgAXiQ7JOBBLWS1BYNQA, 9DfRpSUCek69v98bqkRs6w, s208fvmlOBwsWq_cQAFGmw, mlp8gUPmbGqGhFdYNvoDZw, Jyua2Cuir_t561ldsrlSLw, ens7LiIE4Cs4RjW5Mz65Mw, wm61ALFiZ-7BCbX57evHPw, M_yYgZq-uNsDA73Ns9pZMw, Kh1aTOYnJJQfUs6xKUivrw, veYDLMt_PgP9Vm2T0B1EnA, Cb_qVz1_gVzSKcUa0NyokA, 1N4HNCbMIead4r_22jseHw, lVhcz_c2BQZE-MpltB1a-g, DsHkwKjrwl-RUxTvmFcO_w, amVt0he3X9PTExDY8MwGow, vMh9OFIFFd5WX2M1E8fyvQ, C7eEct-OSQx1TEoAMELzXA, MKDVsEzQK48og5S0MItoyg, pJHg-bdR2SLO_-r8FCLzEQ, Qk6aLX4oElfsJSpVsL7qzw, 8Cjy2hyEc9Xf0ncmRa1OkQ, r3AgFX2baFPV96gRGAplzg, A21q3ZenowJP27kOgnUsGQ, kdnn5aIA7sBbIOpMgop7pg, zm5rHl38Of38yKj_L8KVTQ, tvLU1kOukJM-U9-i8cZ0eg, ehKGWFe_HUoSb-coFZh4AA, li32PKb6HnR4pGXCTq9ZoA, iN0A6QIrEFYoSGHFaknh8Q, LqD6Zwyk9gtPKE65Uww0_Q, eUxgpeELKKSvvnJ3Cz68TA, dBwgFpXb91CKHiSYVyUWMQ, AqR9SsmS6ehOnWV4-gO68Q, EiT_pSuIb08oRn4CfwfMJg, YSRCCxecUP4zmBwPDeK2_A, 55Hphx_uynxCdtT_zyyDDw, BAXqpS21alyoX4-Z5611Hg, W8PCus77Hunrmo21Wh98bg, p9wO2VZnHARdpa1dOFfIUg, 2now5CYoT7cAzmqEvo23kA, 3-qAkgDsq9XL0W7G2-xyGw, 9pa8ipfAvl6Ht-y1XuKq2Q, ruKz_hc3oAqmX7PlIpV3SQ, KzazJnTB2nErHt4uZfhiTA, xjntKbmGuNUARof_EslgyQ, 8uw2U_qFlNWAbLYZ8VoTlw, AoQI0h3gvajBzU37LENNrA, h0TX3pcrn-0gyBWEkBj9rg, uPLU3ap9svvX8WuI3CS9ig, VNskK7HOSboBipchRx1YBQ, 6jYpVib2IG7a5Q2G6AccUw, a3GFpumABE36ik5cPDL8PA, vp1JJ74X9ja48qP1lZlAgA, aXbE5xBGWhXqVRcrgknSXg, dLmRxHX_bond4TbkNdCV0Q, UrxGablw6fV-52vCxOtsLQ, KcHmgYf9NddPRhs6JhNwwA, vnpCQWUF-BTuljYrAY49nw, RfQnYC5bUved-Svl7gJwDA, WPbOwOcrBT8WQ_NXfmimuA, hK2gYbxZRTqcqlSiQQcrtQ, wlWNPP84F70It_l6OP2_mA, 2oNfIz8SOcUIclduAKXlwA, und96IAAKIfaGvzV92DsVg, 3RLY4D7FvBXf-ASj-WELPA, TWO4FhgJJQkz3bUWp-kk8w, 97TqoCDwrQEHonGIlYMhBw, v5hIYom09aZEr_QTVRD50Q, vTSR9YOaG1q5HyDxtuXdzg, MS5gy05k_10R0CDp4HBqRA, FSfQzpkOripe90CLG5_MVw, iZmpVIO_RyyALF1Bj-m9sQ, uaKe3Or1Lbp6ooc8VFbUPQ, cJ8IIP9kSe4GefBXJXEoyw, rNTEsL8GxdtAao8T5UeSvA, pMklRHD4FVOMRfHvk1xrqw, mXuOdJZj4bJK6IOaVWRHZQ, w7RP1MZad3YO7Vjgp3s3Dg, sKHgMg-OLlcfP_BEZDN3aQ, oCYxjlqjpnW5WJAo6HNR0A, OV6JZ1M5ov65F8PWQzhG-Q, 9OWzJquTAFnCkDLKIOx49w, 6Ft1I5n3tKGbu5jGn5XwOg, d4UEft3BhFl8oQo-jlgbhA, 0QNRU_A6aruI-SrZdG0OrQ, RbPdGsW4p7RMc9V1WF5Jxg, 1bSo9vqRaZnl1mwsoZJP5g, cUTAO7xfjpRuOcXefbF2Bw, GDwRp9KXn56PhKv8-g2NsA, Ls2StWJi63YkwCN00A_17w, p_Hvwg7zgyldr9uFNnwikA, lloH0WufxlWFtFiq5M2P7g, fDAFjdMX93n2fUOib6_GWQ, 6kJFLAHV-tNsBEZaRTqEWQ, z6oS_YSXCKbH0ShvblTYaQ, r4RvHiChaTEtJ3s3QNVIqg, Ai19LmNyWslcj9jPp0JcPw, RM_dvs9GymqilwLCm9gj8w, AmMd7xpnaf8axS_roCBFRw, MnYfi2DODiZkLIwJFuwB2g, XD8zIa8e2JjDyEHKefdOLQ, Xt6HpFX-vtjfYBnYSfv1Fg, p-g_9CsSnMoPA-fU42FGSA, 3gRk7YgFIELBsoVzzla22w, ouODopBKF3AqfCkuQEnrDg, 4RzdojCzvJhHxyXGi7S8Mg, 5cBfwjuOT9HV2539Rucz5Q, cun967dZl0Q9nMwg_riaIQ, TYCkjEHPSJSnFb6m6GDluw, CSvgpDZt8i_JvThh7E9Otw, DcQFqJRsqBhvxwHHc6RBCA, 9aPhTC34PILldShZHzPi5g, GOVm1Ba9xx5JNKfMqcDGUA, 0V4Ra6jCmSAgFtCiORr4QA, h7cX02YMLzyobfZ7E-mg-Q, -FZBTkAZEXoP7CYvRV2ZwQ, WiCPJSERjA2bMEKA51DUDg, 61eX_jnhqUIWpJDKGReA7g, hpw7UrWf51aaWKbaGGJ2hA, 8SiTOg3SauqpqejFCS3Geg, NpQpqH6yQhnve2Q5aoqz1Q, ClwWkS1CltuqZBbuDKpjmw, vIuEBI6oTyNxFWkW0fQWEg, M8XMqVEhGPn27e8eDjJsww, TdCeQnHVjA2FgwBnA9lx_g, 4oVaNhsPu5ETYHowmXaOyw, cqW3sX5drpiazwnF4Ajy1w, mC3oCWEg1Im-flyA3xAxbg, Zez2Sf_vLT2mVpi66vuMIw, R5JpISmPeTa6SnPVU2VieA',\n",
       "  'fans': 78,\n",
       "  'average_stars': 4.37,\n",
       "  'compliment_hot': 8,\n",
       "  'compliment_more': 9,\n",
       "  'compliment_profile': 2,\n",
       "  'compliment_cute': 1,\n",
       "  'compliment_list': 1,\n",
       "  'compliment_note': 22,\n",
       "  'compliment_plain': 28,\n",
       "  'compliment_cool': 31,\n",
       "  'compliment_funny': 31,\n",
       "  'compliment_writer': 19,\n",
       "  'compliment_photos': 31},\n",
       " {'user_id': 'z5_82komKV3mI4ASGe2-FQ',\n",
       "  'name': 'Steve',\n",
       "  'review_count': 186,\n",
       "  'yelping_since': '2007-02-27 07:09:40',\n",
       "  'useful': 642,\n",
       "  'funny': 192,\n",
       "  'cool': 155,\n",
       "  'elite': '2007',\n",
       "  'friends': 'E-fXXmALnZTPmzzL6rV4cQ, L2g6vS1GDfqLEpiDOFfCkA, vVREX2zNK5imZ4-uPXti_g, oATP4awnjEC7v2tmWhyI7A, SxY4qXVBMgaTQwEUzkSdFQ, y5DisK6wQDJLIXEoA3g3JA, ___W9HbmAPFQMu1qcDAgBQ, 5Jc_KIU7Rq3_jDrGV7FpOg, HshIhF76Uea0-2ht_KUisw, fxGhoAnW8JA8wOUwK-uVLw, PBnIFmU7y32G2w2xBQfkaA, qr45KuJh0yWsawbb467acA, gc__SM5JV1H-JvNPqEEWpg, HMp1Y1cSVHsIPClJBx_6lw, 3m2gZtPlkQBe7U7MRn4sHw, njgBnm5Czhsgj9xOi-C0Sg, GdKohftDXeLAUqqDx_lo4A, Y5_HGOeyrCXtRF72uiUTAQ, yHQ-1X-cTtoOuvsliMi6WA, AETG-Cg7YsaP1uvS-05x0w, Hqag-JmBNKtW4Lk_zm0zVw, Ao-HKsnupdIxDOGibNHYjQ, lConjPFTZqz4zWELK_EJtw, ksjVasSJj15qfz4vSYvZgQ, MVkAyCxhiJeCGXFrMjibPg, w57Yn8npGhdDHmHFGKk2jA, VuwkPtul2UwQyrFaGM7RJQ, 0V4Ra6jCmSAgFtCiORr4QA, CdVh9Cj0hzPFGC3IsKvHVg, yvXEJcXRtffR2GuWULbRjg, ZJ_IIzT1W6NNgh1s-4zXmQ, 61KHh-BznR__JiiN5iMwHg, wBKmKQRnHRqG0f3dpeMwTg, B7ecAeAIrXg7sgmabS38pg, 08q7tG6K8MPKWEGBg4N50Q, 1-oZsNLPY4vmCLj24TOc-g, wIToYOaSGbG0-c7VCsdJTw, CyW_PQkBQ6Wxz71goEICsg, 1PJ-RjMqXHeymSkLRzuIdA, sKhkfmDzWJCh_FvpeVfIuQ, Xt4JmbjlS7GRFJUg0EO_fg, D-w_sv3w178WzXknw4_QWw, xElCeMfmOucjLmXEMhJkIg, q_jEY68DjYJfiNzZOHVdNg, XsFTrDbmDw7O_9rdfKmzvA, Z-6Hpto5G0RVc2k3LJ-rRw, iST9MOOT9SFnC0jWJrb2Ug, 8XmIIleAnuhOwB7EJjSaGQ, ZA-8d_xioQo1T-BUPNUAFw, WgLzBBVuDu-GjNg2zn6vQw, 0EhPIlDozxGKpbbHRr6vZg, Thc2zV-K-KLcvJn3fMPdqQ, aRFDw9Y03_ZyOA3zMMcMaw, a-VvX5Vy-E0AQPF-vdjOxg, 4hWAEfQ0mYhuLx-MXAnGbQ, HuN3E2lP3JQbnyeDAn1p2A, 3FpTdkH8BHxPR9nEwLNklA, 77L_PU9tPUkxrtWId8Uu_g, OxgtDcI0WIftxyCkYmdKVg, FRa29qs_0CBWr6jJI6MUbA, vfA3P83MprG0GGNpbOECTQ, 0iXeIGTUI6ZdMdEckx8puA, pmpOZ6nkF2sWe2A0EIhybg, M2_kEp9clk6h7T_lrdEAtQ, 3MohtMQZbSzMYNAg5HTI3A, XElEE5jSRnylj8gTC4ECyg, AyWO7xvFdCLaxqR4-0IwCg, oLb1YvZWav4iWSxYvK2DTA, II5IlB9k8cR8rsPu8BhyVQ, qJ9aD12usV4rHtxEapBS_Q, aY3QDDE9vjCt8fYnAf-KXw, TB7SKvDRJOPFFbvrUZnl6w, Uu0vk2U4q3uhWWWZiUgqXA, 9_TTXsSTiAZP3jwW4up_uw, zVPoAb8mkC1F0FnpRbfMSQ, BC7wXfMBHt8Rg3lRwXSC4Q, GWEm-iNPdFLajkZiJc0iuQ, 4z9TxVKiI1itVivk0ArPIg, NiSUja8lwGOz4leG0SuLqQ, QVQ6EXwUoA3PtSFTEU_yNw, kdOB6jVkxf4Xj_waI6pUsQ, qXTeR3yMlJlRyigsW-AEEw, cRMOfdX1CEp8H3b225SgAA, jth4nfBZ7zTUU8mc6WHc0Q, 7oQdsyn6ieBToRFG6uX1bw, M6qK7x3ndMIIXqbpr352ww, 3_FTOvkgEOxgW84QLSBgWQ, 2ib-5QA60ZUF1Q84ClSVDQ, lg0X_OMMiU2K_UuLHYZLsQ, qX2jZIN9RPzurmqXS10q1w',\n",
       "  'fans': 15,\n",
       "  'average_stars': 2.88,\n",
       "  'compliment_hot': 24,\n",
       "  'compliment_more': 16,\n",
       "  'compliment_profile': 7,\n",
       "  'compliment_cute': 7,\n",
       "  'compliment_list': 2,\n",
       "  'compliment_note': 60,\n",
       "  'compliment_plain': 36,\n",
       "  'compliment_cool': 32,\n",
       "  'compliment_funny': 32,\n",
       "  'compliment_writer': 8,\n",
       "  'compliment_photos': 9}]"
      ]
     },
     "execution_count": 28,
     "metadata": {},
     "output_type": "execute_result"
    }
   ],
   "source": [
    "eliteusers = raw_data.map(parseJSON).filter(lambda line: hasbeenElite(line) is True)\n",
    "eliteusers.take(5)"
   ]
  },
  {
   "cell_type": "code",
   "execution_count": 29,
   "metadata": {},
   "outputs": [],
   "source": [
    "eliteusers_friends = eliteusers.map(friendCount)"
   ]
  },
  {
   "cell_type": "code",
   "execution_count": 34,
   "metadata": {},
   "outputs": [],
   "source": [
    "elitefriends_df = eliteusers_friends.map(row).toDF()"
   ]
  },
  {
   "cell_type": "markdown",
   "metadata": {},
   "source": [
    "#### Median, 90th and 99th percentile number of friends for elite users"
   ]
  },
  {
   "cell_type": "code",
   "execution_count": 35,
   "metadata": {},
   "outputs": [
    {
     "data": {
      "text/plain": [
       "[[128.0, 547.0, 1952.0]]"
      ]
     },
     "execution_count": 35,
     "metadata": {},
     "output_type": "execute_result"
    }
   ],
   "source": [
    "quantsefr = elitefriends_df.approxQuantile(['val'], \\\n",
    "                                   [0.5, 0.9, 0.99], 0.0001)\n",
    "quantsefr"
   ]
  },
  {
   "cell_type": "markdown",
   "metadata": {},
   "source": [
    "As we can see, the median number of friends for elite users is 128, which is near the 90th percentile for the overall userbase.  However, I don't see something inherent in being an elite user that makes them more influential than someone who simply has a lot of followers and produces a lot of reviews.  Elite status is likely moreso a symptom of influence rather than a determining factor in it (although perhaps some people may take elite users' opinions more seriously, even if subconciously).  It could also be argued that elite status is a symptom of review quality, but it could probably equally be argued that total following is as much or moreso a symptom of review quality and/or volume.  I think this is the most plausible primary factor in amassing followers/friends, and as we can infer from the hot/cute/cool analysis, people probably don't tend to follow others for these reasons."
   ]
  },
  {
   "cell_type": "markdown",
   "metadata": {},
   "source": [
    "In lieu of being able to calculate the level of influence of user's friends, I will approximate influence using the sum of a user's friends and fans multiplied by their total reviews.  Basically how many people do they directly \"influence\", and how much have they influenced that number of people.  Obviously total following increases over time and thus a user hasn't reached an audience of their current size with every review, but this effect applies for every user subject to this evaluation, so I think it serves as an effective proxy.\n",
    "\n",
    "### InfluenceScore = (friends + fans) * review_count"
   ]
  },
  {
   "cell_type": "code",
   "execution_count": 29,
   "metadata": {},
   "outputs": [],
   "source": [
    "def valueFunction(t):\n",
    "    return (friendCount(t)+t['fans'])*t['review_count']"
   ]
  },
  {
   "cell_type": "code",
   "execution_count": 53,
   "metadata": {},
   "outputs": [],
   "source": [
    "#Calculate value function and modify JSON to include it and friend count.  Also omit \n",
    "#friend list to make output more readable\n",
    "def modJSON(res):\n",
    "    res['friend_count'] = friendCount(res)\n",
    "    res['influence_score'] = valueFunction(res)\n",
    "    res.pop('friends', None)\n",
    "    return res\n"
   ]
  },
  {
   "cell_type": "code",
   "execution_count": 54,
   "metadata": {},
   "outputs": [
    {
     "data": {
      "text/plain": [
       "[{'user_id': 'ntlvfPzc8eglqvk92iDIAw',\n",
       "  'name': 'Rafael',\n",
       "  'review_count': 553,\n",
       "  'yelping_since': '2007-07-06 03:27:11',\n",
       "  'useful': 628,\n",
       "  'funny': 225,\n",
       "  'cool': 227,\n",
       "  'elite': '',\n",
       "  'fans': 14,\n",
       "  'average_stars': 3.57,\n",
       "  'compliment_hot': 3,\n",
       "  'compliment_more': 2,\n",
       "  'compliment_profile': 1,\n",
       "  'compliment_cute': 0,\n",
       "  'compliment_list': 1,\n",
       "  'compliment_note': 11,\n",
       "  'compliment_plain': 15,\n",
       "  'compliment_cool': 22,\n",
       "  'compliment_funny': 22,\n",
       "  'compliment_writer': 10,\n",
       "  'compliment_photos': 0,\n",
       "  'friend_count': 45,\n",
       "  'influence_score': 32627},\n",
       " {'user_id': 'FOBRPlBHa3WPHFB5qYDlVg',\n",
       "  'name': 'Michelle',\n",
       "  'review_count': 564,\n",
       "  'yelping_since': '2008-04-28 01:29:25',\n",
       "  'useful': 790,\n",
       "  'funny': 316,\n",
       "  'cool': 400,\n",
       "  'elite': '2008,2009,2010,2011,2012,2013',\n",
       "  'fans': 27,\n",
       "  'average_stars': 3.84,\n",
       "  'compliment_hot': 36,\n",
       "  'compliment_more': 4,\n",
       "  'compliment_profile': 5,\n",
       "  'compliment_cute': 2,\n",
       "  'compliment_list': 1,\n",
       "  'compliment_note': 33,\n",
       "  'compliment_plain': 37,\n",
       "  'compliment_cool': 63,\n",
       "  'compliment_funny': 63,\n",
       "  'compliment_writer': 21,\n",
       "  'compliment_photos': 5,\n",
       "  'friend_count': 213,\n",
       "  'influence_score': 135360},\n",
       " {'user_id': 'zZUnPeh2hEp0WydbAZEOOg',\n",
       "  'name': 'Martin',\n",
       "  'review_count': 60,\n",
       "  'yelping_since': '2008-08-28 23:40:05',\n",
       "  'useful': 151,\n",
       "  'funny': 125,\n",
       "  'cool': 103,\n",
       "  'elite': '2010',\n",
       "  'fans': 5,\n",
       "  'average_stars': 3.44,\n",
       "  'compliment_hot': 9,\n",
       "  'compliment_more': 6,\n",
       "  'compliment_profile': 0,\n",
       "  'compliment_cute': 1,\n",
       "  'compliment_list': 0,\n",
       "  'compliment_note': 3,\n",
       "  'compliment_plain': 7,\n",
       "  'compliment_cool': 17,\n",
       "  'compliment_funny': 17,\n",
       "  'compliment_writer': 4,\n",
       "  'compliment_photos': 1,\n",
       "  'friend_count': 35,\n",
       "  'influence_score': 2400},\n",
       " {'user_id': 'QaELAmRcDc5TfJEylaaP8g',\n",
       "  'name': 'John',\n",
       "  'review_count': 206,\n",
       "  'yelping_since': '2008-09-20 00:08:14',\n",
       "  'useful': 233,\n",
       "  'funny': 160,\n",
       "  'cool': 84,\n",
       "  'elite': '2009',\n",
       "  'fans': 6,\n",
       "  'average_stars': 3.08,\n",
       "  'compliment_hot': 2,\n",
       "  'compliment_more': 1,\n",
       "  'compliment_profile': 0,\n",
       "  'compliment_cute': 0,\n",
       "  'compliment_list': 0,\n",
       "  'compliment_note': 7,\n",
       "  'compliment_plain': 14,\n",
       "  'compliment_cool': 7,\n",
       "  'compliment_funny': 7,\n",
       "  'compliment_writer': 2,\n",
       "  'compliment_photos': 0,\n",
       "  'friend_count': 173,\n",
       "  'influence_score': 36874},\n",
       " {'user_id': 'xvu8G900tezTzbbfqmTKvA',\n",
       "  'name': 'Anne',\n",
       "  'review_count': 485,\n",
       "  'yelping_since': '2008-08-09 00:30:27',\n",
       "  'useful': 1265,\n",
       "  'funny': 400,\n",
       "  'cool': 512,\n",
       "  'elite': '2009,2010,2011,2012,2014,2015,2016,2017,2018',\n",
       "  'fans': 78,\n",
       "  'average_stars': 4.37,\n",
       "  'compliment_hot': 8,\n",
       "  'compliment_more': 9,\n",
       "  'compliment_profile': 2,\n",
       "  'compliment_cute': 1,\n",
       "  'compliment_list': 1,\n",
       "  'compliment_note': 22,\n",
       "  'compliment_plain': 28,\n",
       "  'compliment_cool': 31,\n",
       "  'compliment_funny': 31,\n",
       "  'compliment_writer': 19,\n",
       "  'compliment_photos': 31,\n",
       "  'friend_count': 895,\n",
       "  'influence_score': 471905}]"
      ]
     },
     "execution_count": 54,
     "metadata": {},
     "output_type": "execute_result"
    }
   ],
   "source": [
    "influence_rank = raw_data.map(parseJSON).map(modJSON)\n",
    "influence_rank.take(5)"
   ]
  },
  {
   "cell_type": "markdown",
   "metadata": {},
   "source": [
    "## Top 10 most influential users:"
   ]
  },
  {
   "cell_type": "code",
   "execution_count": 56,
   "metadata": {},
   "outputs": [
    {
     "data": {
      "text/plain": [
       "[{'user_id': '8k3aO-mPeyhbR5HUucA5aA',\n",
       "  'name': 'Victor',\n",
       "  'review_count': 14455,\n",
       "  'yelping_since': '2007-12-08 14:56:45',\n",
       "  'useful': 101960,\n",
       "  'funny': 62685,\n",
       "  'cool': 79646,\n",
       "  'elite': '2008,2009,2010,2011,2012,2013,2014,2015,2016,2017,2018',\n",
       "  'fans': 1271,\n",
       "  'average_stars': 3.28,\n",
       "  'compliment_hot': 2129,\n",
       "  'compliment_more': 246,\n",
       "  'compliment_profile': 210,\n",
       "  'compliment_cute': 55,\n",
       "  'compliment_list': 84,\n",
       "  'compliment_note': 2009,\n",
       "  'compliment_plain': 3552,\n",
       "  'compliment_cool': 3304,\n",
       "  'compliment_funny': 3304,\n",
       "  'compliment_writer': 2636,\n",
       "  'compliment_photos': 63,\n",
       "  'friend_count': 5380,\n",
       "  'influence_score': 96140205},\n",
       " {'user_id': 'Hi10sGSZNxQH3NLyWSZ1oA',\n",
       "  'name': 'Fox',\n",
       "  'review_count': 11112,\n",
       "  'yelping_since': '2009-05-26 11:33:58',\n",
       "  'useful': 145838,\n",
       "  'funny': 135459,\n",
       "  'cool': 139117,\n",
       "  'elite': '2014,2015,2016,2017,2018',\n",
       "  'fans': 2718,\n",
       "  'average_stars': 3.8,\n",
       "  'compliment_hot': 3763,\n",
       "  'compliment_more': 402,\n",
       "  'compliment_profile': 383,\n",
       "  'compliment_cute': 125,\n",
       "  'compliment_list': 44,\n",
       "  'compliment_note': 2226,\n",
       "  'compliment_plain': 5961,\n",
       "  'compliment_cool': 6981,\n",
       "  'compliment_funny': 6981,\n",
       "  'compliment_writer': 1538,\n",
       "  'compliment_photos': 3440,\n",
       "  'friend_count': 5041,\n",
       "  'influence_score': 86218008},\n",
       " {'user_id': 'P5bUL3Engv-2z6kKohB6qQ',\n",
       "  'name': 'Kim',\n",
       "  'review_count': 9875,\n",
       "  'yelping_since': '2006-05-31 21:27:42',\n",
       "  'useful': 26750,\n",
       "  'funny': 10315,\n",
       "  'cool': 20666,\n",
       "  'elite': '2006,2007,2008,2009,2010,2011,2012,2013,2014,2015,2016,2017,2018',\n",
       "  'fans': 774,\n",
       "  'average_stars': 3.8,\n",
       "  'compliment_hot': 831,\n",
       "  'compliment_more': 127,\n",
       "  'compliment_profile': 105,\n",
       "  'compliment_cute': 47,\n",
       "  'compliment_list': 34,\n",
       "  'compliment_note': 501,\n",
       "  'compliment_plain': 1061,\n",
       "  'compliment_cool': 1169,\n",
       "  'compliment_funny': 1169,\n",
       "  'compliment_writer': 471,\n",
       "  'compliment_photos': 223,\n",
       "  'friend_count': 3588,\n",
       "  'influence_score': 43074750},\n",
       " {'user_id': 'WG3w_73scm_JUWJ_3Lgn0Q',\n",
       "  'name': 'Jack',\n",
       "  'review_count': 5013,\n",
       "  'yelping_since': '2011-06-29 22:41:05',\n",
       "  'useful': 66622,\n",
       "  'funny': 30569,\n",
       "  'cool': 53745,\n",
       "  'elite': '2012,2013,2014,2015,2016,2017,2018',\n",
       "  'fans': 1733,\n",
       "  'average_stars': 3.87,\n",
       "  'compliment_hot': 1510,\n",
       "  'compliment_more': 292,\n",
       "  'compliment_profile': 80,\n",
       "  'compliment_cute': 60,\n",
       "  'compliment_list': 70,\n",
       "  'compliment_note': 1760,\n",
       "  'compliment_plain': 5613,\n",
       "  'compliment_cool': 3677,\n",
       "  'compliment_funny': 3677,\n",
       "  'compliment_writer': 1567,\n",
       "  'compliment_photos': 2154,\n",
       "  'friend_count': 5899,\n",
       "  'influence_score': 38259216},\n",
       " {'user_id': 'nmdkHL2JKFx55T3nq5VziA',\n",
       "  'name': 'Nijole',\n",
       "  'review_count': 7626,\n",
       "  'yelping_since': '2011-11-29 15:50:53',\n",
       "  'useful': 51600,\n",
       "  'funny': 26432,\n",
       "  'cool': 41902,\n",
       "  'elite': '2012,2013,2014,2015,2016,2017,2018',\n",
       "  'fans': 842,\n",
       "  'average_stars': 3.71,\n",
       "  'compliment_hot': 311,\n",
       "  'compliment_more': 68,\n",
       "  'compliment_profile': 22,\n",
       "  'compliment_cute': 20,\n",
       "  'compliment_list': 6,\n",
       "  'compliment_note': 323,\n",
       "  'compliment_plain': 724,\n",
       "  'compliment_cool': 696,\n",
       "  'compliment_funny': 696,\n",
       "  'compliment_writer': 477,\n",
       "  'compliment_photos': 579,\n",
       "  'friend_count': 4068,\n",
       "  'influence_score': 37443660},\n",
       " {'user_id': 'm07sy7eLtOjVdZ8oN9JKag',\n",
       "  'name': 'Ed',\n",
       "  'review_count': 4913,\n",
       "  'yelping_since': '2006-07-22 01:22:26',\n",
       "  'useful': 58535,\n",
       "  'funny': 44002,\n",
       "  'cool': 50151,\n",
       "  'elite': '2006,2007,2008,2009,2010,2011,2012,2013,2014,2015,2016,2017,2018',\n",
       "  'fans': 2034,\n",
       "  'average_stars': 3.66,\n",
       "  'compliment_hot': 2588,\n",
       "  'compliment_more': 339,\n",
       "  'compliment_profile': 170,\n",
       "  'compliment_cute': 154,\n",
       "  'compliment_list': 209,\n",
       "  'compliment_note': 798,\n",
       "  'compliment_plain': 1269,\n",
       "  'compliment_cool': 2869,\n",
       "  'compliment_funny': 2869,\n",
       "  'compliment_writer': 2445,\n",
       "  'compliment_photos': 2724,\n",
       "  'friend_count': 5366,\n",
       "  'influence_score': 36356200},\n",
       " {'user_id': 'iLjMdZi0Tm7DQxX1C1_2dg',\n",
       "  'name': 'Ruggy',\n",
       "  'review_count': 2431,\n",
       "  'yelping_since': '2007-07-31 14:47:00',\n",
       "  'useful': 35071,\n",
       "  'funny': 26502,\n",
       "  'cool': 28427,\n",
       "  'elite': '2008,2009,2010,2011,2012,2013,2014,2015,2016,2017,2018',\n",
       "  'fans': 2516,\n",
       "  'average_stars': 3.98,\n",
       "  'compliment_hot': 2603,\n",
       "  'compliment_more': 285,\n",
       "  'compliment_profile': 272,\n",
       "  'compliment_cute': 339,\n",
       "  'compliment_list': 118,\n",
       "  'compliment_note': 2282,\n",
       "  'compliment_plain': 8963,\n",
       "  'compliment_cool': 5069,\n",
       "  'compliment_funny': 5069,\n",
       "  'compliment_writer': 1354,\n",
       "  'compliment_photos': 599,\n",
       "  'friend_count': 12320,\n",
       "  'influence_score': 36066316},\n",
       " {'user_id': 'ZIOCmdFaMIF56FR-nWr_2A',\n",
       "  'name': 'Randy',\n",
       "  'review_count': 2922,\n",
       "  'yelping_since': '2011-01-07 15:20:32',\n",
       "  'useful': 39030,\n",
       "  'funny': 22853,\n",
       "  'cool': 30867,\n",
       "  'elite': '2011,2012,2013,2014,2015,2016,2017,2018',\n",
       "  'fans': 1023,\n",
       "  'average_stars': 3.77,\n",
       "  'compliment_hot': 851,\n",
       "  'compliment_more': 207,\n",
       "  'compliment_profile': 87,\n",
       "  'compliment_cute': 24,\n",
       "  'compliment_list': 92,\n",
       "  'compliment_note': 544,\n",
       "  'compliment_plain': 2174,\n",
       "  'compliment_cool': 1814,\n",
       "  'compliment_funny': 1814,\n",
       "  'compliment_writer': 1469,\n",
       "  'compliment_photos': 543,\n",
       "  'friend_count': 10431,\n",
       "  'influence_score': 33468588},\n",
       " {'user_id': 'hWDybu_KvYLSdEFzGrniTw',\n",
       "  'name': 'Bruce',\n",
       "  'review_count': 12487,\n",
       "  'yelping_since': '2009-03-08 21:47:44',\n",
       "  'useful': 108027,\n",
       "  'funny': 68719,\n",
       "  'cool': 90202,\n",
       "  'elite': '2010,2011,2012,2013,2014,2015,2016,2017,2018',\n",
       "  'fans': 659,\n",
       "  'average_stars': 3.64,\n",
       "  'compliment_hot': 2966,\n",
       "  'compliment_more': 500,\n",
       "  'compliment_profile': 413,\n",
       "  'compliment_cute': 23,\n",
       "  'compliment_list': 71,\n",
       "  'compliment_note': 1450,\n",
       "  'compliment_plain': 3315,\n",
       "  'compliment_cool': 3605,\n",
       "  'compliment_funny': 3605,\n",
       "  'compliment_writer': 2857,\n",
       "  'compliment_photos': 1418,\n",
       "  'friend_count': 2012,\n",
       "  'influence_score': 33352777},\n",
       " {'user_id': '37cpUoM8hlkSQfReIEBd-Q',\n",
       "  'name': 'Mike',\n",
       "  'review_count': 1787,\n",
       "  'yelping_since': '2009-04-25 14:54:26',\n",
       "  'useful': 21576,\n",
       "  'funny': 10718,\n",
       "  'cool': 14476,\n",
       "  'elite': '2012,2013,2014,2015,2016,2017,2018',\n",
       "  'fans': 11568,\n",
       "  'average_stars': 4.34,\n",
       "  'compliment_hot': 377,\n",
       "  'compliment_more': 106,\n",
       "  'compliment_profile': 54,\n",
       "  'compliment_cute': 129,\n",
       "  'compliment_list': 28,\n",
       "  'compliment_note': 437,\n",
       "  'compliment_plain': 661,\n",
       "  'compliment_cool': 972,\n",
       "  'compliment_funny': 972,\n",
       "  'compliment_writer': 485,\n",
       "  'compliment_photos': 1694,\n",
       "  'friend_count': 5617,\n",
       "  'influence_score': 30709595}]"
      ]
     },
     "execution_count": 56,
     "metadata": {},
     "output_type": "execute_result"
    }
   ],
   "source": [
    "influence_rank.takeOrdered(10, key = lambda x: -x['influence_score'])"
   ]
  },
  {
   "cell_type": "markdown",
   "metadata": {},
   "source": [
    "Unsurprisngly, the top 10 users by influence score are all well above the 99th percentile in fans, friends and review count.  Further, all of them have been elite users for at least five years, and they all have thousands of compliments.  Clearly these are all highly influential users in terms of giving as many opinions as possible to as many people as possible.  It would be interesting to compare this to a PageRank for friends.  "
   ]
  }
 ],
 "metadata": {
  "kernelspec": {
   "display_name": "pyspark",
   "language": "python",
   "name": "pyspark"
  },
  "language_info": {
   "codemirror_mode": {
    "name": "ipython",
    "version": 3
   },
   "file_extension": ".py",
   "mimetype": "text/x-python",
   "name": "python",
   "nbconvert_exporter": "python",
   "pygments_lexer": "ipython3",
   "version": "3.6.12"
  }
 },
 "nbformat": 4,
 "nbformat_minor": 4
}
